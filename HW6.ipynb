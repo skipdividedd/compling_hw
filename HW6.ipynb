{
 "cells": [
  {
   "cell_type": "markdown",
   "metadata": {
    "_cell_guid": "3742bad5-5c9c-4880-a756-c70dd12a9ab6",
    "_uuid": "4dd72988-991b-47a5-8536-44a1816cc904"
   },
   "source": [
    "# Задание 1 (3 балла)"
   ]
  },
  {
   "cell_type": "code",
   "execution_count": 1,
   "metadata": {
    "_cell_guid": "3e297fda-df72-42cd-913d-1e6658120122",
    "_uuid": "6e7aa748-0aa0-4a07-9e5b-a6b7efd697d8",
    "execution": {
     "iopub.execute_input": "2023-02-05T22:46:59.689299Z",
     "iopub.status.busy": "2023-02-05T22:46:59.689004Z",
     "iopub.status.idle": "2023-02-05T22:47:04.744390Z",
     "shell.execute_reply": "2023-02-05T22:47:04.743027Z",
     "shell.execute_reply.started": "2023-02-05T22:46:59.689237Z"
    },
    "jupyter": {
     "outputs_hidden": false
    }
   },
   "outputs": [
    {
     "name": "stderr",
     "output_type": "stream",
     "text": [
      "2023-02-06 15:21:16.512735: I tensorflow/core/platform/cpu_feature_guard.cc:193] This TensorFlow binary is optimized with oneAPI Deep Neural Network Library (oneDNN) to use the following CPU instructions in performance-critical operations:  SSE4.1 SSE4.2 AVX AVX2 FMA\n",
      "To enable them in other operations, rebuild TensorFlow with the appropriate compiler flags.\n",
      "<frozen importlib._bootstrap>:228: RuntimeWarning: scipy._lib.messagestream.MessageStream size changed, may indicate binary incompatibility. Expected 56 from C header, got 64 from PyObject\n"
     ]
    }
   ],
   "source": [
    "import tensorflow as tf\n",
    "import numpy as np\n",
    "import pandas as pd\n",
    "from string import punctuation\n",
    "from sklearn.model_selection import train_test_split\n",
    "from collections import Counter\n",
    "import matplotlib.pyplot as plt\n",
    "from sklearn.metrics.pairwise import cosine_distances\n",
    "\n",
    "%matplotlib inline"
   ]
  },
  {
   "cell_type": "code",
   "execution_count": 2,
   "metadata": {
    "_cell_guid": "5cf14d47-a0fa-4173-8496-1c0376044c14",
    "_uuid": "a4b3039c-3681-4167-9023-252fdd9b4fc2",
    "execution": {
     "iopub.execute_input": "2023-02-05T22:47:04.751062Z",
     "iopub.status.busy": "2023-02-05T22:47:04.750398Z",
     "iopub.status.idle": "2023-02-05T22:47:05.906152Z",
     "shell.execute_reply": "2023-02-05T22:47:05.905067Z",
     "shell.execute_reply.started": "2023-02-05T22:47:04.751023Z"
    },
    "jupyter": {
     "outputs_hidden": false
    }
   },
   "outputs": [],
   "source": [
    "wiki = open('wiki_data.txt').read().split('\\n')"
   ]
  },
  {
   "cell_type": "code",
   "execution_count": 3,
   "metadata": {
    "_cell_guid": "9300fbdd-839d-4011-bc98-f1d36f5ba99f",
    "_uuid": "7122e16c-47c1-4f6d-8008-369b14241c22",
    "execution": {
     "iopub.execute_input": "2023-02-05T22:47:05.909209Z",
     "iopub.status.busy": "2023-02-05T22:47:05.907689Z",
     "iopub.status.idle": "2023-02-05T22:47:05.915860Z",
     "shell.execute_reply": "2023-02-05T22:47:05.914391Z",
     "shell.execute_reply.started": "2023-02-05T22:47:05.909169Z"
    },
    "jupyter": {
     "outputs_hidden": false
    }
   },
   "outputs": [],
   "source": [
    "def most_similar(word, embeddings):\n",
    "    similar = [id2word[i] for i in \n",
    "               cosine_distances(embeddings[word2id[word]].reshape(1, -1), embeddings).argsort()[0][:10]]\n",
    "    return similar"
   ]
  },
  {
   "cell_type": "code",
   "execution_count": 4,
   "metadata": {
    "execution": {
     "iopub.execute_input": "2023-02-05T22:47:26.402452Z",
     "iopub.status.busy": "2023-02-05T22:47:26.402013Z",
     "iopub.status.idle": "2023-02-05T22:47:26.424079Z",
     "shell.execute_reply": "2023-02-05T22:47:26.423210Z",
     "shell.execute_reply.started": "2023-02-05T22:47:26.402405Z"
    }
   },
   "outputs": [],
   "source": [
    "from pymorphy2 import MorphAnalyzer\n",
    "morph = MorphAnalyzer() "
   ]
  },
  {
   "cell_type": "code",
   "execution_count": 5,
   "metadata": {},
   "outputs": [],
   "source": [
    "import re\n",
    "def preprocess(text):\n",
    "    tokens = re.sub('#+', ' ', text.lower()).split()\n",
    "    tokens = [token.strip(punctuation) for token in tokens]\n",
    "    tokens = [morph.parse(token)[0].normal_form for token in tokens if token]\n",
    "    return tokens"
   ]
  },
  {
   "cell_type": "code",
   "execution_count": 6,
   "metadata": {
    "execution": {
     "iopub.execute_input": "2023-02-05T22:47:39.659622Z",
     "iopub.status.busy": "2023-02-05T22:47:39.659259Z",
     "iopub.status.idle": "2023-02-05T23:08:46.117591Z",
     "shell.execute_reply": "2023-02-05T23:08:46.116532Z",
     "shell.execute_reply.started": "2023-02-05T22:47:39.659591Z"
    }
   },
   "outputs": [],
   "source": [
    "vocab = Counter()\n",
    "\n",
    "for text in wiki:\n",
    "    vocab.update(preprocess(text))"
   ]
  },
  {
   "cell_type": "code",
   "execution_count": 7,
   "metadata": {
    "execution": {
     "iopub.execute_input": "2023-02-05T22:47:26.465170Z",
     "iopub.status.busy": "2023-02-05T22:47:26.464789Z",
     "iopub.status.idle": "2023-02-05T22:47:26.472306Z",
     "shell.execute_reply": "2023-02-05T22:47:26.471238Z",
     "shell.execute_reply.started": "2023-02-05T22:47:26.465113Z"
    }
   },
   "outputs": [],
   "source": [
    "filtered_vocab = set()\n",
    "\n",
    "for word in vocab:\n",
    "    if vocab[word] > 25:\n",
    "        filtered_vocab.add(word)"
   ]
  },
  {
   "cell_type": "code",
   "execution_count": 8,
   "metadata": {
    "_cell_guid": "b10e63eb-dc2d-4fe3-8274-069ad0a195a8",
    "_uuid": "978cf37b-1da4-4d41-b6bc-6a73ba408c99",
    "execution": {
     "iopub.status.busy": "2023-02-05T22:11:06.450785Z",
     "iopub.status.idle": "2023-02-05T22:11:06.451252Z",
     "shell.execute_reply": "2023-02-05T22:11:06.451035Z",
     "shell.execute_reply.started": "2023-02-05T22:11:06.451013Z"
    },
    "jupyter": {
     "outputs_hidden": false
    }
   },
   "outputs": [
    {
     "data": {
      "text/plain": [
       "14147"
      ]
     },
     "execution_count": 8,
     "metadata": {},
     "output_type": "execute_result"
    }
   ],
   "source": [
    "len(filtered_vocab)"
   ]
  },
  {
   "cell_type": "code",
   "execution_count": 9,
   "metadata": {
    "_cell_guid": "d6f13288-acb2-4e7a-81e2-0ab59bec6620",
    "_uuid": "51bdd3cf-c08f-495e-a02a-c00ced1f9480",
    "execution": {
     "iopub.execute_input": "2023-02-05T20:41:24.083783Z",
     "iopub.status.busy": "2023-02-05T20:41:24.083403Z",
     "iopub.status.idle": "2023-02-05T20:41:24.097052Z",
     "shell.execute_reply": "2023-02-05T20:41:24.096036Z",
     "shell.execute_reply.started": "2023-02-05T20:41:24.083751Z"
    },
    "jupyter": {
     "outputs_hidden": false
    }
   },
   "outputs": [],
   "source": [
    "word2id = {'PAD':0}\n",
    "\n",
    "for word in filtered_vocab:\n",
    "    word2id[word] = len(word2id)"
   ]
  },
  {
   "cell_type": "code",
   "execution_count": 10,
   "metadata": {
    "_cell_guid": "f2244a2c-43e4-4c87-b8c0-0f088b45ab24",
    "_uuid": "2225853b-bdb8-45b5-bc7b-3f8a57e4f30e",
    "execution": {
     "iopub.execute_input": "2023-02-05T20:41:25.577193Z",
     "iopub.status.busy": "2023-02-05T20:41:25.576841Z",
     "iopub.status.idle": "2023-02-05T20:41:25.586679Z",
     "shell.execute_reply": "2023-02-05T20:41:25.585489Z",
     "shell.execute_reply.started": "2023-02-05T20:41:25.577163Z"
    },
    "jupyter": {
     "outputs_hidden": false
    }
   },
   "outputs": [],
   "source": [
    "id2word = {i:word for word, i in word2id.items()}"
   ]
  },
  {
   "cell_type": "code",
   "execution_count": 11,
   "metadata": {
    "_cell_guid": "09602a3a-cd6e-4861-8f7d-36004d6c3997",
    "_uuid": "97267710-cbc5-47e0-914d-978b251beeff",
    "execution": {
     "iopub.execute_input": "2023-02-05T20:41:26.733294Z",
     "iopub.status.busy": "2023-02-05T20:41:26.732914Z",
     "iopub.status.idle": "2023-02-05T20:41:30.336637Z",
     "shell.execute_reply": "2023-02-05T20:41:30.335634Z",
     "shell.execute_reply.started": "2023-02-05T20:41:26.733247Z"
    },
    "jupyter": {
     "outputs_hidden": false
    }
   },
   "outputs": [],
   "source": [
    "sentences = []\n",
    "\n",
    "for text in wiki:\n",
    "    tokens = preprocess(text)\n",
    "    if not tokens:\n",
    "        continue\n",
    "    ids = [word2id[token] for token in tokens if token in word2id]\n",
    "    sentences.append(ids)"
   ]
  },
  {
   "cell_type": "code",
   "execution_count": 12,
   "metadata": {
    "execution": {
     "iopub.execute_input": "2023-02-05T21:12:09.229616Z",
     "iopub.status.busy": "2023-02-05T21:12:09.229235Z",
     "iopub.status.idle": "2023-02-05T21:12:09.235153Z",
     "shell.execute_reply": "2023-02-05T21:12:09.233866Z",
     "shell.execute_reply.started": "2023-02-05T21:12:09.229585Z"
    }
   },
   "outputs": [],
   "source": [
    "vocab_size = len(id2word)"
   ]
  },
  {
   "cell_type": "code",
   "execution_count": 13,
   "metadata": {
    "execution": {
     "iopub.execute_input": "2023-02-05T21:34:20.445116Z",
     "iopub.status.busy": "2023-02-05T21:34:20.444422Z",
     "iopub.status.idle": "2023-02-05T21:34:20.456669Z",
     "shell.execute_reply": "2023-02-05T21:34:20.455560Z",
     "shell.execute_reply.started": "2023-02-05T21:34:20.445081Z"
    }
   },
   "outputs": [],
   "source": [
    "# skip gram negative sampling\n",
    "def gen_batches_sg(sentences, window = 6, batch_size=1000):\n",
    "    while True:\n",
    "        X_target = []\n",
    "        X_context = []\n",
    "        y = []\n",
    "\n",
    "        for sentence in sentences:\n",
    "            for center_word_index in range(len(sentence)):\n",
    "                for win in range(-window, window+1):\n",
    "                    contenx_word_index = center_word_index + win\n",
    "                    if 0 <= contenx_word_index <= len(sentence)-1 and contenx_word_index != center_word_index:\n",
    "                        context_word_ix = sentence[contenx_word_index]\n",
    "                        X_target.append(sentence[center_word_index])\n",
    "                        X_context.append(context_word_ix)\n",
    "                        y.append(1)\n",
    "\n",
    "                        X_target.append(sentence[center_word_index])\n",
    "                        X_context.append(np.random.randint(vocab_size))\n",
    "                        y.append(0)\n",
    "                        \n",
    "                        if len(X_target) >= batch_size:\n",
    "                            X_target = np.array(X_target)\n",
    "                            X_context = np.array(X_context)\n",
    "                            y = np.array(y)\n",
    "                            yield ((X_target, X_context), y)\n",
    "                            X_target = []\n",
    "                            X_context = []\n",
    "                            y = []"
   ]
  },
  {
   "cell_type": "code",
   "execution_count": 14,
   "metadata": {
    "_cell_guid": "546cc816-9689-4836-a050-45fea0eee426",
    "_uuid": "81abda05-371f-4443-aa8a-b35486d44e09",
    "execution": {
     "iopub.execute_input": "2023-02-05T21:34:22.115874Z",
     "iopub.status.busy": "2023-02-05T21:34:22.115490Z",
     "iopub.status.idle": "2023-02-05T21:34:22.158350Z",
     "shell.execute_reply": "2023-02-05T21:34:22.157340Z",
     "shell.execute_reply.started": "2023-02-05T21:34:22.115826Z"
    },
    "jupyter": {
     "outputs_hidden": false
    }
   },
   "outputs": [
    {
     "name": "stderr",
     "output_type": "stream",
     "text": [
      "2023-02-06 15:23:47.463511: I tensorflow/core/platform/cpu_feature_guard.cc:193] This TensorFlow binary is optimized with oneAPI Deep Neural Network Library (oneDNN) to use the following CPU instructions in performance-critical operations:  SSE4.1 SSE4.2 AVX AVX2 FMA\n",
      "To enable them in other operations, rebuild TensorFlow with the appropriate compiler flags.\n",
      "2023-02-06 15:23:47.464842: I tensorflow/core/common_runtime/process_util.cc:146] Creating new thread pool with default inter op setting: 2. Tune using inter_op_parallelism_threads for best performance.\n"
     ]
    }
   ],
   "source": [
    "inputs_target = tf.keras.layers.Input(shape=(1,))\n",
    "inputs_context = tf.keras.layers.Input(shape=(1,))\n",
    "\n",
    "\n",
    "embeddings_target = tf.keras.layers.Embedding(input_dim=len(word2id), output_dim=300)(inputs_target, )\n",
    "embeddings_context = tf.keras.layers.Embedding(input_dim=len(word2id), output_dim=300)(inputs_context, )\n",
    "\n",
    "target = tf.keras.layers.Flatten()(embeddings_target)\n",
    "context = tf.keras.layers.Flatten()(embeddings_context)\n",
    "\n",
    "dot = tf.keras.layers.Dot(1)([target, context])\n",
    "outputs = tf.keras.layers.Activation(activation='sigmoid')(dot)\n",
    "\n",
    "model = tf.keras.Model(inputs=[inputs_target, inputs_context], \n",
    "                       outputs=outputs)\n",
    "optimizer = tf.keras.optimizers.Adam(learning_rate=0.001)\n",
    "model.compile(optimizer=optimizer,\n",
    "              loss='binary_crossentropy',\n",
    "              metrics=['accuracy'])"
   ]
  },
  {
   "cell_type": "code",
   "execution_count": 15,
   "metadata": {
    "_cell_guid": "37000596-aae6-44b5-a7c2-0323adc0e788",
    "_uuid": "4263c56f-7c9b-4ab0-a950-d55a7b8a54c7",
    "execution": {
     "iopub.execute_input": "2023-02-05T21:34:23.865254Z",
     "iopub.status.busy": "2023-02-05T21:34:23.864900Z",
     "iopub.status.idle": "2023-02-05T21:37:46.283736Z",
     "shell.execute_reply": "2023-02-05T21:37:46.282749Z",
     "shell.execute_reply.started": "2023-02-05T21:34:23.865222Z"
    },
    "jupyter": {
     "outputs_hidden": false
    }
   },
   "outputs": [
    {
     "name": "stdout",
     "output_type": "stream",
     "text": [
      "Epoch 1/2\n",
      "10000/10000 [==============================] - 594s 59ms/step - loss: 0.4469 - accuracy: 0.7999 - val_loss: 0.5196 - val_accuracy: 0.7720\n",
      "Epoch 2/2\n",
      "10000/10000 [==============================] - 613s 61ms/step - loss: 0.4243 - accuracy: 0.8175 - val_loss: 0.4960 - val_accuracy: 0.7862\n"
     ]
    },
    {
     "data": {
      "text/plain": [
       "<keras.callbacks.History at 0x7f0c965a5190>"
      ]
     },
     "execution_count": 15,
     "metadata": {},
     "output_type": "execute_result"
    }
   ],
   "source": [
    "model.fit(gen_batches_sg(sentences[:19000], window=6),\n",
    "          validation_data=gen_batches_sg(sentences[19000:],  window=6),\n",
    "          batch_size=1000,\n",
    "          steps_per_epoch=10000,\n",
    "          validation_steps=30,\n",
    "          epochs=2)"
   ]
  },
  {
   "cell_type": "code",
   "execution_count": 16,
   "metadata": {
    "_cell_guid": "cc3373be-808c-4cf4-a9e4-6af139e51ea3",
    "_uuid": "98962d77-7944-4f35-b8a9-01c0a5161fc7",
    "execution": {
     "iopub.execute_input": "2023-02-05T21:37:46.286340Z",
     "iopub.status.busy": "2023-02-05T21:37:46.285914Z",
     "iopub.status.idle": "2023-02-05T21:37:46.301954Z",
     "shell.execute_reply": "2023-02-05T21:37:46.301079Z",
     "shell.execute_reply.started": "2023-02-05T21:37:46.286298Z"
    },
    "jupyter": {
     "outputs_hidden": false
    }
   },
   "outputs": [],
   "source": [
    "embeddings_sg = model.layers[2].get_weights()[0]"
   ]
  },
  {
   "cell_type": "code",
   "execution_count": 17,
   "metadata": {
    "_cell_guid": "0ad0bf15-acaf-4428-a03e-992a6eed54d4",
    "_uuid": "534eb0eb-6061-439c-82f2-a7dec088764b",
    "execution": {
     "iopub.execute_input": "2023-02-05T21:37:46.303821Z",
     "iopub.status.busy": "2023-02-05T21:37:46.303432Z",
     "iopub.status.idle": "2023-02-05T21:37:46.337631Z",
     "shell.execute_reply": "2023-02-05T21:37:46.336309Z",
     "shell.execute_reply.started": "2023-02-05T21:37:46.303786Z"
    },
    "jupyter": {
     "outputs_hidden": false
    }
   },
   "outputs": [
    {
     "data": {
      "text/plain": [
       "['церковь',\n",
       " 'святой',\n",
       " 'храм',\n",
       " 'православный',\n",
       " 'монастырь',\n",
       " 'собор',\n",
       " 'освятить',\n",
       " 'епархия',\n",
       " 'придел',\n",
       " 'епископ']"
      ]
     },
     "execution_count": 17,
     "metadata": {},
     "output_type": "execute_result"
    }
   ],
   "source": [
    "most_similar('церковь', embeddings_sg)"
   ]
  },
  {
   "cell_type": "code",
   "execution_count": 18,
   "metadata": {},
   "outputs": [
    {
     "data": {
      "text/plain": [
       "['школа',\n",
       " 'окончить',\n",
       " 'учиться',\n",
       " 'московский',\n",
       " 'поступить',\n",
       " 'университет',\n",
       " 'училище',\n",
       " 'факультет',\n",
       " 'отделение',\n",
       " 'техникум']"
      ]
     },
     "execution_count": 18,
     "metadata": {},
     "output_type": "execute_result"
    }
   ],
   "source": [
    "most_similar('школа', embeddings_sg)"
   ]
  },
  {
   "cell_type": "code",
   "execution_count": 19,
   "metadata": {
    "execution": {
     "iopub.execute_input": "2023-02-05T21:50:47.962930Z",
     "iopub.status.busy": "2023-02-05T21:50:47.962570Z",
     "iopub.status.idle": "2023-02-05T21:50:47.972812Z",
     "shell.execute_reply": "2023-02-05T21:50:47.971530Z",
     "shell.execute_reply.started": "2023-02-05T21:50:47.962898Z"
    }
   },
   "outputs": [],
   "source": [
    "# cbow \n",
    "def gen_batches_cbow(sentences, window = 3, batch_size=1000):\n",
    "    while True:\n",
    "        X_target = []\n",
    "        X_context = []\n",
    "        y = []\n",
    "\n",
    "        for sentence in sentences:\n",
    "            for center_word_index in range(len(sentence)):\n",
    "                context = []\n",
    "                for win in range(-window, window+1):\n",
    "                    contenx_word_index = center_word_index + win\n",
    "                    if 0 <= contenx_word_index <= len(sentence)-1 and contenx_word_index != center_word_index:\n",
    "                        context_word_ix = sentence[contenx_word_index]\n",
    "                        context.append(context_word_ix)\n",
    "                X_target.append(sentence[center_word_index])\n",
    "                X_context.append(context)\n",
    "                y.append(1)\n",
    "\n",
    "                X_target.append(np.random.randint(vocab_size))\n",
    "                X_context.append(context)\n",
    "                y.append(0)\n",
    "\n",
    "                if len(X_target) == batch_size:\n",
    "                    X_target = np.array(X_target)\n",
    "                    X_context = tf.keras.preprocessing.sequence.pad_sequences(X_context, maxlen=window*2, padding='post')\n",
    "                    y = np.array(y)\n",
    "                    yield ((X_target, X_context), y)\n",
    "                    X_target = []\n",
    "                    X_context = []\n",
    "                    y = []"
   ]
  },
  {
   "cell_type": "code",
   "execution_count": 20,
   "metadata": {
    "execution": {
     "iopub.execute_input": "2023-02-05T21:50:55.535351Z",
     "iopub.status.busy": "2023-02-05T21:50:55.534983Z",
     "iopub.status.idle": "2023-02-05T21:50:55.580423Z",
     "shell.execute_reply": "2023-02-05T21:50:55.579289Z",
     "shell.execute_reply.started": "2023-02-05T21:50:55.535322Z"
    }
   },
   "outputs": [],
   "source": [
    "#cbow negative sampling\n",
    "inputs_target = tf.keras.layers.Input(shape=(1,))\n",
    "inputs_context = tf.keras.layers.Input(shape=(10,))\n",
    "\n",
    "\n",
    "embeddings_target = tf.keras.layers.Embedding(input_dim=len(word2id), output_dim=300)(inputs_target, )\n",
    "embeddings_context = tf.keras.layers.Embedding(input_dim=len(word2id), output_dim=300)(inputs_context, )\n",
    "\n",
    "target = tf.keras.layers.Flatten()(embeddings_target)\n",
    "context = tf.keras.layers.Lambda(lambda x: tf.keras.backend.sum(x, axis=1))(embeddings_context)\n",
    "dot = tf.keras.layers.Dot(1)([target, context])\n",
    "\n",
    "# полученную близость нужно преобразовать в вероятность\n",
    "# когда она одна используется не софтмакс и сигмоида\n",
    "outputs = tf.keras.layers.Activation(activation='sigmoid')(dot)\n",
    "\n",
    "model = tf.keras.Model(inputs=[inputs_target, inputs_context], \n",
    "                       outputs=outputs)\n",
    "\n",
    "\n",
    "optimizer = tf.keras.optimizers.Adam(learning_rate=0.001)\n",
    "model.compile(optimizer=optimizer,\n",
    "              loss='binary_crossentropy',\n",
    "              metrics=['accuracy'])"
   ]
  },
  {
   "cell_type": "code",
   "execution_count": 21,
   "metadata": {
    "execution": {
     "iopub.execute_input": "2023-02-05T21:50:57.712355Z",
     "iopub.status.busy": "2023-02-05T21:50:57.711974Z",
     "iopub.status.idle": "2023-02-05T21:53:23.633675Z",
     "shell.execute_reply": "2023-02-05T21:53:23.632581Z",
     "shell.execute_reply.started": "2023-02-05T21:50:57.712322Z"
    }
   },
   "outputs": [
    {
     "name": "stdout",
     "output_type": "stream",
     "text": [
      "Epoch 1/2\n",
      "5000/5000 [==============================] - 323s 64ms/step - loss: 0.3580 - accuracy: 0.8476 - val_loss: 0.3013 - val_accuracy: 0.8771\n",
      "Epoch 2/2\n",
      "5000/5000 [==============================] - 323s 65ms/step - loss: 0.2697 - accuracy: 0.8910 - val_loss: 0.2585 - val_accuracy: 0.8961\n"
     ]
    },
    {
     "data": {
      "text/plain": [
       "<keras.callbacks.History at 0x7f0c90058070>"
      ]
     },
     "execution_count": 21,
     "metadata": {},
     "output_type": "execute_result"
    }
   ],
   "source": [
    "model.fit(gen_batches_cbow(sentences[:19000], window=3),\n",
    "          validation_data=gen_batches_cbow(sentences[19000:],  window=3),\n",
    "          batch_size=1000,\n",
    "          steps_per_epoch=5000,\n",
    "          validation_steps=30,\n",
    "          epochs=2)"
   ]
  },
  {
   "cell_type": "code",
   "execution_count": 22,
   "metadata": {
    "execution": {
     "iopub.execute_input": "2023-02-05T21:53:53.549237Z",
     "iopub.status.busy": "2023-02-05T21:53:53.548540Z",
     "iopub.status.idle": "2023-02-05T21:53:53.564886Z",
     "shell.execute_reply": "2023-02-05T21:53:53.563971Z",
     "shell.execute_reply.started": "2023-02-05T21:53:53.549201Z"
    }
   },
   "outputs": [],
   "source": [
    "embeddings_cbow = model.layers[2].get_weights()[0]"
   ]
  },
  {
   "cell_type": "code",
   "execution_count": 23,
   "metadata": {
    "execution": {
     "iopub.execute_input": "2023-02-05T21:53:54.860171Z",
     "iopub.status.busy": "2023-02-05T21:53:54.859775Z",
     "iopub.status.idle": "2023-02-05T21:53:54.892805Z",
     "shell.execute_reply": "2023-02-05T21:53:54.891581Z",
     "shell.execute_reply.started": "2023-02-05T21:53:54.860138Z"
    }
   },
   "outputs": [
    {
     "data": {
      "text/plain": [
       "['семья',\n",
       " 'жить',\n",
       " 'ребёнок',\n",
       " 'отец',\n",
       " 'родитель',\n",
       " 'дом',\n",
       " 'человек',\n",
       " 'брат',\n",
       " 'жена',\n",
       " 'сестра']"
      ]
     },
     "execution_count": 23,
     "metadata": {},
     "output_type": "execute_result"
    }
   ],
   "source": [
    "most_similar('семья', embeddings_cbow)"
   ]
  },
  {
   "cell_type": "code",
   "execution_count": 24,
   "metadata": {
    "execution": {
     "iopub.execute_input": "2023-02-05T21:53:57.880418Z",
     "iopub.status.busy": "2023-02-05T21:53:57.880023Z",
     "iopub.status.idle": "2023-02-05T21:53:57.912963Z",
     "shell.execute_reply": "2023-02-05T21:53:57.911794Z",
     "shell.execute_reply.started": "2023-02-05T21:53:57.880384Z"
    }
   },
   "outputs": [
    {
     "data": {
      "text/plain": [
       "['церковь',\n",
       " 'монастырь',\n",
       " 'храм',\n",
       " 'собор',\n",
       " 'епархия',\n",
       " 'церковный',\n",
       " 'дом',\n",
       " 'святой',\n",
       " 'здание',\n",
       " 'крепость']"
      ]
     },
     "execution_count": 24,
     "metadata": {},
     "output_type": "execute_result"
    }
   ],
   "source": [
    "most_similar('церковь', embeddings_cbow)"
   ]
  },
  {
   "cell_type": "markdown",
   "metadata": {},
   "source": [
    "**Вывод**: и skipgram, и cbow показывают хорошие результаты, оба нравятся."
   ]
  },
  {
   "cell_type": "markdown",
   "metadata": {
    "_cell_guid": "444d9775-170c-4e56-8b29-3bc9a971c400",
    "_uuid": "25a6ea83-bc55-48b3-800f-c6347708a5b2"
   },
   "source": [
    "# Задание 2 (3 балла)"
   ]
  },
  {
   "cell_type": "markdown",
   "metadata": {
    "_cell_guid": "4a9e601e-c706-445f-8693-7e2561d4dfc3",
    "_uuid": "5326748e-2e81-43b1-9692-1e4b3f2762d6"
   },
   "source": [
    "Обучите 1 word2vec и 1 fastext модель в gensim. В каждой из модели нужно задать все параметры, которые мы разбирали на семинаре. Заданные значения должны отличаться от дефолтных и от тех, что мы использовали на семинаре."
   ]
  },
  {
   "cell_type": "markdown",
   "metadata": {},
   "source": [
    "## Word2Vec"
   ]
  },
  {
   "cell_type": "code",
   "execution_count": 25,
   "metadata": {
    "_cell_guid": "3d0ec392-e6a4-4c4b-baa2-06533443cfc3",
    "_uuid": "9cd2f1f1-659b-4dfa-85df-734a8e0a1edb",
    "jupyter": {
     "outputs_hidden": false
    }
   },
   "outputs": [],
   "source": [
    "import gensim"
   ]
  },
  {
   "cell_type": "code",
   "execution_count": 26,
   "metadata": {},
   "outputs": [],
   "source": [
    "texts = [preprocess(text) for text in wiki]"
   ]
  },
  {
   "cell_type": "code",
   "execution_count": 27,
   "metadata": {},
   "outputs": [
    {
     "name": "stdout",
     "output_type": "stream",
     "text": [
      "CPU times: user 2min 23s, sys: 117 ms, total: 2min 23s\n",
      "Wall time: 48.8 s\n"
     ]
    }
   ],
   "source": [
    "%%time\n",
    "w2v = gensim.models.Word2Vec(texts, \n",
    "                             vector_size=350, \n",
    "                             min_count=25, \n",
    "                             max_vocab_size=14000,\n",
    "                             window=6,\n",
    "                             epochs=9,\n",
    "                             sample=1e-5,\n",
    "                             sg=1,\n",
    "                             hs=1)"
   ]
  },
  {
   "cell_type": "code",
   "execution_count": 28,
   "metadata": {},
   "outputs": [
    {
     "data": {
      "text/plain": [
       "[('храм', 0.6726504564285278),\n",
       " ('освятить', 0.6634075045585632),\n",
       " ('собор', 0.6321802735328674),\n",
       " ('православный', 0.6275273561477661),\n",
       " ('святитель', 0.6126291751861572),\n",
       " ('приход', 0.5841184854507446),\n",
       " ('настоятель', 0.5789919495582581),\n",
       " ('епископ', 0.5725606083869934),\n",
       " ('святой', 0.5578508973121643),\n",
       " ('часовня', 0.555966854095459)]"
      ]
     },
     "execution_count": 28,
     "metadata": {},
     "output_type": "execute_result"
    }
   ],
   "source": [
    "w2v.wv.most_similar('церковь')"
   ]
  },
  {
   "cell_type": "markdown",
   "metadata": {},
   "source": [
    "Хорошо выглядит!"
   ]
  },
  {
   "cell_type": "markdown",
   "metadata": {},
   "source": [
    "## FastText"
   ]
  },
  {
   "cell_type": "code",
   "execution_count": 29,
   "metadata": {},
   "outputs": [
    {
     "name": "stdout",
     "output_type": "stream",
     "text": [
      "CPU times: user 4min 6s, sys: 1.58 s, total: 4min 8s\n",
      "Wall time: 1min 25s\n"
     ]
    }
   ],
   "source": [
    "%%time\n",
    "ft = gensim.models.FastText(texts, min_n=4, max_n=10,\n",
    "                            sg=0, hs=0,\n",
    "                            negative=10,\n",
    "                            vector_size=200, \n",
    "                            alpha=0.02, \n",
    "                            window=4, \n",
    "                            min_count=10,\n",
    "                            ns_exponent=0.75)"
   ]
  },
  {
   "cell_type": "code",
   "execution_count": 30,
   "metadata": {},
   "outputs": [
    {
     "data": {
      "text/plain": [
       "[('«церковь', 0.9981598854064941),\n",
       " ('морковь', 0.9277918934822083),\n",
       " ('церкви»', 0.9190323352813721),\n",
       " ('храм', 0.8577026128768921),\n",
       " ('монастырь', 0.8554353713989258),\n",
       " ('архипастырь', 0.8373014330863953),\n",
       " ('собор', 0.8352756500244141),\n",
       " ('бахрам', 0.8238763809204102),\n",
       " ('святыня', 0.7910946607589722),\n",
       " ('шрам', 0.7888178825378418)]"
      ]
     },
     "execution_count": 30,
     "metadata": {},
     "output_type": "execute_result"
    }
   ],
   "source": [
    "ft.wv.most_similar('церковь')"
   ]
  },
  {
   "cell_type": "markdown",
   "metadata": {},
   "source": [
    "Чуть странно, но ладно"
   ]
  },
  {
   "cell_type": "markdown",
   "metadata": {
    "_cell_guid": "b121c35c-85ea-44ef-a050-92790073177d",
    "_uuid": "a254bc27-0661-4c49-b8f1-4e2651d51742"
   },
   "source": [
    "# Задание 3 (4 балла)"
   ]
  },
  {
   "cell_type": "markdown",
   "metadata": {
    "_cell_guid": "11a678e3-4864-4f75-89fa-5156830f80c9",
    "_uuid": "bdf10ecb-571e-4156-ab1c-4a4d16de71e4"
   },
   "source": [
    "Используя датасет для классификации (labeled.csv) и простую нейронную сеть (последняя модель в семинаре), оцените качество полученных эмбедингов в задании 1 и 2 (4 набора эмбедингов), также проверьте 1 любую из предобученных моделей с rus-vectores (но только не tayga_upos_skipgram_300_2_2019). \n",
    "Какая модель показывает наилучший результат?\n",
    "\n",
    "Убедитесь, что для каждой модели вы корректно воспроизводите пайплайн предобработки (в 1 задании у вас лемматизация, не забудьте ее применить к датасету для классификации; у выбранной предобученной модели может быть своя специфичная предобработка - ее нужно воспроизвести)"
   ]
  },
  {
   "cell_type": "code",
   "execution_count": 31,
   "metadata": {
    "_cell_guid": "a8029b48-7534-4314-8401-68c958c5bff9",
    "_uuid": "b34fe3c7-5b52-4af0-a484-de6ea887b7b7",
    "jupyter": {
     "outputs_hidden": false
    }
   },
   "outputs": [],
   "source": [
    "data = pd.read_csv('labeled.csv')"
   ]
  },
  {
   "cell_type": "code",
   "execution_count": 32,
   "metadata": {},
   "outputs": [],
   "source": [
    "data['norm_text'] = data.comment.apply(preprocess)"
   ]
  },
  {
   "cell_type": "code",
   "execution_count": 33,
   "metadata": {},
   "outputs": [
    {
     "data": {
      "text/html": [
       "<div>\n",
       "<style scoped>\n",
       "    .dataframe tbody tr th:only-of-type {\n",
       "        vertical-align: middle;\n",
       "    }\n",
       "\n",
       "    .dataframe tbody tr th {\n",
       "        vertical-align: top;\n",
       "    }\n",
       "\n",
       "    .dataframe thead th {\n",
       "        text-align: right;\n",
       "    }\n",
       "</style>\n",
       "<table border=\"1\" class=\"dataframe\">\n",
       "  <thead>\n",
       "    <tr style=\"text-align: right;\">\n",
       "      <th></th>\n",
       "      <th>comment</th>\n",
       "      <th>toxic</th>\n",
       "      <th>norm_text</th>\n",
       "    </tr>\n",
       "  </thead>\n",
       "  <tbody>\n",
       "    <tr>\n",
       "      <th>0</th>\n",
       "      <td>Верблюдов-то за что? Дебилы, бл...\\n</td>\n",
       "      <td>1.0</td>\n",
       "      <td>[верблюд-то, за, что, дебил, бл]</td>\n",
       "    </tr>\n",
       "    <tr>\n",
       "      <th>1</th>\n",
       "      <td>Хохлы, это отдушина затюканого россиянина, мол...</td>\n",
       "      <td>1.0</td>\n",
       "      <td>[хохол, это, отдушина, затюканый, россиянин, м...</td>\n",
       "    </tr>\n",
       "    <tr>\n",
       "      <th>2</th>\n",
       "      <td>Собаке - собачья смерть\\n</td>\n",
       "      <td>1.0</td>\n",
       "      <td>[собака, собачий, смерть]</td>\n",
       "    </tr>\n",
       "    <tr>\n",
       "      <th>3</th>\n",
       "      <td>Страницу обнови, дебил. Это тоже не оскорблени...</td>\n",
       "      <td>1.0</td>\n",
       "      <td>[страница, обновить, дебил, это, тоже, не, оск...</td>\n",
       "    </tr>\n",
       "    <tr>\n",
       "      <th>4</th>\n",
       "      <td>тебя не убедил 6-страничный пдф в том, что Скр...</td>\n",
       "      <td>1.0</td>\n",
       "      <td>[ты, не, убедить, 6-страничный, пдф, в, тот, ч...</td>\n",
       "    </tr>\n",
       "  </tbody>\n",
       "</table>\n",
       "</div>"
      ],
      "text/plain": [
       "                                             comment  toxic  \\\n",
       "0               Верблюдов-то за что? Дебилы, бл...\\n    1.0   \n",
       "1  Хохлы, это отдушина затюканого россиянина, мол...    1.0   \n",
       "2                          Собаке - собачья смерть\\n    1.0   \n",
       "3  Страницу обнови, дебил. Это тоже не оскорблени...    1.0   \n",
       "4  тебя не убедил 6-страничный пдф в том, что Скр...    1.0   \n",
       "\n",
       "                                           norm_text  \n",
       "0                   [верблюд-то, за, что, дебил, бл]  \n",
       "1  [хохол, это, отдушина, затюканый, россиянин, м...  \n",
       "2                          [собака, собачий, смерть]  \n",
       "3  [страница, обновить, дебил, это, тоже, не, оск...  \n",
       "4  [ты, не, убедить, 6-страничный, пдф, в, тот, ч...  "
      ]
     },
     "execution_count": 33,
     "metadata": {},
     "output_type": "execute_result"
    }
   ],
   "source": [
    "data.head()"
   ]
  },
  {
   "cell_type": "code",
   "execution_count": 34,
   "metadata": {},
   "outputs": [
    {
     "data": {
      "text/plain": [
       "6308"
      ]
     },
     "execution_count": 34,
     "metadata": {},
     "output_type": "execute_result"
    }
   ],
   "source": [
    "vocab = Counter()\n",
    "\n",
    "for text in data['norm_text']:\n",
    "    vocab.update(text)\n",
    "    \n",
    "filtered_vocab = set()\n",
    "\n",
    "for word in vocab:\n",
    "    if vocab[word] > 5:\n",
    "        filtered_vocab.add(word)\n",
    "\n",
    "len(filtered_vocab)"
   ]
  },
  {
   "cell_type": "code",
   "execution_count": 35,
   "metadata": {},
   "outputs": [],
   "source": [
    "word2id = { 'PAD':0}\n",
    "\n",
    "for word in filtered_vocab:\n",
    "    word2id[word] = len(word2id)\n",
    "id2word = {i:word for word, i in word2id.items()}"
   ]
  },
  {
   "cell_type": "code",
   "execution_count": 36,
   "metadata": {},
   "outputs": [],
   "source": [
    "X = []\n",
    "\n",
    "for tokens in data['norm_text']:\n",
    "    ids = [word2id[token] for token in tokens if token in word2id]\n",
    "    X.append(ids)"
   ]
  },
  {
   "cell_type": "code",
   "execution_count": 37,
   "metadata": {},
   "outputs": [],
   "source": [
    "X = tf.keras.preprocessing.sequence.pad_sequences(X, maxlen=100)\n",
    "y = data.toxic.values"
   ]
  },
  {
   "cell_type": "code",
   "execution_count": 38,
   "metadata": {},
   "outputs": [],
   "source": [
    "X_train, X_valid, y_train, y_valid = train_test_split(X, y, test_size=0.05)"
   ]
  },
  {
   "cell_type": "markdown",
   "metadata": {},
   "source": [
    "## Тут простая модель без предобученных эмбеддингов"
   ]
  },
  {
   "cell_type": "code",
   "execution_count": 39,
   "metadata": {},
   "outputs": [],
   "source": [
    "inputs = tf.keras.layers.Input(shape=(100,))\n",
    "\n",
    "embeddings = tf.keras.layers.Embedding(input_dim=len(word2id), output_dim=100)(inputs, )\n",
    "\n",
    "mean = tf.keras.layers.Lambda(lambda x: tf.keras.backend.mean(x,  axis=1))(embeddings)\n",
    "# к усредненному вектору мы уже применяем полносвязный слой, который вернет вероятность токсичности\n",
    "outputs = tf.keras.layers.Dense(1, activation='sigmoid')(mean)\n",
    "\n",
    "simple_model = tf.keras.Model(inputs=inputs, outputs=outputs)\n",
    "optimizer = tf.keras.optimizers.Adam()\n",
    "callback = tf.keras.callbacks.EarlyStopping(monitor='val_loss', patience=3)\n",
    "simple_model.compile(optimizer=optimizer,\n",
    "              loss='binary_crossentropy',\n",
    "              metrics=['accuracy'])"
   ]
  },
  {
   "cell_type": "code",
   "execution_count": 40,
   "metadata": {},
   "outputs": [
    {
     "name": "stdout",
     "output_type": "stream",
     "text": [
      "Epoch 1/15\n",
      "428/428 [==============================] - 2s 4ms/step - loss: 0.6147 - accuracy: 0.6598 - val_loss: 0.5767 - val_accuracy: 0.6505\n",
      "Epoch 2/15\n",
      "428/428 [==============================] - 1s 3ms/step - loss: 0.5158 - accuracy: 0.7226 - val_loss: 0.4773 - val_accuracy: 0.7448\n",
      "Epoch 3/15\n",
      "428/428 [==============================] - 2s 4ms/step - loss: 0.4148 - accuracy: 0.8350 - val_loss: 0.3995 - val_accuracy: 0.8336\n",
      "Epoch 4/15\n",
      "428/428 [==============================] - 1s 3ms/step - loss: 0.3478 - accuracy: 0.8755 - val_loss: 0.3598 - val_accuracy: 0.8433\n",
      "Epoch 5/15\n",
      "428/428 [==============================] - 1s 3ms/step - loss: 0.3050 - accuracy: 0.8926 - val_loss: 0.3369 - val_accuracy: 0.8627\n",
      "Epoch 6/15\n",
      "428/428 [==============================] - 1s 3ms/step - loss: 0.2744 - accuracy: 0.9069 - val_loss: 0.3233 - val_accuracy: 0.8779\n",
      "Epoch 7/15\n",
      "428/428 [==============================] - 2s 4ms/step - loss: 0.2501 - accuracy: 0.9140 - val_loss: 0.3266 - val_accuracy: 0.8488\n",
      "Epoch 8/15\n",
      "428/428 [==============================] - 1s 4ms/step - loss: 0.2299 - accuracy: 0.9197 - val_loss: 0.3342 - val_accuracy: 0.8474\n",
      "Epoch 9/15\n",
      "428/428 [==============================] - 1s 3ms/step - loss: 0.2138 - accuracy: 0.9252 - val_loss: 0.3131 - val_accuracy: 0.8766\n",
      "Epoch 10/15\n",
      "428/428 [==============================] - 1s 3ms/step - loss: 0.1988 - accuracy: 0.9297 - val_loss: 0.3125 - val_accuracy: 0.8766\n",
      "Epoch 11/15\n",
      "428/428 [==============================] - 1s 3ms/step - loss: 0.1862 - accuracy: 0.9334 - val_loss: 0.3113 - val_accuracy: 0.8890\n",
      "Epoch 12/15\n",
      "428/428 [==============================] - 1s 3ms/step - loss: 0.1759 - accuracy: 0.9366 - val_loss: 0.3234 - val_accuracy: 0.8738\n",
      "Epoch 13/15\n",
      "428/428 [==============================] - 1s 3ms/step - loss: 0.1661 - accuracy: 0.9424 - val_loss: 0.3161 - val_accuracy: 0.8863\n",
      "Epoch 14/15\n",
      "428/428 [==============================] - 2s 4ms/step - loss: 0.1567 - accuracy: 0.9447 - val_loss: 0.3278 - val_accuracy: 0.8835\n"
     ]
    },
    {
     "data": {
      "text/plain": [
       "<keras.callbacks.History at 0x7f0c96603850>"
      ]
     },
     "execution_count": 40,
     "metadata": {},
     "output_type": "execute_result"
    }
   ],
   "source": [
    "simple_model.fit(X_train, y_train, \n",
    "          validation_data=(X_valid, y_valid),\n",
    "          batch_size=32,\n",
    "          epochs=15,\n",
    "          callbacks=[callback])"
   ]
  },
  {
   "cell_type": "markdown",
   "metadata": {},
   "source": [
    "## updated fasttext"
   ]
  },
  {
   "cell_type": "code",
   "execution_count": 41,
   "metadata": {},
   "outputs": [
    {
     "name": "stdout",
     "output_type": "stream",
     "text": [
      "CPU times: user 9min 36s, sys: 113 ms, total: 9min 36s\n",
      "Wall time: 3min 15s\n"
     ]
    }
   ],
   "source": [
    "%%time\n",
    "ft_upd = gensim.models.FastText(texts + data['norm_text'].values.tolist(), \n",
    "                            min_n=4, \n",
    "                            max_n=10,\n",
    "                            sg=0, \n",
    "                            hs=0,\n",
    "                            negative=10,\n",
    "                            vector_size=100, \n",
    "                            alpha=0.02, \n",
    "                            window=10,\n",
    "                            epochs=10,\n",
    "                            min_count=10,\n",
    "                            ns_exponent=0.75)"
   ]
  },
  {
   "cell_type": "code",
   "execution_count": 42,
   "metadata": {},
   "outputs": [],
   "source": [
    "weights = np.zeros((len(word2id), 100))\n",
    "\n",
    "for word, i in word2id.items():\n",
    "    if word == 'PAD':\n",
    "        continue\n",
    "    try:\n",
    "        weights[i] = ft_upd.wv[word]\n",
    "    \n",
    "    except KeyError:\n",
    "        # для слов, которых нет в модели тоже возьмем какой-то  рандомный вектор\n",
    "        continue\n",
    "        weights[i] = ft_upd.wv['опрагпллирао']"
   ]
  },
  {
   "cell_type": "code",
   "execution_count": 43,
   "metadata": {},
   "outputs": [],
   "source": [
    "inputs = tf.keras.layers.Input(shape=(100,))\n",
    "\n",
    "\n",
    "embeddings = tf.keras.layers.Embedding(input_dim=len(word2id), output_dim=100, \n",
    "                                       trainable=True,\n",
    "                                       weights=[weights])(inputs, )\n",
    "mean = tf.keras.layers.Lambda(lambda x: tf.keras.backend.mean(x,  axis=1))(embeddings)\n",
    "\n",
    "outputs = tf.keras.layers.Dense(1, activation='sigmoid')(mean)\n",
    "\n",
    "model_ft = tf.keras.Model(inputs=inputs, outputs=outputs)\n",
    "optimizer = tf.keras.optimizers.Adam()\n",
    "callback = tf.keras.callbacks.EarlyStopping(monitor='val_loss', patience=3)\n",
    "model_ft.compile(optimizer=optimizer,\n",
    "              loss='binary_crossentropy',\n",
    "              metrics=['accuracy'])"
   ]
  },
  {
   "cell_type": "code",
   "execution_count": 44,
   "metadata": {},
   "outputs": [
    {
     "name": "stdout",
     "output_type": "stream",
     "text": [
      "Epoch 1/15\n",
      "428/428 [==============================] - 2s 4ms/step - loss: 0.5971 - accuracy: 0.6723 - val_loss: 0.5736 - val_accuracy: 0.6588\n",
      "Epoch 2/15\n",
      "428/428 [==============================] - 2s 4ms/step - loss: 0.5389 - accuracy: 0.7139 - val_loss: 0.5274 - val_accuracy: 0.7448\n",
      "Epoch 3/15\n",
      "428/428 [==============================] - 2s 4ms/step - loss: 0.4979 - accuracy: 0.7558 - val_loss: 0.4924 - val_accuracy: 0.7642\n",
      "Epoch 4/15\n",
      "428/428 [==============================] - 2s 4ms/step - loss: 0.4633 - accuracy: 0.7929 - val_loss: 0.4643 - val_accuracy: 0.7795\n",
      "Epoch 5/15\n",
      "428/428 [==============================] - 2s 4ms/step - loss: 0.4330 - accuracy: 0.8137 - val_loss: 0.4372 - val_accuracy: 0.8086\n",
      "Epoch 6/15\n",
      "428/428 [==============================] - 2s 4ms/step - loss: 0.4067 - accuracy: 0.8362 - val_loss: 0.4167 - val_accuracy: 0.8225\n",
      "Epoch 7/15\n",
      "428/428 [==============================] - 2s 4ms/step - loss: 0.3830 - accuracy: 0.8514 - val_loss: 0.4005 - val_accuracy: 0.8391\n",
      "Epoch 8/15\n",
      "428/428 [==============================] - 2s 4ms/step - loss: 0.3626 - accuracy: 0.8630 - val_loss: 0.3868 - val_accuracy: 0.8280\n",
      "Epoch 9/15\n",
      "428/428 [==============================] - 2s 4ms/step - loss: 0.3440 - accuracy: 0.8728 - val_loss: 0.3740 - val_accuracy: 0.8433\n",
      "Epoch 10/15\n",
      "428/428 [==============================] - 2s 4ms/step - loss: 0.3273 - accuracy: 0.8828 - val_loss: 0.3649 - val_accuracy: 0.8502\n",
      "Epoch 11/15\n",
      "428/428 [==============================] - 2s 4ms/step - loss: 0.3125 - accuracy: 0.8883 - val_loss: 0.3612 - val_accuracy: 0.8350\n",
      "Epoch 12/15\n",
      "428/428 [==============================] - 2s 4ms/step - loss: 0.2993 - accuracy: 0.8969 - val_loss: 0.3498 - val_accuracy: 0.8613\n",
      "Epoch 13/15\n",
      "428/428 [==============================] - 2s 4ms/step - loss: 0.2868 - accuracy: 0.8994 - val_loss: 0.3442 - val_accuracy: 0.8779\n",
      "Epoch 14/15\n",
      "428/428 [==============================] - 2s 4ms/step - loss: 0.2755 - accuracy: 0.9050 - val_loss: 0.3388 - val_accuracy: 0.8641\n",
      "Epoch 15/15\n",
      "428/428 [==============================] - 2s 4ms/step - loss: 0.2644 - accuracy: 0.9076 - val_loss: 0.3387 - val_accuracy: 0.8530\n"
     ]
    },
    {
     "data": {
      "text/plain": [
       "<keras.callbacks.History at 0x7f0c94e44a90>"
      ]
     },
     "execution_count": 44,
     "metadata": {},
     "output_type": "execute_result"
    }
   ],
   "source": [
    "model_ft.fit(X_train, y_train, \n",
    "          validation_data=(X_valid, y_valid),\n",
    "          batch_size=32,\n",
    "          epochs=15,\n",
    "          callbacks=[callback])"
   ]
  },
  {
   "cell_type": "markdown",
   "metadata": {},
   "source": [
    "## not updated fasttext"
   ]
  },
  {
   "cell_type": "code",
   "execution_count": 45,
   "metadata": {},
   "outputs": [],
   "source": [
    "weights = np.zeros((len(word2id), 200))\n",
    "\n",
    "for word, i in word2id.items():\n",
    "    if word == 'PAD':\n",
    "        continue\n",
    "    try:\n",
    "        weights[i] = ft.wv[word]\n",
    "    \n",
    "    except KeyError:\n",
    "        continue\n",
    "        weights[i] = ft.wv['опрагпллирао']"
   ]
  },
  {
   "cell_type": "code",
   "execution_count": 46,
   "metadata": {},
   "outputs": [],
   "source": [
    "inputs = tf.keras.layers.Input(shape=(100,))\n",
    "\n",
    "embeddings = tf.keras.layers.Embedding(input_dim=len(word2id), output_dim=200, \n",
    "                                       trainable=True,\n",
    "                                       weights=[weights])(inputs, )\n",
    "mean = tf.keras.layers.Lambda(lambda x: tf.keras.backend.mean(x,  axis=1))(embeddings)\n",
    "\n",
    "outputs = tf.keras.layers.Dense(1, activation='sigmoid')(mean)\n",
    "\n",
    "model = tf.keras.Model(inputs=inputs, outputs=outputs)\n",
    "optimizer = tf.keras.optimizers.Adam()\n",
    "model.compile(optimizer=optimizer,\n",
    "              loss='binary_crossentropy',\n",
    "              metrics=['accuracy'])"
   ]
  },
  {
   "cell_type": "code",
   "execution_count": 47,
   "metadata": {},
   "outputs": [
    {
     "name": "stdout",
     "output_type": "stream",
     "text": [
      "Epoch 1/15\n",
      "428/428 [==============================] - 3s 7ms/step - loss: 0.5958 - accuracy: 0.6665 - val_loss: 0.5764 - val_accuracy: 0.6588\n",
      "Epoch 2/15\n",
      "428/428 [==============================] - 3s 7ms/step - loss: 0.5332 - accuracy: 0.7110 - val_loss: 0.5174 - val_accuracy: 0.7309\n",
      "Epoch 3/15\n",
      "428/428 [==============================] - 3s 7ms/step - loss: 0.4676 - accuracy: 0.7882 - val_loss: 0.4590 - val_accuracy: 0.8294\n",
      "Epoch 4/15\n",
      "428/428 [==============================] - 3s 7ms/step - loss: 0.4095 - accuracy: 0.8370 - val_loss: 0.4120 - val_accuracy: 0.8350\n",
      "Epoch 5/15\n",
      "428/428 [==============================] - 3s 7ms/step - loss: 0.3631 - accuracy: 0.8685 - val_loss: 0.3795 - val_accuracy: 0.8280\n",
      "Epoch 6/15\n",
      "428/428 [==============================] - 3s 7ms/step - loss: 0.3271 - accuracy: 0.8855 - val_loss: 0.3572 - val_accuracy: 0.8558\n",
      "Epoch 7/15\n",
      "428/428 [==============================] - 3s 7ms/step - loss: 0.2992 - accuracy: 0.8987 - val_loss: 0.3486 - val_accuracy: 0.8350\n",
      "Epoch 8/15\n",
      "428/428 [==============================] - 3s 7ms/step - loss: 0.2768 - accuracy: 0.9069 - val_loss: 0.3333 - val_accuracy: 0.8613\n",
      "Epoch 9/15\n",
      "428/428 [==============================] - 3s 7ms/step - loss: 0.2578 - accuracy: 0.9134 - val_loss: 0.3291 - val_accuracy: 0.8710\n",
      "Epoch 10/15\n",
      "428/428 [==============================] - 3s 7ms/step - loss: 0.2420 - accuracy: 0.9186 - val_loss: 0.3215 - val_accuracy: 0.8696\n",
      "Epoch 11/15\n",
      "428/428 [==============================] - 3s 7ms/step - loss: 0.2272 - accuracy: 0.9216 - val_loss: 0.3289 - val_accuracy: 0.8488\n",
      "Epoch 12/15\n",
      "428/428 [==============================] - 3s 7ms/step - loss: 0.2151 - accuracy: 0.9264 - val_loss: 0.3166 - val_accuracy: 0.8779\n",
      "Epoch 13/15\n",
      "428/428 [==============================] - 3s 7ms/step - loss: 0.2042 - accuracy: 0.9313 - val_loss: 0.3156 - val_accuracy: 0.8918\n",
      "Epoch 14/15\n",
      "428/428 [==============================] - 3s 7ms/step - loss: 0.1936 - accuracy: 0.9317 - val_loss: 0.3167 - val_accuracy: 0.8863\n",
      "Epoch 15/15\n",
      "428/428 [==============================] - 3s 7ms/step - loss: 0.1846 - accuracy: 0.9361 - val_loss: 0.3264 - val_accuracy: 0.8710\n"
     ]
    },
    {
     "data": {
      "text/plain": [
       "<keras.callbacks.History at 0x7f0c94e41c10>"
      ]
     },
     "execution_count": 47,
     "metadata": {},
     "output_type": "execute_result"
    }
   ],
   "source": [
    "model.fit(X_train, y_train, \n",
    "          validation_data=(X_valid, y_valid),\n",
    "          batch_size=32,\n",
    "          epochs=15)"
   ]
  },
  {
   "cell_type": "markdown",
   "metadata": {},
   "source": [
    "## Word2Vec gensim"
   ]
  },
  {
   "cell_type": "code",
   "execution_count": 50,
   "metadata": {},
   "outputs": [],
   "source": [
    "weights = np.zeros((len(word2id), 350))\n",
    "\n",
    "for word, i in word2id.items():\n",
    "    # вектор паддинга оставим нулевым\n",
    "    if word == 'PAD':\n",
    "        continue\n",
    "\n",
    "    try:\n",
    "        weights[i] = w2v.wv[word]\n",
    "    \n",
    "    \n",
    "    except KeyError:\n",
    "        continue\n",
    "        weights[i] = w2v.wv['опрагпллирао']"
   ]
  },
  {
   "cell_type": "code",
   "execution_count": 51,
   "metadata": {},
   "outputs": [],
   "source": [
    "inputs = tf.keras.layers.Input(shape=(100,))\n",
    "\n",
    "embeddings = tf.keras.layers.Embedding(input_dim=len(word2id), output_dim=350, \n",
    "                                       trainable=True,\n",
    "                                       weights=[weights])(inputs, )\n",
    "mean = tf.keras.layers.Lambda(lambda x: tf.keras.backend.mean(x,  axis=1))(embeddings)\n",
    "\n",
    "outputs = tf.keras.layers.Dense(1, activation='sigmoid')(mean)\n",
    "\n",
    "model_ft_ = tf.keras.Model(inputs=inputs, outputs=outputs)\n",
    "optimizer = tf.keras.optimizers.Adam()\n",
    "callback = tf.keras.callbacks.EarlyStopping(monitor='val_loss', patience=3)\n",
    "model_ft_.compile(optimizer=optimizer,\n",
    "              loss='binary_crossentropy',\n",
    "              metrics=['accuracy'])"
   ]
  },
  {
   "cell_type": "code",
   "execution_count": 52,
   "metadata": {},
   "outputs": [
    {
     "name": "stdout",
     "output_type": "stream",
     "text": [
      "Epoch 1/15\n",
      "428/428 [==============================] - 6s 14ms/step - loss: 0.5845 - accuracy: 0.6777 - val_loss: 0.5166 - val_accuracy: 0.7046\n",
      "Epoch 2/15\n",
      "428/428 [==============================] - 6s 13ms/step - loss: 0.4231 - accuracy: 0.8225 - val_loss: 0.3829 - val_accuracy: 0.8696\n",
      "Epoch 3/15\n",
      "428/428 [==============================] - 6s 13ms/step - loss: 0.3198 - accuracy: 0.8868 - val_loss: 0.3382 - val_accuracy: 0.8890\n",
      "Epoch 4/15\n",
      "428/428 [==============================] - 6s 13ms/step - loss: 0.2680 - accuracy: 0.9043 - val_loss: 0.3192 - val_accuracy: 0.8849\n",
      "Epoch 5/15\n",
      "428/428 [==============================] - 6s 14ms/step - loss: 0.2342 - accuracy: 0.9179 - val_loss: 0.3120 - val_accuracy: 0.8766\n",
      "Epoch 6/15\n",
      "428/428 [==============================] - 6s 14ms/step - loss: 0.2068 - accuracy: 0.9280 - val_loss: 0.3410 - val_accuracy: 0.8724\n",
      "Epoch 7/15\n",
      "428/428 [==============================] - 6s 14ms/step - loss: 0.1858 - accuracy: 0.9326 - val_loss: 0.3144 - val_accuracy: 0.8779\n",
      "Epoch 8/15\n",
      "428/428 [==============================] - 6s 13ms/step - loss: 0.1695 - accuracy: 0.9373 - val_loss: 0.3220 - val_accuracy: 0.8793\n"
     ]
    },
    {
     "data": {
      "text/plain": [
       "<keras.callbacks.History at 0x7f0c9661e940>"
      ]
     },
     "execution_count": 52,
     "metadata": {},
     "output_type": "execute_result"
    }
   ],
   "source": [
    "model_ft_.fit(X_train, y_train, \n",
    "          validation_data=(X_valid, y_valid),\n",
    "          batch_size=32,\n",
    "          epochs=15,\n",
    "          callbacks=[callback])"
   ]
  },
  {
   "cell_type": "markdown",
   "metadata": {},
   "source": [
    "## SkipGram"
   ]
  },
  {
   "cell_type": "code",
   "execution_count": 53,
   "metadata": {},
   "outputs": [],
   "source": [
    "weights = np.zeros((len(word2id), 300))\n",
    "\n",
    "for word, i in word2id.items():\n",
    "    if word == 'PAD':\n",
    "        continue\n",
    "    try:\n",
    "        weights[i] = embeddings_sg[word2id[word]]\n",
    "    \n",
    "    except KeyError:\n",
    "        continue\n",
    "        weights[i] = embeddings_sg['0098']"
   ]
  },
  {
   "cell_type": "code",
   "execution_count": 54,
   "metadata": {},
   "outputs": [],
   "source": [
    "inputs = tf.keras.layers.Input(shape=(100,))\n",
    "\n",
    "embeddings = tf.keras.layers.Embedding(input_dim=len(word2id), output_dim=300, \n",
    "                                       trainable=True,\n",
    "                                       weights=[weights])(inputs, )\n",
    "mean = tf.keras.layers.Lambda(lambda x: tf.keras.backend.mean(x,  axis=1))(embeddings)\n",
    "\n",
    "outputs = tf.keras.layers.Dense(1, activation='sigmoid')(mean)\n",
    "\n",
    "model_sg = tf.keras.Model(inputs=inputs, outputs=outputs)\n",
    "optimizer = tf.keras.optimizers.Adam()\n",
    "callback = tf.keras.callbacks.EarlyStopping(monitor='val_loss', patience=3)\n",
    "model_sg.compile(optimizer=optimizer,\n",
    "              loss='binary_crossentropy',\n",
    "              metrics=['accuracy'])"
   ]
  },
  {
   "cell_type": "code",
   "execution_count": 55,
   "metadata": {},
   "outputs": [
    {
     "name": "stdout",
     "output_type": "stream",
     "text": [
      "Epoch 1/15\n",
      "428/428 [==============================] - 5s 11ms/step - loss: 0.5874 - accuracy: 0.6750 - val_loss: 0.5318 - val_accuracy: 0.6727\n",
      "Epoch 2/15\n",
      "428/428 [==============================] - 5s 11ms/step - loss: 0.4270 - accuracy: 0.8182 - val_loss: 0.3933 - val_accuracy: 0.8003\n",
      "Epoch 3/15\n",
      "428/428 [==============================] - 5s 11ms/step - loss: 0.3225 - accuracy: 0.8848 - val_loss: 0.3386 - val_accuracy: 0.8863\n",
      "Epoch 4/15\n",
      "428/428 [==============================] - 5s 11ms/step - loss: 0.2680 - accuracy: 0.9064 - val_loss: 0.3167 - val_accuracy: 0.8738\n",
      "Epoch 5/15\n",
      "428/428 [==============================] - 5s 11ms/step - loss: 0.2329 - accuracy: 0.9168 - val_loss: 0.3181 - val_accuracy: 0.8682\n",
      "Epoch 6/15\n",
      "428/428 [==============================] - 5s 11ms/step - loss: 0.2075 - accuracy: 0.9243 - val_loss: 0.3174 - val_accuracy: 0.8766\n",
      "Epoch 7/15\n",
      "428/428 [==============================] - 5s 11ms/step - loss: 0.1868 - accuracy: 0.9327 - val_loss: 0.3172 - val_accuracy: 0.8807\n"
     ]
    },
    {
     "data": {
      "text/plain": [
       "<keras.callbacks.History at 0x7f0c9538c280>"
      ]
     },
     "execution_count": 55,
     "metadata": {},
     "output_type": "execute_result"
    }
   ],
   "source": [
    "model_sg.fit(X_train, y_train, \n",
    "          validation_data=(X_valid, y_valid),\n",
    "          batch_size=32,\n",
    "          epochs=15,\n",
    "          callbacks=[callback])"
   ]
  },
  {
   "cell_type": "markdown",
   "metadata": {},
   "source": [
    "## CBOW"
   ]
  },
  {
   "cell_type": "code",
   "execution_count": 56,
   "metadata": {},
   "outputs": [],
   "source": [
    "weights = np.zeros((len(word2id), 300))\n",
    "\n",
    "for word, i in word2id.items():\n",
    "    if word == 'PAD':\n",
    "        continue\n",
    "    try:\n",
    "        weights[i] = embeddings_cbow[word2id[word]]\n",
    "    \n",
    "    except KeyError:\n",
    "        continue\n",
    "        weights[i] = embeddings_cbow['0098']"
   ]
  },
  {
   "cell_type": "code",
   "execution_count": 57,
   "metadata": {},
   "outputs": [],
   "source": [
    "inputs = tf.keras.layers.Input(shape=(100,))\n",
    "\n",
    "embeddings = tf.keras.layers.Embedding(input_dim=len(word2id), output_dim=300, \n",
    "                                       trainable=True,\n",
    "                                       weights=[weights])(inputs, )\n",
    "mean = tf.keras.layers.Lambda(lambda x: tf.keras.backend.mean(x,  axis=1))(embeddings)\n",
    "\n",
    "outputs = tf.keras.layers.Dense(1, activation='sigmoid')(mean)\n",
    "\n",
    "model_cbow = tf.keras.Model(inputs=inputs, outputs=outputs)\n",
    "optimizer = tf.keras.optimizers.Adam()\n",
    "callback = tf.keras.callbacks.EarlyStopping(monitor='val_loss', patience=3)\n",
    "model_cbow.compile(optimizer=optimizer,\n",
    "              loss='binary_crossentropy',\n",
    "              metrics=['accuracy'])"
   ]
  },
  {
   "cell_type": "code",
   "execution_count": 58,
   "metadata": {},
   "outputs": [
    {
     "name": "stdout",
     "output_type": "stream",
     "text": [
      "Epoch 1/15\n",
      "428/428 [==============================] - 5s 11ms/step - loss: 0.5975 - accuracy: 0.6691 - val_loss: 0.5543 - val_accuracy: 0.6616\n",
      "Epoch 2/15\n",
      "428/428 [==============================] - 5s 11ms/step - loss: 0.4597 - accuracy: 0.7880 - val_loss: 0.4113 - val_accuracy: 0.7989\n",
      "Epoch 3/15\n",
      "428/428 [==============================] - 5s 11ms/step - loss: 0.3464 - accuracy: 0.8738 - val_loss: 0.3557 - val_accuracy: 0.8266\n",
      "Epoch 4/15\n",
      "428/428 [==============================] - 5s 11ms/step - loss: 0.2904 - accuracy: 0.8977 - val_loss: 0.3266 - val_accuracy: 0.8530\n",
      "Epoch 5/15\n",
      "428/428 [==============================] - 5s 11ms/step - loss: 0.2531 - accuracy: 0.9094 - val_loss: 0.3204 - val_accuracy: 0.8807\n",
      "Epoch 6/15\n",
      "428/428 [==============================] - 5s 12ms/step - loss: 0.2261 - accuracy: 0.9226 - val_loss: 0.3110 - val_accuracy: 0.8807\n",
      "Epoch 7/15\n",
      "428/428 [==============================] - 5s 12ms/step - loss: 0.2050 - accuracy: 0.9267 - val_loss: 0.3219 - val_accuracy: 0.8696\n",
      "Epoch 8/15\n",
      "428/428 [==============================] - 5s 11ms/step - loss: 0.1870 - accuracy: 0.9336 - val_loss: 0.3123 - val_accuracy: 0.8793\n",
      "Epoch 9/15\n",
      "428/428 [==============================] - 5s 11ms/step - loss: 0.1721 - accuracy: 0.9378 - val_loss: 0.3181 - val_accuracy: 0.8793\n"
     ]
    },
    {
     "data": {
      "text/plain": [
       "<keras.callbacks.History at 0x7f0c95377e50>"
      ]
     },
     "execution_count": 58,
     "metadata": {},
     "output_type": "execute_result"
    }
   ],
   "source": [
    "model_cbow.fit(X_train, y_train, \n",
    "          validation_data=(X_valid, y_valid),\n",
    "          batch_size=32,\n",
    "          epochs=15,\n",
    "          callbacks=[callback])"
   ]
  },
  {
   "cell_type": "markdown",
   "metadata": {},
   "source": [
    "## rus-vectores "
   ]
  },
  {
   "cell_type": "code",
   "execution_count": 59,
   "metadata": {},
   "outputs": [],
   "source": [
    "model = gensim.models.KeyedVectors.load_word2vec_format('news_upos_skipgram_300_5_2019/model.bin', binary=True)"
   ]
  },
  {
   "cell_type": "code",
   "execution_count": 60,
   "metadata": {},
   "outputs": [],
   "source": [
    "mapping = {}\n",
    "\n",
    "for line in open('ru-rnc.map'):\n",
    "    ms, ud = line.strip('\\n').split()\n",
    "    mapping[ms] = ud"
   ]
  },
  {
   "cell_type": "code",
   "execution_count": 61,
   "metadata": {},
   "outputs": [],
   "source": [
    "from pymystem3 import Mystem\n",
    "m = Mystem()"
   ]
  },
  {
   "cell_type": "code",
   "execution_count": 62,
   "metadata": {},
   "outputs": [],
   "source": [
    "def normalize_mystem(text):\n",
    "    tokens = []\n",
    "    norm_words = m.analyze(text)\n",
    "    for norm_word in norm_words:\n",
    "        if 'analysis' not in norm_word:\n",
    "            continue\n",
    "            \n",
    "        if not len(norm_word['analysis']):\n",
    "            lemma = norm_word['text']\n",
    "            pos = 'UNKN'\n",
    "        else:\n",
    "            lemma = norm_word[\"analysis\"][0][\"lex\"].lower().strip()\n",
    "            pos = norm_word[\"analysis\"][0][\"gr\"].split(',')[0]\n",
    "            pos = pos.split('=')[0].strip()\n",
    "        pos = mapping[pos]\n",
    "        tokens.append(lemma+'_'+pos)\n",
    "\n",
    "    return tokens"
   ]
  },
  {
   "cell_type": "code",
   "execution_count": 63,
   "metadata": {},
   "outputs": [],
   "source": [
    "data = pd.read_csv('labeled.csv')"
   ]
  },
  {
   "cell_type": "code",
   "execution_count": 64,
   "metadata": {},
   "outputs": [],
   "source": [
    "data['norm_text'] = data.comment.apply(normalize_mystem)"
   ]
  },
  {
   "cell_type": "code",
   "execution_count": 65,
   "metadata": {},
   "outputs": [],
   "source": [
    "weights = np.zeros((len(word2id), 300))\n",
    "\n",
    "for word, i in word2id.items():\n",
    "    # вектор паддинга оставим нулевым\n",
    "    if word == 'PAD':\n",
    "        continue\n",
    "\n",
    "    try:\n",
    "        weights[i] = model[word2id[word]]\n",
    "    \n",
    "    \n",
    "    except KeyError:\n",
    "        continue\n",
    "        weights[i] = model['опрагпллирао']"
   ]
  },
  {
   "cell_type": "code",
   "execution_count": 66,
   "metadata": {},
   "outputs": [],
   "source": [
    "inputs = tf.keras.layers.Input(shape=(100,))\n",
    "\n",
    "embeddings = tf.keras.layers.Embedding(input_dim=len(word2id), output_dim=300, \n",
    "                                       trainable=True,\n",
    "                                       weights=[weights])(inputs, )\n",
    "mean = tf.keras.layers.Lambda(lambda x: tf.keras.backend.mean(x,  axis=1))(embeddings)\n",
    "\n",
    "outputs = tf.keras.layers.Dense(1, activation='sigmoid')(mean)\n",
    "\n",
    "model_vect = tf.keras.Model(inputs=inputs, outputs=outputs)\n",
    "optimizer = tf.keras.optimizers.Adam()\n",
    "callback = tf.keras.callbacks.EarlyStopping(monitor='val_loss', patience=3)\n",
    "model_vect.compile(optimizer=optimizer,\n",
    "              loss='binary_crossentropy',\n",
    "              metrics=['accuracy'])"
   ]
  },
  {
   "cell_type": "code",
   "execution_count": 67,
   "metadata": {},
   "outputs": [
    {
     "name": "stdout",
     "output_type": "stream",
     "text": [
      "Epoch 1/15\n",
      "428/428 [==============================] - 5s 10ms/step - loss: 0.5953 - accuracy: 0.6677 - val_loss: 0.5503 - val_accuracy: 0.6685\n",
      "Epoch 2/15\n",
      "428/428 [==============================] - 5s 12ms/step - loss: 0.4635 - accuracy: 0.7835 - val_loss: 0.4120 - val_accuracy: 0.8239\n",
      "Epoch 3/15\n",
      "428/428 [==============================] - 5s 12ms/step - loss: 0.3525 - accuracy: 0.8711 - val_loss: 0.3599 - val_accuracy: 0.8294\n",
      "Epoch 4/15\n",
      "428/428 [==============================] - 4s 10ms/step - loss: 0.2940 - accuracy: 0.8986 - val_loss: 0.3267 - val_accuracy: 0.8738\n",
      "Epoch 5/15\n",
      "428/428 [==============================] - 4s 10ms/step - loss: 0.2567 - accuracy: 0.9118 - val_loss: 0.3219 - val_accuracy: 0.8558\n",
      "Epoch 6/15\n",
      "428/428 [==============================] - 4s 10ms/step - loss: 0.2293 - accuracy: 0.9189 - val_loss: 0.3165 - val_accuracy: 0.8502\n",
      "Epoch 7/15\n",
      "428/428 [==============================] - 4s 10ms/step - loss: 0.2067 - accuracy: 0.9278 - val_loss: 0.3097 - val_accuracy: 0.8766\n",
      "Epoch 8/15\n",
      "428/428 [==============================] - 4s 10ms/step - loss: 0.1891 - accuracy: 0.9335 - val_loss: 0.3151 - val_accuracy: 0.8766\n",
      "Epoch 9/15\n",
      "428/428 [==============================] - 4s 10ms/step - loss: 0.1752 - accuracy: 0.9366 - val_loss: 0.3227 - val_accuracy: 0.8682\n",
      "Epoch 10/15\n",
      "428/428 [==============================] - 4s 10ms/step - loss: 0.1620 - accuracy: 0.9426 - val_loss: 0.3202 - val_accuracy: 0.8918\n"
     ]
    },
    {
     "data": {
      "text/plain": [
       "<keras.callbacks.History at 0x7f0d37bdc2e0>"
      ]
     },
     "execution_count": 67,
     "metadata": {},
     "output_type": "execute_result"
    }
   ],
   "source": [
    "model_vect.fit(X_train, y_train, \n",
    "          validation_data=(X_valid, y_valid),\n",
    "          batch_size=32,\n",
    "          epochs=15,\n",
    "          callbacks=[callback])"
   ]
  },
  {
   "cell_type": "markdown",
   "metadata": {},
   "source": [
    "## Что лучше"
   ]
  },
  {
   "cell_type": "code",
   "execution_count": 68,
   "metadata": {},
   "outputs": [],
   "source": [
    "def plot(model):\n",
    "    plt.plot(model.history.history['accuracy'])\n",
    "    plt.plot(model.history.history['val_accuracy'])\n",
    "    plt.title('model accuracy')\n",
    "    plt.ylabel('accuracy')\n",
    "    plt.xlabel('epoch')\n",
    "    plt.xticks(range(len(model.history.history['val_accuracy'])), range(len(model.history.history['val_accuracy'])))\n",
    "    plt.legend(['train', 'val'], loc='upper left')\n",
    "    plt.show()"
   ]
  },
  {
   "cell_type": "code",
   "execution_count": 69,
   "metadata": {},
   "outputs": [
    {
     "data": {
      "image/png": "[encoded data removed]",
      "text/plain": [
       "<Figure size 640x480 with 1 Axes>"
      ]
     },
     "metadata": {},
     "output_type": "display_data"
    }
   ],
   "source": [
    "plot(simple_model) # без инициализации"
   ]
  },
  {
   "cell_type": "code",
   "execution_count": 70,
   "metadata": {},
   "outputs": [
    {
     "data": {
      "image/png": "[encoded data removed]",
      "text/plain": [
       "<Figure size 640x480 with 1 Axes>"
      ]
     },
     "metadata": {},
     "output_type": "display_data"
    }
   ],
   "source": [
    "plot(model_ft) #first fasttext"
   ]
  },
  {
   "cell_type": "code",
   "execution_count": 71,
   "metadata": {},
   "outputs": [
    {
     "data": {
      "image/png": "[encoded data removed]",
      "text/plain": [
       "<Figure size 640x480 with 1 Axes>"
      ]
     },
     "metadata": {},
     "output_type": "display_data"
    }
   ],
   "source": [
    "plot(model_ft_) # updated fasttext"
   ]
  },
  {
   "cell_type": "code",
   "execution_count": 72,
   "metadata": {},
   "outputs": [
    {
     "data": {
      "image/png": "[encoded data removed]",
      "text/plain": [
       "<Figure size 640x480 with 1 Axes>"
      ]
     },
     "metadata": {},
     "output_type": "display_data"
    }
   ],
   "source": [
    "plot(model_sg) #skip gram"
   ]
  },
  {
   "cell_type": "code",
   "execution_count": 73,
   "metadata": {},
   "outputs": [
    {
     "data": {
      "image/png": "[encoded data removed]",
      "text/plain": [
       "<Figure size 640x480 with 1 Axes>"
      ]
     },
     "metadata": {},
     "output_type": "display_data"
    }
   ],
   "source": [
    "plot(model_cbow) #cbow"
   ]
  },
  {
   "cell_type": "code",
   "execution_count": 74,
   "metadata": {},
   "outputs": [
    {
     "data": {
      "image/png": "[encoded data removed]",
      "text/plain": [
       "<Figure size 640x480 with 1 Axes>"
      ]
     },
     "metadata": {},
     "output_type": "display_data"
    }
   ],
   "source": [
    "plot(model_vect) #rus_vectores"
   ]
  },
  {
   "cell_type": "markdown",
   "metadata": {},
   "source": [
    "Видно, что модель с инициализацией rus_vectores показывает лучший результат, хотя остальные инициализации тоже выглядят неплохо! Везде val_accuracy > 0.85."
   ]
  }
 ],
 "metadata": {
  "kernelspec": {
   "display_name": "Python 3 (ipykernel)",
   "language": "python",
   "name": "python3"
  },
  "language_info": {
   "codemirror_mode": {
    "name": "ipython",
    "version": 3
   },
   "file_extension": ".py",
   "mimetype": "text/x-python",
   "name": "python",
   "nbconvert_exporter": "python",
   "pygments_lexer": "ipython3",
   "version": "3.9.16"
  }
 },
 "nbformat": 4,
 "nbformat_minor": 4
}
