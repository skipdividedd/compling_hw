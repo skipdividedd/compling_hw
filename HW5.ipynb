{
 "cells": [
  {
   "cell_type": "markdown",
   "id": "092e5c0d",
   "metadata": {},
   "source": [
    "# Домашнее задание  № 5. Матричные разложения/Тематическое моделирование"
   ]
  },
  {
   "cell_type": "markdown",
   "id": "f18446b7",
   "metadata": {},
   "source": [
    "### Задание № 1 (4 балла)"
   ]
  },
  {
   "cell_type": "markdown",
   "id": "cf81eecc",
   "metadata": {},
   "source": [
    "Попробуйте матричные разложения с 4 классификаторами - SGDClassifier, KNeighborsClassifier,  RandomForest, ExtraTreesClassifier (про него подробнее почитайте в документации, он похож на RF). Используйте и NMF и SVD. Сравните результаты на кросс-валидации и выберите лучшее сочетание.\n",
    "\n",
    "В итоге у вас должно получиться, как минимум 8 моделей (два разложения на каждый классификатор). Используйте 1 и те же параметры кросс-валидации. Параметры векторизации, параметры K в матричных разложениях, параметры классификаторов могут быть разными между экспериментами."
   ]
  },
  {
   "cell_type": "markdown",
   "id": "f1760960",
   "metadata": {},
   "source": [
    "Можете взять поменьше данных, если все будет обучаться слишком долго (не ставьте параметр K слишком большим в NMF, иначе точно будет слишком долго)"
   ]
  },
  {
   "cell_type": "code",
   "execution_count": 106,
   "id": "9b84d8bd",
   "metadata": {},
   "outputs": [],
   "source": [
    "import warnings\n",
    "warnings.filterwarnings(\"ignore\")\n",
    "import gensim\n",
    "import pandas as pd\n",
    "import numpy as np\n",
    "from pymorphy2 import MorphAnalyzer\n",
    "import pyLDAvis.gensim_models\n",
    "from collections import Counter\n",
    "from string import punctuation\n",
    "from razdel import tokenize as razdel_tokenize\n",
    "from IPython.display import Image\n",
    "from IPython.core.display import HTML \n",
    "from sklearn.decomposition import TruncatedSVD, NMF, PCA, LatentDirichletAllocation\n",
    "from sklearn.manifold import TSNE\n",
    "from sklearn.feature_extraction.text import TfidfVectorizer, CountVectorizer, TfidfTransformer\n",
    "from sklearn.metrics.pairwise import cosine_distances\n",
    "from sklearn.ensemble import RandomForestClassifier, ExtraTreesClassifier\n",
    "from sklearn.linear_model import SGDClassifier\n",
    "from sklearn.neighbors import KNeighborsClassifier\n",
    "from sklearn.metrics import accuracy_score, precision_score, recall_score, f1_score, confusion_matrix\n",
    "from sklearn.pipeline import Pipeline\n",
    "from sklearn.model_selection import KFold, StratifiedKFold\n",
    "from matplotlib import pyplot as plt\n",
    "import seaborn as sns\n",
    "morph = MorphAnalyzer()"
   ]
  },
  {
   "cell_type": "code",
   "execution_count": 2,
   "id": "283d4eb5",
   "metadata": {},
   "outputs": [],
   "source": [
    "data = pd.read_csv('avito_category_classification.csv')"
   ]
  },
  {
   "cell_type": "code",
   "execution_count": 3,
   "id": "46175378",
   "metadata": {},
   "outputs": [],
   "source": [
    "def normalize(text):\n",
    "    normalized_text = [word.text.strip(punctuation) for word \\\n",
    "                                                            in razdel_tokenize(text)]\n",
    "    normalized_text = [word.lower() for word in normalized_text if word and len(word) < 20 ]\n",
    "    normalized_text = [morph.parse(word)[0].normal_form for word in normalized_text]\n",
    "    return ' '.join(normalized_text)"
   ]
  },
  {
   "cell_type": "code",
   "execution_count": 4,
   "id": "37c97971",
   "metadata": {},
   "outputs": [],
   "source": [
    "data['description_norm'] = data['description'].apply(normalize)"
   ]
  },
  {
   "cell_type": "code",
   "execution_count": 5,
   "id": "afad3ae5",
   "metadata": {},
   "outputs": [],
   "source": [
    "def eval_table(X, y, pipeline, N=6):\n",
    "    # зафиксируем порядок классов\n",
    "    labels = list(set(y))\n",
    "    \n",
    "    # метрики отдельных фолдов будет хранить в табличке\n",
    "    fold_metrics = pd.DataFrame(index=labels)\n",
    "    # дополнительно также соберем таблицу ошибок\n",
    "    errors = np.zeros((len(labels), len(labels)))\n",
    "    \n",
    "    # создаем стратегию кросс-валидации\n",
    "    # shuffle=True (перемешивание) - часто критично важно указать\n",
    "    # т.к. данные могут быть упорядочены и модель на этом обучится\n",
    "    kfold = StratifiedKFold(n_splits=N, shuffle=True, )\n",
    "    \n",
    "    for i, (train_index, test_index) in enumerate(kfold.split(X, y)):\n",
    "        # fit-predict как и раньше, но сразу пайплайном\n",
    "        pipeline.fit(X[train_index], y[train_index])\n",
    "        preds = pipeline.predict(X[test_index])\n",
    "        \n",
    "        # записываем метрику и индекс фолда\n",
    "        fold_metrics[f'precision_{i}'] = precision_score(y[test_index], preds, labels=labels, average=None)\n",
    "        fold_metrics[f'recall_{i}'] = recall_score(y[test_index], preds, labels=labels, average=None)\n",
    "        fold_metrics[f'f1_{i}'] = f1_score(y[test_index], preds, labels=labels, average=None)\n",
    "        errors += confusion_matrix(y[test_index], preds, labels=labels, normalize='true')\n",
    "    \n",
    "    # таблица для усредненных значений\n",
    "    # тут мы берем колонки со значениями и усредняем их\n",
    "    # часто также все метрики сразу суммируют и в конце просто делят на количество фолдов\n",
    "    # но мы тут помимо среднего также хотим посмотреть на стандартное отклонение\n",
    "    # чтобы понять как сильно варьируются оценки моделей\n",
    "    result = pd.DataFrame(index=labels)\n",
    "    result['precision'] = fold_metrics[[f'precision_{i}' for i in range(N)]].mean(axis=1).round(2)\n",
    "    result['precision_std'] = fold_metrics[[f'precision_{i}' for i in range(N)]].std(axis=1).round(2)\n",
    "    \n",
    "    result['recall'] = fold_metrics[[f'recall_{i}' for i in range(N)]].mean(axis=1).round(2)\n",
    "    result['recall_std'] = fold_metrics[[f'recall_{i}' for i in range(N)]].std(axis=1).round(2)\n",
    "    \n",
    "    result['f1'] = fold_metrics[[f'f1_{i}' for i in range(N)]].mean(axis=1).round(2)\n",
    "    result['f1_std'] = fold_metrics[[f'f1_{i}' for i in range(N)]].std(axis=1).round(2)\n",
    "    \n",
    "    # добавим одну колонку со средним по всем классам\n",
    "    result.loc['mean'] = result.mean().round(2)\n",
    "    # проценты ошибок просто усредняем\n",
    "    errors /= N\n",
    "    \n",
    "    return result, errors"
   ]
  },
  {
   "cell_type": "markdown",
   "id": "95fadef1",
   "metadata": {},
   "source": [
    "## SGDClassifier"
   ]
  },
  {
   "cell_type": "code",
   "execution_count": 6,
   "id": "3d900d54",
   "metadata": {},
   "outputs": [],
   "source": [
    "pipeline_svd = Pipeline([\n",
    "    ('cv', CountVectorizer(tokenizer=lambda x: x.split(), ngram_range=(1,2), min_df=5, max_df=0.4)),\n",
    "    ('svd', TruncatedSVD(500)),\n",
    "    ('clf', SGDClassifier())\n",
    "])"
   ]
  },
  {
   "cell_type": "code",
   "execution_count": 7,
   "id": "c4759639",
   "metadata": {},
   "outputs": [],
   "source": [
    "metrics_svd, errors_svd = eval_table(data['description_norm'], data['category_name'], pipeline_svd)"
   ]
  },
  {
   "cell_type": "code",
   "execution_count": 8,
   "id": "d5f18961",
   "metadata": {},
   "outputs": [
    {
     "data": {
      "text/html": [
       "<div>\n",
       "<style scoped>\n",
       "    .dataframe tbody tr th:only-of-type {\n",
       "        vertical-align: middle;\n",
       "    }\n",
       "\n",
       "    .dataframe tbody tr th {\n",
       "        vertical-align: top;\n",
       "    }\n",
       "\n",
       "    .dataframe thead th {\n",
       "        text-align: right;\n",
       "    }\n",
       "</style>\n",
       "<table border=\"1\" class=\"dataframe\">\n",
       "  <thead>\n",
       "    <tr style=\"text-align: right;\">\n",
       "      <th></th>\n",
       "      <th>precision</th>\n",
       "      <th>precision_std</th>\n",
       "      <th>recall</th>\n",
       "      <th>recall_std</th>\n",
       "      <th>f1</th>\n",
       "      <th>f1_std</th>\n",
       "    </tr>\n",
       "  </thead>\n",
       "  <tbody>\n",
       "    <tr>\n",
       "      <th>Мебель и интерьер</th>\n",
       "      <td>0.66</td>\n",
       "      <td>0.05</td>\n",
       "      <td>0.62</td>\n",
       "      <td>0.05</td>\n",
       "      <td>0.64</td>\n",
       "      <td>0.04</td>\n",
       "    </tr>\n",
       "    <tr>\n",
       "      <th>Телефоны</th>\n",
       "      <td>0.82</td>\n",
       "      <td>0.04</td>\n",
       "      <td>0.79</td>\n",
       "      <td>0.03</td>\n",
       "      <td>0.80</td>\n",
       "      <td>0.02</td>\n",
       "    </tr>\n",
       "    <tr>\n",
       "      <th>Детская одежда и обувь</th>\n",
       "      <td>0.74</td>\n",
       "      <td>0.02</td>\n",
       "      <td>0.78</td>\n",
       "      <td>0.02</td>\n",
       "      <td>0.76</td>\n",
       "      <td>0.01</td>\n",
       "    </tr>\n",
       "    <tr>\n",
       "      <th>Квартиры</th>\n",
       "      <td>0.95</td>\n",
       "      <td>0.01</td>\n",
       "      <td>0.96</td>\n",
       "      <td>0.03</td>\n",
       "      <td>0.96</td>\n",
       "      <td>0.02</td>\n",
       "    </tr>\n",
       "    <tr>\n",
       "      <th>Автомобили</th>\n",
       "      <td>0.88</td>\n",
       "      <td>0.04</td>\n",
       "      <td>0.90</td>\n",
       "      <td>0.02</td>\n",
       "      <td>0.89</td>\n",
       "      <td>0.01</td>\n",
       "    </tr>\n",
       "    <tr>\n",
       "      <th>Товары для детей и игрушки</th>\n",
       "      <td>0.71</td>\n",
       "      <td>0.06</td>\n",
       "      <td>0.64</td>\n",
       "      <td>0.04</td>\n",
       "      <td>0.67</td>\n",
       "      <td>0.03</td>\n",
       "    </tr>\n",
       "    <tr>\n",
       "      <th>Ремонт и строительство</th>\n",
       "      <td>0.63</td>\n",
       "      <td>0.08</td>\n",
       "      <td>0.47</td>\n",
       "      <td>0.03</td>\n",
       "      <td>0.53</td>\n",
       "      <td>0.03</td>\n",
       "    </tr>\n",
       "    <tr>\n",
       "      <th>Одежда, обувь, аксессуары</th>\n",
       "      <td>0.72</td>\n",
       "      <td>0.02</td>\n",
       "      <td>0.77</td>\n",
       "      <td>0.03</td>\n",
       "      <td>0.74</td>\n",
       "      <td>0.01</td>\n",
       "    </tr>\n",
       "    <tr>\n",
       "      <th>Бытовая техника</th>\n",
       "      <td>0.64</td>\n",
       "      <td>0.07</td>\n",
       "      <td>0.53</td>\n",
       "      <td>0.04</td>\n",
       "      <td>0.58</td>\n",
       "      <td>0.04</td>\n",
       "    </tr>\n",
       "    <tr>\n",
       "      <th>Предложение услуг</th>\n",
       "      <td>0.79</td>\n",
       "      <td>0.03</td>\n",
       "      <td>0.76</td>\n",
       "      <td>0.06</td>\n",
       "      <td>0.77</td>\n",
       "      <td>0.03</td>\n",
       "    </tr>\n",
       "    <tr>\n",
       "      <th>mean</th>\n",
       "      <td>0.75</td>\n",
       "      <td>0.04</td>\n",
       "      <td>0.72</td>\n",
       "      <td>0.03</td>\n",
       "      <td>0.73</td>\n",
       "      <td>0.02</td>\n",
       "    </tr>\n",
       "  </tbody>\n",
       "</table>\n",
       "</div>"
      ],
      "text/plain": [
       "                            precision  precision_std  recall  recall_std  \\\n",
       "Мебель и интерьер                0.66           0.05    0.62        0.05   \n",
       "Телефоны                         0.82           0.04    0.79        0.03   \n",
       "Детская одежда и обувь           0.74           0.02    0.78        0.02   \n",
       "Квартиры                         0.95           0.01    0.96        0.03   \n",
       "Автомобили                       0.88           0.04    0.90        0.02   \n",
       "Товары для детей и игрушки       0.71           0.06    0.64        0.04   \n",
       "Ремонт и строительство           0.63           0.08    0.47        0.03   \n",
       "Одежда, обувь, аксессуары        0.72           0.02    0.77        0.03   \n",
       "Бытовая техника                  0.64           0.07    0.53        0.04   \n",
       "Предложение услуг                0.79           0.03    0.76        0.06   \n",
       "mean                             0.75           0.04    0.72        0.03   \n",
       "\n",
       "                              f1  f1_std  \n",
       "Мебель и интерьер           0.64    0.04  \n",
       "Телефоны                    0.80    0.02  \n",
       "Детская одежда и обувь      0.76    0.01  \n",
       "Квартиры                    0.96    0.02  \n",
       "Автомобили                  0.89    0.01  \n",
       "Товары для детей и игрушки  0.67    0.03  \n",
       "Ремонт и строительство      0.53    0.03  \n",
       "Одежда, обувь, аксессуары   0.74    0.01  \n",
       "Бытовая техника             0.58    0.04  \n",
       "Предложение услуг           0.77    0.03  \n",
       "mean                        0.73    0.02  "
      ]
     },
     "execution_count": 8,
     "metadata": {},
     "output_type": "execute_result"
    }
   ],
   "source": [
    "metrics_svd"
   ]
  },
  {
   "cell_type": "code",
   "execution_count": 9,
   "id": "8a80d96d",
   "metadata": {},
   "outputs": [
    {
     "data": {
      "image/png": "[encoded data removed]",
      "text/plain": [
       "<Figure size 400x400 with 2 Axes>"
      ]
     },
     "metadata": {},
     "output_type": "display_data"
    }
   ],
   "source": [
    "plt.figure(figsize=(4, 4))\n",
    "sns.heatmap(errors_svd, xticklabels=metrics_svd.index.tolist()[:-1], \n",
    "            yticklabels=metrics_svd.index.tolist()[:-1])\n",
    "plt.show()"
   ]
  },
  {
   "cell_type": "code",
   "execution_count": 10,
   "id": "27e3f4a6",
   "metadata": {},
   "outputs": [],
   "source": [
    "pipeline_nmf = Pipeline([\n",
    "    ('cv', CountVectorizer(tokenizer=lambda x: x.split(), min_df=3, max_df=0.3)),\n",
    "    ('tfidf', TfidfTransformer()),\n",
    "    ('decomposition', NMF(100)),\n",
    "    ('clf', SGDClassifier())\n",
    "])\n"
   ]
  },
  {
   "cell_type": "code",
   "execution_count": 11,
   "id": "5afd1f51",
   "metadata": {},
   "outputs": [],
   "source": [
    "metrics_nmf, errors_nmf = eval_table(data['description_norm'], data['category_name'], pipeline_nmf)"
   ]
  },
  {
   "cell_type": "code",
   "execution_count": 12,
   "id": "c9c172be",
   "metadata": {},
   "outputs": [
    {
     "data": {
      "text/html": [
       "<div>\n",
       "<style scoped>\n",
       "    .dataframe tbody tr th:only-of-type {\n",
       "        vertical-align: middle;\n",
       "    }\n",
       "\n",
       "    .dataframe tbody tr th {\n",
       "        vertical-align: top;\n",
       "    }\n",
       "\n",
       "    .dataframe thead th {\n",
       "        text-align: right;\n",
       "    }\n",
       "</style>\n",
       "<table border=\"1\" class=\"dataframe\">\n",
       "  <thead>\n",
       "    <tr style=\"text-align: right;\">\n",
       "      <th></th>\n",
       "      <th>precision</th>\n",
       "      <th>precision_std</th>\n",
       "      <th>recall</th>\n",
       "      <th>recall_std</th>\n",
       "      <th>f1</th>\n",
       "      <th>f1_std</th>\n",
       "    </tr>\n",
       "  </thead>\n",
       "  <tbody>\n",
       "    <tr>\n",
       "      <th>Мебель и интерьер</th>\n",
       "      <td>0.60</td>\n",
       "      <td>0.24</td>\n",
       "      <td>0.36</td>\n",
       "      <td>0.13</td>\n",
       "      <td>0.40</td>\n",
       "      <td>0.10</td>\n",
       "    </tr>\n",
       "    <tr>\n",
       "      <th>Телефоны</th>\n",
       "      <td>0.70</td>\n",
       "      <td>0.14</td>\n",
       "      <td>0.61</td>\n",
       "      <td>0.16</td>\n",
       "      <td>0.62</td>\n",
       "      <td>0.09</td>\n",
       "    </tr>\n",
       "    <tr>\n",
       "      <th>Детская одежда и обувь</th>\n",
       "      <td>0.65</td>\n",
       "      <td>0.13</td>\n",
       "      <td>0.65</td>\n",
       "      <td>0.09</td>\n",
       "      <td>0.63</td>\n",
       "      <td>0.05</td>\n",
       "    </tr>\n",
       "    <tr>\n",
       "      <th>Квартиры</th>\n",
       "      <td>0.76</td>\n",
       "      <td>0.17</td>\n",
       "      <td>0.95</td>\n",
       "      <td>0.03</td>\n",
       "      <td>0.83</td>\n",
       "      <td>0.12</td>\n",
       "    </tr>\n",
       "    <tr>\n",
       "      <th>Автомобили</th>\n",
       "      <td>0.67</td>\n",
       "      <td>0.21</td>\n",
       "      <td>0.78</td>\n",
       "      <td>0.15</td>\n",
       "      <td>0.68</td>\n",
       "      <td>0.13</td>\n",
       "    </tr>\n",
       "    <tr>\n",
       "      <th>Товары для детей и игрушки</th>\n",
       "      <td>0.81</td>\n",
       "      <td>0.23</td>\n",
       "      <td>0.35</td>\n",
       "      <td>0.16</td>\n",
       "      <td>0.44</td>\n",
       "      <td>0.07</td>\n",
       "    </tr>\n",
       "    <tr>\n",
       "      <th>Ремонт и строительство</th>\n",
       "      <td>0.21</td>\n",
       "      <td>0.18</td>\n",
       "      <td>0.09</td>\n",
       "      <td>0.09</td>\n",
       "      <td>0.12</td>\n",
       "      <td>0.11</td>\n",
       "    </tr>\n",
       "    <tr>\n",
       "      <th>Одежда, обувь, аксессуары</th>\n",
       "      <td>0.64</td>\n",
       "      <td>0.08</td>\n",
       "      <td>0.68</td>\n",
       "      <td>0.06</td>\n",
       "      <td>0.65</td>\n",
       "      <td>0.01</td>\n",
       "    </tr>\n",
       "    <tr>\n",
       "      <th>Бытовая техника</th>\n",
       "      <td>0.37</td>\n",
       "      <td>0.30</td>\n",
       "      <td>0.16</td>\n",
       "      <td>0.24</td>\n",
       "      <td>0.13</td>\n",
       "      <td>0.10</td>\n",
       "    </tr>\n",
       "    <tr>\n",
       "      <th>Предложение услуг</th>\n",
       "      <td>0.55</td>\n",
       "      <td>0.17</td>\n",
       "      <td>0.39</td>\n",
       "      <td>0.25</td>\n",
       "      <td>0.39</td>\n",
       "      <td>0.17</td>\n",
       "    </tr>\n",
       "    <tr>\n",
       "      <th>mean</th>\n",
       "      <td>0.60</td>\n",
       "      <td>0.18</td>\n",
       "      <td>0.50</td>\n",
       "      <td>0.14</td>\n",
       "      <td>0.49</td>\n",
       "      <td>0.10</td>\n",
       "    </tr>\n",
       "  </tbody>\n",
       "</table>\n",
       "</div>"
      ],
      "text/plain": [
       "                            precision  precision_std  recall  recall_std  \\\n",
       "Мебель и интерьер                0.60           0.24    0.36        0.13   \n",
       "Телефоны                         0.70           0.14    0.61        0.16   \n",
       "Детская одежда и обувь           0.65           0.13    0.65        0.09   \n",
       "Квартиры                         0.76           0.17    0.95        0.03   \n",
       "Автомобили                       0.67           0.21    0.78        0.15   \n",
       "Товары для детей и игрушки       0.81           0.23    0.35        0.16   \n",
       "Ремонт и строительство           0.21           0.18    0.09        0.09   \n",
       "Одежда, обувь, аксессуары        0.64           0.08    0.68        0.06   \n",
       "Бытовая техника                  0.37           0.30    0.16        0.24   \n",
       "Предложение услуг                0.55           0.17    0.39        0.25   \n",
       "mean                             0.60           0.18    0.50        0.14   \n",
       "\n",
       "                              f1  f1_std  \n",
       "Мебель и интерьер           0.40    0.10  \n",
       "Телефоны                    0.62    0.09  \n",
       "Детская одежда и обувь      0.63    0.05  \n",
       "Квартиры                    0.83    0.12  \n",
       "Автомобили                  0.68    0.13  \n",
       "Товары для детей и игрушки  0.44    0.07  \n",
       "Ремонт и строительство      0.12    0.11  \n",
       "Одежда, обувь, аксессуары   0.65    0.01  \n",
       "Бытовая техника             0.13    0.10  \n",
       "Предложение услуг           0.39    0.17  \n",
       "mean                        0.49    0.10  "
      ]
     },
     "execution_count": 12,
     "metadata": {},
     "output_type": "execute_result"
    }
   ],
   "source": [
    "metrics_nmf"
   ]
  },
  {
   "cell_type": "code",
   "execution_count": 13,
   "id": "25438a7e",
   "metadata": {},
   "outputs": [
    {
     "data": {
      "image/png": "[encoded data removed]",
      "text/plain": [
       "<Figure size 400x400 with 2 Axes>"
      ]
     },
     "metadata": {},
     "output_type": "display_data"
    }
   ],
   "source": [
    "plt.figure(figsize=(4, 4))\n",
    "sns.heatmap(errors_nmf, xticklabels=metrics_nmf.index.tolist()[:-1], \n",
    "            yticklabels=metrics_nmf.index.tolist()[:-1])\n",
    "plt.show()"
   ]
  },
  {
   "cell_type": "code",
   "execution_count": 14,
   "id": "605943e8",
   "metadata": {},
   "outputs": [
    {
     "data": {
      "text/html": [
       "<div>\n",
       "<style scoped>\n",
       "    .dataframe tbody tr th:only-of-type {\n",
       "        vertical-align: middle;\n",
       "    }\n",
       "\n",
       "    .dataframe tbody tr th {\n",
       "        vertical-align: top;\n",
       "    }\n",
       "\n",
       "    .dataframe thead th {\n",
       "        text-align: right;\n",
       "    }\n",
       "</style>\n",
       "<table border=\"1\" class=\"dataframe\">\n",
       "  <thead>\n",
       "    <tr style=\"text-align: right;\">\n",
       "      <th></th>\n",
       "      <th>precision</th>\n",
       "      <th>precision_std</th>\n",
       "      <th>recall</th>\n",
       "      <th>recall_std</th>\n",
       "      <th>f1</th>\n",
       "      <th>f1_std</th>\n",
       "    </tr>\n",
       "  </thead>\n",
       "  <tbody>\n",
       "    <tr>\n",
       "      <th>Мебель и интерьер</th>\n",
       "      <td>-0.06</td>\n",
       "      <td>0.19</td>\n",
       "      <td>-0.26</td>\n",
       "      <td>0.08</td>\n",
       "      <td>-0.24</td>\n",
       "      <td>0.06</td>\n",
       "    </tr>\n",
       "    <tr>\n",
       "      <th>Телефоны</th>\n",
       "      <td>-0.12</td>\n",
       "      <td>0.10</td>\n",
       "      <td>-0.18</td>\n",
       "      <td>0.13</td>\n",
       "      <td>-0.18</td>\n",
       "      <td>0.07</td>\n",
       "    </tr>\n",
       "    <tr>\n",
       "      <th>Детская одежда и обувь</th>\n",
       "      <td>-0.09</td>\n",
       "      <td>0.11</td>\n",
       "      <td>-0.13</td>\n",
       "      <td>0.07</td>\n",
       "      <td>-0.13</td>\n",
       "      <td>0.04</td>\n",
       "    </tr>\n",
       "    <tr>\n",
       "      <th>Квартиры</th>\n",
       "      <td>-0.19</td>\n",
       "      <td>0.16</td>\n",
       "      <td>-0.01</td>\n",
       "      <td>0.00</td>\n",
       "      <td>-0.13</td>\n",
       "      <td>0.10</td>\n",
       "    </tr>\n",
       "    <tr>\n",
       "      <th>Автомобили</th>\n",
       "      <td>-0.21</td>\n",
       "      <td>0.17</td>\n",
       "      <td>-0.12</td>\n",
       "      <td>0.13</td>\n",
       "      <td>-0.21</td>\n",
       "      <td>0.12</td>\n",
       "    </tr>\n",
       "    <tr>\n",
       "      <th>Товары для детей и игрушки</th>\n",
       "      <td>0.10</td>\n",
       "      <td>0.17</td>\n",
       "      <td>-0.29</td>\n",
       "      <td>0.12</td>\n",
       "      <td>-0.23</td>\n",
       "      <td>0.04</td>\n",
       "    </tr>\n",
       "    <tr>\n",
       "      <th>Ремонт и строительство</th>\n",
       "      <td>-0.42</td>\n",
       "      <td>0.10</td>\n",
       "      <td>-0.38</td>\n",
       "      <td>0.06</td>\n",
       "      <td>-0.41</td>\n",
       "      <td>0.08</td>\n",
       "    </tr>\n",
       "    <tr>\n",
       "      <th>Одежда, обувь, аксессуары</th>\n",
       "      <td>-0.08</td>\n",
       "      <td>0.06</td>\n",
       "      <td>-0.09</td>\n",
       "      <td>0.03</td>\n",
       "      <td>-0.09</td>\n",
       "      <td>0.00</td>\n",
       "    </tr>\n",
       "    <tr>\n",
       "      <th>Бытовая техника</th>\n",
       "      <td>-0.27</td>\n",
       "      <td>0.23</td>\n",
       "      <td>-0.37</td>\n",
       "      <td>0.20</td>\n",
       "      <td>-0.45</td>\n",
       "      <td>0.06</td>\n",
       "    </tr>\n",
       "    <tr>\n",
       "      <th>Предложение услуг</th>\n",
       "      <td>-0.24</td>\n",
       "      <td>0.14</td>\n",
       "      <td>-0.37</td>\n",
       "      <td>0.19</td>\n",
       "      <td>-0.38</td>\n",
       "      <td>0.14</td>\n",
       "    </tr>\n",
       "    <tr>\n",
       "      <th>mean</th>\n",
       "      <td>-0.15</td>\n",
       "      <td>0.14</td>\n",
       "      <td>-0.22</td>\n",
       "      <td>0.11</td>\n",
       "      <td>-0.24</td>\n",
       "      <td>0.08</td>\n",
       "    </tr>\n",
       "  </tbody>\n",
       "</table>\n",
       "</div>"
      ],
      "text/plain": [
       "                            precision  precision_std  recall  recall_std  \\\n",
       "Мебель и интерьер               -0.06           0.19   -0.26        0.08   \n",
       "Телефоны                        -0.12           0.10   -0.18        0.13   \n",
       "Детская одежда и обувь          -0.09           0.11   -0.13        0.07   \n",
       "Квартиры                        -0.19           0.16   -0.01        0.00   \n",
       "Автомобили                      -0.21           0.17   -0.12        0.13   \n",
       "Товары для детей и игрушки       0.10           0.17   -0.29        0.12   \n",
       "Ремонт и строительство          -0.42           0.10   -0.38        0.06   \n",
       "Одежда, обувь, аксессуары       -0.08           0.06   -0.09        0.03   \n",
       "Бытовая техника                 -0.27           0.23   -0.37        0.20   \n",
       "Предложение услуг               -0.24           0.14   -0.37        0.19   \n",
       "mean                            -0.15           0.14   -0.22        0.11   \n",
       "\n",
       "                              f1  f1_std  \n",
       "Мебель и интерьер          -0.24    0.06  \n",
       "Телефоны                   -0.18    0.07  \n",
       "Детская одежда и обувь     -0.13    0.04  \n",
       "Квартиры                   -0.13    0.10  \n",
       "Автомобили                 -0.21    0.12  \n",
       "Товары для детей и игрушки -0.23    0.04  \n",
       "Ремонт и строительство     -0.41    0.08  \n",
       "Одежда, обувь, аксессуары  -0.09    0.00  \n",
       "Бытовая техника            -0.45    0.06  \n",
       "Предложение услуг          -0.38    0.14  \n",
       "mean                       -0.24    0.08  "
      ]
     },
     "execution_count": 14,
     "metadata": {},
     "output_type": "execute_result"
    }
   ],
   "source": [
    "metrics_nmf - metrics_svd"
   ]
  },
  {
   "cell_type": "markdown",
   "id": "351d700a",
   "metadata": {},
   "source": [
    "SVD + SGDClassifier -- winner here."
   ]
  },
  {
   "cell_type": "markdown",
   "id": "7903fe89",
   "metadata": {},
   "source": [
    "## KNeighborsClassifier"
   ]
  },
  {
   "cell_type": "code",
   "execution_count": 15,
   "id": "0fe21347",
   "metadata": {},
   "outputs": [],
   "source": [
    "pipeline_svd = Pipeline([\n",
    "    ('cv', CountVectorizer(tokenizer=lambda x: x.split(), ngram_range=(1,2), min_df=4, max_df=0.3)),\n",
    "    ('svd', TruncatedSVD(600)),\n",
    "    ('clf', KNeighborsClassifier(weights='distance'))\n",
    "])"
   ]
  },
  {
   "cell_type": "code",
   "execution_count": 16,
   "id": "a1c6aaa7",
   "metadata": {},
   "outputs": [
    {
     "data": {
      "text/html": [
       "<div>\n",
       "<style scoped>\n",
       "    .dataframe tbody tr th:only-of-type {\n",
       "        vertical-align: middle;\n",
       "    }\n",
       "\n",
       "    .dataframe tbody tr th {\n",
       "        vertical-align: top;\n",
       "    }\n",
       "\n",
       "    .dataframe thead th {\n",
       "        text-align: right;\n",
       "    }\n",
       "</style>\n",
       "<table border=\"1\" class=\"dataframe\">\n",
       "  <thead>\n",
       "    <tr style=\"text-align: right;\">\n",
       "      <th></th>\n",
       "      <th>precision</th>\n",
       "      <th>precision_std</th>\n",
       "      <th>recall</th>\n",
       "      <th>recall_std</th>\n",
       "      <th>f1</th>\n",
       "      <th>f1_std</th>\n",
       "    </tr>\n",
       "  </thead>\n",
       "  <tbody>\n",
       "    <tr>\n",
       "      <th>Мебель и интерьер</th>\n",
       "      <td>0.39</td>\n",
       "      <td>0.05</td>\n",
       "      <td>0.30</td>\n",
       "      <td>0.05</td>\n",
       "      <td>0.33</td>\n",
       "      <td>0.05</td>\n",
       "    </tr>\n",
       "    <tr>\n",
       "      <th>Телефоны</th>\n",
       "      <td>0.65</td>\n",
       "      <td>0.07</td>\n",
       "      <td>0.39</td>\n",
       "      <td>0.07</td>\n",
       "      <td>0.49</td>\n",
       "      <td>0.07</td>\n",
       "    </tr>\n",
       "    <tr>\n",
       "      <th>Детская одежда и обувь</th>\n",
       "      <td>0.52</td>\n",
       "      <td>0.03</td>\n",
       "      <td>0.56</td>\n",
       "      <td>0.05</td>\n",
       "      <td>0.54</td>\n",
       "      <td>0.03</td>\n",
       "    </tr>\n",
       "    <tr>\n",
       "      <th>Квартиры</th>\n",
       "      <td>0.95</td>\n",
       "      <td>0.02</td>\n",
       "      <td>0.72</td>\n",
       "      <td>0.03</td>\n",
       "      <td>0.82</td>\n",
       "      <td>0.03</td>\n",
       "    </tr>\n",
       "    <tr>\n",
       "      <th>Автомобили</th>\n",
       "      <td>0.62</td>\n",
       "      <td>0.07</td>\n",
       "      <td>0.55</td>\n",
       "      <td>0.06</td>\n",
       "      <td>0.58</td>\n",
       "      <td>0.06</td>\n",
       "    </tr>\n",
       "    <tr>\n",
       "      <th>Товары для детей и игрушки</th>\n",
       "      <td>0.44</td>\n",
       "      <td>0.04</td>\n",
       "      <td>0.33</td>\n",
       "      <td>0.03</td>\n",
       "      <td>0.38</td>\n",
       "      <td>0.03</td>\n",
       "    </tr>\n",
       "    <tr>\n",
       "      <th>Ремонт и строительство</th>\n",
       "      <td>0.27</td>\n",
       "      <td>0.05</td>\n",
       "      <td>0.24</td>\n",
       "      <td>0.03</td>\n",
       "      <td>0.25</td>\n",
       "      <td>0.04</td>\n",
       "    </tr>\n",
       "    <tr>\n",
       "      <th>Одежда, обувь, аксессуары</th>\n",
       "      <td>0.48</td>\n",
       "      <td>0.02</td>\n",
       "      <td>0.63</td>\n",
       "      <td>0.04</td>\n",
       "      <td>0.54</td>\n",
       "      <td>0.03</td>\n",
       "    </tr>\n",
       "    <tr>\n",
       "      <th>Бытовая техника</th>\n",
       "      <td>0.34</td>\n",
       "      <td>0.07</td>\n",
       "      <td>0.25</td>\n",
       "      <td>0.04</td>\n",
       "      <td>0.28</td>\n",
       "      <td>0.04</td>\n",
       "    </tr>\n",
       "    <tr>\n",
       "      <th>Предложение услуг</th>\n",
       "      <td>0.58</td>\n",
       "      <td>0.04</td>\n",
       "      <td>0.65</td>\n",
       "      <td>0.05</td>\n",
       "      <td>0.61</td>\n",
       "      <td>0.04</td>\n",
       "    </tr>\n",
       "    <tr>\n",
       "      <th>mean</th>\n",
       "      <td>0.52</td>\n",
       "      <td>0.05</td>\n",
       "      <td>0.46</td>\n",
       "      <td>0.04</td>\n",
       "      <td>0.48</td>\n",
       "      <td>0.04</td>\n",
       "    </tr>\n",
       "  </tbody>\n",
       "</table>\n",
       "</div>"
      ],
      "text/plain": [
       "                            precision  precision_std  recall  recall_std  \\\n",
       "Мебель и интерьер                0.39           0.05    0.30        0.05   \n",
       "Телефоны                         0.65           0.07    0.39        0.07   \n",
       "Детская одежда и обувь           0.52           0.03    0.56        0.05   \n",
       "Квартиры                         0.95           0.02    0.72        0.03   \n",
       "Автомобили                       0.62           0.07    0.55        0.06   \n",
       "Товары для детей и игрушки       0.44           0.04    0.33        0.03   \n",
       "Ремонт и строительство           0.27           0.05    0.24        0.03   \n",
       "Одежда, обувь, аксессуары        0.48           0.02    0.63        0.04   \n",
       "Бытовая техника                  0.34           0.07    0.25        0.04   \n",
       "Предложение услуг                0.58           0.04    0.65        0.05   \n",
       "mean                             0.52           0.05    0.46        0.04   \n",
       "\n",
       "                              f1  f1_std  \n",
       "Мебель и интерьер           0.33    0.05  \n",
       "Телефоны                    0.49    0.07  \n",
       "Детская одежда и обувь      0.54    0.03  \n",
       "Квартиры                    0.82    0.03  \n",
       "Автомобили                  0.58    0.06  \n",
       "Товары для детей и игрушки  0.38    0.03  \n",
       "Ремонт и строительство      0.25    0.04  \n",
       "Одежда, обувь, аксессуары   0.54    0.03  \n",
       "Бытовая техника             0.28    0.04  \n",
       "Предложение услуг           0.61    0.04  \n",
       "mean                        0.48    0.04  "
      ]
     },
     "execution_count": 16,
     "metadata": {},
     "output_type": "execute_result"
    }
   ],
   "source": [
    "metrics_svd, errors_svd = eval_table(data['description_norm'], data['category_name'], pipeline_svd)\n",
    "metrics_svd"
   ]
  },
  {
   "cell_type": "code",
   "execution_count": 17,
   "id": "f74d95b5",
   "metadata": {},
   "outputs": [
    {
     "data": {
      "image/png": "[encoded data removed]",
      "text/plain": [
       "<Figure size 400x400 with 2 Axes>"
      ]
     },
     "metadata": {},
     "output_type": "display_data"
    }
   ],
   "source": [
    "plt.figure(figsize=(4, 4))\n",
    "sns.heatmap(errors_svd, xticklabels=metrics_svd.index.tolist()[:-1], \n",
    "            yticklabels=metrics_svd.index.tolist()[:-1])\n",
    "plt.show()"
   ]
  },
  {
   "cell_type": "code",
   "execution_count": 18,
   "id": "684551da",
   "metadata": {},
   "outputs": [],
   "source": [
    "pipeline_nmf = Pipeline([\n",
    "    ('cv', CountVectorizer(tokenizer=lambda x: x.split(), min_df=4, max_df=0.3)),\n",
    "    ('tfidf', TfidfTransformer()),\n",
    "    ('decomposition', NMF(120)),\n",
    "    ('clf', KNeighborsClassifier(weights='distance'))\n",
    "])\n"
   ]
  },
  {
   "cell_type": "code",
   "execution_count": 19,
   "id": "61222941",
   "metadata": {},
   "outputs": [],
   "source": [
    "metrics_nmf, errors_nmf = eval_table(data['description_norm'], data['category_name'], pipeline_nmf)"
   ]
  },
  {
   "cell_type": "code",
   "execution_count": 20,
   "id": "f5671581",
   "metadata": {},
   "outputs": [
    {
     "data": {
      "text/html": [
       "<div>\n",
       "<style scoped>\n",
       "    .dataframe tbody tr th:only-of-type {\n",
       "        vertical-align: middle;\n",
       "    }\n",
       "\n",
       "    .dataframe tbody tr th {\n",
       "        vertical-align: top;\n",
       "    }\n",
       "\n",
       "    .dataframe thead th {\n",
       "        text-align: right;\n",
       "    }\n",
       "</style>\n",
       "<table border=\"1\" class=\"dataframe\">\n",
       "  <thead>\n",
       "    <tr style=\"text-align: right;\">\n",
       "      <th></th>\n",
       "      <th>precision</th>\n",
       "      <th>precision_std</th>\n",
       "      <th>recall</th>\n",
       "      <th>recall_std</th>\n",
       "      <th>f1</th>\n",
       "      <th>f1_std</th>\n",
       "    </tr>\n",
       "  </thead>\n",
       "  <tbody>\n",
       "    <tr>\n",
       "      <th>Мебель и интерьер</th>\n",
       "      <td>0.38</td>\n",
       "      <td>0.06</td>\n",
       "      <td>0.31</td>\n",
       "      <td>0.04</td>\n",
       "      <td>0.34</td>\n",
       "      <td>0.04</td>\n",
       "    </tr>\n",
       "    <tr>\n",
       "      <th>Телефоны</th>\n",
       "      <td>0.53</td>\n",
       "      <td>0.08</td>\n",
       "      <td>0.41</td>\n",
       "      <td>0.10</td>\n",
       "      <td>0.46</td>\n",
       "      <td>0.09</td>\n",
       "    </tr>\n",
       "    <tr>\n",
       "      <th>Детская одежда и обувь</th>\n",
       "      <td>0.57</td>\n",
       "      <td>0.02</td>\n",
       "      <td>0.49</td>\n",
       "      <td>0.01</td>\n",
       "      <td>0.53</td>\n",
       "      <td>0.01</td>\n",
       "    </tr>\n",
       "    <tr>\n",
       "      <th>Квартиры</th>\n",
       "      <td>0.82</td>\n",
       "      <td>0.06</td>\n",
       "      <td>0.77</td>\n",
       "      <td>0.08</td>\n",
       "      <td>0.79</td>\n",
       "      <td>0.06</td>\n",
       "    </tr>\n",
       "    <tr>\n",
       "      <th>Автомобили</th>\n",
       "      <td>0.60</td>\n",
       "      <td>0.07</td>\n",
       "      <td>0.64</td>\n",
       "      <td>0.05</td>\n",
       "      <td>0.62</td>\n",
       "      <td>0.05</td>\n",
       "    </tr>\n",
       "    <tr>\n",
       "      <th>Товары для детей и игрушки</th>\n",
       "      <td>0.37</td>\n",
       "      <td>0.04</td>\n",
       "      <td>0.34</td>\n",
       "      <td>0.06</td>\n",
       "      <td>0.35</td>\n",
       "      <td>0.05</td>\n",
       "    </tr>\n",
       "    <tr>\n",
       "      <th>Ремонт и строительство</th>\n",
       "      <td>0.25</td>\n",
       "      <td>0.06</td>\n",
       "      <td>0.33</td>\n",
       "      <td>0.05</td>\n",
       "      <td>0.29</td>\n",
       "      <td>0.06</td>\n",
       "    </tr>\n",
       "    <tr>\n",
       "      <th>Одежда, обувь, аксессуары</th>\n",
       "      <td>0.53</td>\n",
       "      <td>0.02</td>\n",
       "      <td>0.56</td>\n",
       "      <td>0.03</td>\n",
       "      <td>0.55</td>\n",
       "      <td>0.02</td>\n",
       "    </tr>\n",
       "    <tr>\n",
       "      <th>Бытовая техника</th>\n",
       "      <td>0.23</td>\n",
       "      <td>0.06</td>\n",
       "      <td>0.19</td>\n",
       "      <td>0.05</td>\n",
       "      <td>0.21</td>\n",
       "      <td>0.05</td>\n",
       "    </tr>\n",
       "    <tr>\n",
       "      <th>Предложение услуг</th>\n",
       "      <td>0.43</td>\n",
       "      <td>0.03</td>\n",
       "      <td>0.68</td>\n",
       "      <td>0.05</td>\n",
       "      <td>0.52</td>\n",
       "      <td>0.03</td>\n",
       "    </tr>\n",
       "    <tr>\n",
       "      <th>mean</th>\n",
       "      <td>0.47</td>\n",
       "      <td>0.05</td>\n",
       "      <td>0.47</td>\n",
       "      <td>0.05</td>\n",
       "      <td>0.47</td>\n",
       "      <td>0.05</td>\n",
       "    </tr>\n",
       "  </tbody>\n",
       "</table>\n",
       "</div>"
      ],
      "text/plain": [
       "                            precision  precision_std  recall  recall_std  \\\n",
       "Мебель и интерьер                0.38           0.06    0.31        0.04   \n",
       "Телефоны                         0.53           0.08    0.41        0.10   \n",
       "Детская одежда и обувь           0.57           0.02    0.49        0.01   \n",
       "Квартиры                         0.82           0.06    0.77        0.08   \n",
       "Автомобили                       0.60           0.07    0.64        0.05   \n",
       "Товары для детей и игрушки       0.37           0.04    0.34        0.06   \n",
       "Ремонт и строительство           0.25           0.06    0.33        0.05   \n",
       "Одежда, обувь, аксессуары        0.53           0.02    0.56        0.03   \n",
       "Бытовая техника                  0.23           0.06    0.19        0.05   \n",
       "Предложение услуг                0.43           0.03    0.68        0.05   \n",
       "mean                             0.47           0.05    0.47        0.05   \n",
       "\n",
       "                              f1  f1_std  \n",
       "Мебель и интерьер           0.34    0.04  \n",
       "Телефоны                    0.46    0.09  \n",
       "Детская одежда и обувь      0.53    0.01  \n",
       "Квартиры                    0.79    0.06  \n",
       "Автомобили                  0.62    0.05  \n",
       "Товары для детей и игрушки  0.35    0.05  \n",
       "Ремонт и строительство      0.29    0.06  \n",
       "Одежда, обувь, аксессуары   0.55    0.02  \n",
       "Бытовая техника             0.21    0.05  \n",
       "Предложение услуг           0.52    0.03  \n",
       "mean                        0.47    0.05  "
      ]
     },
     "execution_count": 20,
     "metadata": {},
     "output_type": "execute_result"
    }
   ],
   "source": [
    "metrics_nmf"
   ]
  },
  {
   "cell_type": "code",
   "execution_count": 21,
   "id": "4050cffd",
   "metadata": {},
   "outputs": [
    {
     "data": {
      "image/png": "[encoded data removed]",
      "text/plain": [
       "<Figure size 400x400 with 2 Axes>"
      ]
     },
     "metadata": {},
     "output_type": "display_data"
    }
   ],
   "source": [
    "plt.figure(figsize=(4, 4))\n",
    "sns.heatmap(errors_nmf, xticklabels=metrics_nmf.index.tolist()[:-1], \n",
    "            yticklabels=metrics_nmf.index.tolist()[:-1])\n",
    "plt.show()"
   ]
  },
  {
   "cell_type": "code",
   "execution_count": 22,
   "id": "86e72448",
   "metadata": {},
   "outputs": [
    {
     "data": {
      "text/html": [
       "<div>\n",
       "<style scoped>\n",
       "    .dataframe tbody tr th:only-of-type {\n",
       "        vertical-align: middle;\n",
       "    }\n",
       "\n",
       "    .dataframe tbody tr th {\n",
       "        vertical-align: top;\n",
       "    }\n",
       "\n",
       "    .dataframe thead th {\n",
       "        text-align: right;\n",
       "    }\n",
       "</style>\n",
       "<table border=\"1\" class=\"dataframe\">\n",
       "  <thead>\n",
       "    <tr style=\"text-align: right;\">\n",
       "      <th></th>\n",
       "      <th>precision</th>\n",
       "      <th>precision_std</th>\n",
       "      <th>recall</th>\n",
       "      <th>recall_std</th>\n",
       "      <th>f1</th>\n",
       "      <th>f1_std</th>\n",
       "    </tr>\n",
       "  </thead>\n",
       "  <tbody>\n",
       "    <tr>\n",
       "      <th>Мебель и интерьер</th>\n",
       "      <td>-0.01</td>\n",
       "      <td>0.01</td>\n",
       "      <td>0.01</td>\n",
       "      <td>-0.01</td>\n",
       "      <td>0.01</td>\n",
       "      <td>-0.01</td>\n",
       "    </tr>\n",
       "    <tr>\n",
       "      <th>Телефоны</th>\n",
       "      <td>-0.12</td>\n",
       "      <td>0.01</td>\n",
       "      <td>0.02</td>\n",
       "      <td>0.03</td>\n",
       "      <td>-0.03</td>\n",
       "      <td>0.02</td>\n",
       "    </tr>\n",
       "    <tr>\n",
       "      <th>Детская одежда и обувь</th>\n",
       "      <td>0.05</td>\n",
       "      <td>-0.01</td>\n",
       "      <td>-0.07</td>\n",
       "      <td>-0.04</td>\n",
       "      <td>-0.01</td>\n",
       "      <td>-0.02</td>\n",
       "    </tr>\n",
       "    <tr>\n",
       "      <th>Квартиры</th>\n",
       "      <td>-0.13</td>\n",
       "      <td>0.04</td>\n",
       "      <td>0.05</td>\n",
       "      <td>0.05</td>\n",
       "      <td>-0.03</td>\n",
       "      <td>0.03</td>\n",
       "    </tr>\n",
       "    <tr>\n",
       "      <th>Автомобили</th>\n",
       "      <td>-0.02</td>\n",
       "      <td>0.00</td>\n",
       "      <td>0.09</td>\n",
       "      <td>-0.01</td>\n",
       "      <td>0.04</td>\n",
       "      <td>-0.01</td>\n",
       "    </tr>\n",
       "    <tr>\n",
       "      <th>Товары для детей и игрушки</th>\n",
       "      <td>-0.07</td>\n",
       "      <td>0.00</td>\n",
       "      <td>0.01</td>\n",
       "      <td>0.03</td>\n",
       "      <td>-0.03</td>\n",
       "      <td>0.02</td>\n",
       "    </tr>\n",
       "    <tr>\n",
       "      <th>Ремонт и строительство</th>\n",
       "      <td>-0.02</td>\n",
       "      <td>0.01</td>\n",
       "      <td>0.09</td>\n",
       "      <td>0.02</td>\n",
       "      <td>0.04</td>\n",
       "      <td>0.02</td>\n",
       "    </tr>\n",
       "    <tr>\n",
       "      <th>Одежда, обувь, аксессуары</th>\n",
       "      <td>0.05</td>\n",
       "      <td>0.00</td>\n",
       "      <td>-0.07</td>\n",
       "      <td>-0.01</td>\n",
       "      <td>0.01</td>\n",
       "      <td>-0.01</td>\n",
       "    </tr>\n",
       "    <tr>\n",
       "      <th>Бытовая техника</th>\n",
       "      <td>-0.11</td>\n",
       "      <td>-0.01</td>\n",
       "      <td>-0.06</td>\n",
       "      <td>0.01</td>\n",
       "      <td>-0.07</td>\n",
       "      <td>0.01</td>\n",
       "    </tr>\n",
       "    <tr>\n",
       "      <th>Предложение услуг</th>\n",
       "      <td>-0.15</td>\n",
       "      <td>-0.01</td>\n",
       "      <td>0.03</td>\n",
       "      <td>0.00</td>\n",
       "      <td>-0.09</td>\n",
       "      <td>-0.01</td>\n",
       "    </tr>\n",
       "    <tr>\n",
       "      <th>mean</th>\n",
       "      <td>-0.05</td>\n",
       "      <td>0.00</td>\n",
       "      <td>0.01</td>\n",
       "      <td>0.01</td>\n",
       "      <td>-0.01</td>\n",
       "      <td>0.01</td>\n",
       "    </tr>\n",
       "  </tbody>\n",
       "</table>\n",
       "</div>"
      ],
      "text/plain": [
       "                            precision  precision_std  recall  recall_std  \\\n",
       "Мебель и интерьер               -0.01           0.01    0.01       -0.01   \n",
       "Телефоны                        -0.12           0.01    0.02        0.03   \n",
       "Детская одежда и обувь           0.05          -0.01   -0.07       -0.04   \n",
       "Квартиры                        -0.13           0.04    0.05        0.05   \n",
       "Автомобили                      -0.02           0.00    0.09       -0.01   \n",
       "Товары для детей и игрушки      -0.07           0.00    0.01        0.03   \n",
       "Ремонт и строительство          -0.02           0.01    0.09        0.02   \n",
       "Одежда, обувь, аксессуары        0.05           0.00   -0.07       -0.01   \n",
       "Бытовая техника                 -0.11          -0.01   -0.06        0.01   \n",
       "Предложение услуг               -0.15          -0.01    0.03        0.00   \n",
       "mean                            -0.05           0.00    0.01        0.01   \n",
       "\n",
       "                              f1  f1_std  \n",
       "Мебель и интерьер           0.01   -0.01  \n",
       "Телефоны                   -0.03    0.02  \n",
       "Детская одежда и обувь     -0.01   -0.02  \n",
       "Квартиры                   -0.03    0.03  \n",
       "Автомобили                  0.04   -0.01  \n",
       "Товары для детей и игрушки -0.03    0.02  \n",
       "Ремонт и строительство      0.04    0.02  \n",
       "Одежда, обувь, аксессуары   0.01   -0.01  \n",
       "Бытовая техника            -0.07    0.01  \n",
       "Предложение услуг          -0.09   -0.01  \n",
       "mean                       -0.01    0.01  "
      ]
     },
     "execution_count": 22,
     "metadata": {},
     "output_type": "execute_result"
    }
   ],
   "source": [
    "metrics_nmf - metrics_svd"
   ]
  },
  {
   "cell_type": "markdown",
   "id": "f2ae220a",
   "metadata": {},
   "source": [
    "SVD + KNeighborsClassifier -- winner here."
   ]
  },
  {
   "cell_type": "markdown",
   "id": "9437584e",
   "metadata": {},
   "source": [
    "## RandomForest"
   ]
  },
  {
   "cell_type": "code",
   "execution_count": 23,
   "id": "e953efd6",
   "metadata": {},
   "outputs": [],
   "source": [
    "pipeline_svd = Pipeline([\n",
    "    ('cv', CountVectorizer(tokenizer=lambda x: x.split(), ngram_range=(1,2), min_df=5, max_df=0.4)),\n",
    "    ('svd', TruncatedSVD(500)),\n",
    "    ('clf', RandomForestClassifier(n_estimators=110, max_features='log2', max_depth=75, \n",
    "                                   criterion='log_loss', class_weight='balanced_subsample'))\n",
    "])"
   ]
  },
  {
   "cell_type": "code",
   "execution_count": 24,
   "id": "60cdda32",
   "metadata": {},
   "outputs": [
    {
     "data": {
      "text/html": [
       "<div>\n",
       "<style scoped>\n",
       "    .dataframe tbody tr th:only-of-type {\n",
       "        vertical-align: middle;\n",
       "    }\n",
       "\n",
       "    .dataframe tbody tr th {\n",
       "        vertical-align: top;\n",
       "    }\n",
       "\n",
       "    .dataframe thead th {\n",
       "        text-align: right;\n",
       "    }\n",
       "</style>\n",
       "<table border=\"1\" class=\"dataframe\">\n",
       "  <thead>\n",
       "    <tr style=\"text-align: right;\">\n",
       "      <th></th>\n",
       "      <th>precision</th>\n",
       "      <th>precision_std</th>\n",
       "      <th>recall</th>\n",
       "      <th>recall_std</th>\n",
       "      <th>f1</th>\n",
       "      <th>f1_std</th>\n",
       "    </tr>\n",
       "  </thead>\n",
       "  <tbody>\n",
       "    <tr>\n",
       "      <th>Мебель и интерьер</th>\n",
       "      <td>0.68</td>\n",
       "      <td>0.24</td>\n",
       "      <td>0.08</td>\n",
       "      <td>0.03</td>\n",
       "      <td>0.15</td>\n",
       "      <td>0.05</td>\n",
       "    </tr>\n",
       "    <tr>\n",
       "      <th>Телефоны</th>\n",
       "      <td>0.87</td>\n",
       "      <td>0.06</td>\n",
       "      <td>0.28</td>\n",
       "      <td>0.04</td>\n",
       "      <td>0.43</td>\n",
       "      <td>0.05</td>\n",
       "    </tr>\n",
       "    <tr>\n",
       "      <th>Детская одежда и обувь</th>\n",
       "      <td>0.41</td>\n",
       "      <td>0.02</td>\n",
       "      <td>0.67</td>\n",
       "      <td>0.02</td>\n",
       "      <td>0.51</td>\n",
       "      <td>0.01</td>\n",
       "    </tr>\n",
       "    <tr>\n",
       "      <th>Квартиры</th>\n",
       "      <td>0.86</td>\n",
       "      <td>0.03</td>\n",
       "      <td>0.83</td>\n",
       "      <td>0.04</td>\n",
       "      <td>0.84</td>\n",
       "      <td>0.03</td>\n",
       "    </tr>\n",
       "    <tr>\n",
       "      <th>Автомобили</th>\n",
       "      <td>0.82</td>\n",
       "      <td>0.08</td>\n",
       "      <td>0.49</td>\n",
       "      <td>0.07</td>\n",
       "      <td>0.61</td>\n",
       "      <td>0.07</td>\n",
       "    </tr>\n",
       "    <tr>\n",
       "      <th>Товары для детей и игрушки</th>\n",
       "      <td>0.58</td>\n",
       "      <td>0.08</td>\n",
       "      <td>0.13</td>\n",
       "      <td>0.02</td>\n",
       "      <td>0.21</td>\n",
       "      <td>0.03</td>\n",
       "    </tr>\n",
       "    <tr>\n",
       "      <th>Ремонт и строительство</th>\n",
       "      <td>0.59</td>\n",
       "      <td>0.16</td>\n",
       "      <td>0.09</td>\n",
       "      <td>0.02</td>\n",
       "      <td>0.15</td>\n",
       "      <td>0.03</td>\n",
       "    </tr>\n",
       "    <tr>\n",
       "      <th>Одежда, обувь, аксессуары</th>\n",
       "      <td>0.44</td>\n",
       "      <td>0.01</td>\n",
       "      <td>0.70</td>\n",
       "      <td>0.03</td>\n",
       "      <td>0.54</td>\n",
       "      <td>0.01</td>\n",
       "    </tr>\n",
       "    <tr>\n",
       "      <th>Бытовая техника</th>\n",
       "      <td>0.52</td>\n",
       "      <td>0.22</td>\n",
       "      <td>0.12</td>\n",
       "      <td>0.05</td>\n",
       "      <td>0.19</td>\n",
       "      <td>0.07</td>\n",
       "    </tr>\n",
       "    <tr>\n",
       "      <th>Предложение услуг</th>\n",
       "      <td>0.84</td>\n",
       "      <td>0.11</td>\n",
       "      <td>0.32</td>\n",
       "      <td>0.06</td>\n",
       "      <td>0.47</td>\n",
       "      <td>0.08</td>\n",
       "    </tr>\n",
       "    <tr>\n",
       "      <th>mean</th>\n",
       "      <td>0.66</td>\n",
       "      <td>0.10</td>\n",
       "      <td>0.37</td>\n",
       "      <td>0.04</td>\n",
       "      <td>0.41</td>\n",
       "      <td>0.04</td>\n",
       "    </tr>\n",
       "  </tbody>\n",
       "</table>\n",
       "</div>"
      ],
      "text/plain": [
       "                            precision  precision_std  recall  recall_std  \\\n",
       "Мебель и интерьер                0.68           0.24    0.08        0.03   \n",
       "Телефоны                         0.87           0.06    0.28        0.04   \n",
       "Детская одежда и обувь           0.41           0.02    0.67        0.02   \n",
       "Квартиры                         0.86           0.03    0.83        0.04   \n",
       "Автомобили                       0.82           0.08    0.49        0.07   \n",
       "Товары для детей и игрушки       0.58           0.08    0.13        0.02   \n",
       "Ремонт и строительство           0.59           0.16    0.09        0.02   \n",
       "Одежда, обувь, аксессуары        0.44           0.01    0.70        0.03   \n",
       "Бытовая техника                  0.52           0.22    0.12        0.05   \n",
       "Предложение услуг                0.84           0.11    0.32        0.06   \n",
       "mean                             0.66           0.10    0.37        0.04   \n",
       "\n",
       "                              f1  f1_std  \n",
       "Мебель и интерьер           0.15    0.05  \n",
       "Телефоны                    0.43    0.05  \n",
       "Детская одежда и обувь      0.51    0.01  \n",
       "Квартиры                    0.84    0.03  \n",
       "Автомобили                  0.61    0.07  \n",
       "Товары для детей и игрушки  0.21    0.03  \n",
       "Ремонт и строительство      0.15    0.03  \n",
       "Одежда, обувь, аксессуары   0.54    0.01  \n",
       "Бытовая техника             0.19    0.07  \n",
       "Предложение услуг           0.47    0.08  \n",
       "mean                        0.41    0.04  "
      ]
     },
     "execution_count": 24,
     "metadata": {},
     "output_type": "execute_result"
    }
   ],
   "source": [
    "metrics_svd, errors_svd = eval_table(data['description_norm'], data['category_name'], pipeline_svd)\n",
    "metrics_svd"
   ]
  },
  {
   "cell_type": "code",
   "execution_count": 25,
   "id": "51ba19e2",
   "metadata": {},
   "outputs": [
    {
     "data": {
      "image/png": "[encoded data removed]",
      "text/plain": [
       "<Figure size 400x400 with 2 Axes>"
      ]
     },
     "metadata": {},
     "output_type": "display_data"
    }
   ],
   "source": [
    "plt.figure(figsize=(4, 4))\n",
    "sns.heatmap(errors_svd, xticklabels=metrics_svd.index.tolist()[:-1], \n",
    "            yticklabels=metrics_svd.index.tolist()[:-1])\n",
    "plt.show()"
   ]
  },
  {
   "cell_type": "code",
   "execution_count": 26,
   "id": "b6252cdf",
   "metadata": {},
   "outputs": [],
   "source": [
    "pipeline_nmf = Pipeline([\n",
    "    ('cv', CountVectorizer(tokenizer=lambda x: x.split(), min_df=3, max_df=0.3)),\n",
    "    ('tfidf', TfidfTransformer()),\n",
    "    ('decomposition', NMF(100)),\n",
    "    ('clf', RandomForestClassifier(n_estimators=110, max_features='log2', max_depth=75, \n",
    "                                   criterion='log_loss', class_weight='balanced_subsample'))\n",
    "])\n"
   ]
  },
  {
   "cell_type": "code",
   "execution_count": 27,
   "id": "665c3ba1",
   "metadata": {},
   "outputs": [],
   "source": [
    "metrics_nmf, errors_nmf = eval_table(data['description_norm'], data['category_name'], pipeline_nmf)"
   ]
  },
  {
   "cell_type": "code",
   "execution_count": 28,
   "id": "48d49168",
   "metadata": {},
   "outputs": [
    {
     "data": {
      "text/html": [
       "<div>\n",
       "<style scoped>\n",
       "    .dataframe tbody tr th:only-of-type {\n",
       "        vertical-align: middle;\n",
       "    }\n",
       "\n",
       "    .dataframe tbody tr th {\n",
       "        vertical-align: top;\n",
       "    }\n",
       "\n",
       "    .dataframe thead th {\n",
       "        text-align: right;\n",
       "    }\n",
       "</style>\n",
       "<table border=\"1\" class=\"dataframe\">\n",
       "  <thead>\n",
       "    <tr style=\"text-align: right;\">\n",
       "      <th></th>\n",
       "      <th>precision</th>\n",
       "      <th>precision_std</th>\n",
       "      <th>recall</th>\n",
       "      <th>recall_std</th>\n",
       "      <th>f1</th>\n",
       "      <th>f1_std</th>\n",
       "    </tr>\n",
       "  </thead>\n",
       "  <tbody>\n",
       "    <tr>\n",
       "      <th>Мебель и интерьер</th>\n",
       "      <td>0.69</td>\n",
       "      <td>0.05</td>\n",
       "      <td>0.54</td>\n",
       "      <td>0.06</td>\n",
       "      <td>0.60</td>\n",
       "      <td>0.05</td>\n",
       "    </tr>\n",
       "    <tr>\n",
       "      <th>Телефоны</th>\n",
       "      <td>0.77</td>\n",
       "      <td>0.03</td>\n",
       "      <td>0.77</td>\n",
       "      <td>0.03</td>\n",
       "      <td>0.77</td>\n",
       "      <td>0.02</td>\n",
       "    </tr>\n",
       "    <tr>\n",
       "      <th>Детская одежда и обувь</th>\n",
       "      <td>0.71</td>\n",
       "      <td>0.02</td>\n",
       "      <td>0.75</td>\n",
       "      <td>0.02</td>\n",
       "      <td>0.73</td>\n",
       "      <td>0.01</td>\n",
       "    </tr>\n",
       "    <tr>\n",
       "      <th>Квартиры</th>\n",
       "      <td>0.90</td>\n",
       "      <td>0.02</td>\n",
       "      <td>0.96</td>\n",
       "      <td>0.02</td>\n",
       "      <td>0.93</td>\n",
       "      <td>0.02</td>\n",
       "    </tr>\n",
       "    <tr>\n",
       "      <th>Автомобили</th>\n",
       "      <td>0.81</td>\n",
       "      <td>0.04</td>\n",
       "      <td>0.89</td>\n",
       "      <td>0.02</td>\n",
       "      <td>0.85</td>\n",
       "      <td>0.02</td>\n",
       "    </tr>\n",
       "    <tr>\n",
       "      <th>Товары для детей и игрушки</th>\n",
       "      <td>0.74</td>\n",
       "      <td>0.03</td>\n",
       "      <td>0.60</td>\n",
       "      <td>0.03</td>\n",
       "      <td>0.66</td>\n",
       "      <td>0.03</td>\n",
       "    </tr>\n",
       "    <tr>\n",
       "      <th>Ремонт и строительство</th>\n",
       "      <td>0.63</td>\n",
       "      <td>0.07</td>\n",
       "      <td>0.43</td>\n",
       "      <td>0.05</td>\n",
       "      <td>0.51</td>\n",
       "      <td>0.06</td>\n",
       "    </tr>\n",
       "    <tr>\n",
       "      <th>Одежда, обувь, аксессуары</th>\n",
       "      <td>0.68</td>\n",
       "      <td>0.01</td>\n",
       "      <td>0.77</td>\n",
       "      <td>0.01</td>\n",
       "      <td>0.72</td>\n",
       "      <td>0.00</td>\n",
       "    </tr>\n",
       "    <tr>\n",
       "      <th>Бытовая техника</th>\n",
       "      <td>0.70</td>\n",
       "      <td>0.11</td>\n",
       "      <td>0.35</td>\n",
       "      <td>0.07</td>\n",
       "      <td>0.46</td>\n",
       "      <td>0.08</td>\n",
       "    </tr>\n",
       "    <tr>\n",
       "      <th>Предложение услуг</th>\n",
       "      <td>0.69</td>\n",
       "      <td>0.06</td>\n",
       "      <td>0.70</td>\n",
       "      <td>0.04</td>\n",
       "      <td>0.70</td>\n",
       "      <td>0.05</td>\n",
       "    </tr>\n",
       "    <tr>\n",
       "      <th>mean</th>\n",
       "      <td>0.73</td>\n",
       "      <td>0.04</td>\n",
       "      <td>0.68</td>\n",
       "      <td>0.04</td>\n",
       "      <td>0.69</td>\n",
       "      <td>0.03</td>\n",
       "    </tr>\n",
       "  </tbody>\n",
       "</table>\n",
       "</div>"
      ],
      "text/plain": [
       "                            precision  precision_std  recall  recall_std  \\\n",
       "Мебель и интерьер                0.69           0.05    0.54        0.06   \n",
       "Телефоны                         0.77           0.03    0.77        0.03   \n",
       "Детская одежда и обувь           0.71           0.02    0.75        0.02   \n",
       "Квартиры                         0.90           0.02    0.96        0.02   \n",
       "Автомобили                       0.81           0.04    0.89        0.02   \n",
       "Товары для детей и игрушки       0.74           0.03    0.60        0.03   \n",
       "Ремонт и строительство           0.63           0.07    0.43        0.05   \n",
       "Одежда, обувь, аксессуары        0.68           0.01    0.77        0.01   \n",
       "Бытовая техника                  0.70           0.11    0.35        0.07   \n",
       "Предложение услуг                0.69           0.06    0.70        0.04   \n",
       "mean                             0.73           0.04    0.68        0.04   \n",
       "\n",
       "                              f1  f1_std  \n",
       "Мебель и интерьер           0.60    0.05  \n",
       "Телефоны                    0.77    0.02  \n",
       "Детская одежда и обувь      0.73    0.01  \n",
       "Квартиры                    0.93    0.02  \n",
       "Автомобили                  0.85    0.02  \n",
       "Товары для детей и игрушки  0.66    0.03  \n",
       "Ремонт и строительство      0.51    0.06  \n",
       "Одежда, обувь, аксессуары   0.72    0.00  \n",
       "Бытовая техника             0.46    0.08  \n",
       "Предложение услуг           0.70    0.05  \n",
       "mean                        0.69    0.03  "
      ]
     },
     "execution_count": 28,
     "metadata": {},
     "output_type": "execute_result"
    }
   ],
   "source": [
    "metrics_nmf"
   ]
  },
  {
   "cell_type": "code",
   "execution_count": 29,
   "id": "8e159afc",
   "metadata": {},
   "outputs": [
    {
     "data": {
      "image/png": "[encoded data removed]",
      "text/plain": [
       "<Figure size 400x400 with 2 Axes>"
      ]
     },
     "metadata": {},
     "output_type": "display_data"
    }
   ],
   "source": [
    "plt.figure(figsize=(4, 4))\n",
    "sns.heatmap(errors_nmf, xticklabels=metrics_nmf.index.tolist()[:-1], \n",
    "            yticklabels=metrics_nmf.index.tolist()[:-1])\n",
    "plt.show()"
   ]
  },
  {
   "cell_type": "code",
   "execution_count": 30,
   "id": "addae635",
   "metadata": {},
   "outputs": [
    {
     "data": {
      "text/html": [
       "<div>\n",
       "<style scoped>\n",
       "    .dataframe tbody tr th:only-of-type {\n",
       "        vertical-align: middle;\n",
       "    }\n",
       "\n",
       "    .dataframe tbody tr th {\n",
       "        vertical-align: top;\n",
       "    }\n",
       "\n",
       "    .dataframe thead th {\n",
       "        text-align: right;\n",
       "    }\n",
       "</style>\n",
       "<table border=\"1\" class=\"dataframe\">\n",
       "  <thead>\n",
       "    <tr style=\"text-align: right;\">\n",
       "      <th></th>\n",
       "      <th>precision</th>\n",
       "      <th>precision_std</th>\n",
       "      <th>recall</th>\n",
       "      <th>recall_std</th>\n",
       "      <th>f1</th>\n",
       "      <th>f1_std</th>\n",
       "    </tr>\n",
       "  </thead>\n",
       "  <tbody>\n",
       "    <tr>\n",
       "      <th>Мебель и интерьер</th>\n",
       "      <td>0.01</td>\n",
       "      <td>-0.19</td>\n",
       "      <td>0.46</td>\n",
       "      <td>0.03</td>\n",
       "      <td>0.45</td>\n",
       "      <td>0.00</td>\n",
       "    </tr>\n",
       "    <tr>\n",
       "      <th>Телефоны</th>\n",
       "      <td>-0.10</td>\n",
       "      <td>-0.03</td>\n",
       "      <td>0.49</td>\n",
       "      <td>-0.01</td>\n",
       "      <td>0.34</td>\n",
       "      <td>-0.03</td>\n",
       "    </tr>\n",
       "    <tr>\n",
       "      <th>Детская одежда и обувь</th>\n",
       "      <td>0.30</td>\n",
       "      <td>0.00</td>\n",
       "      <td>0.08</td>\n",
       "      <td>0.00</td>\n",
       "      <td>0.22</td>\n",
       "      <td>0.00</td>\n",
       "    </tr>\n",
       "    <tr>\n",
       "      <th>Квартиры</th>\n",
       "      <td>0.04</td>\n",
       "      <td>-0.01</td>\n",
       "      <td>0.13</td>\n",
       "      <td>-0.02</td>\n",
       "      <td>0.09</td>\n",
       "      <td>-0.01</td>\n",
       "    </tr>\n",
       "    <tr>\n",
       "      <th>Автомобили</th>\n",
       "      <td>-0.01</td>\n",
       "      <td>-0.04</td>\n",
       "      <td>0.40</td>\n",
       "      <td>-0.05</td>\n",
       "      <td>0.24</td>\n",
       "      <td>-0.05</td>\n",
       "    </tr>\n",
       "    <tr>\n",
       "      <th>Товары для детей и игрушки</th>\n",
       "      <td>0.16</td>\n",
       "      <td>-0.05</td>\n",
       "      <td>0.47</td>\n",
       "      <td>0.01</td>\n",
       "      <td>0.45</td>\n",
       "      <td>0.00</td>\n",
       "    </tr>\n",
       "    <tr>\n",
       "      <th>Ремонт и строительство</th>\n",
       "      <td>0.04</td>\n",
       "      <td>-0.09</td>\n",
       "      <td>0.34</td>\n",
       "      <td>0.03</td>\n",
       "      <td>0.36</td>\n",
       "      <td>0.03</td>\n",
       "    </tr>\n",
       "    <tr>\n",
       "      <th>Одежда, обувь, аксессуары</th>\n",
       "      <td>0.24</td>\n",
       "      <td>0.00</td>\n",
       "      <td>0.07</td>\n",
       "      <td>-0.02</td>\n",
       "      <td>0.18</td>\n",
       "      <td>-0.01</td>\n",
       "    </tr>\n",
       "    <tr>\n",
       "      <th>Бытовая техника</th>\n",
       "      <td>0.18</td>\n",
       "      <td>-0.11</td>\n",
       "      <td>0.23</td>\n",
       "      <td>0.02</td>\n",
       "      <td>0.27</td>\n",
       "      <td>0.01</td>\n",
       "    </tr>\n",
       "    <tr>\n",
       "      <th>Предложение услуг</th>\n",
       "      <td>-0.15</td>\n",
       "      <td>-0.05</td>\n",
       "      <td>0.38</td>\n",
       "      <td>-0.02</td>\n",
       "      <td>0.23</td>\n",
       "      <td>-0.03</td>\n",
       "    </tr>\n",
       "    <tr>\n",
       "      <th>mean</th>\n",
       "      <td>0.07</td>\n",
       "      <td>-0.06</td>\n",
       "      <td>0.31</td>\n",
       "      <td>0.00</td>\n",
       "      <td>0.28</td>\n",
       "      <td>-0.01</td>\n",
       "    </tr>\n",
       "  </tbody>\n",
       "</table>\n",
       "</div>"
      ],
      "text/plain": [
       "                            precision  precision_std  recall  recall_std  \\\n",
       "Мебель и интерьер                0.01          -0.19    0.46        0.03   \n",
       "Телефоны                        -0.10          -0.03    0.49       -0.01   \n",
       "Детская одежда и обувь           0.30           0.00    0.08        0.00   \n",
       "Квартиры                         0.04          -0.01    0.13       -0.02   \n",
       "Автомобили                      -0.01          -0.04    0.40       -0.05   \n",
       "Товары для детей и игрушки       0.16          -0.05    0.47        0.01   \n",
       "Ремонт и строительство           0.04          -0.09    0.34        0.03   \n",
       "Одежда, обувь, аксессуары        0.24           0.00    0.07       -0.02   \n",
       "Бытовая техника                  0.18          -0.11    0.23        0.02   \n",
       "Предложение услуг               -0.15          -0.05    0.38       -0.02   \n",
       "mean                             0.07          -0.06    0.31        0.00   \n",
       "\n",
       "                              f1  f1_std  \n",
       "Мебель и интерьер           0.45    0.00  \n",
       "Телефоны                    0.34   -0.03  \n",
       "Детская одежда и обувь      0.22    0.00  \n",
       "Квартиры                    0.09   -0.01  \n",
       "Автомобили                  0.24   -0.05  \n",
       "Товары для детей и игрушки  0.45    0.00  \n",
       "Ремонт и строительство      0.36    0.03  \n",
       "Одежда, обувь, аксессуары   0.18   -0.01  \n",
       "Бытовая техника             0.27    0.01  \n",
       "Предложение услуг           0.23   -0.03  \n",
       "mean                        0.28   -0.01  "
      ]
     },
     "execution_count": 30,
     "metadata": {},
     "output_type": "execute_result"
    }
   ],
   "source": [
    "metrics_nmf - metrics_svd"
   ]
  },
  {
   "cell_type": "markdown",
   "id": "22300ffa",
   "metadata": {},
   "source": [
    "NMF + RandomForest -- winner here."
   ]
  },
  {
   "cell_type": "markdown",
   "id": "10fd23aa",
   "metadata": {},
   "source": [
    "## ExtraTreesClassifier"
   ]
  },
  {
   "cell_type": "code",
   "execution_count": 31,
   "id": "a5a21792",
   "metadata": {},
   "outputs": [],
   "source": [
    "pipeline_svd = Pipeline([\n",
    "    ('cv', CountVectorizer(tokenizer=lambda x: x.split(), ngram_range=(1,2), min_df=5, max_df=0.4)),\n",
    "    ('svd', TruncatedSVD(500)),\n",
    "    ('clf', ExtraTreesClassifier(max_features='log2', criterion='log_loss', class_weight='balanced_subsample'))\n",
    "])"
   ]
  },
  {
   "cell_type": "code",
   "execution_count": 32,
   "id": "61ebcaed",
   "metadata": {},
   "outputs": [
    {
     "data": {
      "text/html": [
       "<div>\n",
       "<style scoped>\n",
       "    .dataframe tbody tr th:only-of-type {\n",
       "        vertical-align: middle;\n",
       "    }\n",
       "\n",
       "    .dataframe tbody tr th {\n",
       "        vertical-align: top;\n",
       "    }\n",
       "\n",
       "    .dataframe thead th {\n",
       "        text-align: right;\n",
       "    }\n",
       "</style>\n",
       "<table border=\"1\" class=\"dataframe\">\n",
       "  <thead>\n",
       "    <tr style=\"text-align: right;\">\n",
       "      <th></th>\n",
       "      <th>precision</th>\n",
       "      <th>precision_std</th>\n",
       "      <th>recall</th>\n",
       "      <th>recall_std</th>\n",
       "      <th>f1</th>\n",
       "      <th>f1_std</th>\n",
       "    </tr>\n",
       "  </thead>\n",
       "  <tbody>\n",
       "    <tr>\n",
       "      <th>Мебель и интерьер</th>\n",
       "      <td>0.59</td>\n",
       "      <td>0.18</td>\n",
       "      <td>0.09</td>\n",
       "      <td>0.04</td>\n",
       "      <td>0.16</td>\n",
       "      <td>0.06</td>\n",
       "    </tr>\n",
       "    <tr>\n",
       "      <th>Телефоны</th>\n",
       "      <td>0.80</td>\n",
       "      <td>0.09</td>\n",
       "      <td>0.18</td>\n",
       "      <td>0.05</td>\n",
       "      <td>0.29</td>\n",
       "      <td>0.07</td>\n",
       "    </tr>\n",
       "    <tr>\n",
       "      <th>Детская одежда и обувь</th>\n",
       "      <td>0.39</td>\n",
       "      <td>0.00</td>\n",
       "      <td>0.67</td>\n",
       "      <td>0.01</td>\n",
       "      <td>0.49</td>\n",
       "      <td>0.00</td>\n",
       "    </tr>\n",
       "    <tr>\n",
       "      <th>Квартиры</th>\n",
       "      <td>0.65</td>\n",
       "      <td>0.06</td>\n",
       "      <td>0.54</td>\n",
       "      <td>0.05</td>\n",
       "      <td>0.59</td>\n",
       "      <td>0.05</td>\n",
       "    </tr>\n",
       "    <tr>\n",
       "      <th>Автомобили</th>\n",
       "      <td>0.74</td>\n",
       "      <td>0.09</td>\n",
       "      <td>0.21</td>\n",
       "      <td>0.02</td>\n",
       "      <td>0.32</td>\n",
       "      <td>0.03</td>\n",
       "    </tr>\n",
       "    <tr>\n",
       "      <th>Товары для детей и игрушки</th>\n",
       "      <td>0.51</td>\n",
       "      <td>0.06</td>\n",
       "      <td>0.10</td>\n",
       "      <td>0.01</td>\n",
       "      <td>0.17</td>\n",
       "      <td>0.02</td>\n",
       "    </tr>\n",
       "    <tr>\n",
       "      <th>Ремонт и строительство</th>\n",
       "      <td>0.57</td>\n",
       "      <td>0.17</td>\n",
       "      <td>0.08</td>\n",
       "      <td>0.02</td>\n",
       "      <td>0.14</td>\n",
       "      <td>0.04</td>\n",
       "    </tr>\n",
       "    <tr>\n",
       "      <th>Одежда, обувь, аксессуары</th>\n",
       "      <td>0.40</td>\n",
       "      <td>0.01</td>\n",
       "      <td>0.68</td>\n",
       "      <td>0.02</td>\n",
       "      <td>0.50</td>\n",
       "      <td>0.01</td>\n",
       "    </tr>\n",
       "    <tr>\n",
       "      <th>Бытовая техника</th>\n",
       "      <td>0.44</td>\n",
       "      <td>0.22</td>\n",
       "      <td>0.15</td>\n",
       "      <td>0.05</td>\n",
       "      <td>0.22</td>\n",
       "      <td>0.07</td>\n",
       "    </tr>\n",
       "    <tr>\n",
       "      <th>Предложение услуг</th>\n",
       "      <td>0.76</td>\n",
       "      <td>0.17</td>\n",
       "      <td>0.13</td>\n",
       "      <td>0.04</td>\n",
       "      <td>0.23</td>\n",
       "      <td>0.06</td>\n",
       "    </tr>\n",
       "    <tr>\n",
       "      <th>mean</th>\n",
       "      <td>0.59</td>\n",
       "      <td>0.11</td>\n",
       "      <td>0.28</td>\n",
       "      <td>0.03</td>\n",
       "      <td>0.31</td>\n",
       "      <td>0.04</td>\n",
       "    </tr>\n",
       "  </tbody>\n",
       "</table>\n",
       "</div>"
      ],
      "text/plain": [
       "                            precision  precision_std  recall  recall_std  \\\n",
       "Мебель и интерьер                0.59           0.18    0.09        0.04   \n",
       "Телефоны                         0.80           0.09    0.18        0.05   \n",
       "Детская одежда и обувь           0.39           0.00    0.67        0.01   \n",
       "Квартиры                         0.65           0.06    0.54        0.05   \n",
       "Автомобили                       0.74           0.09    0.21        0.02   \n",
       "Товары для детей и игрушки       0.51           0.06    0.10        0.01   \n",
       "Ремонт и строительство           0.57           0.17    0.08        0.02   \n",
       "Одежда, обувь, аксессуары        0.40           0.01    0.68        0.02   \n",
       "Бытовая техника                  0.44           0.22    0.15        0.05   \n",
       "Предложение услуг                0.76           0.17    0.13        0.04   \n",
       "mean                             0.59           0.11    0.28        0.03   \n",
       "\n",
       "                              f1  f1_std  \n",
       "Мебель и интерьер           0.16    0.06  \n",
       "Телефоны                    0.29    0.07  \n",
       "Детская одежда и обувь      0.49    0.00  \n",
       "Квартиры                    0.59    0.05  \n",
       "Автомобили                  0.32    0.03  \n",
       "Товары для детей и игрушки  0.17    0.02  \n",
       "Ремонт и строительство      0.14    0.04  \n",
       "Одежда, обувь, аксессуары   0.50    0.01  \n",
       "Бытовая техника             0.22    0.07  \n",
       "Предложение услуг           0.23    0.06  \n",
       "mean                        0.31    0.04  "
      ]
     },
     "execution_count": 32,
     "metadata": {},
     "output_type": "execute_result"
    }
   ],
   "source": [
    "metrics_svd, errors_svd = eval_table(data['description_norm'], data['category_name'], pipeline_svd)\n",
    "metrics_svd"
   ]
  },
  {
   "cell_type": "code",
   "execution_count": 33,
   "id": "78c7eec8",
   "metadata": {},
   "outputs": [
    {
     "data": {
      "image/png": "[encoded data removed]",
      "text/plain": [
       "<Figure size 400x400 with 2 Axes>"
      ]
     },
     "metadata": {},
     "output_type": "display_data"
    }
   ],
   "source": [
    "plt.figure(figsize=(4, 4))\n",
    "sns.heatmap(errors_svd, xticklabels=metrics_svd.index.tolist()[:-1], \n",
    "            yticklabels=metrics_svd.index.tolist()[:-1])\n",
    "plt.show()"
   ]
  },
  {
   "cell_type": "code",
   "execution_count": 34,
   "id": "263ccbe4",
   "metadata": {},
   "outputs": [],
   "source": [
    "pipeline_nmf = Pipeline([\n",
    "    ('cv', CountVectorizer(tokenizer=lambda x: x.split(), min_df=3, max_df=0.3)),\n",
    "    ('tfidf', TfidfTransformer()),\n",
    "    ('decomposition', NMF(100)),\n",
    "    ('clf', ExtraTreesClassifier(max_features='log2', criterion='log_loss', class_weight='balanced_subsample'))\n",
    "])\n"
   ]
  },
  {
   "cell_type": "code",
   "execution_count": 35,
   "id": "b6cb0970",
   "metadata": {},
   "outputs": [],
   "source": [
    "metrics_nmf, errors_nmf = eval_table(data['description_norm'], data['category_name'], pipeline_nmf)"
   ]
  },
  {
   "cell_type": "code",
   "execution_count": 36,
   "id": "d951fc72",
   "metadata": {},
   "outputs": [
    {
     "data": {
      "text/html": [
       "<div>\n",
       "<style scoped>\n",
       "    .dataframe tbody tr th:only-of-type {\n",
       "        vertical-align: middle;\n",
       "    }\n",
       "\n",
       "    .dataframe tbody tr th {\n",
       "        vertical-align: top;\n",
       "    }\n",
       "\n",
       "    .dataframe thead th {\n",
       "        text-align: right;\n",
       "    }\n",
       "</style>\n",
       "<table border=\"1\" class=\"dataframe\">\n",
       "  <thead>\n",
       "    <tr style=\"text-align: right;\">\n",
       "      <th></th>\n",
       "      <th>precision</th>\n",
       "      <th>precision_std</th>\n",
       "      <th>recall</th>\n",
       "      <th>recall_std</th>\n",
       "      <th>f1</th>\n",
       "      <th>f1_std</th>\n",
       "    </tr>\n",
       "  </thead>\n",
       "  <tbody>\n",
       "    <tr>\n",
       "      <th>Мебель и интерьер</th>\n",
       "      <td>0.71</td>\n",
       "      <td>0.07</td>\n",
       "      <td>0.54</td>\n",
       "      <td>0.04</td>\n",
       "      <td>0.61</td>\n",
       "      <td>0.04</td>\n",
       "    </tr>\n",
       "    <tr>\n",
       "      <th>Телефоны</th>\n",
       "      <td>0.77</td>\n",
       "      <td>0.05</td>\n",
       "      <td>0.76</td>\n",
       "      <td>0.04</td>\n",
       "      <td>0.76</td>\n",
       "      <td>0.03</td>\n",
       "    </tr>\n",
       "    <tr>\n",
       "      <th>Детская одежда и обувь</th>\n",
       "      <td>0.72</td>\n",
       "      <td>0.03</td>\n",
       "      <td>0.75</td>\n",
       "      <td>0.02</td>\n",
       "      <td>0.73</td>\n",
       "      <td>0.02</td>\n",
       "    </tr>\n",
       "    <tr>\n",
       "      <th>Квартиры</th>\n",
       "      <td>0.91</td>\n",
       "      <td>0.03</td>\n",
       "      <td>0.97</td>\n",
       "      <td>0.01</td>\n",
       "      <td>0.94</td>\n",
       "      <td>0.02</td>\n",
       "    </tr>\n",
       "    <tr>\n",
       "      <th>Автомобили</th>\n",
       "      <td>0.86</td>\n",
       "      <td>0.03</td>\n",
       "      <td>0.88</td>\n",
       "      <td>0.04</td>\n",
       "      <td>0.87</td>\n",
       "      <td>0.03</td>\n",
       "    </tr>\n",
       "    <tr>\n",
       "      <th>Товары для детей и игрушки</th>\n",
       "      <td>0.73</td>\n",
       "      <td>0.04</td>\n",
       "      <td>0.55</td>\n",
       "      <td>0.02</td>\n",
       "      <td>0.62</td>\n",
       "      <td>0.02</td>\n",
       "    </tr>\n",
       "    <tr>\n",
       "      <th>Ремонт и строительство</th>\n",
       "      <td>0.63</td>\n",
       "      <td>0.07</td>\n",
       "      <td>0.42</td>\n",
       "      <td>0.06</td>\n",
       "      <td>0.50</td>\n",
       "      <td>0.06</td>\n",
       "    </tr>\n",
       "    <tr>\n",
       "      <th>Одежда, обувь, аксессуары</th>\n",
       "      <td>0.66</td>\n",
       "      <td>0.02</td>\n",
       "      <td>0.80</td>\n",
       "      <td>0.03</td>\n",
       "      <td>0.72</td>\n",
       "      <td>0.01</td>\n",
       "    </tr>\n",
       "    <tr>\n",
       "      <th>Бытовая техника</th>\n",
       "      <td>0.67</td>\n",
       "      <td>0.08</td>\n",
       "      <td>0.35</td>\n",
       "      <td>0.06</td>\n",
       "      <td>0.46</td>\n",
       "      <td>0.07</td>\n",
       "    </tr>\n",
       "    <tr>\n",
       "      <th>Предложение услуг</th>\n",
       "      <td>0.71</td>\n",
       "      <td>0.03</td>\n",
       "      <td>0.75</td>\n",
       "      <td>0.05</td>\n",
       "      <td>0.73</td>\n",
       "      <td>0.02</td>\n",
       "    </tr>\n",
       "    <tr>\n",
       "      <th>mean</th>\n",
       "      <td>0.74</td>\n",
       "      <td>0.05</td>\n",
       "      <td>0.68</td>\n",
       "      <td>0.04</td>\n",
       "      <td>0.69</td>\n",
       "      <td>0.03</td>\n",
       "    </tr>\n",
       "  </tbody>\n",
       "</table>\n",
       "</div>"
      ],
      "text/plain": [
       "                            precision  precision_std  recall  recall_std  \\\n",
       "Мебель и интерьер                0.71           0.07    0.54        0.04   \n",
       "Телефоны                         0.77           0.05    0.76        0.04   \n",
       "Детская одежда и обувь           0.72           0.03    0.75        0.02   \n",
       "Квартиры                         0.91           0.03    0.97        0.01   \n",
       "Автомобили                       0.86           0.03    0.88        0.04   \n",
       "Товары для детей и игрушки       0.73           0.04    0.55        0.02   \n",
       "Ремонт и строительство           0.63           0.07    0.42        0.06   \n",
       "Одежда, обувь, аксессуары        0.66           0.02    0.80        0.03   \n",
       "Бытовая техника                  0.67           0.08    0.35        0.06   \n",
       "Предложение услуг                0.71           0.03    0.75        0.05   \n",
       "mean                             0.74           0.05    0.68        0.04   \n",
       "\n",
       "                              f1  f1_std  \n",
       "Мебель и интерьер           0.61    0.04  \n",
       "Телефоны                    0.76    0.03  \n",
       "Детская одежда и обувь      0.73    0.02  \n",
       "Квартиры                    0.94    0.02  \n",
       "Автомобили                  0.87    0.03  \n",
       "Товары для детей и игрушки  0.62    0.02  \n",
       "Ремонт и строительство      0.50    0.06  \n",
       "Одежда, обувь, аксессуары   0.72    0.01  \n",
       "Бытовая техника             0.46    0.07  \n",
       "Предложение услуг           0.73    0.02  \n",
       "mean                        0.69    0.03  "
      ]
     },
     "execution_count": 36,
     "metadata": {},
     "output_type": "execute_result"
    }
   ],
   "source": [
    "metrics_nmf"
   ]
  },
  {
   "cell_type": "code",
   "execution_count": 37,
   "id": "c21b8cf8",
   "metadata": {},
   "outputs": [
    {
     "data": {
      "image/png": "[encoded data removed]",
      "text/plain": [
       "<Figure size 400x400 with 2 Axes>"
      ]
     },
     "metadata": {},
     "output_type": "display_data"
    }
   ],
   "source": [
    "plt.figure(figsize=(4, 4))\n",
    "sns.heatmap(errors_nmf, xticklabels=metrics_nmf.index.tolist()[:-1], \n",
    "            yticklabels=metrics_nmf.index.tolist()[:-1])\n",
    "plt.show()"
   ]
  },
  {
   "cell_type": "code",
   "execution_count": 38,
   "id": "097e1881",
   "metadata": {},
   "outputs": [
    {
     "data": {
      "text/html": [
       "<div>\n",
       "<style scoped>\n",
       "    .dataframe tbody tr th:only-of-type {\n",
       "        vertical-align: middle;\n",
       "    }\n",
       "\n",
       "    .dataframe tbody tr th {\n",
       "        vertical-align: top;\n",
       "    }\n",
       "\n",
       "    .dataframe thead th {\n",
       "        text-align: right;\n",
       "    }\n",
       "</style>\n",
       "<table border=\"1\" class=\"dataframe\">\n",
       "  <thead>\n",
       "    <tr style=\"text-align: right;\">\n",
       "      <th></th>\n",
       "      <th>precision</th>\n",
       "      <th>precision_std</th>\n",
       "      <th>recall</th>\n",
       "      <th>recall_std</th>\n",
       "      <th>f1</th>\n",
       "      <th>f1_std</th>\n",
       "    </tr>\n",
       "  </thead>\n",
       "  <tbody>\n",
       "    <tr>\n",
       "      <th>Мебель и интерьер</th>\n",
       "      <td>0.12</td>\n",
       "      <td>-0.11</td>\n",
       "      <td>0.45</td>\n",
       "      <td>0.00</td>\n",
       "      <td>0.45</td>\n",
       "      <td>-0.02</td>\n",
       "    </tr>\n",
       "    <tr>\n",
       "      <th>Телефоны</th>\n",
       "      <td>-0.03</td>\n",
       "      <td>-0.04</td>\n",
       "      <td>0.58</td>\n",
       "      <td>-0.01</td>\n",
       "      <td>0.47</td>\n",
       "      <td>-0.04</td>\n",
       "    </tr>\n",
       "    <tr>\n",
       "      <th>Детская одежда и обувь</th>\n",
       "      <td>0.33</td>\n",
       "      <td>0.03</td>\n",
       "      <td>0.08</td>\n",
       "      <td>0.01</td>\n",
       "      <td>0.24</td>\n",
       "      <td>0.02</td>\n",
       "    </tr>\n",
       "    <tr>\n",
       "      <th>Квартиры</th>\n",
       "      <td>0.26</td>\n",
       "      <td>-0.03</td>\n",
       "      <td>0.43</td>\n",
       "      <td>-0.04</td>\n",
       "      <td>0.35</td>\n",
       "      <td>-0.03</td>\n",
       "    </tr>\n",
       "    <tr>\n",
       "      <th>Автомобили</th>\n",
       "      <td>0.12</td>\n",
       "      <td>-0.06</td>\n",
       "      <td>0.67</td>\n",
       "      <td>0.02</td>\n",
       "      <td>0.55</td>\n",
       "      <td>0.00</td>\n",
       "    </tr>\n",
       "    <tr>\n",
       "      <th>Товары для детей и игрушки</th>\n",
       "      <td>0.22</td>\n",
       "      <td>-0.02</td>\n",
       "      <td>0.45</td>\n",
       "      <td>0.01</td>\n",
       "      <td>0.45</td>\n",
       "      <td>0.00</td>\n",
       "    </tr>\n",
       "    <tr>\n",
       "      <th>Ремонт и строительство</th>\n",
       "      <td>0.06</td>\n",
       "      <td>-0.10</td>\n",
       "      <td>0.34</td>\n",
       "      <td>0.04</td>\n",
       "      <td>0.36</td>\n",
       "      <td>0.02</td>\n",
       "    </tr>\n",
       "    <tr>\n",
       "      <th>Одежда, обувь, аксессуары</th>\n",
       "      <td>0.26</td>\n",
       "      <td>0.01</td>\n",
       "      <td>0.12</td>\n",
       "      <td>0.01</td>\n",
       "      <td>0.22</td>\n",
       "      <td>0.00</td>\n",
       "    </tr>\n",
       "    <tr>\n",
       "      <th>Бытовая техника</th>\n",
       "      <td>0.23</td>\n",
       "      <td>-0.14</td>\n",
       "      <td>0.20</td>\n",
       "      <td>0.01</td>\n",
       "      <td>0.24</td>\n",
       "      <td>0.00</td>\n",
       "    </tr>\n",
       "    <tr>\n",
       "      <th>Предложение услуг</th>\n",
       "      <td>-0.05</td>\n",
       "      <td>-0.14</td>\n",
       "      <td>0.62</td>\n",
       "      <td>0.01</td>\n",
       "      <td>0.50</td>\n",
       "      <td>-0.04</td>\n",
       "    </tr>\n",
       "    <tr>\n",
       "      <th>mean</th>\n",
       "      <td>0.15</td>\n",
       "      <td>-0.06</td>\n",
       "      <td>0.40</td>\n",
       "      <td>0.01</td>\n",
       "      <td>0.38</td>\n",
       "      <td>-0.01</td>\n",
       "    </tr>\n",
       "  </tbody>\n",
       "</table>\n",
       "</div>"
      ],
      "text/plain": [
       "                            precision  precision_std  recall  recall_std  \\\n",
       "Мебель и интерьер                0.12          -0.11    0.45        0.00   \n",
       "Телефоны                        -0.03          -0.04    0.58       -0.01   \n",
       "Детская одежда и обувь           0.33           0.03    0.08        0.01   \n",
       "Квартиры                         0.26          -0.03    0.43       -0.04   \n",
       "Автомобили                       0.12          -0.06    0.67        0.02   \n",
       "Товары для детей и игрушки       0.22          -0.02    0.45        0.01   \n",
       "Ремонт и строительство           0.06          -0.10    0.34        0.04   \n",
       "Одежда, обувь, аксессуары        0.26           0.01    0.12        0.01   \n",
       "Бытовая техника                  0.23          -0.14    0.20        0.01   \n",
       "Предложение услуг               -0.05          -0.14    0.62        0.01   \n",
       "mean                             0.15          -0.06    0.40        0.01   \n",
       "\n",
       "                              f1  f1_std  \n",
       "Мебель и интерьер           0.45   -0.02  \n",
       "Телефоны                    0.47   -0.04  \n",
       "Детская одежда и обувь      0.24    0.02  \n",
       "Квартиры                    0.35   -0.03  \n",
       "Автомобили                  0.55    0.00  \n",
       "Товары для детей и игрушки  0.45    0.00  \n",
       "Ремонт и строительство      0.36    0.02  \n",
       "Одежда, обувь, аксессуары   0.22    0.00  \n",
       "Бытовая техника             0.24    0.00  \n",
       "Предложение услуг           0.50   -0.04  \n",
       "mean                        0.38   -0.01  "
      ]
     },
     "execution_count": 38,
     "metadata": {},
     "output_type": "execute_result"
    }
   ],
   "source": [
    "metrics_nmf - metrics_svd"
   ]
  },
  {
   "cell_type": "markdown",
   "id": "431109b9",
   "metadata": {},
   "source": [
    "NMF + ExtraTreesClassifier -- winner here."
   ]
  },
  {
   "cell_type": "markdown",
   "id": "51001733",
   "metadata": {},
   "source": [
    "**SVD + SGDClassifier** -- total winner."
   ]
  },
  {
   "cell_type": "markdown",
   "id": "8436142a",
   "metadata": {},
   "source": [
    "### Задание № 2 (6 баллов)"
   ]
  },
  {
   "cell_type": "markdown",
   "id": "6cb61f26",
   "metadata": {},
   "source": [
    "В Gensim тоже можно добавить нграммы и tfidf. Постройте 1 модель без них (как в семинаре) и еще 3 модели (1 с нграммами, 1 с tfidf и 1 с нграммами и с tfidf). Сранивте качество с помощью метрик (перплексия, когерентность) и на глаз. Определите лучшую модель. Для каждой модели выберите 1 самую красивую на ваш взгляд тему.\n",
    "\n",
    "Используйте данные википедии из семинара. Можете взять поменьше данных, если все обучается долго.\n",
    "\n",
    "Важное требование - получившиеся модели не должны быть совсем плохими. Если хороших тем не получается, попробуйте настроить гиперпараметры, отфильтровать словарь по-другому. "
   ]
  },
  {
   "cell_type": "markdown",
   "id": "2a27a626",
   "metadata": {},
   "source": [
    "### Как в семинаре"
   ]
  },
  {
   "cell_type": "code",
   "execution_count": 39,
   "id": "3eef93d4",
   "metadata": {},
   "outputs": [],
   "source": [
    "texts = open('wiki_data.txt').read().splitlines()[:5000]\n",
    "texts = ([normalize(text) for text in texts])"
   ]
  },
  {
   "cell_type": "code",
   "execution_count": 40,
   "id": "927bc24a",
   "metadata": {},
   "outputs": [],
   "source": [
    "dictinary = gensim.corpora.Dictionary((text.split() for text in texts))"
   ]
  },
  {
   "cell_type": "code",
   "execution_count": 41,
   "id": "211d2aaf",
   "metadata": {},
   "outputs": [],
   "source": [
    "dictinary.filter_extremes(no_above=0.1, no_below=10)\n",
    "dictinary.compactify()"
   ]
  },
  {
   "cell_type": "code",
   "execution_count": 42,
   "id": "3e942326",
   "metadata": {},
   "outputs": [],
   "source": [
    "corpus = [dictinary.doc2bow(text.split()) for text in texts]"
   ]
  },
  {
   "cell_type": "code",
   "execution_count": 43,
   "id": "1e9b9390",
   "metadata": {},
   "outputs": [],
   "source": [
    "lda = gensim.models.LdaModel(corpus, 200, id2word=dictinary, passes=5)"
   ]
  },
  {
   "cell_type": "code",
   "execution_count": 44,
   "id": "98ee1c36",
   "metadata": {},
   "outputs": [
    {
     "data": {
      "text/plain": [
       "[(76,\n",
       "  '0.064*\"японский\" + 0.060*\"армия\" + 0.056*\"войско\" + 0.032*\"япония\" + 0.017*\"империя\" + 0.017*\"германия\" + 0.017*\"военный\" + 0.016*\"вооружение\" + 0.016*\"германский\" + 0.016*\"образец\"'),\n",
       " (62,\n",
       "  '0.034*\"спорт\" + 0.033*\"ссср\" + 0.031*\"тренер\" + 0.027*\"чемпион\" + 0.023*\"выступать\" + 0.022*\"сборная\" + 0.021*\"чемпионат\" + 0.019*\"россия\" + 0.019*\"команда\" + 0.019*\"спортивный\"'),\n",
       " (24,\n",
       "  '0.036*\"дивизия\" + 0.035*\"противник\" + 0.032*\"бой\" + 0.027*\"стрелковый\" + 0.026*\"войско\" + 0.022*\"гвардейский\" + 0.021*\"наступление\" + 0.019*\"фронт\" + 0.018*\"…\" + 0.018*\"овладеть\"'),\n",
       " (78,\n",
       "  '0.081*\"бог\" + 0.026*\"рука\" + 0.023*\"богиня\" + 0.021*\"изобразить\" + 0.020*\"абхазия\" + 0.019*\"полотно\" + 0.017*\"смотреть\" + 0.016*\"говорить\" + 0.014*\"дверь\" + 0.014*\"встречать\"'),\n",
       " (177,\n",
       "  '0.094*\"студент\" + 0.084*\"григорий\" + 0.066*\"1853\" + 0.053*\"континентальный\" + 0.053*\"аул\" + 0.050*\"19-й\" + 0.049*\"директива\" + 0.037*\"университет\" + 0.031*\"влажность\" + 0.028*\"отделение\"'),\n",
       " (45,\n",
       "  '0.040*\"член\" + 0.035*\"наука\" + 0.032*\"верховный\" + 0.031*\"судья\" + 0.029*\"председатель\" + 0.026*\"академия\" + 0.024*\"суд\" + 0.022*\"преподавать\" + 0.021*\"университет\" + 0.019*\"министр\"'),\n",
       " (192,\n",
       "  '0.165*\"уезд\" + 0.072*\"округ\" + 0.047*\"губерния\" + 0.032*\"городской\" + 0.021*\"образовать\" + 0.021*\"нижегородский\" + 0.021*\"переименовать\" + 0.019*\"постановление\" + 0.016*\"войти\" + 0.016*\"административный\"'),\n",
       " (87,\n",
       "  '0.046*\"сун\" + 0.042*\"лайнер\" + 0.037*\"туман\" + 0.035*\"шанхай\" + 0.032*\"судно\" + 0.027*\"стокгольм\" + 0.025*\"фьорд\" + 0.022*\"норвегия\" + 0.021*\"1866\" + 0.021*\"1894\"'),\n",
       " (102,\n",
       "  '0.063*\"суд\" + 0.037*\"право\" + 0.027*\"заключить\" + 0.027*\"дело\" + 0.021*\"судебный\" + 0.016*\"заключение\" + 0.016*\"лагерь\" + 0.015*\"договор\" + 0.015*\"против\" + 0.014*\"нацистский\"'),\n",
       " (121,\n",
       "  '0.116*\"уезд\" + 0.076*\"специальный\" + 0.048*\"городской\" + 0.041*\"власть\" + 0.038*\"кнр\" + 0.032*\"расформировать\" + 0.029*\"переименовать\" + 0.029*\"создать\" + 0.025*\"выделить\" + 0.022*\"вновь\"'),\n",
       " (109,\n",
       "  '0.255*\"1952\" + 0.215*\"финляндия\" + 0.093*\"камень\" + 0.090*\"хельсинки\" + 0.071*\"тим\" + 0.060*\"полгода\" + 0.059*\"денис\" + 0.021*\"красноармейский\" + 0.019*\"цех\" + 0.008*\"летний\"'),\n",
       " (82,\n",
       "  '0.110*\"парный\" + 0.103*\"пара\" + 0.028*\"слобода\" + 0.024*\"теннис\" + 0.023*\"доходить\" + 0.019*\"дворцовый\" + 0.018*\"баня\" + 0.017*\"трава\" + 0.017*\"открытый\" + 0.017*\"стр\"'),\n",
       " (49,\n",
       "  '0.061*\"италия\" + 0.058*\"итальянский\" + 0.055*\"римский\" + 0.054*\"рим\" + 0.025*\"королевство\" + 0.023*\"папа\" + 0.017*\"iv\" + 0.015*\"пан\" + 0.014*\"двор\" + 0.012*\"xiii\"'),\n",
       " (84,\n",
       "  '0.258*\"альбом\" + 0.074*\"композиция\" + 0.059*\"выпустить\" + 0.042*\"записать\" + 0.040*\"запись\" + 0.034*\"седьмой\" + 0.033*\"студийный\" + 0.033*\"коллектив\" + 0.028*\"диск\" + 0.027*\"records\"'),\n",
       " (137,\n",
       "  '0.020*\"фильм\" + 0.020*\"герой\" + 0.015*\"друг\" + 0.014*\"роман\" + 0.012*\"девушка\" + 0.010*\"любовь\" + 0.010*\"книга\" + 0.009*\"муж\" + 0.009*\"жена\" + 0.008*\"чтобы\"'),\n",
       " (112,\n",
       "  '0.069*\"птица\" + 0.053*\"лес\" + 0.050*\"обитать\" + 0.033*\"исландия\" + 0.030*\"ключ\" + 0.030*\"вулкан\" + 0.026*\"популяция\" + 0.019*\"тёмный\" + 0.019*\"отложение\" + 0.017*\"массив\"'),\n",
       " (115,\n",
       "  '0.110*\"школа\" + 0.043*\"учебный\" + 0.041*\"медицинский\" + 0.034*\"образование\" + 0.029*\"больница\" + 0.027*\"обучение\" + 0.023*\"врач\" + 0.020*\"заведение\" + 0.018*\"колледж\" + 0.017*\"училище\"'),\n",
       " (185,\n",
       "  '0.193*\"чудновский\" + 0.189*\"чили\" + 0.080*\"4139\" + 0.075*\"37\" + 0.057*\"хребет\" + 0.044*\"52\" + 0.042*\"боксёр\" + 0.022*\"360\" + 0.018*\"чилийский\" + 0.018*\"380\"'),\n",
       " (39,\n",
       "  '0.182*\"сельсовет\" + 0.038*\"саратовский\" + 0.033*\"передать\" + 0.029*\"февраль\" + 0.022*\"1932\" + 0.019*\"присоединяться\" + 0.019*\"1963\" + 0.018*\"трасса\" + 0.018*\"1935\" + 0.017*\"президиум\"'),\n",
       " (74,\n",
       "  '0.113*\"телеканал\" + 0.091*\"канал\" + 0.052*\"подарок\" + 0.040*\"телевизионный\" + 0.035*\"программа\" + 0.031*\"эфир\" + 0.023*\"развлекательный\" + 0.023*\"тв\" + 0.023*\"диалог\" + 0.021*\"категория\"')]"
      ]
     },
     "execution_count": 44,
     "metadata": {},
     "output_type": "execute_result"
    }
   ],
   "source": [
    "lda.print_topics()"
   ]
  },
  {
   "cell_type": "code",
   "execution_count": 45,
   "id": "c246551c",
   "metadata": {},
   "outputs": [
    {
     "data": {
      "text/plain": [
       "1174.8385021433853"
      ]
     },
     "execution_count": 45,
     "metadata": {},
     "output_type": "execute_result"
    }
   ],
   "source": [
    "np.exp2(-lda.log_perplexity(corpus[:1000]))"
   ]
  },
  {
   "cell_type": "code",
   "execution_count": 46,
   "id": "cbc50afa",
   "metadata": {},
   "outputs": [
    {
     "data": {
      "text/plain": [
       "0.513637126556025"
      ]
     },
     "execution_count": 46,
     "metadata": {},
     "output_type": "execute_result"
    }
   ],
   "source": [
    "topics = []\n",
    "for topic_id, topic in lda.show_topics(num_topics=200, formatted=False):\n",
    "    topic = [word for word, _ in topic]\n",
    "    topics.append(topic)\n",
    "    \n",
    "coherence_model_lda = gensim.models.CoherenceModel(topics=topics, \n",
    "                                                   texts=[text.split() for text in texts], \n",
    "                                                   dictionary=dictinary, coherence='c_v')\n",
    "\n",
    "coherence_model_lda.get_coherence()"
   ]
  },
  {
   "cell_type": "markdown",
   "id": "30c2418e",
   "metadata": {},
   "source": [
    "Хорошая тема\n",
    "\n",
    "\n",
    "(24,\n",
    "  '0.036*\"дивизия\" + 0.035*\"противник\" + 0.032*\"бой\" + 0.027*\"стрелковый\" + 0.026*\"войско\" + 0.022*\"гвардейский\" + 0.021*\"наступление\" + 0.019*\"фронт\" + 0.018*\"…\" + 0.018*\"овладеть\"')"
   ]
  },
  {
   "cell_type": "markdown",
   "id": "078f483a",
   "metadata": {},
   "source": [
    "### Нграммы"
   ]
  },
  {
   "cell_type": "code",
   "execution_count": 47,
   "id": "063bc5f6",
   "metadata": {},
   "outputs": [],
   "source": [
    "texts = [text.split() for text in texts]\n",
    "ph = gensim.models.Phrases(texts, scoring='npmi', threshold=0.4) # threshold можно подбирать\n",
    "p = gensim.models.phrases.Phraser(ph)\n",
    "ngrammed_texts = p[texts] "
   ]
  },
  {
   "cell_type": "markdown",
   "id": "18bd49ff",
   "metadata": {},
   "source": [
    "!! В модели с нграммами вначале посмотрите, что получается после преобразования\n",
    "Если вы выведите несколько первых текстов в ngrammed_texts, то там должно быть что-то такое:"
   ]
  },
  {
   "cell_type": "code",
   "execution_count": 48,
   "id": "a82d1d14",
   "metadata": {},
   "outputs": [
    {
     "data": {
      "text/plain": [
       "['новостройка', 'нижегородский_область', 'новостро́йка', '—', 'сельский']"
      ]
     },
     "execution_count": 48,
     "metadata": {},
     "output_type": "execute_result"
    }
   ],
   "source": [
    "[text for text in ngrammed_texts[0]][:5]"
   ]
  },
  {
   "cell_type": "code",
   "execution_count": 49,
   "id": "ffc455dc",
   "metadata": {},
   "outputs": [],
   "source": [
    "dictinary = gensim.corpora.Dictionary((text for text in ngrammed_texts))"
   ]
  },
  {
   "cell_type": "code",
   "execution_count": 50,
   "id": "4dc102d1",
   "metadata": {},
   "outputs": [],
   "source": [
    "dictinary.filter_extremes(no_above=0.1, no_below=10)\n",
    "dictinary.compactify()"
   ]
  },
  {
   "cell_type": "code",
   "execution_count": 51,
   "id": "ee147de2",
   "metadata": {},
   "outputs": [],
   "source": [
    "ngrammed_texts = [' '.join(text) for text in ngrammed_texts]"
   ]
  },
  {
   "cell_type": "code",
   "execution_count": 52,
   "id": "0f559d23",
   "metadata": {},
   "outputs": [],
   "source": [
    "corpus = [dictinary.doc2bow(text.split()) for text in ngrammed_texts]"
   ]
  },
  {
   "cell_type": "code",
   "execution_count": 53,
   "id": "729ae5de",
   "metadata": {},
   "outputs": [],
   "source": [
    "lda = gensim.models.LdaModel(corpus, 180, id2word=dictinary, passes=7)"
   ]
  },
  {
   "cell_type": "code",
   "execution_count": 54,
   "id": "1f51f006",
   "metadata": {},
   "outputs": [
    {
     "data": {
      "text/plain": [
       "[(44,\n",
       "  '0.094*\"норвегия\" + 0.088*\"монако\" + 0.082*\"фестиваль\" + 0.074*\"норвежский\" + 0.041*\"шведский\" + 0.041*\"швеция\" + 0.032*\"илья\" + 0.024*\"хуан\" + 0.017*\"официальный_сайт\" + 0.016*\"хорх\"'),\n",
       " (4,\n",
       "  '0.153*\"э\" + 0.128*\"до_н\" + 0.050*\"племя\" + 0.038*\"консул\" + 0.035*\"чудновский_район\" + 0.026*\"афганистан\" + 0.026*\"чудновский_р-н\" + 0.024*\"примыкать\" + 0.021*\"медведь\" + 0.019*\"ранний\"'),\n",
       " (45,\n",
       "  '0.060*\"округ\" + 0.024*\"присоединить_к\" + 0.023*\"чеченский\" + 0.022*\"область\" + 0.022*\"грузинский\" + 0.020*\"подчинённый\" + 0.019*\"for\" + 0.019*\"подчинить\" + 0.018*\"понизить\" + 0.017*\"разделить\"'),\n",
       " (103,\n",
       "  '0.201*\"м\" + 0.176*\"метр\" + 0.047*\"кг\" + 0.044*\"глубина\" + 0.040*\"пещера\" + 0.027*\"длина\" + 0.024*\"игра_1952\" + 0.022*\"массив\" + 0.020*\"130\" + 0.019*\"хельсинки_финляндия\"'),\n",
       " (169,\n",
       "  '0.094*\"поезд\" + 0.088*\"северный_полюс\" + 0.078*\"мемориал\" + 0.077*\"31\" + 0.044*\"вблизи\" + 0.042*\"западный\" + 0.041*\"68\" + 0.038*\"погибший\" + 0.037*\"43\" + 0.036*\"южный_направление\"'),\n",
       " (121,\n",
       "  '0.021*\"п\" + 0.016*\"н\" + 0.015*\"русский\" + 0.013*\"николай\" + 0.012*\"крестьянин\" + 0.011*\"общество\" + 0.010*\"санкт-петербург\" + 0.010*\"м\" + 0.009*\"церковь\" + 0.009*\"памятник\"'),\n",
       " (135,\n",
       "  '0.138*\"программа\" + 0.036*\"ввс\" + 0.034*\"база\" + 0.033*\"телеканал\" + 0.029*\"оператор\" + 0.023*\"сеть\" + 0.022*\"бомба\" + 0.020*\"истребитель\" + 0.019*\"бомбардировщик\" + 0.017*\"босния\"'),\n",
       " (57,\n",
       "  '0.015*\"1919\" + 0.014*\"школа\" + 0.014*\"октябрь\" + 0.014*\"окончить\" + 0.012*\"1920\" + 0.012*\"советский\" + 0.011*\"май\" + 0.010*\"военный\" + 0.010*\"б\" + 0.010*\"1930\"'),\n",
       " (177,\n",
       "  '0.065*\"пуля\" + 0.063*\"патрон\" + 0.053*\"выстрел\" + 0.042*\"стрельба\" + 0.036*\"мм\" + 0.035*\"татарский\" + 0.035*\"казак\" + 0.034*\"калибр\" + 0.029*\"оружие\" + 0.028*\"винтовка\"'),\n",
       " (89,\n",
       "  '0.058*\"французский\" + 0.049*\"франция\" + 0.031*\"принц\" + 0.030*\"император\" + 0.029*\"королева\" + 0.025*\"король\" + 0.024*\"ричард\" + 0.021*\"брак\" + 0.021*\"принцесса\" + 0.021*\"восстание\"'),\n",
       " (28,\n",
       "  '0.116*\"китай\" + 0.101*\"китайский\" + 0.063*\"монголия\" + 0.024*\"монгольский\" + 0.021*\"император\" + 0.019*\"династия\" + 0.014*\"хан\" + 0.013*\"править\" + 0.013*\"пекин\" + 0.012*\"правитель\"'),\n",
       " (104,\n",
       "  '0.047*\"встречаться\" + 0.031*\"северный\" + 0.029*\"распространить\" + 0.028*\"белый\" + 0.026*\"птица\" + 0.022*\"южный\" + 0.021*\"европа\" + 0.020*\"чёрный\" + 0.019*\"самка\" + 0.019*\"тело\"'),\n",
       " (147,\n",
       "  '0.049*\"зона\" + 0.038*\"2010\" + 0.037*\"южный_корея\" + 0.030*\"microsoft\" + 0.029*\"поддержка\" + 0.029*\"пакет\" + 0.028*\"пятый_раз\" + 0.028*\"windows\" + 0.028*\"обновление\" + 0.027*\"графический\"'),\n",
       " (67,\n",
       "  '0.012*\"бог\" + 0.011*\"битва\" + 0.007*\"поздний\" + 0.006*\"же\" + 0.006*\"событие\" + 0.006*\"изобразить\" + 0.005*\"сила\" + 0.005*\"слово\" + 0.005*\"царь\" + 0.005*\"лука\"'),\n",
       " (29,\n",
       "  '0.167*\"нил\" + 0.051*\"грязь\" + 0.040*\"эндрю\" + 0.034*\"американский\" + 0.033*\"нью-йорк\" + 0.032*\"вологодский\" + 0.025*\"стоянка\" + 0.022*\"бостон\" + 0.020*\"поднимать\" + 0.020*\"поставлять\"'),\n",
       " (34,\n",
       "  '0.034*\"новосибирск\" + 0.025*\"маргарита\" + 0.020*\"ru\" + 0.020*\"литературный\" + 0.019*\"павел\" + 0.015*\"великий_княжество\" + 0.015*\"соглашаться\" + 0.015*\"земский\" + 0.012*\"ярмарка\" + 0.011*\"геннадий\"'),\n",
       " (138,\n",
       "  '0.022*\"кит\" + 0.021*\"объект\" + 0.015*\"земля\" + 0.015*\"переход\" + 0.015*\"группа\" + 0.015*\"уровень\" + 0.015*\"каждый\" + 0.011*\"должный\" + 0.011*\"свет\" + 0.011*\"вероятность\"'),\n",
       " (134,\n",
       "  '0.081*\"r\" + 0.037*\"джейн\" + 0.037*\"кот\" + 0.035*\"род\" + 0.029*\"джордж\" + 0.028*\"значит\" + 0.025*\"потерпевший\" + 0.024*\"кевин\" + 0.024*\"начальник_отдел\" + 0.024*\"говорить\"'),\n",
       " (94,\n",
       "  '0.021*\"регион\" + 0.021*\"век\" + 0.019*\"период\" + 0.017*\"культура\" + 0.016*\"народ\" + 0.014*\"страна\" + 0.014*\"найти\" + 0.012*\"политический\" + 0.012*\"эпоха\" + 0.010*\"современный\"'),\n",
       " (48,\n",
       "  '0.080*\"система\" + 0.040*\"исследование\" + 0.028*\"изучение\" + 0.026*\"разработать\" + 0.025*\"основа\" + 0.022*\"приложение\" + 0.019*\"научный\" + 0.018*\"эксперимент\" + 0.017*\"метод\" + 0.017*\"ран\"')]"
      ]
     },
     "execution_count": 54,
     "metadata": {},
     "output_type": "execute_result"
    }
   ],
   "source": [
    "lda.print_topics()"
   ]
  },
  {
   "cell_type": "code",
   "execution_count": 55,
   "id": "403c50cd",
   "metadata": {},
   "outputs": [
    {
     "data": {
      "text/plain": [
       "1165.7963322154899"
      ]
     },
     "execution_count": 55,
     "metadata": {},
     "output_type": "execute_result"
    }
   ],
   "source": [
    "np.exp2(-lda.log_perplexity(corpus[:1000]))"
   ]
  },
  {
   "cell_type": "code",
   "execution_count": 56,
   "id": "2eae5a2c",
   "metadata": {},
   "outputs": [
    {
     "data": {
      "text/plain": [
       "0.49332939219705035"
      ]
     },
     "execution_count": 56,
     "metadata": {},
     "output_type": "execute_result"
    }
   ],
   "source": [
    "topics = []\n",
    "for topic_id, topic in lda.show_topics(num_topics=180, formatted=False):\n",
    "    topic = [word for word, _ in topic]\n",
    "    topics.append(topic)\n",
    "    \n",
    "coherence_model_lda = gensim.models.CoherenceModel(topics=topics, \n",
    "                                                   texts=[text.split() for text in ngrammed_texts], \n",
    "                                                   dictionary=dictinary, coherence='c_v')\n",
    "\n",
    "coherence_model_lda.get_coherence()"
   ]
  },
  {
   "cell_type": "markdown",
   "id": "b3ea1f53",
   "metadata": {},
   "source": [
    "Хорошая тема\n",
    "\n",
    "\n",
    " (89,\n",
    "  '0.058*\"французский\" + 0.049*\"франция\" + 0.031*\"принц\" + 0.030*\"император\" + 0.029*\"королева\" + 0.025*\"король\" + 0.024*\"ричард\" + 0.021*\"брак\" + 0.021*\"принцесса\" + 0.021*\"восстание\"')"
   ]
  },
  {
   "cell_type": "markdown",
   "id": "6ed78f14",
   "metadata": {},
   "source": [
    "### Tfidf"
   ]
  },
  {
   "cell_type": "code",
   "execution_count": 57,
   "id": "b81ede5e",
   "metadata": {},
   "outputs": [],
   "source": [
    "texts = open('wiki_data.txt').read().splitlines()[:5000]\n",
    "texts = ([normalize(text) for text in texts])"
   ]
  },
  {
   "cell_type": "code",
   "execution_count": 58,
   "id": "72aa1687",
   "metadata": {},
   "outputs": [],
   "source": [
    "dictinary = gensim.corpora.Dictionary((text.split() for text in texts))"
   ]
  },
  {
   "cell_type": "code",
   "execution_count": 59,
   "id": "caf89d92",
   "metadata": {},
   "outputs": [],
   "source": [
    "dictinary.filter_extremes(no_above=0.1, no_below=10)\n",
    "dictinary.compactify()"
   ]
  },
  {
   "cell_type": "code",
   "execution_count": 60,
   "id": "a939df9c",
   "metadata": {},
   "outputs": [],
   "source": [
    "corpus_ = [dictinary.doc2bow(text.split()) for text in texts]"
   ]
  },
  {
   "cell_type": "markdown",
   "id": "6dccad9a",
   "metadata": {},
   "source": [
    "Tfidf добавляется вот так (после векторизации и перед обучением lda)"
   ]
  },
  {
   "cell_type": "code",
   "execution_count": 61,
   "id": "e6121148",
   "metadata": {},
   "outputs": [],
   "source": [
    "tfidf = gensim.models.TfidfModel(corpus_, id2word=dictinary, )\n",
    "corpus = tfidf[corpus_]"
   ]
  },
  {
   "cell_type": "code",
   "execution_count": 62,
   "id": "9709fa9c",
   "metadata": {},
   "outputs": [
    {
     "name": "stdout",
     "output_type": "stream",
     "text": [
      "[(0, 0.09015466522739071), (1, 0.06857297570017572), (2, 0.040482486918318364), (3, 0.0427801213540769), (4, 0.04314298174318995), (5, 0.07883692650818122), (6, 0.06117316243827609), (7, 0.052557951005454136), (8, 0.05540480104806658), (9, 0.0532244943903728)]\n"
     ]
    }
   ],
   "source": [
    "print(corpus[0][:10])"
   ]
  },
  {
   "cell_type": "code",
   "execution_count": 63,
   "id": "1c6ec8b2",
   "metadata": {},
   "outputs": [],
   "source": [
    "lda = gensim.models.LdaModel(corpus, 120, id2word=dictinary, passes=9)"
   ]
  },
  {
   "cell_type": "code",
   "execution_count": 64,
   "id": "6e48b242",
   "metadata": {},
   "outputs": [
    {
     "data": {
      "text/plain": [
       "740152295082055.6"
      ]
     },
     "execution_count": 64,
     "metadata": {},
     "output_type": "execute_result"
    }
   ],
   "source": [
    "np.exp2(-lda.log_perplexity(corpus[:1000]))"
   ]
  },
  {
   "cell_type": "code",
   "execution_count": 65,
   "id": "2b11e452",
   "metadata": {},
   "outputs": [
    {
     "data": {
      "text/plain": [
       "51313885.0525532"
      ]
     },
     "execution_count": 65,
     "metadata": {},
     "output_type": "execute_result"
    }
   ],
   "source": [
    "np.exp2(-lda.log_perplexity(corpus_[:1000]))"
   ]
  },
  {
   "cell_type": "code",
   "execution_count": 66,
   "id": "fc266d81",
   "metadata": {},
   "outputs": [
    {
     "data": {
      "text/plain": [
       "0.4589300279525592"
      ]
     },
     "execution_count": 66,
     "metadata": {},
     "output_type": "execute_result"
    }
   ],
   "source": [
    "topics = []\n",
    "for topic_id, topic in lda.show_topics(num_topics=120, formatted=False):\n",
    "    topic = [word for word, _ in topic]\n",
    "    topics.append(topic)\n",
    "    \n",
    "coherence_model_lda = gensim.models.CoherenceModel(topics=topics, \n",
    "                                                   texts=[text.split() for text in texts], \n",
    "                                                   dictionary=dictinary, coherence='c_v')\n",
    "\n",
    "coherence_model_lda.get_coherence()"
   ]
  },
  {
   "cell_type": "code",
   "execution_count": 67,
   "id": "07aba27f",
   "metadata": {},
   "outputs": [
    {
     "data": {
      "text/plain": [
       "[(72,\n",
       "  '0.071*\"театр\" + 0.046*\"алексей\" + 0.036*\"академический\" + 0.027*\"маргарита\" + 0.022*\"спектакль\" + 0.019*\"александр\" + 0.017*\"артур\" + 0.016*\"труппа\" + 0.013*\"канал\" + 0.013*\"сценарист\"'),\n",
       " (87,\n",
       "  '0.064*\"оркестр\" + 0.052*\"инструмент\" + 0.044*\"музыка\" + 0.024*\"музыкант\" + 0.022*\"капелла\" + 0.011*\"концерт\" + 0.000*\"придворный\" + 0.000*\"зал\" + 0.000*\"рог\" + 0.000*\"дж\"'),\n",
       " (37,\n",
       "  '0.087*\"герб\" + 0.074*\"монреаль\" + 0.037*\"канада\" + 0.027*\"символизировать\" + 0.025*\"утвердить\" + 0.004*\"1853\" + 0.001*\"преподобный\" + 0.000*\"крест\" + 0.000*\"образование\" + 0.000*\"квебек\"'),\n",
       " (118,\n",
       "  '0.045*\"клетка\" + 0.018*\"простой\" + 0.002*\"стенка\" + 0.000*\"орган\" + 0.000*\"растение\" + 0.000*\"масло\" + 0.000*\"лист\" + 0.000*\"функция\" + 0.000*\"соль\" + 0.000*\"стебель\"'),\n",
       " (40,\n",
       "  '0.024*\"сигнал\" + 0.020*\"франсуа\" + 0.018*\"философ\" + 0.015*\"акция\" + 0.015*\"описание\" + 0.015*\"заболевание\" + 0.013*\"концепция\" + 0.012*\"раздел\" + 0.012*\"павловский\" + 0.011*\"требование\"'),\n",
       " (90,\n",
       "  '0.084*\"федерация\" + 0.073*\"муниципальный\" + 0.044*\"оао\" + 0.031*\"образование\" + 0.017*\"объединение\" + 0.016*\"сосновый\" + 0.016*\"субъект\" + 0.011*\"российский\" + 0.011*\"владимирович\" + 0.007*\"металлургический\"'),\n",
       " (88,\n",
       "  '0.078*\"1956\" + 0.045*\"мастер\" + 0.035*\"–\" + 0.034*\"спорт\" + 0.026*\"спортивный\" + 0.023*\"1928\" + 0.023*\"кормовой\" + 0.021*\"карьера\" + 0.020*\"юниор\" + 0.019*\"пещера\"'),\n",
       " (53,\n",
       "  '0.000*\"продажа\" + 0.000*\"противоречить\" + 0.000*\"пребывание\" + 0.000*\"признанный\" + 0.000*\"принудительный\" + 0.000*\"прогресс\" + 0.000*\"поправка\" + 0.000*\"противоречие\" + 0.000*\"смертный\" + 0.000*\"рассмотрение\"'),\n",
       " (89,\n",
       "  '0.000*\"воронежский\" + 0.000*\"хозяйство\" + 0.000*\"сельский\" + 0.000*\"трудовой\" + 0.000*\"аппарат\" + 0.000*\"фронт\" + 0.000*\"стрелковый\" + 0.000*\"факультет\" + 0.000*\"1944\" + 0.000*\"полка\"'),\n",
       " (105,\n",
       "  '0.054*\"св\" + 0.047*\"пехотный\" + 0.045*\"анна\" + 0.028*\"командовать\" + 0.026*\"георгий\" + 0.019*\"лейб-гвардия\" + 0.017*\"турецкий\" + 0.016*\"пространство\" + 0.015*\"4-й\" + 0.014*\"бригада\"'),\n",
       " (7,\n",
       "  '0.085*\"япония\" + 0.045*\"r\" + 0.029*\"великобритания\" + 0.026*\"эдвард\" + 0.021*\"жанр\" + 0.021*\"and\" + 0.021*\"патрон\" + 0.020*\"хоккейный\" + 0.018*\"пехота\" + 0.017*\"1914\"'),\n",
       " (14,\n",
       "  '0.041*\"литературный\" + 0.032*\"1932\" + 0.031*\"тайвань\" + 0.030*\"хуан\" + 0.026*\"поэт\" + 0.021*\"стих\" + 0.020*\"стихотворение\" + 0.020*\"сборник\" + 0.019*\"асср\" + 0.018*\"чэнь\"'),\n",
       " (9,\n",
       "  '0.170*\"хутор\" + 0.092*\"ростовский\" + 0.082*\"поселение\" + 0.064*\"ленин\" + 0.061*\"сельский\" + 0.051*\"опера\" + 0.017*\"ленинский\" + 0.013*\"оперный\" + 0.013*\"иметься\" + 0.011*\"милан\"'),\n",
       " (50,\n",
       "  '0.034*\"1980\" + 0.021*\"музыкальный\" + 0.019*\"москва\" + 0.017*\"б\" + 0.017*\"ссср\" + 0.014*\"теория\" + 0.014*\"произведение\" + 0.013*\"композитор\" + 0.013*\"азербайджан\" + 0.013*\"профессор\"'),\n",
       " (26,\n",
       "  '0.121*\"спортсмен\" + 0.051*\"бронзовый\" + 0.050*\"2004\" + 0.050*\"серебряный\" + 0.037*\"соревнование\" + 0.033*\"дистанция\" + 0.032*\"атлетика\" + 0.030*\"2000\" + 0.030*\"2008\" + 0.024*\"лёгкий\"'),\n",
       " (5,\n",
       "  '0.073*\"швейцария\" + 0.043*\"римский\" + 0.032*\"швейцарский\" + 0.032*\"кантон\" + 0.020*\"персидский\" + 0.014*\"римлянин\" + 0.011*\"1860\" + 0.006*\"1848\" + 0.003*\"конституция\" + 0.002*\"1837\"'),\n",
       " (48,\n",
       "  '0.086*\"озеро\" + 0.062*\"река\" + 0.045*\"левый\" + 0.031*\"приток\" + 0.028*\"бассейн\" + 0.026*\"берег\" + 0.025*\"впадать\" + 0.024*\"км\" + 0.021*\"исток\" + 0.018*\"покрыть\"'),\n",
       " (101,\n",
       "  '0.029*\"ботанический\" + 0.014*\"мозг\" + 0.011*\"ботаник\" + 0.005*\"1832\" + 0.000*\"бригадир\" + 0.000*\"ординарный\" + 0.000*\"рота\" + 0.000*\"курс\" + 0.000*\"университет\" + 0.000*\"пулемётный\"'),\n",
       " (84,\n",
       "  '0.036*\"полигон\" + 0.030*\"ядерный\" + 0.006*\"заряд\" + 0.000*\"взрыв\" + 0.000*\"бомба\" + 0.000*\"самолёт\" + 0.000*\"испытание\" + 0.000*\"1955\" + 0.000*\"посадка\" + 0.000*\"час\"'),\n",
       " (80,\n",
       "  '0.036*\"чемпионат\" + 0.032*\"команда\" + 0.029*\"сезон\" + 0.024*\"раунд\" + 0.024*\"мир\" + 0.024*\"финал\" + 0.020*\"чемпион\" + 0.020*\"сборная\" + 0.018*\"игрок\" + 0.017*\"выиграть\"')]"
      ]
     },
     "execution_count": 67,
     "metadata": {},
     "output_type": "execute_result"
    }
   ],
   "source": [
    "lda.print_topics()"
   ]
  },
  {
   "cell_type": "markdown",
   "id": "97cebf75",
   "metadata": {},
   "source": [
    "Хорошая тема\n",
    "\n",
    "(84,\n",
    "  '0.036*\"полигон\" + 0.030*\"ядерный\" + 0.006*\"заряд\" + 0.000*\"взрыв\" + 0.000*\"бомба\" + 0.000*\"самолёт\" + 0.000*\"испытание\" + 0.000*\"1955\" + 0.000*\"посадка\" + 0.000*\"час\"')"
   ]
  },
  {
   "cell_type": "markdown",
   "id": "dccda26b",
   "metadata": {},
   "source": [
    "### Нграммы + tfidf"
   ]
  },
  {
   "cell_type": "code",
   "execution_count": 92,
   "id": "ae6966e6",
   "metadata": {},
   "outputs": [],
   "source": [
    "texts = open('wiki_data.txt').read().splitlines()[:5000]\n",
    "texts = ([normalize(text) for text in texts])"
   ]
  },
  {
   "cell_type": "code",
   "execution_count": 93,
   "id": "a78d64f2",
   "metadata": {},
   "outputs": [],
   "source": [
    "texts = [text.split() for text in texts]\n",
    "ph = gensim.models.Phrases(texts, scoring='npmi', threshold=0.4) \n",
    "p = gensim.models.phrases.Phraser(ph)\n",
    "ngrammed_texts = p[texts] "
   ]
  },
  {
   "cell_type": "code",
   "execution_count": 94,
   "id": "eb0dccd2",
   "metadata": {},
   "outputs": [],
   "source": [
    "dictinary = gensim.corpora.Dictionary((text for text in ngrammed_texts))"
   ]
  },
  {
   "cell_type": "code",
   "execution_count": 95,
   "id": "6c5a2a45",
   "metadata": {},
   "outputs": [],
   "source": [
    "dictinary.filter_extremes(no_above=0.1, no_below=10)\n",
    "dictinary.compactify()"
   ]
  },
  {
   "cell_type": "code",
   "execution_count": 96,
   "id": "68e2d949",
   "metadata": {},
   "outputs": [],
   "source": [
    "ngrammed_texts = [' '.join(text) for text in ngrammed_texts]"
   ]
  },
  {
   "cell_type": "code",
   "execution_count": 97,
   "id": "8c86b662",
   "metadata": {},
   "outputs": [],
   "source": [
    "corpus_ = [dictinary.doc2bow(text.split()) for text in ngrammed_texts]"
   ]
  },
  {
   "cell_type": "code",
   "execution_count": 98,
   "id": "0f7bbb7e",
   "metadata": {},
   "outputs": [],
   "source": [
    "tfidf = gensim.models.TfidfModel(corpus_, id2word=dictinary, )\n",
    "corpus = tfidf[corpus_]"
   ]
  },
  {
   "cell_type": "code",
   "execution_count": 99,
   "id": "24234043",
   "metadata": {},
   "outputs": [],
   "source": [
    "lda = gensim.models.LdaModel(corpus, 110, id2word=dictinary, passes=7)"
   ]
  },
  {
   "cell_type": "code",
   "execution_count": 100,
   "id": "a3c10a99",
   "metadata": {},
   "outputs": [
    {
     "data": {
      "text/plain": [
       "11454802.735841947"
      ]
     },
     "execution_count": 100,
     "metadata": {},
     "output_type": "execute_result"
    }
   ],
   "source": [
    "np.exp2(-lda.log_perplexity(corpus_[:1000]))"
   ]
  },
  {
   "cell_type": "code",
   "execution_count": 101,
   "id": "94ac82d7",
   "metadata": {},
   "outputs": [
    {
     "data": {
      "text/plain": [
       "282391759331716.9"
      ]
     },
     "execution_count": 101,
     "metadata": {},
     "output_type": "execute_result"
    }
   ],
   "source": [
    "np.exp2(-lda.log_perplexity(corpus[:1000]))"
   ]
  },
  {
   "cell_type": "code",
   "execution_count": 102,
   "id": "a1168bd1",
   "metadata": {},
   "outputs": [
    {
     "data": {
      "text/plain": [
       "0.44756075375759286"
      ]
     },
     "execution_count": 102,
     "metadata": {},
     "output_type": "execute_result"
    }
   ],
   "source": [
    "topics = []\n",
    "for topic_id, topic in lda.show_topics(num_topics=110, formatted=False):\n",
    "    topic = [word for word, _ in topic]\n",
    "    topics.append(topic)\n",
    "    \n",
    "coherence_model_lda = gensim.models.CoherenceModel(topics=topics, \n",
    "                                                   texts=[text.split() for text in ngrammed_texts], \n",
    "                                                   dictionary=dictinary, coherence='c_v')\n",
    "\n",
    "coherence_model_lda.get_coherence()"
   ]
  },
  {
   "cell_type": "code",
   "execution_count": 105,
   "id": "279cd130",
   "metadata": {},
   "outputs": [
    {
     "data": {
      "text/plain": [
       "[(4,\n",
       "  '0.016*\"полтавский\" + 0.004*\"эксперт\" + 0.000*\"князь\" + 0.000*\"быть_избрать\" + 0.000*\"государственный\" + 0.000*\"дворянство\" + 0.000*\"почётный\" + 0.000*\"совет\" + 0.000*\"съезд\" + 0.000*\"состоять\"'),\n",
       " (39,\n",
       "  '0.011*\"армия\" + 0.009*\"2008_год\" + 0.008*\"войско\" + 0.007*\"китай\" + 0.007*\"представлять\" + 0.007*\"французский\" + 0.007*\"президент\" + 0.006*\"проект\" + 0.006*\"14\" + 0.006*\"военный\"'),\n",
       " (10,\n",
       "  '0.074*\"опера\" + 0.018*\"камерный\" + 0.014*\"театр\" + 0.014*\"1800\" + 0.014*\"премьера\" + 0.010*\"певица\" + 0.008*\"милан\" + 0.008*\"исполнить\" + 0.006*\"певец\" + 0.005*\"сцена\"'),\n",
       " (65,\n",
       "  '0.033*\"тоннель\" + 0.022*\"2016\" + 0.015*\"new\" + 0.008*\"леди\" + 0.007*\"no\" + 0.000*\"схема\" + 0.000*\"пояс\" + 0.000*\"титул\" + 0.000*\"защитить\" + 0.000*\"выиграть\"'),\n",
       " (100,\n",
       "  '0.039*\"лихтенштейн\" + 0.030*\"диалект\" + 0.022*\"праздник\" + 0.022*\"центральный_европа\" + 0.020*\"костюм\" + 0.012*\"одинаковый\" + 0.012*\"день\" + 0.012*\"грязь\" + 0.008*\"рождество\" + 0.006*\"празднование\"'),\n",
       " (44,\n",
       "  '0.000*\"расстояние_между\" + 0.000*\"сексуальный\" + 0.000*\"психический\" + 0.000*\"психологический\" + 0.000*\"раздел\" + 0.000*\"разделиться\" + 0.000*\"разрабатываться\" + 0.000*\"прозвучать\" + 0.000*\"самец\" + 0.000*\"соответствие\"'),\n",
       " (19,\n",
       "  '0.024*\"сергей\" + 0.017*\"произвести\" + 0.016*\"михаил\" + 0.015*\"александр\" + 0.013*\"дочь\" + 0.012*\"петрович\" + 0.012*\"пожаловать\" + 0.012*\"михаилович\" + 0.012*\"дворец\" + 0.011*\"павел\"'),\n",
       " (108,\n",
       "  '0.093*\"но_не\" + 0.047*\"1984\" + 0.022*\"авиакомпания\" + 0.020*\"1908\" + 0.017*\"мультсериал\" + 0.016*\"лондон\" + 0.013*\"серебряный_медаль\" + 0.013*\"air\" + 0.012*\"китайский_республика\" + 0.012*\"тайвань\"'),\n",
       " (38,\n",
       "  '0.049*\"посёлок\" + 0.045*\"перу\" + 0.037*\"поселковый_совет\" + 0.033*\"посёлок_городской\" + 0.026*\"км_от\" + 0.024*\"численность_население\" + 0.024*\"железнодорожный_станция\" + 0.023*\"пгт\" + 0.019*\"область_украина\" + 0.018*\"ударный\"'),\n",
       " (81,\n",
       "  '0.036*\"малый\" + 0.022*\"франсуа\" + 0.022*\"ярмарка\" + 0.019*\"2-й_степень\" + 0.018*\"3-й_степень\" + 0.015*\"турецкий\" + 0.014*\"слава\" + 0.013*\"украсить\" + 0.011*\"1-й_степень\" + 0.009*\"сходство\"'),\n",
       " (53,\n",
       "  '0.061*\"святой\" + 0.049*\"до_н\" + 0.043*\"э\" + 0.022*\"консул\" + 0.020*\"максим\" + 0.013*\"спектакль\" + 0.013*\"римский\" + 0.013*\"храм\" + 0.013*\"квинта\" + 0.012*\"рим\"'),\n",
       " (72,\n",
       "  '0.039*\"король\" + 0.035*\"генрих\" + 0.033*\"герцог\" + 0.026*\"ален\" + 0.020*\"карл\" + 0.019*\"принц\" + 0.018*\"англия\" + 0.013*\"принцесса\" + 0.013*\"королева\" + 0.011*\"карла\"'),\n",
       " (26,\n",
       "  '0.029*\"род\" + 0.024*\"после_смерть\" + 0.022*\"’\" + 0.021*\"дочь\" + 0.021*\"арабский\" + 0.021*\"жена\" + 0.020*\"сын\" + 0.019*\"брат\" + 0.018*\"сестра\" + 0.017*\"упоминаться\"'),\n",
       " (14,\n",
       "  '0.041*\"василий\" + 0.038*\"иван\" + 0.032*\"князь\" + 0.032*\"алексей\" + 0.029*\"валентина\" + 0.025*\"василиевич\" + 0.018*\"дмитриевич\" + 0.015*\"новгородский\" + 0.011*\"грамота\" + 0.011*\"дипломатический\"'),\n",
       " (27,\n",
       "  '0.060*\"lotus\" + 0.028*\"гран-при\" + 0.025*\"болид\" + 0.024*\"шасси\" + 0.023*\"формулы-1\" + 0.021*\"гоночный_автомобиль\" + 0.019*\"десант\" + 0.014*\"воздух\" + 0.014*\"колин\" + 0.014*\"49\"'),\n",
       " (22,\n",
       "  '0.086*\"альбом\" + 0.058*\"песня\" + 0.034*\"группа\" + 0.031*\"сингл\" + 0.030*\"the\" + 0.024*\"герб\" + 0.022*\"композиция\" + 0.019*\"выпустить\" + 0.019*\"записать\" + 0.018*\"of\"'),\n",
       " (35,\n",
       "  '0.035*\"1932\" + 0.021*\"школьный\" + 0.021*\"смирнов\" + 0.007*\"марина\" + 0.006*\"рукав\" + 0.005*\"пролетарский\" + 0.001*\"платформа\" + 0.000*\"исключить_из\" + 0.000*\"носить\" + 0.000*\"ткань\"'),\n",
       " (20,\n",
       "  '0.030*\"храм\" + 0.028*\"епархия\" + 0.018*\"автомобиль\" + 0.016*\"цвет\" + 0.016*\"модель\" + 0.015*\"чёрный\" + 0.015*\"жёлтый\" + 0.014*\"двигатель\" + 0.014*\"месторождение\" + 0.012*\"выпускаться\"'),\n",
       " (59,\n",
       "  '0.031*\"бен\" + 0.028*\"объект_культурный\" + 0.022*\"культура\" + 0.020*\"тест\" + 0.011*\"федеральный_закон\" + 0.011*\"содержание\" + 0.010*\"памятник_история\" + 0.008*\"российский_федерация\" + 0.008*\"иной\" + 0.007*\"постановление\"'),\n",
       " (85,\n",
       "  '0.050*\"генри\" + 0.012*\"кафе\" + 0.010*\"обложка\" + 0.007*\"питер\" + 0.003*\"ресторан\" + 0.000*\"рок-группа\" + 0.000*\"альбом\" + 0.000*\"гитара\" + 0.000*\"отель\" + 0.000*\"сеть\"')]"
      ]
     },
     "execution_count": 105,
     "metadata": {},
     "output_type": "execute_result"
    }
   ],
   "source": [
    "lda.print_topics()"
   ]
  },
  {
   "cell_type": "markdown",
   "id": "3181a162",
   "metadata": {},
   "source": [
    "Хорошая тема\n",
    "\n",
    " (72,\n",
    "  '0.039*\"король\" + 0.035*\"генрих\" + 0.033*\"герцог\" + 0.026*\"ален\" + 0.020*\"карл\" + 0.019*\"принц\" + 0.018*\"англия\" + 0.013*\"принцесса\" + 0.013*\"королева\" + 0.011*\"карла\"')"
   ]
  },
  {
   "cell_type": "markdown",
   "id": "7e6f7aa1",
   "metadata": {},
   "source": [
    "### Вывод\n",
    "\n",
    "Не знаю, в чем дело, но показалось, что базовая модель, как в семинаре -- лучше всех. Хотя другими методами тоже что-то определяется."
   ]
  }
 ],
 "metadata": {
  "kernelspec": {
   "display_name": "Python 3 (ipykernel)",
   "language": "python",
   "name": "python3"
  },
  "language_info": {
   "codemirror_mode": {
    "name": "ipython",
    "version": 3
   },
   "file_extension": ".py",
   "mimetype": "text/x-python",
   "name": "python",
   "nbconvert_exporter": "python",
   "pygments_lexer": "ipython3",
   "version": "3.9.16"
  }
 },
 "nbformat": 4,
 "nbformat_minor": 5
}
