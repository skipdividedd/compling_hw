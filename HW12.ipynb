{
 "cells": [
  {
   "cell_type": "markdown",
   "id": "61c933c0",
   "metadata": {
    "id": "61c933c0"
   },
   "source": [
    "# Reinforcement learning from (human) feedback"
   ]
  },
  {
   "cell_type": "markdown",
   "id": "dc96f43c",
   "metadata": {
    "id": "dc96f43c"
   },
   "source": [
    "библиотека TRL - https://github.com/lvwerra/trl "
   ]
  },
  {
   "cell_type": "code",
   "execution_count": 1,
   "id": "d8a2af05",
   "metadata": {
    "colab": {
     "base_uri": "https://localhost:8080/"
    },
    "id": "d8a2af05",
    "outputId": "6ec351ad-ff45-4eae-d89e-9eb2be0613ea"
   },
   "outputs": [
    {
     "name": "stdout",
     "output_type": "stream",
     "text": [
      "Looking in indexes: https://pypi.org/simple, https://us-python.pkg.dev/colab-wheels/public/simple/\n",
      "Requirement already satisfied: transformers in /usr/local/lib/python3.10/dist-packages (4.28.1)\n",
      "Requirement already satisfied: trl in /usr/local/lib/python3.10/dist-packages (0.4.1)\n",
      "Requirement already satisfied: wandb in /usr/local/lib/python3.10/dist-packages (0.15.2)\n",
      "Requirement already satisfied: requests in /usr/local/lib/python3.10/dist-packages (from transformers) (2.27.1)\n",
      "Requirement already satisfied: filelock in /usr/local/lib/python3.10/dist-packages (from transformers) (3.12.0)\n",
      "Requirement already satisfied: pyyaml>=5.1 in /usr/local/lib/python3.10/dist-packages (from transformers) (6.0)\n",
      "Requirement already satisfied: huggingface-hub<1.0,>=0.11.0 in /usr/local/lib/python3.10/dist-packages (from transformers) (0.14.1)\n",
      "Requirement already satisfied: regex!=2019.12.17 in /usr/local/lib/python3.10/dist-packages (from transformers) (2022.10.31)\n",
      "Requirement already satisfied: tokenizers!=0.11.3,<0.14,>=0.11.1 in /usr/local/lib/python3.10/dist-packages (from transformers) (0.13.3)\n",
      "Requirement already satisfied: packaging>=20.0 in /usr/local/lib/python3.10/dist-packages (from transformers) (23.1)\n",
      "Requirement already satisfied: numpy>=1.17 in /usr/local/lib/python3.10/dist-packages (from transformers) (1.22.4)\n",
      "Requirement already satisfied: tqdm>=4.27 in /usr/local/lib/python3.10/dist-packages (from transformers) (4.65.0)\n",
      "Requirement already satisfied: torch>=1.4.0 in /usr/local/lib/python3.10/dist-packages (from trl) (2.0.0+cu118)\n",
      "Requirement already satisfied: datasets in /usr/local/lib/python3.10/dist-packages (from trl) (2.12.0)\n",
      "Requirement already satisfied: accelerate in /usr/local/lib/python3.10/dist-packages (from trl) (0.18.0)\n",
      "Requirement already satisfied: sentry-sdk>=1.0.0 in /usr/local/lib/python3.10/dist-packages (from wandb) (1.22.1)\n",
      "Requirement already satisfied: appdirs>=1.4.3 in /usr/local/lib/python3.10/dist-packages (from wandb) (1.4.4)\n",
      "Requirement already satisfied: protobuf!=4.21.0,<5,>=3.19.0 in /usr/local/lib/python3.10/dist-packages (from wandb) (3.20.3)\n",
      "Requirement already satisfied: psutil>=5.0.0 in /usr/local/lib/python3.10/dist-packages (from wandb) (5.9.5)\n",
      "Requirement already satisfied: docker-pycreds>=0.4.0 in /usr/local/lib/python3.10/dist-packages (from wandb) (0.4.0)\n",
      "Requirement already satisfied: setproctitle in /usr/local/lib/python3.10/dist-packages (from wandb) (1.3.2)\n",
      "Requirement already satisfied: Click!=8.0.0,>=7.0 in /usr/local/lib/python3.10/dist-packages (from wandb) (8.1.3)\n",
      "Requirement already satisfied: pathtools in /usr/local/lib/python3.10/dist-packages (from wandb) (0.1.2)\n",
      "Requirement already satisfied: setuptools in /usr/local/lib/python3.10/dist-packages (from wandb) (67.7.2)\n",
      "Requirement already satisfied: GitPython!=3.1.29,>=1.0.0 in /usr/local/lib/python3.10/dist-packages (from wandb) (3.1.31)\n",
      "Requirement already satisfied: six>=1.4.0 in /usr/local/lib/python3.10/dist-packages (from docker-pycreds>=0.4.0->wandb) (1.16.0)\n",
      "Requirement already satisfied: gitdb<5,>=4.0.1 in /usr/local/lib/python3.10/dist-packages (from GitPython!=3.1.29,>=1.0.0->wandb) (4.0.10)\n",
      "Requirement already satisfied: typing-extensions>=3.7.4.3 in /usr/local/lib/python3.10/dist-packages (from huggingface-hub<1.0,>=0.11.0->transformers) (4.5.0)\n",
      "Requirement already satisfied: fsspec in /usr/local/lib/python3.10/dist-packages (from huggingface-hub<1.0,>=0.11.0->transformers) (2023.4.0)\n",
      "Requirement already satisfied: certifi>=2017.4.17 in /usr/local/lib/python3.10/dist-packages (from requests->transformers) (2022.12.7)\n",
      "Requirement already satisfied: urllib3<1.27,>=1.21.1 in /usr/local/lib/python3.10/dist-packages (from requests->transformers) (1.26.15)\n",
      "Requirement already satisfied: idna<4,>=2.5 in /usr/local/lib/python3.10/dist-packages (from requests->transformers) (3.4)\n",
      "Requirement already satisfied: charset-normalizer~=2.0.0 in /usr/local/lib/python3.10/dist-packages (from requests->transformers) (2.0.12)\n",
      "Requirement already satisfied: sympy in /usr/local/lib/python3.10/dist-packages (from torch>=1.4.0->trl) (1.11.1)\n",
      "Requirement already satisfied: triton==2.0.0 in /usr/local/lib/python3.10/dist-packages (from torch>=1.4.0->trl) (2.0.0)\n",
      "Requirement already satisfied: jinja2 in /usr/local/lib/python3.10/dist-packages (from torch>=1.4.0->trl) (3.1.2)\n",
      "Requirement already satisfied: networkx in /usr/local/lib/python3.10/dist-packages (from torch>=1.4.0->trl) (3.1)\n",
      "Requirement already satisfied: lit in /usr/local/lib/python3.10/dist-packages (from triton==2.0.0->torch>=1.4.0->trl) (16.0.2)\n",
      "Requirement already satisfied: cmake in /usr/local/lib/python3.10/dist-packages (from triton==2.0.0->torch>=1.4.0->trl) (3.25.2)\n",
      "Requirement already satisfied: multiprocess in /usr/local/lib/python3.10/dist-packages (from datasets->trl) (0.70.14)\n",
      "Requirement already satisfied: aiohttp in /usr/local/lib/python3.10/dist-packages (from datasets->trl) (3.8.4)\n",
      "Requirement already satisfied: xxhash in /usr/local/lib/python3.10/dist-packages (from datasets->trl) (3.2.0)\n",
      "Requirement already satisfied: dill<0.3.7,>=0.3.0 in /usr/local/lib/python3.10/dist-packages (from datasets->trl) (0.3.6)\n",
      "Requirement already satisfied: pandas in /usr/local/lib/python3.10/dist-packages (from datasets->trl) (1.5.3)\n",
      "Requirement already satisfied: pyarrow>=8.0.0 in /usr/local/lib/python3.10/dist-packages (from datasets->trl) (9.0.0)\n",
      "Requirement already satisfied: responses<0.19 in /usr/local/lib/python3.10/dist-packages (from datasets->trl) (0.18.0)\n",
      "Requirement already satisfied: yarl<2.0,>=1.0 in /usr/local/lib/python3.10/dist-packages (from aiohttp->datasets->trl) (1.9.2)\n",
      "Requirement already satisfied: aiosignal>=1.1.2 in /usr/local/lib/python3.10/dist-packages (from aiohttp->datasets->trl) (1.3.1)\n",
      "Requirement already satisfied: multidict<7.0,>=4.5 in /usr/local/lib/python3.10/dist-packages (from aiohttp->datasets->trl) (6.0.4)\n",
      "Requirement already satisfied: attrs>=17.3.0 in /usr/local/lib/python3.10/dist-packages (from aiohttp->datasets->trl) (23.1.0)\n",
      "Requirement already satisfied: frozenlist>=1.1.1 in /usr/local/lib/python3.10/dist-packages (from aiohttp->datasets->trl) (1.3.3)\n",
      "Requirement already satisfied: async-timeout<5.0,>=4.0.0a3 in /usr/local/lib/python3.10/dist-packages (from aiohttp->datasets->trl) (4.0.2)\n",
      "Requirement already satisfied: smmap<6,>=3.0.1 in /usr/local/lib/python3.10/dist-packages (from gitdb<5,>=4.0.1->GitPython!=3.1.29,>=1.0.0->wandb) (5.0.0)\n",
      "Requirement already satisfied: MarkupSafe>=2.0 in /usr/local/lib/python3.10/dist-packages (from jinja2->torch>=1.4.0->trl) (2.1.2)\n",
      "Requirement already satisfied: python-dateutil>=2.8.1 in /usr/local/lib/python3.10/dist-packages (from pandas->datasets->trl) (2.8.2)\n",
      "Requirement already satisfied: pytz>=2020.1 in /usr/local/lib/python3.10/dist-packages (from pandas->datasets->trl) (2022.7.1)\n",
      "Requirement already satisfied: mpmath>=0.19 in /usr/local/lib/python3.10/dist-packages (from sympy->torch>=1.4.0->trl) (1.3.0)\n"
     ]
    }
   ],
   "source": [
    "%pip install transformers trl wandb"
   ]
  },
  {
   "cell_type": "markdown",
   "id": "70de44c9",
   "metadata": {
    "id": "70de44c9"
   },
   "source": [
    "### TRL"
   ]
  },
  {
   "cell_type": "markdown",
   "id": "64a16d55",
   "metadata": {
    "id": "64a16d55"
   },
   "source": [
    "Схематично обучение в TRL устроено вот так:\n",
    "\n",
    "1) Rollout - это просто генерация текстов, используя исходную языковую модель. Чтобы тексты были релеватными можно взять определенные промты и генерировать их продолжения.\n",
    "\n",
    "2) Evaluation - это оценивание сгенерированных текстов, в нашем случае мы будет это делать с помощью предобученного классификатора тональности \n",
    "\n",
    "3) Optimization - это само обучение. Обратите внимание, что на этом шаге есть active_model и reference_model. Изначально это одна и та же модель, но в процессе обучения мы изменяем active_model так, чтобы она не сильно уходила от изначальное модели (reference_model)"
   ]
  },
  {
   "cell_type": "code",
   "execution_count": 2,
   "id": "0db70187",
   "metadata": {
    "id": "0db70187"
   },
   "outputs": [],
   "source": [
    "import torch\n",
    "from tqdm.notebook import tqdm\n",
    "import pandas as pd\n",
    "from transformers import pipeline, AutoTokenizer\n",
    "from datasets import load_dataset\n",
    "\n",
    "from trl import PPOTrainer, PPOConfig, AutoModelForCausalLMWithValueHead\n",
    "from trl.core import LengthSampler"
   ]
  },
  {
   "cell_type": "code",
   "execution_count": 3,
   "id": "f23aefbd",
   "metadata": {
    "id": "f23aefbd"
   },
   "outputs": [],
   "source": [
    "# тут задаются гиперпараметры\n",
    "config = PPOConfig(\n",
    "    model_name=\"ai-forever/rugpt3small_based_on_gpt2\",\n",
    "    learning_rate=1.41e-5,\n",
    "    log_with=None,\n",
    "    mini_batch_size=16\n",
    ")\n",
    "\n",
    "sent_kwargs = {\"return_all_scores\": True, \"function_to_apply\": \"none\", \"batch_size\": 16}"
   ]
  },
  {
   "cell_type": "code",
   "execution_count": 4,
   "id": "9r4UNTKVishY",
   "metadata": {
    "colab": {
     "base_uri": "https://localhost:8080/"
    },
    "id": "9r4UNTKVishY",
    "outputId": "9d478db2-55af-4809-f2cf-b96fefbb1f46"
   },
   "outputs": [
    {
     "name": "stdout",
     "output_type": "stream",
     "text": [
      "Drive already mounted at /content/drive; to attempt to forcibly remount, call drive.mount(\"/content/drive\", force_remount=True).\n"
     ]
    }
   ],
   "source": [
    "from google.colab import drive\n",
    "drive.mount('/content/drive')"
   ]
  },
  {
   "cell_type": "code",
   "execution_count": 5,
   "id": "mUpZZQuShigl",
   "metadata": {
    "colab": {
     "base_uri": "https://localhost:8080/",
     "height": 87,
     "referenced_widgets": [
      "0a9f4dd7ee844742ae0756ee8f0e1ecd",
      "d47861c72d2f4cc0a5fc3b6c7e5ce692",
      "7544bc505e2b4abbaf16713dcbdf2b8a",
      "7d4a039e72e84fb4a5a9f7e64ee03d5e",
      "b1cd6ff66f2a40d5956bfcef10a433e2",
      "bdb8b68a41a247b3b93f4521380f87b4",
      "7e2de7ad5dcc4ed787cb3e26aeb15b87",
      "4892931f637f498585f1a9726ff3112e",
      "02546cd61473449bb83a5b26d0fac7d7",
      "bd9d5bcf72f44039bfca765216e9da74",
      "a6f7bd5e88b34299b61bf0a619985837"
     ]
    },
    "id": "mUpZZQuShigl",
    "outputId": "8834d263-168e-4802-899b-4866f6b31b9a"
   },
   "outputs": [
    {
     "name": "stderr",
     "output_type": "stream",
     "text": [
      "WARNING:datasets.builder:Found cached dataset csv (/root/.cache/huggingface/datasets/csv/default-b71663e6487e287f/0.0.0/6954658bab30a358235fa864b05cf819af0e179325c740e4bc853bcc7ec513e1)\n"
     ]
    },
    {
     "data": {
      "application/vnd.jupyter.widget-view+json": {
       "model_id": "0a9f4dd7ee844742ae0756ee8f0e1ecd",
       "version_major": 2,
       "version_minor": 0
      },
      "text/plain": [
       "  0%|          | 0/1 [00:00<?, ?it/s]"
      ]
     },
     "metadata": {},
     "output_type": "display_data"
    }
   ],
   "source": [
    "dataset = load_dataset(\"csv\", data_files=\"/content/drive/MyDrive/labeled.csv\")"
   ]
  },
  {
   "cell_type": "code",
   "execution_count": 6,
   "id": "x32vzHi3jbdM",
   "metadata": {
    "colab": {
     "base_uri": "https://localhost:8080/"
    },
    "id": "x32vzHi3jbdM",
    "outputId": "0aa86ac9-61cd-4e41-d343-731e5b5e38a7"
   },
   "outputs": [
    {
     "data": {
      "text/plain": [
       "DatasetDict({\n",
       "    train: Dataset({\n",
       "        features: ['comment', 'toxic'],\n",
       "        num_rows: 14412\n",
       "    })\n",
       "})"
      ]
     },
     "execution_count": 6,
     "metadata": {},
     "output_type": "execute_result"
    }
   ],
   "source": [
    "dataset"
   ]
  },
  {
   "cell_type": "markdown",
   "id": "0e237f0e",
   "metadata": {
    "id": "0e237f0e"
   },
   "source": [
    "Для генерирования текстов тут используется toxic датасет. От каждого текста отрезается случайно какой-то кусочек и модель должна его продолжить."
   ]
  },
  {
   "cell_type": "code",
   "execution_count": 7,
   "id": "6e7d55ff",
   "metadata": {
    "id": "6e7d55ff"
   },
   "outputs": [],
   "source": [
    "def build_dataset(config, dataset=dataset['train'], input_min_text_length=2, input_max_text_length=8):\n",
    "    tokenizer = AutoTokenizer.from_pretrained(config.model_name)\n",
    "    tokenizer.pad_token = tokenizer.eos_token\n",
    "    ds = dataset\n",
    "    ds = ds.rename_columns({\"comment\": \"review\"})\n",
    "    \n",
    "    # еще есть фильтрация по длине\n",
    "    ds = ds.filter(lambda x: len(x[\"review\"]) > 200, batched=False)\n",
    "    ds = ds.filter(lambda x: len(x[\"review\"]) < 2000, batched=False)\n",
    "    \n",
    "    # длина кусочка определяется случайно\n",
    "    input_size = LengthSampler(input_min_text_length, input_max_text_length)\n",
    "\n",
    "    def tokenize(sample):\n",
    "        sample[\"input_ids\"] = tokenizer.encode(sample[\"review\"])[: input_size()]\n",
    "        sample[\"query\"] = tokenizer.decode(sample[\"input_ids\"])\n",
    "        return sample\n",
    "\n",
    "    ds = ds.map(tokenize, batched=False)\n",
    "    ds.set_format(type=\"torch\")\n",
    "    return ds"
   ]
  },
  {
   "cell_type": "code",
   "execution_count": 8,
   "id": "f867903c",
   "metadata": {
    "colab": {
     "base_uri": "https://localhost:8080/"
    },
    "id": "f867903c",
    "outputId": "89e83e59-3f3b-4778-e2ab-cb329a8f3b22"
   },
   "outputs": [
    {
     "name": "stderr",
     "output_type": "stream",
     "text": [
      "Special tokens have been added in the vocabulary, make sure the associated word embeddings are fine-tuned or trained.\n",
      "WARNING:datasets.arrow_dataset:Loading cached processed dataset at /root/.cache/huggingface/datasets/csv/default-b71663e6487e287f/0.0.0/6954658bab30a358235fa864b05cf819af0e179325c740e4bc853bcc7ec513e1/cache-678076661ba0da55.arrow\n",
      "WARNING:datasets.arrow_dataset:Loading cached processed dataset at /root/.cache/huggingface/datasets/csv/default-b71663e6487e287f/0.0.0/6954658bab30a358235fa864b05cf819af0e179325c740e4bc853bcc7ec513e1/cache-624ac2102e3856e8.arrow\n",
      "WARNING:datasets.arrow_dataset:Loading cached processed dataset at /root/.cache/huggingface/datasets/csv/default-b71663e6487e287f/0.0.0/6954658bab30a358235fa864b05cf819af0e179325c740e4bc853bcc7ec513e1/cache-d796ee36749b420a.arrow\n"
     ]
    }
   ],
   "source": [
    "dataset = build_dataset(config)\n",
    "\n",
    "def collator(data):\n",
    "    return dict((key, [d[key] for d in data]) for key in data[0])"
   ]
  },
  {
   "cell_type": "code",
   "execution_count": 9,
   "id": "cc054ee6",
   "metadata": {
    "colab": {
     "base_uri": "https://localhost:8080/"
    },
    "id": "cc054ee6",
    "outputId": "2e12c7d6-62ee-44d3-f1af-7c6424b9df51"
   },
   "outputs": [
    {
     "name": "stderr",
     "output_type": "stream",
     "text": [
      "Special tokens have been added in the vocabulary, make sure the associated word embeddings are fine-tuned or trained.\n"
     ]
    }
   ],
   "source": [
    "# active_model\n",
    "model = AutoModelForCausalLMWithValueHead.from_pretrained(config.model_name)\n",
    "# reference_model (обратите внимание что это одна и так же модель изначально)\n",
    "ref_model = AutoModelForCausalLMWithValueHead.from_pretrained(config.model_name)\n",
    "tokenizer = AutoTokenizer.from_pretrained(config.model_name)\n",
    "tokenizer.pad_token = tokenizer.eos_token"
   ]
  },
  {
   "cell_type": "code",
   "execution_count": 10,
   "id": "6c2a4b89",
   "metadata": {
    "id": "6c2a4b89"
   },
   "outputs": [],
   "source": [
    "ppo_trainer = PPOTrainer(config, model, ref_model, tokenizer, dataset=dataset, data_collator=collator)"
   ]
  },
  {
   "cell_type": "code",
   "execution_count": 11,
   "id": "f37f64b4",
   "metadata": {
    "id": "f37f64b4"
   },
   "outputs": [],
   "source": [
    "device = ppo_trainer.accelerator.device\n",
    "if ppo_trainer.accelerator.num_processes == 1:\n",
    "    device = 0 if torch.cuda.is_available() else \"cpu\"  # to avoid a `pipeline` bug"
   ]
  },
  {
   "cell_type": "markdown",
   "id": "833df8bb",
   "metadata": {
    "id": "833df8bb"
   },
   "source": [
    "Для оценки тональности используется пайплайн из huggingface и предобученная модель"
   ]
  },
  {
   "cell_type": "code",
   "execution_count": 12,
   "id": "59495c0c",
   "metadata": {
    "id": "59495c0c"
   },
   "outputs": [],
   "source": [
    "sentiment_pipe = pipeline(\"sentiment-analysis\", model=\"cointegrated/rubert-tiny-sentiment-balanced\", device=device)"
   ]
  },
  {
   "cell_type": "markdown",
   "id": "f6a19fdf",
   "metadata": {
    "id": "f6a19fdf"
   },
   "source": [
    "Для каждого текста она выдает скор негативности и положительности. Для обучения дальше будет использоваться скор положительности"
   ]
  },
  {
   "cell_type": "code",
   "execution_count": 13,
   "id": "ae2f1522",
   "metadata": {
    "colab": {
     "base_uri": "https://localhost:8080/"
    },
    "id": "ae2f1522",
    "outputId": "10193a68-c95d-45c5-97f4-9582bf9c0fe0"
   },
   "outputs": [
    {
     "name": "stderr",
     "output_type": "stream",
     "text": [
      "/usr/local/lib/python3.10/dist-packages/transformers/pipelines/text_classification.py:104: UserWarning: `return_all_scores` is now deprecated,  if want a similar funcionality use `top_k=None` instead of `return_all_scores=True` or `top_k=1` instead of `return_all_scores=False`.\n",
      "  warnings.warn(\n"
     ]
    },
    {
     "data": {
      "text/plain": [
       "[[{'label': 'negative', 'score': -0.9139207601547241},\n",
       "  {'label': 'neutral', 'score': 0.46272024512290955},\n",
       "  {'label': 'positive', 'score': 0.11588776111602783}]]"
      ]
     },
     "execution_count": 13,
     "metadata": {},
     "output_type": "execute_result"
    }
   ],
   "source": [
    "text = \"этот фильм всрат!!\"\n",
    "sentiment_pipe(text, **sent_kwargs)"
   ]
  },
  {
   "cell_type": "code",
   "execution_count": 14,
   "id": "c2e56759",
   "metadata": {
    "colab": {
     "base_uri": "https://localhost:8080/"
    },
    "id": "c2e56759",
    "outputId": "6d275ba8-e430-41bc-fd9e-9cdc6e04d1e3"
   },
   "outputs": [
    {
     "data": {
      "text/plain": [
       "[[{'label': 'negative', 'score': -1.3060051202774048},\n",
       "  {'label': 'neutral', 'score': -1.5412918329238892},\n",
       "  {'label': 'positive', 'score': 2.711308240890503}]]"
      ]
     },
     "execution_count": 14,
     "metadata": {},
     "output_type": "execute_result"
    }
   ],
   "source": [
    "text = \"этот фильм отличный!!\"\n",
    "sentiment_pipe(text, **sent_kwargs)"
   ]
  },
  {
   "cell_type": "markdown",
   "id": "ed6b6551",
   "metadata": {
    "id": "ed6b6551"
   },
   "source": [
    "Еще одно место, где можно настраивать параметры. Эти параметры мы разбирали на семинаре по GPT они отвечают за генерацию."
   ]
  },
  {
   "cell_type": "code",
   "execution_count": 15,
   "id": "e3cdf60e",
   "metadata": {
    "id": "e3cdf60e"
   },
   "outputs": [],
   "source": [
    "gen_kwargs = {\"min_length\": -1, \"top_k\": 0.0, \"top_p\": 1.0, \n",
    "              \"do_sample\": True, \"pad_token_id\": tokenizer.eos_token_id}"
   ]
  },
  {
   "cell_type": "markdown",
   "id": "f42757f1",
   "metadata": {
    "id": "f42757f1"
   },
   "source": [
    "Само обучение. Для небольших моделей оно даже не очень долгое"
   ]
  },
  {
   "cell_type": "code",
   "execution_count": 16,
   "id": "75e56fd1",
   "metadata": {
    "colab": {
     "base_uri": "https://localhost:8080/",
     "height": 123,
     "referenced_widgets": [
      "6af99c7b816d40eea47cd3d7a7473cb7",
      "61eef0d6a98c4da5a1acdb6c3b5d5031",
      "2ef9b50a0e51416b9e678f90136afddf",
      "4e82e99a9a2740489b58ba6659f8dd51",
      "c879f8fcc41b4f349afe7f065892c61b",
      "80fec8f3b09341c9814f1b330128819b",
      "5e675bf3848c4026bf6a5d2c16a40a7d",
      "d0612d7280a54767892ac13e34c7d5f5",
      "7dfb084a2d1c422792264ae7071ad267",
      "3105d003abf04caab8dc5ef28cfd31c4",
      "3691862089fa4f6d96f5911b787be897"
     ]
    },
    "id": "75e56fd1",
    "outputId": "5a68299e-331a-4b70-c09b-fcc375db154c"
   },
   "outputs": [
    {
     "data": {
      "application/vnd.jupyter.widget-view+json": {
       "model_id": "6af99c7b816d40eea47cd3d7a7473cb7",
       "version_major": 2,
       "version_minor": 0
      },
      "text/plain": [
       "  0%|          | 0/13 [00:00<?, ?it/s]"
      ]
     },
     "metadata": {},
     "output_type": "display_data"
    },
    {
     "name": "stderr",
     "output_type": "stream",
     "text": [
      "You're using a GPT2TokenizerFast tokenizer. Please note that with a fast tokenizer, using the `__call__` method is faster than using a method to encode the text followed by a call to the `pad` method to get a padded encoding.\n",
      "/usr/local/lib/python3.10/dist-packages/transformers/pipelines/base.py:1070: UserWarning: You seem to be using the pipelines sequentially on GPU. In order to maximize efficiency please use a dataset\n",
      "  warnings.warn(\n"
     ]
    }
   ],
   "source": [
    "output_min_length = 8\n",
    "output_max_length = 32\n",
    "output_length_sampler = LengthSampler(output_min_length, output_max_length)\n",
    "\n",
    "\n",
    "generation_kwargs = {\n",
    "    \"min_length\": -1,\n",
    "    \"top_k\": 0.0,\n",
    "    \"top_p\": 1.0,\n",
    "    \"do_sample\": True,\n",
    "    \"pad_token_id\": tokenizer.eos_token_id,\n",
    "}\n",
    "\n",
    "\n",
    "for epoch, batch in tqdm(enumerate(ppo_trainer.dataloader), \n",
    "                         total=dataset.num_rows//ppo_trainer.dataloader.batch_sampler.batch_size):\n",
    "    query_tensors = batch[\"input_ids\"]\n",
    "\n",
    "    #### Get response from gpt2\n",
    "    response_tensors = []\n",
    "    for query in query_tensors:\n",
    "        gen_len = output_length_sampler()\n",
    "        generation_kwargs[\"max_new_tokens\"] = gen_len\n",
    "        response = ppo_trainer.generate(query, **generation_kwargs)\n",
    "        response_tensors.append(response.squeeze()[-gen_len:])\n",
    "    batch[\"response\"] = [tokenizer.decode(r.squeeze()) for r in response_tensors]\n",
    "\n",
    "    #### Compute sentiment score\n",
    "    texts = [q + r for q, r in zip(batch[\"query\"], batch[\"response\"])]\n",
    "    pipe_outputs = sentiment_pipe(texts, **sent_kwargs)\n",
    "    rewards = [torch.tensor(output[2][\"score\"]) for output in pipe_outputs]\n",
    "\n",
    "    #### Run PPO step\n",
    "    stats = ppo_trainer.step(query_tensors, response_tensors, rewards)\n",
    "    ppo_trainer.log_stats(stats, batch, rewards)"
   ]
  },
  {
   "cell_type": "code",
   "execution_count": 17,
   "id": "44dd2189",
   "metadata": {
    "id": "44dd2189"
   },
   "outputs": [],
   "source": [
    "# pd.set_option('display.max_rows', 3000)\n",
    "# pd.set_option('display.max_colwidth', 5000)"
   ]
  },
  {
   "cell_type": "markdown",
   "id": "95c62daf",
   "metadata": {
    "id": "95c62daf"
   },
   "source": [
    "Можно посмотреть на результаты, сгенериров продолжения старой и новой модель"
   ]
  },
  {
   "cell_type": "code",
   "execution_count": 20,
   "id": "3f251f46",
   "metadata": {
    "colab": {
     "base_uri": "https://localhost:8080/"
    },
    "id": "3f251f46",
    "outputId": "56e4e473-e4ad-4845-907b-53a68ff9c58f"
   },
   "outputs": [
    {
     "name": "stderr",
     "output_type": "stream",
     "text": [
      "/usr/local/lib/python3.10/dist-packages/transformers/pipelines/text_classification.py:104: UserWarning: `return_all_scores` is now deprecated,  if want a similar funcionality use `top_k=None` instead of `return_all_scores=True` or `top_k=1` instead of `return_all_scores=False`.\n",
      "  warnings.warn(\n",
      "/usr/local/lib/python3.10/dist-packages/transformers/pipelines/base.py:1070: UserWarning: You seem to be using the pipelines sequentially on GPU. In order to maximize efficiency please use a dataset\n",
      "  warnings.warn(\n"
     ]
    }
   ],
   "source": [
    "#### get a batch from the dataset\n",
    "bs = 32\n",
    "game_data = dict()\n",
    "dataset.set_format(\"pandas\")\n",
    "df_batch = dataset[:].sample(bs)\n",
    "game_data[\"query\"] = df_batch[\"query\"].tolist()\n",
    "query_tensors = df_batch[\"input_ids\"].tolist()\n",
    "\n",
    "response_tensors_ref, response_tensors = [], []\n",
    "\n",
    "#### get response from gpt2 and gpt2_ref\n",
    "for i in range(bs):\n",
    "    gen_len = output_length_sampler()\n",
    "    output = ref_model.generate(\n",
    "        torch.tensor(query_tensors[i]).unsqueeze(dim=0).to(device), max_new_tokens=gen_len, **gen_kwargs\n",
    "    ).squeeze()[-gen_len:]\n",
    "    response_tensors_ref.append(output)\n",
    "    output = model.generate(\n",
    "        torch.tensor(query_tensors[i]).unsqueeze(dim=0).to(device), max_new_tokens=gen_len, **gen_kwargs\n",
    "    ).squeeze()[-gen_len:]\n",
    "    response_tensors.append(output)\n",
    "\n",
    "#### decode responses\n",
    "game_data[\"response (before)\"] = [tokenizer.decode(response_tensors_ref[i]) for i in range(bs)]\n",
    "game_data[\"response (after)\"] = [tokenizer.decode(response_tensors[i]) for i in range(bs)]\n",
    "\n",
    "#### sentiment analysis of query/response pairs before/after\n",
    "texts = [q + r for q, r in zip(game_data[\"query\"], game_data[\"response (before)\"])]\n",
    "game_data[\"rewards (before)\"] = [output[2][\"score\"] for output in sentiment_pipe(texts, **sent_kwargs)]\n",
    "\n",
    "texts = [q + r for q, r in zip(game_data[\"query\"], game_data[\"response (after)\"])]\n",
    "game_data[\"rewards (after)\"] = [output[2][\"score\"] for output in sentiment_pipe(texts, **sent_kwargs)]"
   ]
  },
  {
   "cell_type": "code",
   "execution_count": 21,
   "id": "FXxkd97HqyFE",
   "metadata": {
    "colab": {
     "base_uri": "https://localhost:8080/",
     "height": 1000
    },
    "id": "FXxkd97HqyFE",
    "outputId": "7bbe5509-99a5-4b29-dbfe-ad25bb49c23a"
   },
   "outputs": [
    {
     "data": {
      "text/html": [
       "\n",
       "  <div id=\"df-a9735914-7e61-4173-bbc6-9b30fc2c6546\">\n",
       "    <div class=\"colab-df-container\">\n",
       "      <div>\n",
       "<style scoped>\n",
       "    .dataframe tbody tr th:only-of-type {\n",
       "        vertical-align: middle;\n",
       "    }\n",
       "\n",
       "    .dataframe tbody tr th {\n",
       "        vertical-align: top;\n",
       "    }\n",
       "\n",
       "    .dataframe thead th {\n",
       "        text-align: right;\n",
       "    }\n",
       "</style>\n",
       "<table border=\"1\" class=\"dataframe\">\n",
       "  <thead>\n",
       "    <tr style=\"text-align: right;\">\n",
       "      <th></th>\n",
       "      <th>query</th>\n",
       "      <th>response (before)</th>\n",
       "      <th>response (after)</th>\n",
       "      <th>rewards (before)</th>\n",
       "      <th>rewards (after)</th>\n",
       "    </tr>\n",
       "  </thead>\n",
       "  <tbody>\n",
       "    <tr>\n",
       "      <th>0</th>\n",
       "      <td>Пфф</td>\n",
       "      <td>ф, все ж зацепил!\\nБог велел, блять!\\nну он то...</td>\n",
       "      <td>ф, нет Спасибо). Обработана память - правда.\\n...</td>\n",
       "      <td>-1.854557</td>\n",
       "      <td>3.233626</td>\n",
       "    </tr>\n",
       "    <tr>\n",
       "      <th>1</th>\n",
       "      <td>В этих случаях ищут максимальные</td>\n",
       "      <td>возможности, т.к. в изоляторах полнейший кари...</td>\n",
       "      <td>шансы опережающего развития событий).\\n\\nВ ит...</td>\n",
       "      <td>-0.664224</td>\n",
       "      <td>-0.225002</td>\n",
       "    </tr>\n",
       "    <tr>\n",
       "      <th>2</th>\n",
       "      <td>Умеет - и</td>\n",
       "      <td>пальцем не тронет.\\nЛегко и непринужд</td>\n",
       "      <td>обязательно умеет заставить) \\n Люблю зимы и ...</td>\n",
       "      <td>-1.579653</td>\n",
       "      <td>3.815419</td>\n",
       "    </tr>\n",
       "    <tr>\n",
       "      <th>3</th>\n",
       "      <td>Во, у нас такие же</td>\n",
       "      <td>от восточнейшего колеи, знаете</td>\n",
       "      <td>забронированные окна!\\nВот тут</td>\n",
       "      <td>-1.138388</td>\n",
       "      <td>-1.488920</td>\n",
       "    </tr>\n",
       "    <tr>\n",
       "      <th>4</th>\n",
       "      <td>вот ты мне только</td>\n",
       "      <td>честно, ты -- одно целое с непобедимой верой ...</td>\n",
       "      <td>что подарил такую замечательную девушку....\\n...</td>\n",
       "      <td>-1.407189</td>\n",
       "      <td>3.909848</td>\n",
       "    </tr>\n",
       "    <tr>\n",
       "      <th>5</th>\n",
       "      <td>СЕГОДНЯ</td>\n",
       "      <td>в Афинах Вас приветствуют флорентийцы и венец...</td>\n",
       "      <td>).  В этом году дата знаменательна максимально...</td>\n",
       "      <td>-1.952533</td>\n",
       "      <td>-1.497386</td>\n",
       "    </tr>\n",
       "    <tr>\n",
       "      <th>6</th>\n",
       "      <td>Ну а что</td>\n",
       "      <td>с остальными бедами? С каждым.\\nа с</td>\n",
       "      <td>, единственное занятие, которое тебя развлечет...</td>\n",
       "      <td>-2.951481</td>\n",
       "      <td>-2.088066</td>\n",
       "    </tr>\n",
       "    <tr>\n",
       "      <th>7</th>\n",
       "      <td>Вы правы. Но:</td>\n",
       "      <td>я никоим образом не изучала эти тайны. Способ...</td>\n",
       "      <td>-) Я не люблю, когда меня хотят посвящать нас...</td>\n",
       "      <td>-1.728553</td>\n",
       "      <td>0.233797</td>\n",
       "    </tr>\n",
       "    <tr>\n",
       "      <th>8</th>\n",
       "      <td>Ну,</td>\n",
       "      <td>веселая может быть я? – хмыкнула реплика Ильи...</td>\n",
       "      <td>ты ничего не хочешь мне сказать, милый?\\n\\nВа...</td>\n",
       "      <td>-3.455989</td>\n",
       "      <td>-3.186114</td>\n",
       "    </tr>\n",
       "    <tr>\n",
       "      <th>9</th>\n",
       "      <td>Скримеры рак, форся</td>\n",
       "      <td>ки (роза,папахиалям). Алкалоид кон</td>\n",
       "      <td>, марада кого?)\\n\\n\\n\\n\\n.. о чём ты</td>\n",
       "      <td>-1.127897</td>\n",
       "      <td>0.752032</td>\n",
       "    </tr>\n",
       "    <tr>\n",
       "      <th>10</th>\n",
       "      <td>Выяснилось</td>\n",
       "      <td>, что \"причитат\" \"луна\" в</td>\n",
       "      <td>, что двое новых соперников &amp;ndash; Спартак и</td>\n",
       "      <td>-1.825891</td>\n",
       "      <td>0.646018</td>\n",
       "    </tr>\n",
       "    <tr>\n",
       "      <th>11</th>\n",
       "      <td>Я в метро</td>\n",
       "      <td>шка после антракта, на улицу вышла. Красиво, п...</td>\n",
       "      <td>, у нас др. Мне нравится много хороших и мелоч...</td>\n",
       "      <td>-0.124918</td>\n",
       "      <td>3.104673</td>\n",
       "    </tr>\n",
       "    <tr>\n",
       "      <th>12</th>\n",
       "      <td>Я тебя прекрасно понимаю, но</td>\n",
       "      <td>охладить здешний пыл твое самолюбие как нельзя</td>\n",
       "      <td>я люблю тебя. Эля. Это хорошо, что</td>\n",
       "      <td>-1.164007</td>\n",
       "      <td>4.127378</td>\n",
       "    </tr>\n",
       "    <tr>\n",
       "      <th>13</th>\n",
       "      <td>Я с Астраханской</td>\n",
       "      <td>таможней задержали высокую торфяную аномалию....</td>\n",
       "      <td>)\\n\\nОчень хорошая хорошая штука!\\nподойдет дл...</td>\n",
       "      <td>-3.060513</td>\n",
       "      <td>2.879143</td>\n",
       "    </tr>\n",
       "    <tr>\n",
       "      <th>14</th>\n",
       "      <td>Сейчас многие гос. структуры переводят</td>\n",
       "      <td>свой штат на свой уровень уже после перехода ...</td>\n",
       "      <td>свою подготовку на качественно иной современн...</td>\n",
       "      <td>-2.456929</td>\n",
       "      <td>3.864813</td>\n",
       "    </tr>\n",
       "    <tr>\n",
       "      <th>15</th>\n",
       "      <td>Помню,</td>\n",
       "      <td>когда мы его размеры устраивали, В. Эльяш тре...</td>\n",
       "      <td>что слишком давно не любил,))\\nвсегда к хорош...</td>\n",
       "      <td>-0.235112</td>\n",
       "      <td>2.943436</td>\n",
       "    </tr>\n",
       "    <tr>\n",
       "      <th>16</th>\n",
       "      <td>К стенту</td>\n",
       "      <td>входил гипсовый пол, не имеющий</td>\n",
       "      <td>) 04.11.2013 \\n Будет</td>\n",
       "      <td>-0.464436</td>\n",
       "      <td>1.556200</td>\n",
       "    </tr>\n",
       "    <tr>\n",
       "      <th>17</th>\n",
       "      <td>После прочтения новости полез посмотреть,</td>\n",
       "      <td>что он надумывает по поводу нашествия</td>\n",
       "      <td>что вокруг меня происходит в этот день :)\\n</td>\n",
       "      <td>-0.834431</td>\n",
       "      <td>2.378099</td>\n",
       "    </tr>\n",
       "    <tr>\n",
       "      <th>18</th>\n",
       "      <td>Жанры нужны для тех</td>\n",
       "      <td>, кто готов быть рядом с Ормой Кананбер -- Дев...</td>\n",
       "      <td>, кто хочет, чтобы я наслаждался и сиял счасть...</td>\n",
       "      <td>-2.243701</td>\n",
       "      <td>3.767375</td>\n",
       "    </tr>\n",
       "    <tr>\n",
       "      <th>19</th>\n",
       "      <td>Модераторы странные зверьки</td>\n",
       "      <td>. От их громкости у меня в голове залегла пеле...</td>\n",
       "      <td>)))\\n\\n\\n\\nРешил наготовить еды, а устал, начи...</td>\n",
       "      <td>-1.048623</td>\n",
       "      <td>0.633363</td>\n",
       "    </tr>\n",
       "    <tr>\n",
       "      <th>20</th>\n",
       "      <td>я разве отрицаю такое положение дел</td>\n",
       "      <td>? Всё пошло не по своему, как обычно. Они дове...</td>\n",
       "      <td>...?)\\nНадо. Бъюсь как пиявка.\\nКонечно. Жду г...</td>\n",
       "      <td>-3.196458</td>\n",
       "      <td>0.399617</td>\n",
       "    </tr>\n",
       "    <tr>\n",
       "      <th>21</th>\n",
       "      <td>Доброго времени суток.</td>\n",
       "      <td>\\n Добрый день!  Подскажите, пожалуйста, как ...</td>\n",
       "      <td>VazanmovyeShkol): продолжаю свою безупречную...</td>\n",
       "      <td>-4.123817</td>\n",
       "      <td>4.026645</td>\n",
       "    </tr>\n",
       "    <tr>\n",
       "      <th>22</th>\n",
       "      <td>Кто к</td>\n",
       "      <td>нам пришёл?\\nКонстантин Островский: Вижу, вы ...</td>\n",
       "      <td>нам кинематографом пришел)\\nДа там и кино сни...</td>\n",
       "      <td>-1.140561</td>\n",
       "      <td>2.589675</td>\n",
       "    </tr>\n",
       "    <tr>\n",
       "      <th>23</th>\n",
       "      <td>Пров</td>\n",
       "      <td>орная Галантность от угарного газа Gavelle.  Ч...</td>\n",
       "      <td>едаём объект \\n 30.05.2012 \\n Оригинальный уго...</td>\n",
       "      <td>-1.315264</td>\n",
       "      <td>-2.821050</td>\n",
       "    </tr>\n",
       "    <tr>\n",
       "      <th>24</th>\n",
       "      <td>Ну смотрите</td>\n",
       "      <td>! — перебила его Таня. — Я знаю, куда и зачем ...</td>\n",
       "      <td>- конек: вы в этом бизнесе самый крутой.\\n\\n-...</td>\n",
       "      <td>-1.171157</td>\n",
       "      <td>3.474006</td>\n",
       "    </tr>\n",
       "    <tr>\n",
       "      <th>25</th>\n",
       "      <td>При чём тут заводы</td>\n",
       "      <td>.Нету? Иди лучше своей маме это объясни.\\nон ж...</td>\n",
       "      <td>)))), если тут возить провода ))))))))\\nЯ бы ...</td>\n",
       "      <td>-2.449469</td>\n",
       "      <td>3.264352</td>\n",
       "    </tr>\n",
       "    <tr>\n",
       "      <th>26</th>\n",
       "      <td>Да однофигственно,</td>\n",
       "      <td>в мире стало по-настоящему неуютно. Шелф оцен...</td>\n",
       "      <td>я подробно могу разглагольствовать с ним!)\\nЯ...</td>\n",
       "      <td>-1.929570</td>\n",
       "      <td>2.110540</td>\n",
       "    </tr>\n",
       "    <tr>\n",
       "      <th>27</th>\n",
       "      <td>Что касается лагеря, вполне можно предположить</td>\n",
       "      <td>, что лагерь был организован «бутылочным завод...</td>\n",
       "      <td>.\\n\\n— Не обязательно.\\n\\n— Я часто думал о та...</td>\n",
       "      <td>-0.204151</td>\n",
       "      <td>0.178372</td>\n",
       "    </tr>\n",
       "    <tr>\n",
       "      <th>28</th>\n",
       "      <td>Честно говоря,</td>\n",
       "      <td>я не мог поверить в реальность увиденного. На...</td>\n",
       "      <td>уже скучаю по хорошему другу.\\nЛюблю когда у ...</td>\n",
       "      <td>0.232943</td>\n",
       "      <td>4.150962</td>\n",
       "    </tr>\n",
       "    <tr>\n",
       "      <th>29</th>\n",
       "      <td>Если просто стекло</td>\n",
       "      <td>в него пробить, то все пойдет хорошо.  А если...</td>\n",
       "      <td>оставить.\\nТут уж точно стекло.\\nВечерняя фот...</td>\n",
       "      <td>-0.811996</td>\n",
       "      <td>-0.420503</td>\n",
       "    </tr>\n",
       "    <tr>\n",
       "      <th>30</th>\n",
       "      <td>у еб</td>\n",
       "      <td>еля рассосёт. Но у меня прям такая цифра потом...</td>\n",
       "      <td>..щее.. сковородой!!!! м))ся потушить это дело...</td>\n",
       "      <td>-1.130768</td>\n",
       "      <td>0.711971</td>\n",
       "    </tr>\n",
       "    <tr>\n",
       "      <th>31</th>\n",
       "      <td>Что за</td>\n",
       "      <td>зверь?\\nЖивой\\n\\n\\n21\\n\\n\\nЖивой.\\n\\n\\n\\nДорогой</td>\n",
       "      <td>резонанс!)\\nсовсем из другого мира, этот стес...</td>\n",
       "      <td>-2.264386</td>\n",
       "      <td>1.872072</td>\n",
       "    </tr>\n",
       "  </tbody>\n",
       "</table>\n",
       "</div>\n",
       "      <button class=\"colab-df-convert\" onclick=\"convertToInteractive('df-a9735914-7e61-4173-bbc6-9b30fc2c6546')\"\n",
       "              title=\"Convert this dataframe to an interactive table.\"\n",
       "              style=\"display:none;\">\n",
       "        \n",
       "  <svg xmlns=\"http://www.w3.org/2000/svg\" height=\"24px\"viewBox=\"0 0 24 24\"\n",
       "       width=\"24px\">\n",
       "    <path d=\"M0 0h24v24H0V0z\" fill=\"none\"/>\n",
       "    <path d=\"M18.56 5.44l.94 2.06.94-2.06 2.06-.94-2.06-.94-.94-2.06-.94 2.06-2.06.94zm-11 1L8.5 8.5l.94-2.06 2.06-.94-2.06-.94L8.5 2.5l-.94 2.06-2.06.94zm10 10l.94 2.06.94-2.06 2.06-.94-2.06-.94-.94-2.06-.94 2.06-2.06.94z\"/><path d=\"M17.41 7.96l-1.37-1.37c-.4-.4-.92-.59-1.43-.59-.52 0-1.04.2-1.43.59L10.3 9.45l-7.72 7.72c-.78.78-.78 2.05 0 2.83L4 21.41c.39.39.9.59 1.41.59.51 0 1.02-.2 1.41-.59l7.78-7.78 2.81-2.81c.8-.78.8-2.07 0-2.86zM5.41 20L4 18.59l7.72-7.72 1.47 1.35L5.41 20z\"/>\n",
       "  </svg>\n",
       "      </button>\n",
       "      \n",
       "  <style>\n",
       "    .colab-df-container {\n",
       "      display:flex;\n",
       "      flex-wrap:wrap;\n",
       "      gap: 12px;\n",
       "    }\n",
       "\n",
       "    .colab-df-convert {\n",
       "      background-color: #E8F0FE;\n",
       "      border: none;\n",
       "      border-radius: 50%;\n",
       "      cursor: pointer;\n",
       "      display: none;\n",
       "      fill: #1967D2;\n",
       "      height: 32px;\n",
       "      padding: 0 0 0 0;\n",
       "      width: 32px;\n",
       "    }\n",
       "\n",
       "    .colab-df-convert:hover {\n",
       "      background-color: #E2EBFA;\n",
       "      box-shadow: 0px 1px 2px rgba(60, 64, 67, 0.3), 0px 1px 3px 1px rgba(60, 64, 67, 0.15);\n",
       "      fill: #174EA6;\n",
       "    }\n",
       "\n",
       "    [theme=dark] .colab-df-convert {\n",
       "      background-color: #3B4455;\n",
       "      fill: #D2E3FC;\n",
       "    }\n",
       "\n",
       "    [theme=dark] .colab-df-convert:hover {\n",
       "      background-color: #434B5C;\n",
       "      box-shadow: 0px 1px 3px 1px rgba(0, 0, 0, 0.15);\n",
       "      filter: drop-shadow(0px 1px 2px rgba(0, 0, 0, 0.3));\n",
       "      fill: #FFFFFF;\n",
       "    }\n",
       "  </style>\n",
       "\n",
       "      <script>\n",
       "        const buttonEl =\n",
       "          document.querySelector('#df-a9735914-7e61-4173-bbc6-9b30fc2c6546 button.colab-df-convert');\n",
       "        buttonEl.style.display =\n",
       "          google.colab.kernel.accessAllowed ? 'block' : 'none';\n",
       "\n",
       "        async function convertToInteractive(key) {\n",
       "          const element = document.querySelector('#df-a9735914-7e61-4173-bbc6-9b30fc2c6546');\n",
       "          const dataTable =\n",
       "            await google.colab.kernel.invokeFunction('convertToInteractive',\n",
       "                                                     [key], {});\n",
       "          if (!dataTable) return;\n",
       "\n",
       "          const docLinkHtml = 'Like what you see? Visit the ' +\n",
       "            '<a target=\"_blank\" href=https://colab.research.google.com/notebooks/data_table.ipynb>data table notebook</a>'\n",
       "            + ' to learn more about interactive tables.';\n",
       "          element.innerHTML = '';\n",
       "          dataTable['output_type'] = 'display_data';\n",
       "          await google.colab.output.renderOutput(dataTable, element);\n",
       "          const docLink = document.createElement('div');\n",
       "          docLink.innerHTML = docLinkHtml;\n",
       "          element.appendChild(docLink);\n",
       "        }\n",
       "      </script>\n",
       "    </div>\n",
       "  </div>\n",
       "  "
      ],
      "text/plain": [
       "                                             query  \\\n",
       "0                                              Пфф   \n",
       "1                 В этих случаях ищут максимальные   \n",
       "2                                        Умеет - и   \n",
       "3                               Во, у нас такие же   \n",
       "4                                вот ты мне только   \n",
       "5                                          СЕГОДНЯ   \n",
       "6                                         Ну а что   \n",
       "7                                    Вы правы. Но:   \n",
       "8                                              Ну,   \n",
       "9                              Скримеры рак, форся   \n",
       "10                                      Выяснилось   \n",
       "11                                       Я в метро   \n",
       "12                    Я тебя прекрасно понимаю, но   \n",
       "13                                Я с Астраханской   \n",
       "14          Сейчас многие гос. структуры переводят   \n",
       "15                                          Помню,   \n",
       "16                                        К стенту   \n",
       "17       После прочтения новости полез посмотреть,   \n",
       "18                             Жанры нужны для тех   \n",
       "19                     Модераторы странные зверьки   \n",
       "20             я разве отрицаю такое положение дел   \n",
       "21                          Доброго времени суток.   \n",
       "22                                           Кто к   \n",
       "23                                            Пров   \n",
       "24                                     Ну смотрите   \n",
       "25                              При чём тут заводы   \n",
       "26                              Да однофигственно,   \n",
       "27  Что касается лагеря, вполне можно предположить   \n",
       "28                                  Честно говоря,   \n",
       "29                              Если просто стекло   \n",
       "30                                            у еб   \n",
       "31                                          Что за   \n",
       "\n",
       "                                    response (before)  \\\n",
       "0   ф, все ж зацепил!\\nБог велел, блять!\\nну он то...   \n",
       "1    возможности, т.к. в изоляторах полнейший кари...   \n",
       "2               пальцем не тронет.\\nЛегко и непринужд   \n",
       "3                      от восточнейшего колеи, знаете   \n",
       "4    честно, ты -- одно целое с непобедимой верой ...   \n",
       "5    в Афинах Вас приветствуют флорентийцы и венец...   \n",
       "6                 с остальными бедами? С каждым.\\nа с   \n",
       "7    я никоим образом не изучала эти тайны. Способ...   \n",
       "8    веселая может быть я? – хмыкнула реплика Ильи...   \n",
       "9                  ки (роза,папахиалям). Алкалоид кон   \n",
       "10                          , что \"причитат\" \"луна\" в   \n",
       "11  шка после антракта, на улицу вышла. Красиво, п...   \n",
       "12     охладить здешний пыл твое самолюбие как нельзя   \n",
       "13   таможней задержали высокую торфяную аномалию....   \n",
       "14   свой штат на свой уровень уже после перехода ...   \n",
       "15   когда мы его размеры устраивали, В. Эльяш тре...   \n",
       "16                    входил гипсовый пол, не имеющий   \n",
       "17              что он надумывает по поводу нашествия   \n",
       "18  , кто готов быть рядом с Ормой Кананбер -- Дев...   \n",
       "19  . От их громкости у меня в голове залегла пеле...   \n",
       "20  ? Всё пошло не по своему, как обычно. Они дове...   \n",
       "21   \\n Добрый день!  Подскажите, пожалуйста, как ...   \n",
       "22   нам пришёл?\\nКонстантин Островский: Вижу, вы ...   \n",
       "23  орная Галантность от угарного газа Gavelle.  Ч...   \n",
       "24  ! — перебила его Таня. — Я знаю, куда и зачем ...   \n",
       "25  .Нету? Иди лучше своей маме это объясни.\\nон ж...   \n",
       "26   в мире стало по-настоящему неуютно. Шелф оцен...   \n",
       "27  , что лагерь был организован «бутылочным завод...   \n",
       "28   я не мог поверить в реальность увиденного. На...   \n",
       "29   в него пробить, то все пойдет хорошо.  А если...   \n",
       "30  еля рассосёт. Но у меня прям такая цифра потом...   \n",
       "31   зверь?\\nЖивой\\n\\n\\n21\\n\\n\\nЖивой.\\n\\n\\n\\nДорогой   \n",
       "\n",
       "                                     response (after)  rewards (before)  \\\n",
       "0   ф, нет Спасибо). Обработана память - правда.\\n...         -1.854557   \n",
       "1    шансы опережающего развития событий).\\n\\nВ ит...         -0.664224   \n",
       "2    обязательно умеет заставить) \\n Люблю зимы и ...         -1.579653   \n",
       "3                      забронированные окна!\\nВот тут         -1.138388   \n",
       "4    что подарил такую замечательную девушку....\\n...         -1.407189   \n",
       "5   ).  В этом году дата знаменательна максимально...         -1.952533   \n",
       "6   , единственное занятие, которое тебя развлечет...         -2.951481   \n",
       "7    -) Я не люблю, когда меня хотят посвящать нас...         -1.728553   \n",
       "8    ты ничего не хочешь мне сказать, милый?\\n\\nВа...         -3.455989   \n",
       "9                , марада кого?)\\n\\n\\n\\n\\n.. о чём ты         -1.127897   \n",
       "10      , что двое новых соперников &ndash; Спартак и         -1.825891   \n",
       "11  , у нас др. Мне нравится много хороших и мелоч...         -0.124918   \n",
       "12                 я люблю тебя. Эля. Это хорошо, что         -1.164007   \n",
       "13  )\\n\\nОчень хорошая хорошая штука!\\nподойдет дл...         -3.060513   \n",
       "14   свою подготовку на качественно иной современн...         -2.456929   \n",
       "15   что слишком давно не любил,))\\nвсегда к хорош...         -0.235112   \n",
       "16                              ) 04.11.2013 \\n Будет         -0.464436   \n",
       "17        что вокруг меня происходит в этот день :)\\n         -0.834431   \n",
       "18  , кто хочет, чтобы я наслаждался и сиял счасть...         -2.243701   \n",
       "19  )))\\n\\n\\n\\nРешил наготовить еды, а устал, начи...         -1.048623   \n",
       "20  ...?)\\nНадо. Бъюсь как пиявка.\\nКонечно. Жду г...         -3.196458   \n",
       "21    VazanmovyeShkol): продолжаю свою безупречную...         -4.123817   \n",
       "22   нам кинематографом пришел)\\nДа там и кино сни...         -1.140561   \n",
       "23  едаём объект \\n 30.05.2012 \\n Оригинальный уго...         -1.315264   \n",
       "24   - конек: вы в этом бизнесе самый крутой.\\n\\n-...         -1.171157   \n",
       "25   )))), если тут возить провода ))))))))\\nЯ бы ...         -2.449469   \n",
       "26   я подробно могу разглагольствовать с ним!)\\nЯ...         -1.929570   \n",
       "27  .\\n\\n— Не обязательно.\\n\\n— Я часто думал о та...         -0.204151   \n",
       "28   уже скучаю по хорошему другу.\\nЛюблю когда у ...          0.232943   \n",
       "29   оставить.\\nТут уж точно стекло.\\nВечерняя фот...         -0.811996   \n",
       "30  ..щее.. сковородой!!!! м))ся потушить это дело...         -1.130768   \n",
       "31   резонанс!)\\nсовсем из другого мира, этот стес...         -2.264386   \n",
       "\n",
       "    rewards (after)  \n",
       "0          3.233626  \n",
       "1         -0.225002  \n",
       "2          3.815419  \n",
       "3         -1.488920  \n",
       "4          3.909848  \n",
       "5         -1.497386  \n",
       "6         -2.088066  \n",
       "7          0.233797  \n",
       "8         -3.186114  \n",
       "9          0.752032  \n",
       "10         0.646018  \n",
       "11         3.104673  \n",
       "12         4.127378  \n",
       "13         2.879143  \n",
       "14         3.864813  \n",
       "15         2.943436  \n",
       "16         1.556200  \n",
       "17         2.378099  \n",
       "18         3.767375  \n",
       "19         0.633363  \n",
       "20         0.399617  \n",
       "21         4.026645  \n",
       "22         2.589675  \n",
       "23        -2.821050  \n",
       "24         3.474006  \n",
       "25         3.264352  \n",
       "26         2.110540  \n",
       "27         0.178372  \n",
       "28         4.150962  \n",
       "29        -0.420503  \n",
       "30         0.711971  \n",
       "31         1.872072  "
      ]
     },
     "execution_count": 21,
     "metadata": {},
     "output_type": "execute_result"
    }
   ],
   "source": [
    "pd.DataFrame.from_dict(game_data)"
   ]
  },
  {
   "cell_type": "markdown",
   "id": "cb7421c8",
   "metadata": {
    "id": "cb7421c8"
   },
   "source": [
    "Видно, что модель теперь генерирует больше положительных текстов"
   ]
  }
 ],
 "metadata": {
  "accelerator": "GPU",
  "colab": {
   "gpuType": "T4",
   "provenance": []
  },
  "gpuClass": "standard",
  "kernelspec": {
   "display_name": "Python 3 (ipykernel)",
   "language": "python",
   "name": "python3"
  },
  "language_info": {
   "codemirror_mode": {
    "name": "ipython",
    "version": 3
   },
   "file_extension": ".py",
   "mimetype": "text/x-python",
   "name": "python",
   "nbconvert_exporter": "python",
   "pygments_lexer": "ipython3",
   "version": "3.11.3"
  },
  "widgets": {
   "application/vnd.jupyter.widget-state+json": {
    "02546cd61473449bb83a5b26d0fac7d7": {
     "model_module": "@jupyter-widgets/controls",
     "model_module_version": "1.5.0",
     "model_name": "ProgressStyleModel",
     "state": {
      "_model_module": "@jupyter-widgets/controls",
      "_model_module_version": "1.5.0",
      "_model_name": "ProgressStyleModel",
      "_view_count": null,
      "_view_module": "@jupyter-widgets/base",
      "_view_module_version": "1.2.0",
      "_view_name": "StyleView",
      "bar_color": null,
      "description_width": ""
     }
    },
    "0a9f4dd7ee844742ae0756ee8f0e1ecd": {
     "model_module": "@jupyter-widgets/controls",
     "model_module_version": "1.5.0",
     "model_name": "HBoxModel",
     "state": {
      "_dom_classes": [],
      "_model_module": "@jupyter-widgets/controls",
      "_model_module_version": "1.5.0",
      "_model_name": "HBoxModel",
      "_view_count": null,
      "_view_module": "@jupyter-widgets/controls",
      "_view_module_version": "1.5.0",
      "_view_name": "HBoxView",
      "box_style": "",
      "children": [
       "IPY_MODEL_d47861c72d2f4cc0a5fc3b6c7e5ce692",
       "IPY_MODEL_7544bc505e2b4abbaf16713dcbdf2b8a",
       "IPY_MODEL_7d4a039e72e84fb4a5a9f7e64ee03d5e"
      ],
      "layout": "IPY_MODEL_b1cd6ff66f2a40d5956bfcef10a433e2"
     }
    },
    "2ef9b50a0e51416b9e678f90136afddf": {
     "model_module": "@jupyter-widgets/controls",
     "model_module_version": "1.5.0",
     "model_name": "FloatProgressModel",
     "state": {
      "_dom_classes": [],
      "_model_module": "@jupyter-widgets/controls",
      "_model_module_version": "1.5.0",
      "_model_name": "FloatProgressModel",
      "_view_count": null,
      "_view_module": "@jupyter-widgets/controls",
      "_view_module_version": "1.5.0",
      "_view_name": "ProgressView",
      "bar_style": "success",
      "description": "",
      "description_tooltip": null,
      "layout": "IPY_MODEL_d0612d7280a54767892ac13e34c7d5f5",
      "max": 13,
      "min": 0,
      "orientation": "horizontal",
      "style": "IPY_MODEL_7dfb084a2d1c422792264ae7071ad267",
      "value": 13
     }
    },
    "3105d003abf04caab8dc5ef28cfd31c4": {
     "model_module": "@jupyter-widgets/base",
     "model_module_version": "1.2.0",
     "model_name": "LayoutModel",
     "state": {
      "_model_module": "@jupyter-widgets/base",
      "_model_module_version": "1.2.0",
      "_model_name": "LayoutModel",
      "_view_count": null,
      "_view_module": "@jupyter-widgets/base",
      "_view_module_version": "1.2.0",
      "_view_name": "LayoutView",
      "align_content": null,
      "align_items": null,
      "align_self": null,
      "border": null,
      "bottom": null,
      "display": null,
      "flex": null,
      "flex_flow": null,
      "grid_area": null,
      "grid_auto_columns": null,
      "grid_auto_flow": null,
      "grid_auto_rows": null,
      "grid_column": null,
      "grid_gap": null,
      "grid_row": null,
      "grid_template_areas": null,
      "grid_template_columns": null,
      "grid_template_rows": null,
      "height": null,
      "justify_content": null,
      "justify_items": null,
      "left": null,
      "margin": null,
      "max_height": null,
      "max_width": null,
      "min_height": null,
      "min_width": null,
      "object_fit": null,
      "object_position": null,
      "order": null,
      "overflow": null,
      "overflow_x": null,
      "overflow_y": null,
      "padding": null,
      "right": null,
      "top": null,
      "visibility": null,
      "width": null
     }
    },
    "3691862089fa4f6d96f5911b787be897": {
     "model_module": "@jupyter-widgets/controls",
     "model_module_version": "1.5.0",
     "model_name": "DescriptionStyleModel",
     "state": {
      "_model_module": "@jupyter-widgets/controls",
      "_model_module_version": "1.5.0",
      "_model_name": "DescriptionStyleModel",
      "_view_count": null,
      "_view_module": "@jupyter-widgets/base",
      "_view_module_version": "1.2.0",
      "_view_name": "StyleView",
      "description_width": ""
     }
    },
    "4892931f637f498585f1a9726ff3112e": {
     "model_module": "@jupyter-widgets/base",
     "model_module_version": "1.2.0",
     "model_name": "LayoutModel",
     "state": {
      "_model_module": "@jupyter-widgets/base",
      "_model_module_version": "1.2.0",
      "_model_name": "LayoutModel",
      "_view_count": null,
      "_view_module": "@jupyter-widgets/base",
      "_view_module_version": "1.2.0",
      "_view_name": "LayoutView",
      "align_content": null,
      "align_items": null,
      "align_self": null,
      "border": null,
      "bottom": null,
      "display": null,
      "flex": null,
      "flex_flow": null,
      "grid_area": null,
      "grid_auto_columns": null,
      "grid_auto_flow": null,
      "grid_auto_rows": null,
      "grid_column": null,
      "grid_gap": null,
      "grid_row": null,
      "grid_template_areas": null,
      "grid_template_columns": null,
      "grid_template_rows": null,
      "height": null,
      "justify_content": null,
      "justify_items": null,
      "left": null,
      "margin": null,
      "max_height": null,
      "max_width": null,
      "min_height": null,
      "min_width": null,
      "object_fit": null,
      "object_position": null,
      "order": null,
      "overflow": null,
      "overflow_x": null,
      "overflow_y": null,
      "padding": null,
      "right": null,
      "top": null,
      "visibility": null,
      "width": null
     }
    },
    "4e82e99a9a2740489b58ba6659f8dd51": {
     "model_module": "@jupyter-widgets/controls",
     "model_module_version": "1.5.0",
     "model_name": "HTMLModel",
     "state": {
      "_dom_classes": [],
      "_model_module": "@jupyter-widgets/controls",
      "_model_module_version": "1.5.0",
      "_model_name": "HTMLModel",
      "_view_count": null,
      "_view_module": "@jupyter-widgets/controls",
      "_view_module_version": "1.5.0",
      "_view_name": "HTMLView",
      "description": "",
      "description_tooltip": null,
      "layout": "IPY_MODEL_3105d003abf04caab8dc5ef28cfd31c4",
      "placeholder": "​",
      "style": "IPY_MODEL_3691862089fa4f6d96f5911b787be897",
      "value": " 13/13 [17:45&lt;00:00, 83.01s/it]"
     }
    },
    "5e675bf3848c4026bf6a5d2c16a40a7d": {
     "model_module": "@jupyter-widgets/controls",
     "model_module_version": "1.5.0",
     "model_name": "DescriptionStyleModel",
     "state": {
      "_model_module": "@jupyter-widgets/controls",
      "_model_module_version": "1.5.0",
      "_model_name": "DescriptionStyleModel",
      "_view_count": null,
      "_view_module": "@jupyter-widgets/base",
      "_view_module_version": "1.2.0",
      "_view_name": "StyleView",
      "description_width": ""
     }
    },
    "61eef0d6a98c4da5a1acdb6c3b5d5031": {
     "model_module": "@jupyter-widgets/controls",
     "model_module_version": "1.5.0",
     "model_name": "HTMLModel",
     "state": {
      "_dom_classes": [],
      "_model_module": "@jupyter-widgets/controls",
      "_model_module_version": "1.5.0",
      "_model_name": "HTMLModel",
      "_view_count": null,
      "_view_module": "@jupyter-widgets/controls",
      "_view_module_version": "1.5.0",
      "_view_name": "HTMLView",
      "description": "",
      "description_tooltip": null,
      "layout": "IPY_MODEL_80fec8f3b09341c9814f1b330128819b",
      "placeholder": "​",
      "style": "IPY_MODEL_5e675bf3848c4026bf6a5d2c16a40a7d",
      "value": "100%"
     }
    },
    "6af99c7b816d40eea47cd3d7a7473cb7": {
     "model_module": "@jupyter-widgets/controls",
     "model_module_version": "1.5.0",
     "model_name": "HBoxModel",
     "state": {
      "_dom_classes": [],
      "_model_module": "@jupyter-widgets/controls",
      "_model_module_version": "1.5.0",
      "_model_name": "HBoxModel",
      "_view_count": null,
      "_view_module": "@jupyter-widgets/controls",
      "_view_module_version": "1.5.0",
      "_view_name": "HBoxView",
      "box_style": "",
      "children": [
       "IPY_MODEL_61eef0d6a98c4da5a1acdb6c3b5d5031",
       "IPY_MODEL_2ef9b50a0e51416b9e678f90136afddf",
       "IPY_MODEL_4e82e99a9a2740489b58ba6659f8dd51"
      ],
      "layout": "IPY_MODEL_c879f8fcc41b4f349afe7f065892c61b"
     }
    },
    "7544bc505e2b4abbaf16713dcbdf2b8a": {
     "model_module": "@jupyter-widgets/controls",
     "model_module_version": "1.5.0",
     "model_name": "FloatProgressModel",
     "state": {
      "_dom_classes": [],
      "_model_module": "@jupyter-widgets/controls",
      "_model_module_version": "1.5.0",
      "_model_name": "FloatProgressModel",
      "_view_count": null,
      "_view_module": "@jupyter-widgets/controls",
      "_view_module_version": "1.5.0",
      "_view_name": "ProgressView",
      "bar_style": "success",
      "description": "",
      "description_tooltip": null,
      "layout": "IPY_MODEL_4892931f637f498585f1a9726ff3112e",
      "max": 1,
      "min": 0,
      "orientation": "horizontal",
      "style": "IPY_MODEL_02546cd61473449bb83a5b26d0fac7d7",
      "value": 1
     }
    },
    "7d4a039e72e84fb4a5a9f7e64ee03d5e": {
     "model_module": "@jupyter-widgets/controls",
     "model_module_version": "1.5.0",
     "model_name": "HTMLModel",
     "state": {
      "_dom_classes": [],
      "_model_module": "@jupyter-widgets/controls",
      "_model_module_version": "1.5.0",
      "_model_name": "HTMLModel",
      "_view_count": null,
      "_view_module": "@jupyter-widgets/controls",
      "_view_module_version": "1.5.0",
      "_view_name": "HTMLView",
      "description": "",
      "description_tooltip": null,
      "layout": "IPY_MODEL_bd9d5bcf72f44039bfca765216e9da74",
      "placeholder": "​",
      "style": "IPY_MODEL_a6f7bd5e88b34299b61bf0a619985837",
      "value": " 1/1 [00:00&lt;00:00, 33.16it/s]"
     }
    },
    "7dfb084a2d1c422792264ae7071ad267": {
     "model_module": "@jupyter-widgets/controls",
     "model_module_version": "1.5.0",
     "model_name": "ProgressStyleModel",
     "state": {
      "_model_module": "@jupyter-widgets/controls",
      "_model_module_version": "1.5.0",
      "_model_name": "ProgressStyleModel",
      "_view_count": null,
      "_view_module": "@jupyter-widgets/base",
      "_view_module_version": "1.2.0",
      "_view_name": "StyleView",
      "bar_color": null,
      "description_width": ""
     }
    },
    "7e2de7ad5dcc4ed787cb3e26aeb15b87": {
     "model_module": "@jupyter-widgets/controls",
     "model_module_version": "1.5.0",
     "model_name": "DescriptionStyleModel",
     "state": {
      "_model_module": "@jupyter-widgets/controls",
      "_model_module_version": "1.5.0",
      "_model_name": "DescriptionStyleModel",
      "_view_count": null,
      "_view_module": "@jupyter-widgets/base",
      "_view_module_version": "1.2.0",
      "_view_name": "StyleView",
      "description_width": ""
     }
    },
    "80fec8f3b09341c9814f1b330128819b": {
     "model_module": "@jupyter-widgets/base",
     "model_module_version": "1.2.0",
     "model_name": "LayoutModel",
     "state": {
      "_model_module": "@jupyter-widgets/base",
      "_model_module_version": "1.2.0",
      "_model_name": "LayoutModel",
      "_view_count": null,
      "_view_module": "@jupyter-widgets/base",
      "_view_module_version": "1.2.0",
      "_view_name": "LayoutView",
      "align_content": null,
      "align_items": null,
      "align_self": null,
      "border": null,
      "bottom": null,
      "display": null,
      "flex": null,
      "flex_flow": null,
      "grid_area": null,
      "grid_auto_columns": null,
      "grid_auto_flow": null,
      "grid_auto_rows": null,
      "grid_column": null,
      "grid_gap": null,
      "grid_row": null,
      "grid_template_areas": null,
      "grid_template_columns": null,
      "grid_template_rows": null,
      "height": null,
      "justify_content": null,
      "justify_items": null,
      "left": null,
      "margin": null,
      "max_height": null,
      "max_width": null,
      "min_height": null,
      "min_width": null,
      "object_fit": null,
      "object_position": null,
      "order": null,
      "overflow": null,
      "overflow_x": null,
      "overflow_y": null,
      "padding": null,
      "right": null,
      "top": null,
      "visibility": null,
      "width": null
     }
    },
    "a6f7bd5e88b34299b61bf0a619985837": {
     "model_module": "@jupyter-widgets/controls",
     "model_module_version": "1.5.0",
     "model_name": "DescriptionStyleModel",
     "state": {
      "_model_module": "@jupyter-widgets/controls",
      "_model_module_version": "1.5.0",
      "_model_name": "DescriptionStyleModel",
      "_view_count": null,
      "_view_module": "@jupyter-widgets/base",
      "_view_module_version": "1.2.0",
      "_view_name": "StyleView",
      "description_width": ""
     }
    },
    "b1cd6ff66f2a40d5956bfcef10a433e2": {
     "model_module": "@jupyter-widgets/base",
     "model_module_version": "1.2.0",
     "model_name": "LayoutModel",
     "state": {
      "_model_module": "@jupyter-widgets/base",
      "_model_module_version": "1.2.0",
      "_model_name": "LayoutModel",
      "_view_count": null,
      "_view_module": "@jupyter-widgets/base",
      "_view_module_version": "1.2.0",
      "_view_name": "LayoutView",
      "align_content": null,
      "align_items": null,
      "align_self": null,
      "border": null,
      "bottom": null,
      "display": null,
      "flex": null,
      "flex_flow": null,
      "grid_area": null,
      "grid_auto_columns": null,
      "grid_auto_flow": null,
      "grid_auto_rows": null,
      "grid_column": null,
      "grid_gap": null,
      "grid_row": null,
      "grid_template_areas": null,
      "grid_template_columns": null,
      "grid_template_rows": null,
      "height": null,
      "justify_content": null,
      "justify_items": null,
      "left": null,
      "margin": null,
      "max_height": null,
      "max_width": null,
      "min_height": null,
      "min_width": null,
      "object_fit": null,
      "object_position": null,
      "order": null,
      "overflow": null,
      "overflow_x": null,
      "overflow_y": null,
      "padding": null,
      "right": null,
      "top": null,
      "visibility": null,
      "width": null
     }
    },
    "bd9d5bcf72f44039bfca765216e9da74": {
     "model_module": "@jupyter-widgets/base",
     "model_module_version": "1.2.0",
     "model_name": "LayoutModel",
     "state": {
      "_model_module": "@jupyter-widgets/base",
      "_model_module_version": "1.2.0",
      "_model_name": "LayoutModel",
      "_view_count": null,
      "_view_module": "@jupyter-widgets/base",
      "_view_module_version": "1.2.0",
      "_view_name": "LayoutView",
      "align_content": null,
      "align_items": null,
      "align_self": null,
      "border": null,
      "bottom": null,
      "display": null,
      "flex": null,
      "flex_flow": null,
      "grid_area": null,
      "grid_auto_columns": null,
      "grid_auto_flow": null,
      "grid_auto_rows": null,
      "grid_column": null,
      "grid_gap": null,
      "grid_row": null,
      "grid_template_areas": null,
      "grid_template_columns": null,
      "grid_template_rows": null,
      "height": null,
      "justify_content": null,
      "justify_items": null,
      "left": null,
      "margin": null,
      "max_height": null,
      "max_width": null,
      "min_height": null,
      "min_width": null,
      "object_fit": null,
      "object_position": null,
      "order": null,
      "overflow": null,
      "overflow_x": null,
      "overflow_y": null,
      "padding": null,
      "right": null,
      "top": null,
      "visibility": null,
      "width": null
     }
    },
    "bdb8b68a41a247b3b93f4521380f87b4": {
     "model_module": "@jupyter-widgets/base",
     "model_module_version": "1.2.0",
     "model_name": "LayoutModel",
     "state": {
      "_model_module": "@jupyter-widgets/base",
      "_model_module_version": "1.2.0",
      "_model_name": "LayoutModel",
      "_view_count": null,
      "_view_module": "@jupyter-widgets/base",
      "_view_module_version": "1.2.0",
      "_view_name": "LayoutView",
      "align_content": null,
      "align_items": null,
      "align_self": null,
      "border": null,
      "bottom": null,
      "display": null,
      "flex": null,
      "flex_flow": null,
      "grid_area": null,
      "grid_auto_columns": null,
      "grid_auto_flow": null,
      "grid_auto_rows": null,
      "grid_column": null,
      "grid_gap": null,
      "grid_row": null,
      "grid_template_areas": null,
      "grid_template_columns": null,
      "grid_template_rows": null,
      "height": null,
      "justify_content": null,
      "justify_items": null,
      "left": null,
      "margin": null,
      "max_height": null,
      "max_width": null,
      "min_height": null,
      "min_width": null,
      "object_fit": null,
      "object_position": null,
      "order": null,
      "overflow": null,
      "overflow_x": null,
      "overflow_y": null,
      "padding": null,
      "right": null,
      "top": null,
      "visibility": null,
      "width": null
     }
    },
    "c879f8fcc41b4f349afe7f065892c61b": {
     "model_module": "@jupyter-widgets/base",
     "model_module_version": "1.2.0",
     "model_name": "LayoutModel",
     "state": {
      "_model_module": "@jupyter-widgets/base",
      "_model_module_version": "1.2.0",
      "_model_name": "LayoutModel",
      "_view_count": null,
      "_view_module": "@jupyter-widgets/base",
      "_view_module_version": "1.2.0",
      "_view_name": "LayoutView",
      "align_content": null,
      "align_items": null,
      "align_self": null,
      "border": null,
      "bottom": null,
      "display": null,
      "flex": null,
      "flex_flow": null,
      "grid_area": null,
      "grid_auto_columns": null,
      "grid_auto_flow": null,
      "grid_auto_rows": null,
      "grid_column": null,
      "grid_gap": null,
      "grid_row": null,
      "grid_template_areas": null,
      "grid_template_columns": null,
      "grid_template_rows": null,
      "height": null,
      "justify_content": null,
      "justify_items": null,
      "left": null,
      "margin": null,
      "max_height": null,
      "max_width": null,
      "min_height": null,
      "min_width": null,
      "object_fit": null,
      "object_position": null,
      "order": null,
      "overflow": null,
      "overflow_x": null,
      "overflow_y": null,
      "padding": null,
      "right": null,
      "top": null,
      "visibility": null,
      "width": null
     }
    },
    "d0612d7280a54767892ac13e34c7d5f5": {
     "model_module": "@jupyter-widgets/base",
     "model_module_version": "1.2.0",
     "model_name": "LayoutModel",
     "state": {
      "_model_module": "@jupyter-widgets/base",
      "_model_module_version": "1.2.0",
      "_model_name": "LayoutModel",
      "_view_count": null,
      "_view_module": "@jupyter-widgets/base",
      "_view_module_version": "1.2.0",
      "_view_name": "LayoutView",
      "align_content": null,
      "align_items": null,
      "align_self": null,
      "border": null,
      "bottom": null,
      "display": null,
      "flex": null,
      "flex_flow": null,
      "grid_area": null,
      "grid_auto_columns": null,
      "grid_auto_flow": null,
      "grid_auto_rows": null,
      "grid_column": null,
      "grid_gap": null,
      "grid_row": null,
      "grid_template_areas": null,
      "grid_template_columns": null,
      "grid_template_rows": null,
      "height": null,
      "justify_content": null,
      "justify_items": null,
      "left": null,
      "margin": null,
      "max_height": null,
      "max_width": null,
      "min_height": null,
      "min_width": null,
      "object_fit": null,
      "object_position": null,
      "order": null,
      "overflow": null,
      "overflow_x": null,
      "overflow_y": null,
      "padding": null,
      "right": null,
      "top": null,
      "visibility": null,
      "width": null
     }
    },
    "d47861c72d2f4cc0a5fc3b6c7e5ce692": {
     "model_module": "@jupyter-widgets/controls",
     "model_module_version": "1.5.0",
     "model_name": "HTMLModel",
     "state": {
      "_dom_classes": [],
      "_model_module": "@jupyter-widgets/controls",
      "_model_module_version": "1.5.0",
      "_model_name": "HTMLModel",
      "_view_count": null,
      "_view_module": "@jupyter-widgets/controls",
      "_view_module_version": "1.5.0",
      "_view_name": "HTMLView",
      "description": "",
      "description_tooltip": null,
      "layout": "IPY_MODEL_bdb8b68a41a247b3b93f4521380f87b4",
      "placeholder": "​",
      "style": "IPY_MODEL_7e2de7ad5dcc4ed787cb3e26aeb15b87",
      "value": "100%"
     }
    }
   }
  }
 },
 "nbformat": 4,
 "nbformat_minor": 5
}
