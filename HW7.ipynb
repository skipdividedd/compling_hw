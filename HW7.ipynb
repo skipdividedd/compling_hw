{
 "cells": [
  {
   "cell_type": "markdown",
   "id": "578361e3",
   "metadata": {},
   "source": [
    "# Домашнее задание № 8"
   ]
  },
  {
   "cell_type": "markdown",
   "id": "fa670b76",
   "metadata": {},
   "source": [
    "## Задание 1 (4 балла) "
   ]
  },
  {
   "cell_type": "markdown",
   "id": "e7ea9a65",
   "metadata": {},
   "source": [
    "Обучите 8 моделей для задачи классификации текста (датасет - lenta_40k ). А именно:  \n",
    "1) модель с 1 GRU слоем;   \n",
    "2) модель с 1 LSTM слоем    \n",
    "3) модель с 1 GRU и 1 LSTM слоем  \n",
    "4) модель с 1 BIGRU и 2 LSTM слоями  \n",
    "5) модель с 5 GRU слоями и 3 LSTM слоями  \n",
    "6) модель 1 BIGRU и 1 BILSTM слоями, причем так чтобы модели для forward и backward прохода отличались   \n",
    "7) модель, где последовательно идут слои: LSTM, GRU, BILSTM, BIGRU, GRU, LSTM  \n",
    "\n",
    "\n",
    "\n",
    "Параметр units и размер эмбединга можете задать любой. Оцените качество каждой модели и определите победителя."
   ]
  },
  {
   "cell_type": "code",
   "execution_count": 1,
   "id": "eaae5a91",
   "metadata": {
    "execution": {
     "iopub.execute_input": "2023-02-15T17:56:43.274797Z",
     "iopub.status.busy": "2023-02-15T17:56:43.273732Z",
     "iopub.status.idle": "2023-02-15T17:56:52.829201Z",
     "shell.execute_reply": "2023-02-15T17:56:52.827765Z",
     "shell.execute_reply.started": "2023-02-15T17:56:43.274691Z"
    }
   },
   "outputs": [],
   "source": [
    "import pandas as pd\n",
    "import numpy as np\n",
    "import tensorflow as tf\n",
    "from string import punctuation\n",
    "from sklearn.model_selection import train_test_split\n",
    "from collections import Counter\n",
    "import matplotlib.pyplot as plt"
   ]
  },
  {
   "cell_type": "code",
   "execution_count": 2,
   "id": "64179c2f",
   "metadata": {
    "execution": {
     "iopub.execute_input": "2023-02-15T17:56:52.832307Z",
     "iopub.status.busy": "2023-02-15T17:56:52.831585Z",
     "iopub.status.idle": "2023-02-15T17:56:55.925142Z",
     "shell.execute_reply": "2023-02-15T17:56:55.924053Z",
     "shell.execute_reply.started": "2023-02-15T17:56:52.832261Z"
    }
   },
   "outputs": [],
   "source": [
    "data = pd.read_csv('/kaggle/input/data-lenta/lenta_40k.csv')"
   ]
  },
  {
   "cell_type": "code",
   "execution_count": 3,
   "id": "ed7838ae",
   "metadata": {
    "execution": {
     "iopub.execute_input": "2023-02-15T17:56:55.930939Z",
     "iopub.status.busy": "2023-02-15T17:56:55.929980Z",
     "iopub.status.idle": "2023-02-15T17:56:55.957353Z",
     "shell.execute_reply": "2023-02-15T17:56:55.956229Z",
     "shell.execute_reply.started": "2023-02-15T17:56:55.930897Z"
    }
   },
   "outputs": [
    {
     "data": {
      "text/html": [
       "<div>\n",
       "<style scoped>\n",
       "    .dataframe tbody tr th:only-of-type {\n",
       "        vertical-align: middle;\n",
       "    }\n",
       "\n",
       "    .dataframe tbody tr th {\n",
       "        vertical-align: top;\n",
       "    }\n",
       "\n",
       "    .dataframe thead th {\n",
       "        text-align: right;\n",
       "    }\n",
       "</style>\n",
       "<table border=\"1\" class=\"dataframe\">\n",
       "  <thead>\n",
       "    <tr style=\"text-align: right;\">\n",
       "      <th></th>\n",
       "      <th>text</th>\n",
       "      <th>topic</th>\n",
       "    </tr>\n",
       "  </thead>\n",
       "  <tbody>\n",
       "    <tr>\n",
       "      <th>0</th>\n",
       "      <td>Россия должна сотрудничать с Всемирным антидоп...</td>\n",
       "      <td>Спорт</td>\n",
       "    </tr>\n",
       "    <tr>\n",
       "      <th>1</th>\n",
       "      <td>Уголовный суд Кувейта 28 июня освободил под за...</td>\n",
       "      <td>Мир</td>\n",
       "    </tr>\n",
       "    <tr>\n",
       "      <th>2</th>\n",
       "      <td>Французский журнал Charlie Hebdo опубликовал н...</td>\n",
       "      <td>Интернет и СМИ</td>\n",
       "    </tr>\n",
       "    <tr>\n",
       "      <th>3</th>\n",
       "      <td>В Петербурге в доме № 53 по улице Лени Голиков...</td>\n",
       "      <td>Россия</td>\n",
       "    </tr>\n",
       "    <tr>\n",
       "      <th>4</th>\n",
       "      <td>В московском аэропорту \"Домодедово\" задержан г...</td>\n",
       "      <td>Россия</td>\n",
       "    </tr>\n",
       "  </tbody>\n",
       "</table>\n",
       "</div>"
      ],
      "text/plain": [
       "                                                text           topic\n",
       "0  Россия должна сотрудничать с Всемирным антидоп...           Спорт\n",
       "1  Уголовный суд Кувейта 28 июня освободил под за...             Мир\n",
       "2  Французский журнал Charlie Hebdo опубликовал н...  Интернет и СМИ\n",
       "3  В Петербурге в доме № 53 по улице Лени Голиков...          Россия\n",
       "4  В московском аэропорту \"Домодедово\" задержан г...          Россия"
      ]
     },
     "execution_count": 3,
     "metadata": {},
     "output_type": "execute_result"
    }
   ],
   "source": [
    "data.head(5)"
   ]
  },
  {
   "cell_type": "code",
   "execution_count": 4,
   "id": "9cb8b0ae",
   "metadata": {
    "execution": {
     "iopub.execute_input": "2023-02-15T17:56:55.961130Z",
     "iopub.status.busy": "2023-02-15T17:56:55.960405Z",
     "iopub.status.idle": "2023-02-15T17:56:55.968078Z",
     "shell.execute_reply": "2023-02-15T17:56:55.967030Z",
     "shell.execute_reply.started": "2023-02-15T17:56:55.961092Z"
    }
   },
   "outputs": [],
   "source": [
    "def preprocess(text):\n",
    "    tokens = text.lower().split()\n",
    "    tokens = [token.strip(punctuation) for token in tokens]\n",
    "    return tokens"
   ]
  },
  {
   "cell_type": "code",
   "execution_count": 5,
   "id": "70b8e431",
   "metadata": {
    "execution": {
     "iopub.execute_input": "2023-02-15T17:56:55.970443Z",
     "iopub.status.busy": "2023-02-15T17:56:55.969452Z",
     "iopub.status.idle": "2023-02-15T17:56:57.674171Z",
     "shell.execute_reply": "2023-02-15T17:56:57.673052Z",
     "shell.execute_reply.started": "2023-02-15T17:56:55.970403Z"
    }
   },
   "outputs": [],
   "source": [
    "from tensorflow.keras import backend as K\n",
    "def f1(y_true, y_pred):\n",
    "    def recall(y_true, y_pred):\n",
    "        \"\"\"Recall metric.\n",
    "\n",
    "        Only computes a batch-wise average of recall.\n",
    "\n",
    "        Computes the recall, a metric for multi-label classification of\n",
    "        how many relevant items are selected.\n",
    "        \"\"\"\n",
    "        true_positives = K.sum(K.round(K.clip(y_true * y_pred, 0, 1)))\n",
    "        possible_positives = K.sum(K.round(K.clip(y_true, 0, 1)))\n",
    "        recall = true_positives / (possible_positives + K.epsilon())\n",
    "        return recall\n",
    "\n",
    "    def precision(y_true, y_pred):\n",
    "        \"\"\"Precision metric.\n",
    "\n",
    "        Only computes a batch-wise average of precision.\n",
    "\n",
    "        Computes the precision, a metric for multi-label classification of\n",
    "        how many selected items are relevant.\n",
    "        \"\"\"\n",
    "        true_positives = K.sum(K.round(K.clip(y_true * y_pred, 0, 1)))\n",
    "        predicted_positives = K.sum(K.round(K.clip(y_pred, 0, 1)))\n",
    "        precision = true_positives / (predicted_positives + K.epsilon())\n",
    "        return precision\n",
    "    precision = precision(y_true, y_pred)\n",
    "    recall = recall(y_true, y_pred)\n",
    "    return 2*((precision*recall)/(precision+recall+K.epsilon()))"
   ]
  },
  {
   "cell_type": "code",
   "execution_count": 6,
   "id": "95b8a4ac",
   "metadata": {
    "execution": {
     "iopub.execute_input": "2023-02-15T17:56:57.676634Z",
     "iopub.status.busy": "2023-02-15T17:56:57.675830Z",
     "iopub.status.idle": "2023-02-15T17:57:04.270176Z",
     "shell.execute_reply": "2023-02-15T17:57:04.269096Z",
     "shell.execute_reply.started": "2023-02-15T17:56:57.676590Z"
    }
   },
   "outputs": [],
   "source": [
    "# словарь\n",
    "vocab = Counter()\n",
    "\n",
    "for text in data.text:\n",
    "    vocab.update(preprocess(text))"
   ]
  },
  {
   "cell_type": "code",
   "execution_count": 7,
   "id": "79d6a886",
   "metadata": {
    "execution": {
     "iopub.execute_input": "2023-02-15T17:57:04.272803Z",
     "iopub.status.busy": "2023-02-15T17:57:04.272085Z",
     "iopub.status.idle": "2023-02-15T17:57:04.434499Z",
     "shell.execute_reply": "2023-02-15T17:57:04.433347Z",
     "shell.execute_reply.started": "2023-02-15T17:57:04.272760Z"
    }
   },
   "outputs": [],
   "source": [
    "# отфильтрованный словарь\n",
    "filtered_vocab = set()\n",
    "\n",
    "for word in vocab:\n",
    "    if vocab[word] > 30:\n",
    "        filtered_vocab.add(word)"
   ]
  },
  {
   "cell_type": "code",
   "execution_count": 8,
   "id": "62b36712",
   "metadata": {
    "execution": {
     "iopub.execute_input": "2023-02-15T17:57:04.437103Z",
     "iopub.status.busy": "2023-02-15T17:57:04.436328Z",
     "iopub.status.idle": "2023-02-15T17:57:04.446989Z",
     "shell.execute_reply": "2023-02-15T17:57:04.445937Z",
     "shell.execute_reply.started": "2023-02-15T17:57:04.437057Z"
    }
   },
   "outputs": [
    {
     "data": {
      "text/plain": [
       "24091"
      ]
     },
     "execution_count": 8,
     "metadata": {},
     "output_type": "execute_result"
    }
   ],
   "source": [
    "len(filtered_vocab)"
   ]
  },
  {
   "cell_type": "code",
   "execution_count": 9,
   "id": "26a827da",
   "metadata": {
    "execution": {
     "iopub.execute_input": "2023-02-15T17:57:04.453935Z",
     "iopub.status.busy": "2023-02-15T17:57:04.448554Z",
     "iopub.status.idle": "2023-02-15T17:57:04.474512Z",
     "shell.execute_reply": "2023-02-15T17:57:04.473597Z",
     "shell.execute_reply.started": "2023-02-15T17:57:04.453894Z"
    }
   },
   "outputs": [],
   "source": [
    "# индексируем слова\n",
    "word2id = {'PAD':0, 'UNK':1}\n",
    "\n",
    "for word in filtered_vocab:\n",
    "    word2id[word] = len(word2id)"
   ]
  },
  {
   "cell_type": "code",
   "execution_count": 10,
   "id": "b2da6eef",
   "metadata": {
    "execution": {
     "iopub.execute_input": "2023-02-15T17:57:04.481229Z",
     "iopub.status.busy": "2023-02-15T17:57:04.480481Z",
     "iopub.status.idle": "2023-02-15T17:57:04.491987Z",
     "shell.execute_reply": "2023-02-15T17:57:04.490940Z",
     "shell.execute_reply.started": "2023-02-15T17:57:04.481179Z"
    }
   },
   "outputs": [],
   "source": [
    "id2word = {i:word for word, i in word2id.items()}"
   ]
  },
  {
   "cell_type": "code",
   "execution_count": 11,
   "id": "f2b78527",
   "metadata": {
    "execution": {
     "iopub.execute_input": "2023-02-15T17:57:04.494696Z",
     "iopub.status.busy": "2023-02-15T17:57:04.493771Z",
     "iopub.status.idle": "2023-02-15T17:57:08.641044Z",
     "shell.execute_reply": "2023-02-15T17:57:08.639922Z",
     "shell.execute_reply.started": "2023-02-15T17:57:04.494659Z"
    }
   },
   "outputs": [],
   "source": [
    "# переводим тексты в последовательности индексов\n",
    "X = []\n",
    "\n",
    "for text in data.text:\n",
    "    tokens = preprocess(text)\n",
    "    ids = [word2id.get(token, 1) for token in tokens]\n",
    "    X.append(ids)"
   ]
  },
  {
   "cell_type": "code",
   "execution_count": 12,
   "id": "aca461ed",
   "metadata": {
    "execution": {
     "iopub.execute_input": "2023-02-15T17:57:08.643161Z",
     "iopub.status.busy": "2023-02-15T17:57:08.642743Z",
     "iopub.status.idle": "2023-02-15T17:57:08.660378Z",
     "shell.execute_reply": "2023-02-15T17:57:08.659410Z",
     "shell.execute_reply.started": "2023-02-15T17:57:08.643119Z"
    }
   },
   "outputs": [],
   "source": [
    "MEAN_LEN = np.median([len(x) for x in X])\n",
    "MAX_LEN = int(MEAN_LEN + 30)"
   ]
  },
  {
   "cell_type": "code",
   "execution_count": 13,
   "id": "bc0fc5e9",
   "metadata": {
    "execution": {
     "iopub.execute_input": "2023-02-15T17:57:08.662254Z",
     "iopub.status.busy": "2023-02-15T17:57:08.661805Z",
     "iopub.status.idle": "2023-02-15T17:57:09.292427Z",
     "shell.execute_reply": "2023-02-15T17:57:09.291204Z",
     "shell.execute_reply.started": "2023-02-15T17:57:08.662181Z"
    }
   },
   "outputs": [],
   "source": [
    "# паддинг\n",
    "X = tf.keras.preprocessing.sequence.pad_sequences(X, maxlen=MAX_LEN)"
   ]
  },
  {
   "cell_type": "code",
   "execution_count": 14,
   "id": "2f477fa3",
   "metadata": {
    "execution": {
     "iopub.execute_input": "2023-02-15T17:57:09.299345Z",
     "iopub.status.busy": "2023-02-15T17:57:09.298503Z",
     "iopub.status.idle": "2023-02-15T17:57:09.312480Z",
     "shell.execute_reply": "2023-02-15T17:57:09.311482Z",
     "shell.execute_reply.started": "2023-02-15T17:57:09.299303Z"
    }
   },
   "outputs": [
    {
     "data": {
      "text/plain": [
       "(44356, 200)"
      ]
     },
     "execution_count": 14,
     "metadata": {},
     "output_type": "execute_result"
    }
   ],
   "source": [
    "X.shape"
   ]
  },
  {
   "cell_type": "code",
   "execution_count": 15,
   "id": "115bc689",
   "metadata": {
    "execution": {
     "iopub.execute_input": "2023-02-15T17:57:09.320179Z",
     "iopub.status.busy": "2023-02-15T17:57:09.317178Z",
     "iopub.status.idle": "2023-02-15T17:57:09.328615Z",
     "shell.execute_reply": "2023-02-15T17:57:09.327366Z",
     "shell.execute_reply.started": "2023-02-15T17:57:09.320142Z"
    }
   },
   "outputs": [],
   "source": [
    "id2label = {i:label for i, label in enumerate(set(data.topic.values))}\n",
    "label2id = {l:i for i, l in id2label.items()}"
   ]
  },
  {
   "cell_type": "code",
   "execution_count": 16,
   "id": "f50018c8",
   "metadata": {
    "execution": {
     "iopub.execute_input": "2023-02-15T17:57:09.335603Z",
     "iopub.status.busy": "2023-02-15T17:57:09.332919Z",
     "iopub.status.idle": "2023-02-15T17:57:09.351380Z",
     "shell.execute_reply": "2023-02-15T17:57:09.350471Z",
     "shell.execute_reply.started": "2023-02-15T17:57:09.335566Z"
    }
   },
   "outputs": [],
   "source": [
    "y = tf.keras.utils.to_categorical([label2id[label] for label in data.topic.values])"
   ]
  },
  {
   "cell_type": "code",
   "execution_count": 17,
   "id": "204b8853",
   "metadata": {
    "execution": {
     "iopub.execute_input": "2023-02-15T17:57:09.358726Z",
     "iopub.status.busy": "2023-02-15T17:57:09.356349Z",
     "iopub.status.idle": "2023-02-15T17:57:09.369045Z",
     "shell.execute_reply": "2023-02-15T17:57:09.368107Z",
     "shell.execute_reply.started": "2023-02-15T17:57:09.358680Z"
    }
   },
   "outputs": [
    {
     "data": {
      "text/plain": [
       "19"
      ]
     },
     "execution_count": 17,
     "metadata": {},
     "output_type": "execute_result"
    }
   ],
   "source": [
    "len(label2id)"
   ]
  },
  {
   "cell_type": "code",
   "execution_count": 18,
   "id": "139c9391",
   "metadata": {
    "execution": {
     "iopub.execute_input": "2023-02-15T17:57:09.375927Z",
     "iopub.status.busy": "2023-02-15T17:57:09.373671Z",
     "iopub.status.idle": "2023-02-15T17:57:10.470420Z",
     "shell.execute_reply": "2023-02-15T17:57:10.469331Z",
     "shell.execute_reply.started": "2023-02-15T17:57:09.375890Z"
    }
   },
   "outputs": [],
   "source": [
    "X_train, X_valid, y_train, y_valid = train_test_split(X, y, test_size=0.05, stratify=y)"
   ]
  },
  {
   "cell_type": "markdown",
   "id": "855b8289",
   "metadata": {},
   "source": [
    "#### модель с 1 GRU слоем"
   ]
  },
  {
   "cell_type": "code",
   "execution_count": 19,
   "id": "8cb2d9a1",
   "metadata": {
    "execution": {
     "iopub.execute_input": "2023-02-15T17:57:10.479014Z",
     "iopub.status.busy": "2023-02-15T17:57:10.476241Z",
     "iopub.status.idle": "2023-02-15T17:57:15.856604Z",
     "shell.execute_reply": "2023-02-15T17:57:15.855636Z",
     "shell.execute_reply.started": "2023-02-15T17:57:10.478970Z"
    }
   },
   "outputs": [
    {
     "name": "stderr",
     "output_type": "stream",
     "text": [
      "2023-02-15 17:57:10.691428: I tensorflow/stream_executor/cuda/cuda_gpu_executor.cc:937] successful NUMA node read from SysFS had negative value (-1), but there must be at least one NUMA node, so returning NUMA node zero\n",
      "2023-02-15 17:57:10.692863: I tensorflow/stream_executor/cuda/cuda_gpu_executor.cc:937] successful NUMA node read from SysFS had negative value (-1), but there must be at least one NUMA node, so returning NUMA node zero\n",
      "2023-02-15 17:57:10.944815: I tensorflow/stream_executor/cuda/cuda_gpu_executor.cc:937] successful NUMA node read from SysFS had negative value (-1), but there must be at least one NUMA node, so returning NUMA node zero\n",
      "2023-02-15 17:57:10.945731: I tensorflow/stream_executor/cuda/cuda_gpu_executor.cc:937] successful NUMA node read from SysFS had negative value (-1), but there must be at least one NUMA node, so returning NUMA node zero\n",
      "2023-02-15 17:57:10.946641: I tensorflow/stream_executor/cuda/cuda_gpu_executor.cc:937] successful NUMA node read from SysFS had negative value (-1), but there must be at least one NUMA node, so returning NUMA node zero\n",
      "2023-02-15 17:57:10.947518: I tensorflow/stream_executor/cuda/cuda_gpu_executor.cc:937] successful NUMA node read from SysFS had negative value (-1), but there must be at least one NUMA node, so returning NUMA node zero\n",
      "2023-02-15 17:57:10.949368: I tensorflow/core/platform/cpu_feature_guard.cc:142] This TensorFlow binary is optimized with oneAPI Deep Neural Network Library (oneDNN) to use the following CPU instructions in performance-critical operations:  AVX2 AVX512F FMA\n",
      "To enable them in other operations, rebuild TensorFlow with the appropriate compiler flags.\n",
      "2023-02-15 17:57:11.187303: I tensorflow/stream_executor/cuda/cuda_gpu_executor.cc:937] successful NUMA node read from SysFS had negative value (-1), but there must be at least one NUMA node, so returning NUMA node zero\n",
      "2023-02-15 17:57:11.188289: I tensorflow/stream_executor/cuda/cuda_gpu_executor.cc:937] successful NUMA node read from SysFS had negative value (-1), but there must be at least one NUMA node, so returning NUMA node zero\n",
      "2023-02-15 17:57:11.189061: I tensorflow/stream_executor/cuda/cuda_gpu_executor.cc:937] successful NUMA node read from SysFS had negative value (-1), but there must be at least one NUMA node, so returning NUMA node zero\n",
      "2023-02-15 17:57:11.189749: I tensorflow/stream_executor/cuda/cuda_gpu_executor.cc:937] successful NUMA node read from SysFS had negative value (-1), but there must be at least one NUMA node, so returning NUMA node zero\n",
      "2023-02-15 17:57:11.190479: I tensorflow/stream_executor/cuda/cuda_gpu_executor.cc:937] successful NUMA node read from SysFS had negative value (-1), but there must be at least one NUMA node, so returning NUMA node zero\n",
      "2023-02-15 17:57:11.191198: I tensorflow/stream_executor/cuda/cuda_gpu_executor.cc:937] successful NUMA node read from SysFS had negative value (-1), but there must be at least one NUMA node, so returning NUMA node zero\n",
      "2023-02-15 17:57:15.204540: I tensorflow/stream_executor/cuda/cuda_gpu_executor.cc:937] successful NUMA node read from SysFS had negative value (-1), but there must be at least one NUMA node, so returning NUMA node zero\n",
      "2023-02-15 17:57:15.205541: I tensorflow/stream_executor/cuda/cuda_gpu_executor.cc:937] successful NUMA node read from SysFS had negative value (-1), but there must be at least one NUMA node, so returning NUMA node zero\n",
      "2023-02-15 17:57:15.206365: I tensorflow/stream_executor/cuda/cuda_gpu_executor.cc:937] successful NUMA node read from SysFS had negative value (-1), but there must be at least one NUMA node, so returning NUMA node zero\n",
      "2023-02-15 17:57:15.207118: I tensorflow/stream_executor/cuda/cuda_gpu_executor.cc:937] successful NUMA node read from SysFS had negative value (-1), but there must be at least one NUMA node, so returning NUMA node zero\n",
      "2023-02-15 17:57:15.207884: I tensorflow/stream_executor/cuda/cuda_gpu_executor.cc:937] successful NUMA node read from SysFS had negative value (-1), but there must be at least one NUMA node, so returning NUMA node zero\n",
      "2023-02-15 17:57:15.208627: I tensorflow/core/common_runtime/gpu/gpu_device.cc:1510] Created device /job:localhost/replica:0/task:0/device:GPU:0 with 13789 MB memory:  -> device: 0, name: Tesla T4, pci bus id: 0000:00:04.0, compute capability: 7.5\n",
      "2023-02-15 17:57:15.212903: I tensorflow/stream_executor/cuda/cuda_gpu_executor.cc:937] successful NUMA node read from SysFS had negative value (-1), but there must be at least one NUMA node, so returning NUMA node zero\n",
      "2023-02-15 17:57:15.213619: I tensorflow/core/common_runtime/gpu/gpu_device.cc:1510] Created device /job:localhost/replica:0/task:0/device:GPU:1 with 13789 MB memory:  -> device: 1, name: Tesla T4, pci bus id: 0000:00:05.0, compute capability: 7.5\n"
     ]
    }
   ],
   "source": [
    "inputs = tf.keras.layers.Input(shape=(MAX_LEN,))\n",
    "embeddings = tf.keras.layers.Embedding(input_dim=len(word2id), output_dim=300)(inputs, )\n",
    "\n",
    "rnn = tf.keras.layers.GRU(128, return_sequences=False)(embeddings)\n",
    "\n",
    "outputs = tf.keras.layers.Dense(len(label2id), activation='softmax')(rnn)\n",
    "\n",
    "model = tf.keras.Model(inputs=inputs, outputs=outputs)\n",
    "optimizer = tf.keras.optimizers.Adam(learning_rate=0.001)\n",
    "callback = tf.keras.callbacks.EarlyStopping(monitor='val_loss', patience=3)\n",
    "model.compile(optimizer=optimizer,\n",
    "              loss='categorical_crossentropy',\n",
    "              metrics=[f1, tf.keras.metrics.RecallAtPrecision(0.8, name='rec@prec')])"
   ]
  },
  {
   "cell_type": "code",
   "execution_count": 20,
   "id": "a277e6d9",
   "metadata": {
    "execution": {
     "iopub.execute_input": "2023-02-15T17:57:15.858151Z",
     "iopub.status.busy": "2023-02-15T17:57:15.857710Z",
     "iopub.status.idle": "2023-02-15T17:57:54.420438Z",
     "shell.execute_reply": "2023-02-15T17:57:54.419456Z",
     "shell.execute_reply.started": "2023-02-15T17:57:15.858110Z"
    }
   },
   "outputs": [
    {
     "name": "stderr",
     "output_type": "stream",
     "text": [
      "2023-02-15 17:57:15.950230: I tensorflow/compiler/mlir/mlir_graph_optimization_pass.cc:185] None of the MLIR Optimization Passes are enabled (registered 2)\n"
     ]
    },
    {
     "name": "stdout",
     "output_type": "stream",
     "text": [
      "Epoch 1/20\n"
     ]
    },
    {
     "name": "stderr",
     "output_type": "stream",
     "text": [
      "2023-02-15 17:57:19.663986: I tensorflow/stream_executor/cuda/cuda_dnn.cc:369] Loaded cuDNN version 8005\n"
     ]
    },
    {
     "name": "stdout",
     "output_type": "stream",
     "text": [
      "43/43 [==============================] - 11s 105ms/step - loss: 2.4874 - f1: 1.8143e-04 - rec@prec: 0.0000e+00 - val_loss: 2.2248 - val_f1: 0.0000e+00 - val_rec@prec: 0.0027\n",
      "Epoch 2/20\n",
      "43/43 [==============================] - 4s 89ms/step - loss: 1.9788 - f1: 0.0859 - rec@prec: 0.0329 - val_loss: 1.7881 - val_f1: 0.2354 - val_rec@prec: 0.0807\n",
      "Epoch 3/20\n",
      "43/43 [==============================] - 4s 90ms/step - loss: 1.4423 - f1: 0.4348 - rec@prec: 0.2732 - val_loss: 1.4449 - val_f1: 0.4867 - val_rec@prec: 0.2619\n",
      "Epoch 4/20\n",
      "43/43 [==============================] - 4s 90ms/step - loss: 1.0416 - f1: 0.6466 - rec@prec: 0.5948 - val_loss: 1.3337 - val_f1: 0.5792 - val_rec@prec: 0.3729\n",
      "Epoch 5/20\n",
      "43/43 [==============================] - 4s 92ms/step - loss: 0.7437 - f1: 0.7728 - rec@prec: 0.7827 - val_loss: 1.2617 - val_f1: 0.6389 - val_rec@prec: 0.4779\n",
      "Epoch 6/20\n",
      "43/43 [==============================] - 4s 90ms/step - loss: 0.5135 - f1: 0.8510 - rec@prec: 0.8884 - val_loss: 1.3763 - val_f1: 0.6606 - val_rec@prec: 0.4950\n",
      "Epoch 7/20\n",
      "43/43 [==============================] - 4s 90ms/step - loss: 0.3666 - f1: 0.8973 - rec@prec: 0.9420 - val_loss: 1.3902 - val_f1: 0.6671 - val_rec@prec: 0.5099\n",
      "Epoch 8/20\n",
      "43/43 [==============================] - 4s 91ms/step - loss: 0.2519 - f1: 0.9355 - rec@prec: 0.9735 - val_loss: 1.4953 - val_f1: 0.6710 - val_rec@prec: 0.4878\n"
     ]
    },
    {
     "data": {
      "text/plain": [
       "<keras.callbacks.History at 0x7f21d968ae50>"
      ]
     },
     "execution_count": 20,
     "metadata": {},
     "output_type": "execute_result"
    }
   ],
   "source": [
    "model.fit(X_train, y_train, \n",
    "          validation_data=(X_valid, y_valid),\n",
    "          batch_size=1000,\n",
    "          callbacks=[callback],\n",
    "          epochs=20)"
   ]
  },
  {
   "cell_type": "code",
   "execution_count": 21,
   "id": "a1b61872",
   "metadata": {
    "execution": {
     "iopub.execute_input": "2023-02-15T17:57:54.422644Z",
     "iopub.status.busy": "2023-02-15T17:57:54.422252Z",
     "iopub.status.idle": "2023-02-15T17:57:59.132016Z",
     "shell.execute_reply": "2023-02-15T17:57:59.130985Z",
     "shell.execute_reply.started": "2023-02-15T17:57:54.422605Z"
    }
   },
   "outputs": [
    {
     "data": {
      "image/png": "[encoded data removed]",
      "text/plain": [
       "<Figure size 432x288 with 1 Axes>"
      ]
     },
     "metadata": {
      "needs_background": "light"
     },
     "output_type": "display_data"
    }
   ],
   "source": [
    "plt.plot(model.history.history['f1'])\n",
    "plt.plot(model.history.history['val_f1'])\n",
    "plt.title('model f1')\n",
    "plt.ylabel('f1')\n",
    "plt.xlabel('epoch')\n",
    "plt.legend(['train', 'val'], loc='upper left')\n",
    "plt.show()"
   ]
  },
  {
   "cell_type": "markdown",
   "id": "e41a3331",
   "metadata": {},
   "source": [
    "Не очень"
   ]
  },
  {
   "cell_type": "markdown",
   "id": "82c9ae72",
   "metadata": {},
   "source": [
    "#### модель с 1 LSTM слоем"
   ]
  },
  {
   "cell_type": "code",
   "execution_count": 22,
   "id": "3959da9b",
   "metadata": {
    "execution": {
     "iopub.execute_input": "2023-02-15T17:57:59.134208Z",
     "iopub.status.busy": "2023-02-15T17:57:59.133817Z",
     "iopub.status.idle": "2023-02-15T17:57:59.369368Z",
     "shell.execute_reply": "2023-02-15T17:57:59.368363Z",
     "shell.execute_reply.started": "2023-02-15T17:57:59.134168Z"
    }
   },
   "outputs": [],
   "source": [
    "inputs = tf.keras.layers.Input(shape=(MAX_LEN,))\n",
    "\n",
    "embeddings = tf.keras.layers.Embedding(input_dim=len(word2id), output_dim=300)(inputs, )\n",
    "\n",
    "rnn = tf.keras.layers.LSTM(128, return_sequences=False)(embeddings)\n",
    "\n",
    "outputs = tf.keras.layers.Dense(len(label2id), activation='softmax')(rnn)\n",
    "\n",
    "model = tf.keras.Model(inputs=inputs, outputs=outputs)\n",
    "\n",
    "optimizer = tf.keras.optimizers.Adam(learning_rate=0.001)\n",
    "callback = tf.keras.callbacks.EarlyStopping(monitor='val_loss', patience=3)\n",
    "\n",
    "model.compile(optimizer=optimizer,\n",
    "              loss='categorical_crossentropy',\n",
    "              metrics=[f1, tf.keras.metrics.RecallAtPrecision(0.8, name='rec@prec')])"
   ]
  },
  {
   "cell_type": "code",
   "execution_count": 23,
   "id": "9b5e8cc2",
   "metadata": {
    "execution": {
     "iopub.execute_input": "2023-02-15T17:57:59.371286Z",
     "iopub.status.busy": "2023-02-15T17:57:59.370658Z",
     "iopub.status.idle": "2023-02-15T17:58:50.020101Z",
     "shell.execute_reply": "2023-02-15T17:58:50.018997Z",
     "shell.execute_reply.started": "2023-02-15T17:57:59.371248Z"
    }
   },
   "outputs": [
    {
     "name": "stdout",
     "output_type": "stream",
     "text": [
      "Epoch 1/20\n",
      "43/43 [==============================] - 7s 122ms/step - loss: 2.4447 - f1: 0.0000e+00 - rec@prec: 0.0000e+00 - val_loss: 2.2743 - val_f1: 0.0000e+00 - val_rec@prec: 0.0018\n",
      "Epoch 2/20\n",
      "43/43 [==============================] - 5s 111ms/step - loss: 1.9570 - f1: 0.1003 - rec@prec: 0.0455 - val_loss: 1.6480 - val_f1: 0.3061 - val_rec@prec: 0.1416\n",
      "Epoch 3/20\n",
      "43/43 [==============================] - 5s 112ms/step - loss: 1.3254 - f1: 0.5480 - rec@prec: 0.3751 - val_loss: 1.3901 - val_f1: 0.5322 - val_rec@prec: 0.3431\n",
      "Epoch 4/20\n",
      "43/43 [==============================] - 5s 111ms/step - loss: 1.0492 - f1: 0.6672 - rec@prec: 0.5813 - val_loss: 1.2443 - val_f1: 0.6209 - val_rec@prec: 0.3990\n",
      "Epoch 5/20\n",
      "43/43 [==============================] - 5s 112ms/step - loss: 0.8725 - f1: 0.7351 - rec@prec: 0.6987 - val_loss: 1.2863 - val_f1: 0.6253 - val_rec@prec: 0.4567\n",
      "Epoch 6/20\n",
      "43/43 [==============================] - 5s 113ms/step - loss: 0.7122 - f1: 0.7905 - rec@prec: 0.7930 - val_loss: 1.1157 - val_f1: 0.6865 - val_rec@prec: 0.5676\n",
      "Epoch 7/20\n",
      "43/43 [==============================] - 5s 114ms/step - loss: 0.5623 - f1: 0.8383 - rec@prec: 0.8688 - val_loss: 1.0911 - val_f1: 0.6991 - val_rec@prec: 0.6069\n",
      "Epoch 8/20\n",
      "43/43 [==============================] - 5s 114ms/step - loss: 0.4511 - f1: 0.8749 - rec@prec: 0.9131 - val_loss: 1.1023 - val_f1: 0.6989 - val_rec@prec: 0.5960\n",
      "Epoch 9/20\n",
      "43/43 [==============================] - 5s 115ms/step - loss: 0.3468 - f1: 0.9060 - rec@prec: 0.9472 - val_loss: 1.1298 - val_f1: 0.7101 - val_rec@prec: 0.6208\n",
      "Epoch 10/20\n",
      "43/43 [==============================] - 5s 116ms/step - loss: 0.2685 - f1: 0.9299 - rec@prec: 0.9674 - val_loss: 1.1978 - val_f1: 0.7083 - val_rec@prec: 0.6046\n"
     ]
    },
    {
     "data": {
      "text/plain": [
       "<keras.callbacks.History at 0x7f21ac53a790>"
      ]
     },
     "execution_count": 23,
     "metadata": {},
     "output_type": "execute_result"
    }
   ],
   "source": [
    "model.fit(X_train, y_train, \n",
    "          validation_data=(X_valid, y_valid),\n",
    "          batch_size=1000,\n",
    "          callbacks=[callback],\n",
    "          epochs=20)"
   ]
  },
  {
   "cell_type": "code",
   "execution_count": 24,
   "id": "42cbad6b",
   "metadata": {
    "execution": {
     "iopub.execute_input": "2023-02-15T17:58:50.022442Z",
     "iopub.status.busy": "2023-02-15T17:58:50.021578Z",
     "iopub.status.idle": "2023-02-15T17:59:23.029947Z",
     "shell.execute_reply": "2023-02-15T17:59:23.028929Z",
     "shell.execute_reply.started": "2023-02-15T17:58:50.022401Z"
    }
   },
   "outputs": [
    {
     "data": {
      "image/png": "[encoded data removed]",
      "text/plain": [
       "<Figure size 432x288 with 1 Axes>"
      ]
     },
     "metadata": {
      "needs_background": "light"
     },
     "output_type": "display_data"
    }
   ],
   "source": [
    "plt.plot(model.history.history['f1'])\n",
    "plt.plot(model.history.history['val_f1'])\n",
    "plt.title('model f1')\n",
    "plt.ylabel('f1')\n",
    "plt.xlabel('epoch')\n",
    "plt.legend(['train', 'val'], loc='upper left')\n",
    "plt.show()"
   ]
  },
  {
   "cell_type": "markdown",
   "id": "755d1f88",
   "metadata": {},
   "source": [
    "Здесь лучше"
   ]
  },
  {
   "cell_type": "markdown",
   "id": "368e6e69",
   "metadata": {},
   "source": [
    "#### модель с 1 GRU и 1 LSTM слоем"
   ]
  },
  {
   "cell_type": "code",
   "execution_count": 25,
   "id": "f4be0e05",
   "metadata": {
    "execution": {
     "iopub.execute_input": "2023-02-15T17:59:23.033230Z",
     "iopub.status.busy": "2023-02-15T17:59:23.032514Z",
     "iopub.status.idle": "2023-02-15T17:59:23.453983Z",
     "shell.execute_reply": "2023-02-15T17:59:23.453006Z",
     "shell.execute_reply.started": "2023-02-15T17:59:23.033181Z"
    }
   },
   "outputs": [],
   "source": [
    "inputs = tf.keras.layers.Input(shape=(MAX_LEN,))\n",
    "embeddings = tf.keras.layers.Embedding(input_dim=len(word2id), output_dim=200)(inputs, )\n",
    "\n",
    "gru_1 = tf.keras.layers.GRU(128, return_sequences=True)(embeddings)\n",
    "lstm_1 = tf.keras.layers.LSTM(128, return_sequences=False)(gru_1)\n",
    "\n",
    "dense = tf.keras.layers.Dense(64, activation='relu')(lstm_1)\n",
    "outputs = tf.keras.layers.Dense(len(label2id), activation='softmax')(dense)\n",
    "\n",
    "model = tf.keras.Model(inputs=inputs, outputs=outputs)\n",
    "optimizer = tf.keras.optimizers.Adam(learning_rate=0.001)\n",
    "model.compile(optimizer=optimizer,\n",
    "              loss='categorical_crossentropy',\n",
    "              metrics=[f1, tf.keras.metrics.RecallAtPrecision(0.8, name='rec@prec')])"
   ]
  },
  {
   "cell_type": "code",
   "execution_count": 26,
   "id": "76ad6c11",
   "metadata": {
    "execution": {
     "iopub.execute_input": "2023-02-15T17:59:23.456076Z",
     "iopub.status.busy": "2023-02-15T17:59:23.455631Z",
     "iopub.status.idle": "2023-02-15T18:00:22.824408Z",
     "shell.execute_reply": "2023-02-15T18:00:22.823446Z",
     "shell.execute_reply.started": "2023-02-15T17:59:23.456008Z"
    }
   },
   "outputs": [
    {
     "name": "stdout",
     "output_type": "stream",
     "text": [
      "Epoch 1/20\n",
      "43/43 [==============================] - 10s 168ms/step - loss: 2.4931 - f1: 0.0000e+00 - rec@prec: 0.0000e+00 - val_loss: 2.2926 - val_f1: 0.0000e+00 - val_rec@prec: 0.0000e+00\n",
      "Epoch 2/20\n",
      "43/43 [==============================] - 6s 143ms/step - loss: 1.9802 - f1: 0.0680 - rec@prec: 0.0370 - val_loss: 1.7879 - val_f1: 0.1566 - val_rec@prec: 0.1240\n",
      "Epoch 3/20\n",
      "43/43 [==============================] - 6s 143ms/step - loss: 1.4559 - f1: 0.4700 - rec@prec: 0.2699 - val_loss: 1.4332 - val_f1: 0.5256 - val_rec@prec: 0.3219\n",
      "Epoch 4/20\n",
      "43/43 [==============================] - 6s 143ms/step - loss: 1.1549 - f1: 0.6345 - rec@prec: 0.5017 - val_loss: 1.4043 - val_f1: 0.5619 - val_rec@prec: 0.3841\n",
      "Epoch 5/20\n",
      "43/43 [==============================] - 6s 143ms/step - loss: 0.9492 - f1: 0.7089 - rec@prec: 0.6445 - val_loss: 1.2846 - val_f1: 0.6350 - val_rec@prec: 0.4621\n",
      "Epoch 6/20\n",
      "43/43 [==============================] - 6s 145ms/step - loss: 0.8270 - f1: 0.7519 - rec@prec: 0.7236 - val_loss: 1.2517 - val_f1: 0.6533 - val_rec@prec: 0.4941\n",
      "Epoch 7/20\n",
      "43/43 [==============================] - 6s 145ms/step - loss: 0.6842 - f1: 0.7984 - rec@prec: 0.8059 - val_loss: 1.2609 - val_f1: 0.6646 - val_rec@prec: 0.5081\n",
      "Epoch 8/20\n",
      "43/43 [==============================] - 6s 145ms/step - loss: 0.5773 - f1: 0.8334 - rec@prec: 0.8588 - val_loss: 1.3362 - val_f1: 0.6620 - val_rec@prec: 0.4946\n",
      "Epoch 9/20\n",
      "43/43 [==============================] - 6s 143ms/step - loss: 0.4984 - f1: 0.8614 - rec@prec: 0.8928 - val_loss: 1.4108 - val_f1: 0.6794 - val_rec@prec: 0.5185\n"
     ]
    },
    {
     "data": {
      "text/plain": [
       "<keras.callbacks.History at 0x7f21601b3490>"
      ]
     },
     "execution_count": 26,
     "metadata": {},
     "output_type": "execute_result"
    }
   ],
   "source": [
    "model.fit(X_train, y_train, \n",
    "          validation_data=(X_valid, y_valid),\n",
    "          batch_size=1000,\n",
    "          callbacks=[callback],\n",
    "          epochs=20)"
   ]
  },
  {
   "cell_type": "code",
   "execution_count": 27,
   "id": "cc6f862b",
   "metadata": {
    "execution": {
     "iopub.execute_input": "2023-02-15T18:00:22.827855Z",
     "iopub.status.busy": "2023-02-15T18:00:22.827518Z",
     "iopub.status.idle": "2023-02-15T18:00:48.152206Z",
     "shell.execute_reply": "2023-02-15T18:00:48.150985Z",
     "shell.execute_reply.started": "2023-02-15T18:00:22.827825Z"
    }
   },
   "outputs": [
    {
     "data": {
      "text/plain": [
       "<function matplotlib.pyplot.show(close=None, block=None)>"
      ]
     },
     "execution_count": 27,
     "metadata": {},
     "output_type": "execute_result"
    },
    {
     "data": {
      "image/png": "[encoded data removed]",
      "text/plain": [
       "<Figure size 432x288 with 1 Axes>"
      ]
     },
     "metadata": {
      "needs_background": "light"
     },
     "output_type": "display_data"
    }
   ],
   "source": [
    "plt.plot(model.history.history['f1'])\n",
    "plt.plot(model.history.history['val_f1'])\n",
    "plt.title('model f1')\n",
    "plt.ylabel('f1')\n",
    "plt.xlabel('epoch')\n",
    "plt.legend(['train', 'val'], loc='upper left')\n",
    "plt.show"
   ]
  },
  {
   "cell_type": "markdown",
   "id": "262aaa99",
   "metadata": {},
   "source": [
    "Становится чуть хуже"
   ]
  },
  {
   "cell_type": "markdown",
   "id": "f158f327",
   "metadata": {},
   "source": [
    "#### модель с 1 BIGRU и 2 LSTM слоями"
   ]
  },
  {
   "cell_type": "code",
   "execution_count": 28,
   "id": "bde6bcf4",
   "metadata": {
    "execution": {
     "iopub.execute_input": "2023-02-15T18:00:48.160469Z",
     "iopub.status.busy": "2023-02-15T18:00:48.160158Z",
     "iopub.status.idle": "2023-02-15T18:00:48.944687Z",
     "shell.execute_reply": "2023-02-15T18:00:48.943730Z",
     "shell.execute_reply.started": "2023-02-15T18:00:48.160439Z"
    }
   },
   "outputs": [],
   "source": [
    "inputs = tf.keras.layers.Input(shape=(MAX_LEN,))\n",
    "embeddings = tf.keras.layers.Embedding(input_dim=len(word2id), output_dim=200)(inputs, )\n",
    "\n",
    "gru = tf.keras.layers.Bidirectional(tf.keras.layers.GRU(128, return_sequences=True))(embeddings)\n",
    "lstm_1 = tf.keras.layers.LSTM(128, return_sequences=True)(gru)\n",
    "lstm_2 = tf.keras.layers.LSTM(128, return_sequences=False)(lstm_1)\n",
    "\n",
    "outputs = tf.keras.layers.Dense(len(label2id), activation='softmax')(lstm_2)\n",
    "\n",
    "model = tf.keras.Model(inputs=inputs, outputs=outputs)\n",
    "optimizer = tf.keras.optimizers.Adam()\n",
    "callback = tf.keras.callbacks.EarlyStopping(monitor='val_loss', patience=3)\n",
    "model.compile(optimizer=optimizer,\n",
    "              loss='categorical_crossentropy',\n",
    "              metrics=[f1, tf.keras.metrics.RecallAtPrecision(0.8, name='rec@prec')])"
   ]
  },
  {
   "cell_type": "code",
   "execution_count": 29,
   "id": "1d18930a",
   "metadata": {
    "execution": {
     "iopub.execute_input": "2023-02-15T18:00:48.946430Z",
     "iopub.status.busy": "2023-02-15T18:00:48.946046Z",
     "iopub.status.idle": "2023-02-15T18:03:37.833106Z",
     "shell.execute_reply": "2023-02-15T18:03:37.832052Z",
     "shell.execute_reply.started": "2023-02-15T18:00:48.946391Z"
    }
   },
   "outputs": [
    {
     "name": "stdout",
     "output_type": "stream",
     "text": [
      "Epoch 1/20\n",
      "43/43 [==============================] - 20s 337ms/step - loss: 2.4010 - f1: 0.0000e+00 - rec@prec: 0.0000e+00 - val_loss: 2.2471 - val_f1: 0.0000e+00 - val_rec@prec: 0.0000e+00\n",
      "Epoch 2/20\n",
      "43/43 [==============================] - 14s 315ms/step - loss: 2.0058 - f1: 0.0468 - rec@prec: 0.0037 - val_loss: 1.8295 - val_f1: 0.2204 - val_rec@prec: 0.0063\n",
      "Epoch 3/20\n",
      "43/43 [==============================] - 14s 320ms/step - loss: 1.7393 - f1: 0.2564 - rec@prec: 0.0804 - val_loss: 1.7510 - val_f1: 0.2640 - val_rec@prec: 0.1303\n",
      "Epoch 4/20\n",
      "43/43 [==============================] - 14s 317ms/step - loss: 1.5528 - f1: 0.3925 - rec@prec: 0.2256 - val_loss: 1.6061 - val_f1: 0.4385 - val_rec@prec: 0.2101\n",
      "Epoch 5/20\n",
      "43/43 [==============================] - 13s 314ms/step - loss: 1.3061 - f1: 0.5662 - rec@prec: 0.4192 - val_loss: 1.3928 - val_f1: 0.5515 - val_rec@prec: 0.3837\n",
      "Epoch 6/20\n",
      "43/43 [==============================] - 13s 312ms/step - loss: 1.0688 - f1: 0.6790 - rec@prec: 0.6000 - val_loss: 1.2285 - val_f1: 0.6370 - val_rec@prec: 0.4946\n",
      "Epoch 7/20\n",
      "43/43 [==============================] - 13s 313ms/step - loss: 0.8984 - f1: 0.7331 - rec@prec: 0.6938 - val_loss: 1.1872 - val_f1: 0.6561 - val_rec@prec: 0.5293\n",
      "Epoch 8/20\n",
      "43/43 [==============================] - 14s 315ms/step - loss: 0.7892 - f1: 0.7716 - rec@prec: 0.7582 - val_loss: 1.1695 - val_f1: 0.6646 - val_rec@prec: 0.5469\n",
      "Epoch 9/20\n",
      "43/43 [==============================] - 14s 317ms/step - loss: 0.7130 - f1: 0.7921 - rec@prec: 0.7972 - val_loss: 1.1284 - val_f1: 0.6939 - val_rec@prec: 0.5884\n",
      "Epoch 10/20\n",
      "43/43 [==============================] - 14s 316ms/step - loss: 0.6256 - f1: 0.8238 - rec@prec: 0.8389 - val_loss: 1.1444 - val_f1: 0.6908 - val_rec@prec: 0.5951\n",
      "Epoch 11/20\n",
      "43/43 [==============================] - 14s 315ms/step - loss: 0.5710 - f1: 0.8420 - rec@prec: 0.8653 - val_loss: 1.2106 - val_f1: 0.6877 - val_rec@prec: 0.5676\n",
      "Epoch 12/20\n",
      "43/43 [==============================] - 14s 315ms/step - loss: 0.5032 - f1: 0.8632 - rec@prec: 0.8936 - val_loss: 1.2354 - val_f1: 0.6906 - val_rec@prec: 0.5676\n"
     ]
    },
    {
     "data": {
      "text/plain": [
       "<keras.callbacks.History at 0x7f214fdb8090>"
      ]
     },
     "execution_count": 29,
     "metadata": {},
     "output_type": "execute_result"
    }
   ],
   "source": [
    "model.fit(X_train, y_train, \n",
    "          validation_data=(X_valid, y_valid),\n",
    "          batch_size=1000,\n",
    "          callbacks=[callback],\n",
    "          epochs=20)"
   ]
  },
  {
   "cell_type": "code",
   "execution_count": 30,
   "id": "76667188",
   "metadata": {
    "execution": {
     "iopub.execute_input": "2023-02-15T18:03:37.835357Z",
     "iopub.status.busy": "2023-02-15T18:03:37.834652Z",
     "iopub.status.idle": "2023-02-15T18:03:38.034887Z",
     "shell.execute_reply": "2023-02-15T18:03:38.033934Z",
     "shell.execute_reply.started": "2023-02-15T18:03:37.835315Z"
    }
   },
   "outputs": [
    {
     "data": {
      "image/png": "[encoded data removed]",
      "text/plain": [
       "<Figure size 432x288 with 1 Axes>"
      ]
     },
     "metadata": {
      "needs_background": "light"
     },
     "output_type": "display_data"
    }
   ],
   "source": [
    "plt.plot(model.history.history['f1'])\n",
    "plt.plot(model.history.history['val_f1'])\n",
    "plt.title('model f1')\n",
    "plt.ylabel('f1')\n",
    "plt.xlabel('epoch')\n",
    "plt.legend(['train', 'val'], loc='upper left')\n",
    "plt.show()"
   ]
  },
  {
   "cell_type": "markdown",
   "id": "e9c7409f",
   "metadata": {},
   "source": [
    "не очень"
   ]
  },
  {
   "cell_type": "markdown",
   "id": "98cb6903",
   "metadata": {},
   "source": [
    "#### модель с 5 GRU слоями и 3 LSTM слоями"
   ]
  },
  {
   "cell_type": "code",
   "execution_count": 31,
   "id": "85daa77f",
   "metadata": {
    "execution": {
     "iopub.execute_input": "2023-02-15T18:03:38.038228Z",
     "iopub.status.busy": "2023-02-15T18:03:38.037052Z",
     "iopub.status.idle": "2023-02-15T18:03:39.855732Z",
     "shell.execute_reply": "2023-02-15T18:03:39.854724Z",
     "shell.execute_reply.started": "2023-02-15T18:03:38.038180Z"
    }
   },
   "outputs": [],
   "source": [
    "inputs = tf.keras.layers.Input(shape=(MAX_LEN,))\n",
    "embeddings = tf.keras.layers.Embedding(input_dim=len(word2id), output_dim=100)(inputs, )\n",
    "\n",
    "gru_1 = tf.keras.layers.GRU(128, return_sequences=True)(embeddings)\n",
    "gru_2 = tf.keras.layers.GRU(128, return_sequences=True)(gru_1)\n",
    "gru_3 = tf.keras.layers.GRU(128, return_sequences=True)(gru_2)\n",
    "gru_4 = tf.keras.layers.GRU(128, return_sequences=True)(gru_3)\n",
    "gru_5 = tf.keras.layers.GRU(128, return_sequences=True)(gru_4)\n",
    "lstm_1 = tf.keras.layers.LSTM(128, return_sequences=True)(gru_5)\n",
    "lstm_2 = tf.keras.layers.LSTM(128, return_sequences=True)(lstm_1)\n",
    "lstm_3 = tf.keras.layers.LSTM(128, return_sequences=False)(lstm_2)\n",
    "\n",
    "outputs = tf.keras.layers.Dense(len(label2id), activation='softmax')(lstm_3)\n",
    "\n",
    "model = tf.keras.Model(inputs=inputs, outputs=outputs)\n",
    "optimizer = tf.keras.optimizers.Adam()\n",
    "callback = tf.keras.callbacks.EarlyStopping(monitor='val_loss', patience=3)\n",
    "model.compile(optimizer=optimizer,\n",
    "              loss='categorical_crossentropy',\n",
    "              metrics=[f1, tf.keras.metrics.RecallAtPrecision(0.8, name='rec@prec')])"
   ]
  },
  {
   "cell_type": "code",
   "execution_count": 32,
   "id": "6ee55571",
   "metadata": {
    "execution": {
     "iopub.execute_input": "2023-02-15T18:03:39.857872Z",
     "iopub.status.busy": "2023-02-15T18:03:39.857163Z",
     "iopub.status.idle": "2023-02-15T18:05:36.583935Z",
     "shell.execute_reply": "2023-02-15T18:05:36.582909Z",
     "shell.execute_reply.started": "2023-02-15T18:03:39.857826Z"
    }
   },
   "outputs": [
    {
     "name": "stdout",
     "output_type": "stream",
     "text": [
      "Epoch 1/20\n",
      "43/43 [==============================] - 32s 538ms/step - loss: 2.3907 - f1: 0.0000e+00 - rec@prec: 0.0000e+00 - val_loss: 2.3222 - val_f1: 0.0000e+00 - val_rec@prec: 0.0000e+00\n",
      "Epoch 2/20\n",
      "43/43 [==============================] - 21s 495ms/step - loss: 2.3247 - f1: 0.0000e+00 - rec@prec: 0.0000e+00 - val_loss: 2.3195 - val_f1: 0.0000e+00 - val_rec@prec: 0.0000e+00\n",
      "Epoch 3/20\n",
      "43/43 [==============================] - 21s 489ms/step - loss: 2.3232 - f1: 0.0000e+00 - rec@prec: 0.0000e+00 - val_loss: 2.3196 - val_f1: 0.0000e+00 - val_rec@prec: 0.0000e+00\n",
      "Epoch 4/20\n",
      "43/43 [==============================] - 21s 489ms/step - loss: 2.3223 - f1: 0.0000e+00 - rec@prec: 0.0000e+00 - val_loss: 2.3213 - val_f1: 0.0000e+00 - val_rec@prec: 0.0000e+00\n",
      "Epoch 5/20\n",
      "43/43 [==============================] - 21s 493ms/step - loss: 2.3233 - f1: 0.0000e+00 - rec@prec: 0.0000e+00 - val_loss: 2.3215 - val_f1: 0.0000e+00 - val_rec@prec: 0.0000e+00\n"
     ]
    },
    {
     "data": {
      "text/plain": [
       "<keras.callbacks.History at 0x7f214ff208d0>"
      ]
     },
     "execution_count": 32,
     "metadata": {},
     "output_type": "execute_result"
    }
   ],
   "source": [
    "model.fit(X_train, y_train, \n",
    "          validation_data=(X_valid, y_valid),\n",
    "          batch_size=1000,\n",
    "          callbacks=[callback],\n",
    "          epochs=20)"
   ]
  },
  {
   "cell_type": "code",
   "execution_count": 33,
   "id": "8d3ed12f",
   "metadata": {
    "execution": {
     "iopub.execute_input": "2023-02-15T18:05:36.586906Z",
     "iopub.status.busy": "2023-02-15T18:05:36.586238Z",
     "iopub.status.idle": "2023-02-15T18:05:36.814035Z",
     "shell.execute_reply": "2023-02-15T18:05:36.812998Z",
     "shell.execute_reply.started": "2023-02-15T18:05:36.586863Z"
    }
   },
   "outputs": [
    {
     "data": {
      "image/png": "[encoded data removed]",
      "text/plain": [
       "<Figure size 432x288 with 1 Axes>"
      ]
     },
     "metadata": {
      "needs_background": "light"
     },
     "output_type": "display_data"
    }
   ],
   "source": [
    "plt.plot(model.history.history['f1'])\n",
    "plt.plot(model.history.history['val_f1'])\n",
    "plt.title('model f1')\n",
    "plt.ylabel('f1')\n",
    "plt.xlabel('epoch')\n",
    "plt.legend(['train', 'val'], loc='upper left')\n",
    "plt.show()"
   ]
  },
  {
   "cell_type": "markdown",
   "id": "b56d68c6",
   "metadata": {},
   "source": [
    "Все плохо! видимо слишком много слоев для такой задачи"
   ]
  },
  {
   "cell_type": "markdown",
   "id": "d45b1ee7",
   "metadata": {},
   "source": [
    "#### модель 1 BIGRU и 1 BILSTM слоями, причем так чтобы модели для forward и backward прохода отличались"
   ]
  },
  {
   "cell_type": "code",
   "execution_count": 34,
   "id": "4e9001c3",
   "metadata": {
    "execution": {
     "iopub.execute_input": "2023-02-15T18:05:36.817308Z",
     "iopub.status.busy": "2023-02-15T18:05:36.815615Z",
     "iopub.status.idle": "2023-02-15T18:05:37.719475Z",
     "shell.execute_reply": "2023-02-15T18:05:37.718347Z",
     "shell.execute_reply.started": "2023-02-15T18:05:36.817264Z"
    }
   },
   "outputs": [],
   "source": [
    "inputs = tf.keras.layers.Input(shape=(MAX_LEN,))\n",
    "embeddings = tf.keras.layers.Embedding(input_dim=len(word2id), output_dim=200)(inputs, )\n",
    "\n",
    "gru = tf.keras.layers.Bidirectional(\n",
    "                                    tf.keras.layers.GRU(128, return_sequences=True),\n",
    "                        backward_layer=tf.keras.layers.GRU(256, return_sequences=True, \n",
    "                                                            go_backwards=True))(embeddings)\n",
    "hidden = tf.keras.layers.Bidirectional(\n",
    "                                       tf.keras.layers.LSTM(128, return_sequences=False),\n",
    "                        backward_layer=tf.keras.layers.LSTM(256, return_sequences=False, \n",
    "                                                            go_backwards=True))(gru)\n",
    "\n",
    "outputs = tf.keras.layers.Dense(len(label2id), activation='softmax')(hidden)\n",
    "\n",
    "model = tf.keras.Model(inputs=inputs, outputs=outputs)\n",
    "optimizer = tf.keras.optimizers.Adam()\n",
    "callback = tf.keras.callbacks.EarlyStopping(monitor='val_loss', patience=3)\n",
    "model.compile(optimizer=optimizer,\n",
    "              loss='categorical_crossentropy',\n",
    "              metrics=[f1, tf.keras.metrics.RecallAtPrecision(0.8, name='rec@prec')])"
   ]
  },
  {
   "cell_type": "code",
   "execution_count": 35,
   "id": "ca5adfa6",
   "metadata": {
    "execution": {
     "iopub.execute_input": "2023-02-15T18:05:37.721777Z",
     "iopub.status.busy": "2023-02-15T18:05:37.721387Z",
     "iopub.status.idle": "2023-02-15T18:10:29.371902Z",
     "shell.execute_reply": "2023-02-15T18:10:29.370879Z",
     "shell.execute_reply.started": "2023-02-15T18:05:37.721733Z"
    }
   },
   "outputs": [
    {
     "name": "stdout",
     "output_type": "stream",
     "text": [
      "Epoch 1/20\n",
      "43/43 [==============================] - 35s 694ms/step - loss: 2.2836 - f1: 6.1276e-04 - rec@prec: 0.0043 - val_loss: 1.9409 - val_f1: 0.0573 - val_rec@prec: 0.0469\n",
      "Epoch 2/20\n",
      "43/43 [==============================] - 28s 661ms/step - loss: 1.6581 - f1: 0.2189 - rec@prec: 0.1169 - val_loss: 1.5843 - val_f1: 0.3162 - val_rec@prec: 0.1479\n",
      "Epoch 3/20\n",
      "43/43 [==============================] - 28s 662ms/step - loss: 1.2795 - f1: 0.4886 - rec@prec: 0.3306 - val_loss: 1.3168 - val_f1: 0.5870 - val_rec@prec: 0.3796\n",
      "Epoch 4/20\n",
      "43/43 [==============================] - 29s 665ms/step - loss: 0.9410 - f1: 0.7110 - rec@prec: 0.6420 - val_loss: 1.2173 - val_f1: 0.6461 - val_rec@prec: 0.4937\n",
      "Epoch 5/20\n",
      "43/43 [==============================] - 29s 663ms/step - loss: 0.7545 - f1: 0.7779 - rec@prec: 0.7660 - val_loss: 1.1893 - val_f1: 0.6579 - val_rec@prec: 0.5248\n",
      "Epoch 6/20\n",
      "43/43 [==============================] - 29s 664ms/step - loss: 0.6578 - f1: 0.8058 - rec@prec: 0.8153 - val_loss: 1.1972 - val_f1: 0.6777 - val_rec@prec: 0.5518\n",
      "Epoch 7/20\n",
      "43/43 [==============================] - 29s 663ms/step - loss: 0.5228 - f1: 0.8480 - rec@prec: 0.8817 - val_loss: 1.1860 - val_f1: 0.7098 - val_rec@prec: 0.5897\n",
      "Epoch 8/20\n",
      "43/43 [==============================] - 29s 664ms/step - loss: 0.3916 - f1: 0.8890 - rec@prec: 0.9325 - val_loss: 1.2255 - val_f1: 0.7039 - val_rec@prec: 0.5875\n",
      "Epoch 9/20\n",
      "43/43 [==============================] - 29s 664ms/step - loss: 0.3032 - f1: 0.9187 - rec@prec: 0.9578 - val_loss: 1.3157 - val_f1: 0.6930 - val_rec@prec: 0.5708\n",
      "Epoch 10/20\n",
      "43/43 [==============================] - 29s 664ms/step - loss: 0.2696 - f1: 0.9263 - rec@prec: 0.9657 - val_loss: 1.3776 - val_f1: 0.6964 - val_rec@prec: 0.5636\n"
     ]
    },
    {
     "data": {
      "text/plain": [
       "<keras.callbacks.History at 0x7f1db0587190>"
      ]
     },
     "execution_count": 35,
     "metadata": {},
     "output_type": "execute_result"
    }
   ],
   "source": [
    "model.fit(X_train, y_train, \n",
    "          validation_data=(X_valid, y_valid),\n",
    "          batch_size=1000,\n",
    "          callbacks=[callback],\n",
    "          epochs=20)"
   ]
  },
  {
   "cell_type": "code",
   "execution_count": 36,
   "id": "1aecbbdd",
   "metadata": {
    "execution": {
     "iopub.execute_input": "2023-02-15T18:10:29.374528Z",
     "iopub.status.busy": "2023-02-15T18:10:29.374139Z",
     "iopub.status.idle": "2023-02-15T18:10:29.584062Z",
     "shell.execute_reply": "2023-02-15T18:10:29.583006Z",
     "shell.execute_reply.started": "2023-02-15T18:10:29.374489Z"
    }
   },
   "outputs": [
    {
     "data": {
      "image/png": "[encoded data removed]",
      "text/plain": [
       "<Figure size 432x288 with 1 Axes>"
      ]
     },
     "metadata": {
      "needs_background": "light"
     },
     "output_type": "display_data"
    }
   ],
   "source": [
    "plt.plot(model.history.history['f1'])\n",
    "plt.plot(model.history.history['val_f1'])\n",
    "plt.title('model f1')\n",
    "plt.ylabel('f1')\n",
    "plt.xlabel('epoch')\n",
    "plt.legend(['train', 'val'], loc='upper left')\n",
    "plt.show()"
   ]
  },
  {
   "cell_type": "markdown",
   "id": "317c5398",
   "metadata": {},
   "source": [
    "Все еще не очень"
   ]
  },
  {
   "cell_type": "markdown",
   "id": "085aaaff",
   "metadata": {},
   "source": [
    "#### модель, где последовательно идут слои: LSTM, GRU, BILSTM, BIGRU, GRU, LSTM"
   ]
  },
  {
   "cell_type": "code",
   "execution_count": 37,
   "id": "8f6089e5",
   "metadata": {
    "execution": {
     "iopub.execute_input": "2023-02-15T18:10:29.587700Z",
     "iopub.status.busy": "2023-02-15T18:10:29.587399Z",
     "iopub.status.idle": "2023-02-15T18:10:31.722854Z",
     "shell.execute_reply": "2023-02-15T18:10:31.721823Z",
     "shell.execute_reply.started": "2023-02-15T18:10:29.587671Z"
    }
   },
   "outputs": [],
   "source": [
    "inputs = tf.keras.layers.Input(shape=(MAX_LEN,))\n",
    "embeddings = tf.keras.layers.Embedding(input_dim=len(word2id), output_dim=200)(inputs, )\n",
    "\n",
    "lstm_1 = tf.keras.layers.LSTM(128, return_sequences=True)(embeddings)\n",
    "\n",
    "gru_1 = tf.keras.layers.GRU(128, return_sequences=True)(lstm_1)\n",
    "\n",
    "BILSTM = tf.keras.layers.Bidirectional(\n",
    "                                       tf.keras.layers.LSTM(128, return_sequences=True),\n",
    "                        backward_layer=tf.keras.layers.LSTM(64, return_sequences=True, \n",
    "                                                            go_backwards=True))(gru_1)\n",
    "BIGRU = tf.keras.layers.Bidirectional(\n",
    "                                    tf.keras.layers.GRU(128, return_sequences=True),\n",
    "                        backward_layer=tf.keras.layers.GRU(64, return_sequences=True, \n",
    "                                                            go_backwards=True))(BILSTM)\n",
    "\n",
    "\n",
    "gru_2 = tf.keras.layers.GRU(128, return_sequences=True)(BIGRU)\n",
    "\n",
    "lstm_2 = tf.keras.layers.LSTM(128, return_sequences=False)(gru_2)\n",
    "\n",
    "outputs = tf.keras.layers.Dense(len(label2id), activation='softmax')(lstm_2)\n",
    "\n",
    "model = tf.keras.Model(inputs=inputs, outputs=outputs)\n",
    "optimizer = tf.keras.optimizers.Adam()\n",
    "callback = tf.keras.callbacks.EarlyStopping(monitor='val_loss', patience=3)\n",
    "model.compile(optimizer=optimizer,\n",
    "              loss='categorical_crossentropy',\n",
    "              metrics=[f1, tf.keras.metrics.RecallAtPrecision(0.8, name='rec@prec')])"
   ]
  },
  {
   "cell_type": "code",
   "execution_count": 38,
   "id": "dbe613e4",
   "metadata": {
    "execution": {
     "iopub.execute_input": "2023-02-15T18:10:31.724805Z",
     "iopub.status.busy": "2023-02-15T18:10:31.724437Z",
     "iopub.status.idle": "2023-02-15T18:15:05.139025Z",
     "shell.execute_reply": "2023-02-15T18:15:05.137835Z",
     "shell.execute_reply.started": "2023-02-15T18:10:31.724766Z"
    }
   },
   "outputs": [
    {
     "name": "stdout",
     "output_type": "stream",
     "text": [
      "Epoch 1/20\n",
      "43/43 [==============================] - 33s 554ms/step - loss: 2.3933 - f1: 0.0000e+00 - rec@prec: 0.0000e+00 - val_loss: 2.3103 - val_f1: 0.0000e+00 - val_rec@prec: 0.0000e+00\n",
      "Epoch 2/20\n",
      "43/43 [==============================] - 22s 511ms/step - loss: 2.0326 - f1: 0.0279 - rec@prec: 0.0063 - val_loss: 1.7863 - val_f1: 0.1160 - val_rec@prec: 0.0654\n",
      "Epoch 3/20\n",
      "43/43 [==============================] - 22s 507ms/step - loss: 1.6044 - f1: 0.2167 - rec@prec: 0.1157 - val_loss: 1.6127 - val_f1: 0.2295 - val_rec@prec: 0.1267\n",
      "Epoch 4/20\n",
      "43/43 [==============================] - 22s 504ms/step - loss: 1.3900 - f1: 0.4231 - rec@prec: 0.1819 - val_loss: 1.5264 - val_f1: 0.4695 - val_rec@prec: 0.1307\n",
      "Epoch 5/20\n",
      "43/43 [==============================] - 22s 508ms/step - loss: 1.2481 - f1: 0.5470 - rec@prec: 0.2888 - val_loss: 1.5932 - val_f1: 0.4542 - val_rec@prec: 0.1366\n",
      "Epoch 6/20\n",
      "43/43 [==============================] - 22s 508ms/step - loss: 1.1238 - f1: 0.6167 - rec@prec: 0.4436 - val_loss: 1.4260 - val_f1: 0.5428 - val_rec@prec: 0.1876\n",
      "Epoch 7/20\n",
      "43/43 [==============================] - 22s 508ms/step - loss: 0.9982 - f1: 0.6870 - rec@prec: 0.5926 - val_loss: 1.4106 - val_f1: 0.5930 - val_rec@prec: 0.2944\n",
      "Epoch 8/20\n",
      "43/43 [==============================] - 22s 508ms/step - loss: 0.9037 - f1: 0.7293 - rec@prec: 0.6780 - val_loss: 1.4133 - val_f1: 0.6002 - val_rec@prec: 0.3454\n",
      "Epoch 9/20\n",
      "43/43 [==============================] - 22s 508ms/step - loss: 0.8189 - f1: 0.7598 - rec@prec: 0.7329 - val_loss: 1.3975 - val_f1: 0.6152 - val_rec@prec: 0.4107\n",
      "Epoch 10/20\n",
      "43/43 [==============================] - 22s 508ms/step - loss: 0.7372 - f1: 0.7895 - rec@prec: 0.7918 - val_loss: 1.4498 - val_f1: 0.6179 - val_rec@prec: 0.3336\n",
      "Epoch 11/20\n",
      "43/43 [==============================] - 22s 508ms/step - loss: 0.6551 - f1: 0.8181 - rec@prec: 0.8371 - val_loss: 1.4872 - val_f1: 0.6136 - val_rec@prec: 0.3760\n",
      "Epoch 12/20\n",
      "43/43 [==============================] - 22s 509ms/step - loss: 0.6320 - f1: 0.8271 - rec@prec: 0.8447 - val_loss: 1.5053 - val_f1: 0.6227 - val_rec@prec: 0.4459\n"
     ]
    },
    {
     "data": {
      "text/plain": [
       "<keras.callbacks.History at 0x7f1daf8bb890>"
      ]
     },
     "execution_count": 38,
     "metadata": {},
     "output_type": "execute_result"
    }
   ],
   "source": [
    "model.fit(X_train, y_train, \n",
    "          validation_data=(X_valid, y_valid),\n",
    "          batch_size=1000,\n",
    "          callbacks=[callback],\n",
    "          epochs=20)"
   ]
  },
  {
   "cell_type": "code",
   "execution_count": 39,
   "id": "8c2bcf96",
   "metadata": {
    "execution": {
     "iopub.execute_input": "2023-02-15T18:15:05.143268Z",
     "iopub.status.busy": "2023-02-15T18:15:05.142126Z",
     "iopub.status.idle": "2023-02-15T18:16:02.999275Z",
     "shell.execute_reply": "2023-02-15T18:16:02.998323Z",
     "shell.execute_reply.started": "2023-02-15T18:15:05.143228Z"
    }
   },
   "outputs": [
    {
     "data": {
      "image/png": "[encoded data removed]",
      "text/plain": [
       "<Figure size 432x288 with 1 Axes>"
      ]
     },
     "metadata": {
      "needs_background": "light"
     },
     "output_type": "display_data"
    }
   ],
   "source": [
    "plt.plot(model.history.history['f1'])\n",
    "plt.plot(model.history.history['val_f1'])\n",
    "plt.title('model f1')\n",
    "plt.ylabel('f1')\n",
    "plt.xlabel('epoch')\n",
    "plt.legend(['train', 'val'], loc='upper left')\n",
    "plt.show()"
   ]
  },
  {
   "cell_type": "markdown",
   "id": "43421534",
   "metadata": {},
   "source": [
    "Не слишком отличается от других моделей"
   ]
  },
  {
   "cell_type": "markdown",
   "id": "3182bee4",
   "metadata": {},
   "source": [
    "### Лучшая:"
   ]
  },
  {
   "cell_type": "markdown",
   "id": "16ea5398",
   "metadata": {},
   "source": [
    "модель с 1 LSTM слоем:  \n",
    "\n",
    "val_f1: 0.7083 \n",
    "\n",
    "val_rec@prec: 0.6046"
   ]
  },
  {
   "cell_type": "markdown",
   "id": "8449786c",
   "metadata": {},
   "source": [
    "## Задание 2 (6 баллов)\n"
   ]
  },
  {
   "cell_type": "markdown",
   "id": "7da07380",
   "metadata": {},
   "source": [
    "На данных википедии (wikiann) обучите 2 модели:  \n",
    "1) модель в которой будут использованы предобученные эмбединги слов и несколько BILSTM слоев. \n",
    "1) модель в которой будут использованы предобученные эмбединги слов и несколько BIGRU слоев. \n",
    "\n",
    "Сравните качество по метрикам. Также придумайте несколько сложных примеров и проверьте, какие сущности определяет каждая из моделей."
   ]
  },
  {
   "cell_type": "code",
   "execution_count": 40,
   "id": "8373f9de",
   "metadata": {
    "execution": {
     "iopub.execute_input": "2023-02-15T18:16:03.001283Z",
     "iopub.status.busy": "2023-02-15T18:16:03.000899Z",
     "iopub.status.idle": "2023-02-15T18:16:04.026484Z",
     "shell.execute_reply": "2023-02-15T18:16:04.025448Z",
     "shell.execute_reply.started": "2023-02-15T18:16:03.001245Z"
    }
   },
   "outputs": [],
   "source": [
    "from datasets import load_dataset"
   ]
  },
  {
   "cell_type": "code",
   "execution_count": 41,
   "id": "782fba83",
   "metadata": {
    "execution": {
     "iopub.execute_input": "2023-02-15T18:16:04.029609Z",
     "iopub.status.busy": "2023-02-15T18:16:04.027887Z",
     "iopub.status.idle": "2023-02-15T18:16:19.196525Z",
     "shell.execute_reply": "2023-02-15T18:16:19.195349Z",
     "shell.execute_reply.started": "2023-02-15T18:16:04.029563Z"
    }
   },
   "outputs": [
    {
     "data": {
      "application/vnd.jupyter.widget-view+json": {
       "model_id": "77baeca14e5b4b5ebc692b089c51417a",
       "version_major": 2,
       "version_minor": 0
      },
      "text/plain": [
       "Downloading builder script:   0%|          | 0.00/3.94k [00:00<?, ?B/s]"
      ]
     },
     "metadata": {},
     "output_type": "display_data"
    },
    {
     "data": {
      "application/vnd.jupyter.widget-view+json": {
       "model_id": "1603902b453a48ab8da1d06e0b33a45d",
       "version_major": 2,
       "version_minor": 0
      },
      "text/plain": [
       "Downloading metadata:   0%|          | 0.00/12.6k [00:00<?, ?B/s]"
      ]
     },
     "metadata": {},
     "output_type": "display_data"
    },
    {
     "name": "stdout",
     "output_type": "stream",
     "text": [
      "Downloading and preparing dataset wikiann/ru (download: 223.17 MiB, generated: 9.87 MiB, post-processed: Unknown size, total: 233.04 MiB) to /root/.cache/huggingface/datasets/wikiann/ru/1.1.0/4bfd4fe4468ab78bb6e096968f61fab7a888f44f9d3371c2f3fea7e74a5a354e...\n"
     ]
    },
    {
     "data": {
      "application/vnd.jupyter.widget-view+json": {
       "model_id": "1035b5d9bb394be0a596a9767dc0fe8d",
       "version_major": 2,
       "version_minor": 0
      },
      "text/plain": [
       "Downloading data:   0%|          | 0.00/234M [00:00<?, ?B/s]"
      ]
     },
     "metadata": {},
     "output_type": "display_data"
    },
    {
     "data": {
      "application/vnd.jupyter.widget-view+json": {
       "model_id": "",
       "version_major": 2,
       "version_minor": 0
      },
      "text/plain": [
       "Generating validation split:   0%|          | 0/10000 [00:00<?, ? examples/s]"
      ]
     },
     "metadata": {},
     "output_type": "display_data"
    },
    {
     "data": {
      "application/vnd.jupyter.widget-view+json": {
       "model_id": "",
       "version_major": 2,
       "version_minor": 0
      },
      "text/plain": [
       "Generating test split:   0%|          | 0/10000 [00:00<?, ? examples/s]"
      ]
     },
     "metadata": {},
     "output_type": "display_data"
    },
    {
     "data": {
      "application/vnd.jupyter.widget-view+json": {
       "model_id": "",
       "version_major": 2,
       "version_minor": 0
      },
      "text/plain": [
       "Generating train split:   0%|          | 0/20000 [00:00<?, ? examples/s]"
      ]
     },
     "metadata": {},
     "output_type": "display_data"
    },
    {
     "name": "stdout",
     "output_type": "stream",
     "text": [
      "Dataset wikiann downloaded and prepared to /root/.cache/huggingface/datasets/wikiann/ru/1.1.0/4bfd4fe4468ab78bb6e096968f61fab7a888f44f9d3371c2f3fea7e74a5a354e. Subsequent calls will reuse this data.\n"
     ]
    },
    {
     "data": {
      "application/vnd.jupyter.widget-view+json": {
       "model_id": "9276a0ea6e35410b80ec10935f2fd890",
       "version_major": 2,
       "version_minor": 0
      },
      "text/plain": [
       "  0%|          | 0/3 [00:00<?, ?it/s]"
      ]
     },
     "metadata": {},
     "output_type": "display_data"
    }
   ],
   "source": [
    "dataset = load_dataset(\"wikiann\", 'ru')"
   ]
  },
  {
   "cell_type": "code",
   "execution_count": 72,
   "id": "ec110589",
   "metadata": {
    "execution": {
     "iopub.execute_input": "2023-02-15T18:23:53.637642Z",
     "iopub.status.busy": "2023-02-15T18:23:53.636949Z",
     "iopub.status.idle": "2023-02-15T18:23:53.642395Z",
     "shell.execute_reply": "2023-02-15T18:23:53.641223Z",
     "shell.execute_reply.started": "2023-02-15T18:23:53.637602Z"
    }
   },
   "outputs": [],
   "source": [
    "import gensim"
   ]
  },
  {
   "cell_type": "code",
   "execution_count": 74,
   "id": "1f96df8d",
   "metadata": {
    "execution": {
     "iopub.execute_input": "2023-02-15T18:23:53.898895Z",
     "iopub.status.busy": "2023-02-15T18:23:53.898492Z",
     "iopub.status.idle": "2023-02-15T18:23:54.867318Z",
     "shell.execute_reply": "2023-02-15T18:23:54.866358Z",
     "shell.execute_reply.started": "2023-02-15T18:23:53.898855Z"
    }
   },
   "outputs": [],
   "source": [
    "w2v = gensim.models.Word2Vec(dataset['train']['tokens'], \n",
    "                             vector_size=350, \n",
    "                             min_count=25, \n",
    "                             max_vocab_size=14000,\n",
    "                             window=6,\n",
    "                             epochs=9,\n",
    "                             sample=1e-5,\n",
    "                             sg=1,\n",
    "                             hs=1)"
   ]
  },
  {
   "cell_type": "code",
   "execution_count": 75,
   "id": "3b616fe5",
   "metadata": {
    "execution": {
     "iopub.execute_input": "2023-02-15T18:23:54.874706Z",
     "iopub.status.busy": "2023-02-15T18:23:54.871993Z",
     "iopub.status.idle": "2023-02-15T18:23:54.984335Z",
     "shell.execute_reply": "2023-02-15T18:23:54.983501Z",
     "shell.execute_reply.started": "2023-02-15T18:23:54.874653Z"
    }
   },
   "outputs": [],
   "source": [
    "weights = np.zeros((len(word2id), 350))\n",
    "\n",
    "for word, i in word2id.items():\n",
    "    # вектор паддинга оставим нулевым\n",
    "    if word == 'PAD':\n",
    "        continue\n",
    "\n",
    "    try:\n",
    "        weights[i] = w2v.wv[word]\n",
    "    \n",
    "    \n",
    "    except KeyError:\n",
    "        continue\n",
    "        weights[i] = w2v.wv['опрагпллирао']"
   ]
  },
  {
   "cell_type": "code",
   "execution_count": 73,
   "id": "12436496",
   "metadata": {
    "execution": {
     "iopub.execute_input": "2023-02-15T18:23:53.648383Z",
     "iopub.status.busy": "2023-02-15T18:23:53.647404Z",
     "iopub.status.idle": "2023-02-15T18:23:53.896332Z",
     "shell.execute_reply": "2023-02-15T18:23:53.895273Z",
     "shell.execute_reply.started": "2023-02-15T18:23:53.648344Z"
    }
   },
   "outputs": [],
   "source": [
    "# переводим тексты в последовательности индексов\n",
    "X = []\n",
    "\n",
    "for sent in dataset['train']['tokens']:\n",
    "    tokens = [w.lower() for w in sent]\n",
    "    ids = [word2id.get(token, 1) for token in tokens]\n",
    "    X.append(ids)"
   ]
  },
  {
   "cell_type": "code",
   "execution_count": 76,
   "id": "d02f7ca6",
   "metadata": {
    "execution": {
     "iopub.execute_input": "2023-02-15T18:23:54.991593Z",
     "iopub.status.busy": "2023-02-15T18:23:54.989715Z",
     "iopub.status.idle": "2023-02-15T18:23:56.203829Z",
     "shell.execute_reply": "2023-02-15T18:23:56.202681Z",
     "shell.execute_reply.started": "2023-02-15T18:23:54.991555Z"
    }
   },
   "outputs": [],
   "source": [
    "# словарь\n",
    "vocab = Counter()\n",
    "\n",
    "for sent in dataset['train']['tokens']:\n",
    "    vocab.update([x.lower() for x in sent])"
   ]
  },
  {
   "cell_type": "code",
   "execution_count": 77,
   "id": "3610e981",
   "metadata": {
    "execution": {
     "iopub.execute_input": "2023-02-15T18:23:56.206687Z",
     "iopub.status.busy": "2023-02-15T18:23:56.206077Z",
     "iopub.status.idle": "2023-02-15T18:23:56.223063Z",
     "shell.execute_reply": "2023-02-15T18:23:56.222086Z",
     "shell.execute_reply.started": "2023-02-15T18:23:56.206647Z"
    }
   },
   "outputs": [],
   "source": [
    "# индексируем слова\n",
    "word2id = {'PAD':0, 'UNK':1}\n",
    "\n",
    "for word in vocab:\n",
    "    word2id[word] = len(word2id)"
   ]
  },
  {
   "cell_type": "code",
   "execution_count": 78,
   "id": "74d37d1e",
   "metadata": {
    "execution": {
     "iopub.execute_input": "2023-02-15T18:23:56.226745Z",
     "iopub.status.busy": "2023-02-15T18:23:56.226253Z",
     "iopub.status.idle": "2023-02-15T18:23:56.240339Z",
     "shell.execute_reply": "2023-02-15T18:23:56.239332Z",
     "shell.execute_reply.started": "2023-02-15T18:23:56.226497Z"
    }
   },
   "outputs": [],
   "source": [
    "id2word = {i:word for word, i in word2id.items()}"
   ]
  },
  {
   "cell_type": "code",
   "execution_count": 80,
   "id": "efe971a8",
   "metadata": {
    "execution": {
     "iopub.execute_input": "2023-02-15T18:23:56.491242Z",
     "iopub.status.busy": "2023-02-15T18:23:56.490850Z",
     "iopub.status.idle": "2023-02-15T18:23:56.617038Z",
     "shell.execute_reply": "2023-02-15T18:23:56.616157Z",
     "shell.execute_reply.started": "2023-02-15T18:23:56.491200Z"
    }
   },
   "outputs": [],
   "source": [
    "# переводим тексты в последовательности индексов\n",
    "X_test = []\n",
    "\n",
    "for sent in dataset['test']['tokens']:\n",
    "    tokens = [w.lower() for w in sent]\n",
    "    ids = [word2id.get(token, 1) for token in tokens]\n",
    "    X_test.append(ids)"
   ]
  },
  {
   "cell_type": "code",
   "execution_count": 81,
   "id": "b6c3fe73",
   "metadata": {
    "execution": {
     "iopub.execute_input": "2023-02-15T18:23:56.618840Z",
     "iopub.status.busy": "2023-02-15T18:23:56.618379Z",
     "iopub.status.idle": "2023-02-15T18:23:56.710481Z",
     "shell.execute_reply": "2023-02-15T18:23:56.709593Z",
     "shell.execute_reply.started": "2023-02-15T18:23:56.618798Z"
    }
   },
   "outputs": [],
   "source": [
    "MAX_LEN = max(len(x) for x in X)\n",
    "\n",
    "# паддинг\n",
    "X = tf.keras.preprocessing.sequence.pad_sequences(X, maxlen=MAX_LEN, padding='post')\n",
    "X_test = tf.keras.preprocessing.sequence.pad_sequences(X_test, maxlen=MAX_LEN, padding='post')"
   ]
  },
  {
   "cell_type": "code",
   "execution_count": 82,
   "id": "774f0923",
   "metadata": {
    "execution": {
     "iopub.execute_input": "2023-02-15T18:23:56.716264Z",
     "iopub.status.busy": "2023-02-15T18:23:56.714862Z",
     "iopub.status.idle": "2023-02-15T18:23:56.721483Z",
     "shell.execute_reply": "2023-02-15T18:23:56.720150Z",
     "shell.execute_reply.started": "2023-02-15T18:23:56.716225Z"
    }
   },
   "outputs": [],
   "source": [
    "id2labels = {0:'O', 1:'B-PER', 2:'I-PER', 3:'B-ORG', 4:'I-ORG', 5: 'B-LOC', 6:'I-LOC', 7:'PAD'}\n",
    "label2id = {v:k for k,v in id2labels.items()} "
   ]
  },
  {
   "cell_type": "code",
   "execution_count": 83,
   "id": "59b48a8a",
   "metadata": {
    "execution": {
     "iopub.execute_input": "2023-02-15T18:23:56.724384Z",
     "iopub.status.busy": "2023-02-15T18:23:56.724120Z",
     "iopub.status.idle": "2023-02-15T18:23:56.927989Z",
     "shell.execute_reply": "2023-02-15T18:23:56.927070Z",
     "shell.execute_reply.started": "2023-02-15T18:23:56.724358Z"
    }
   },
   "outputs": [],
   "source": [
    "y = tf.keras.preprocessing.sequence.pad_sequences(dataset['train']['ner_tags'], value=7,\n",
    "                                                  maxlen=MAX_LEN,  padding='post')\n",
    "y_test = tf.keras.preprocessing.sequence.pad_sequences(dataset['test']['ner_tags'], value=7,\n",
    "                                                       maxlen=MAX_LEN,  padding='post')"
   ]
  },
  {
   "cell_type": "code",
   "execution_count": 84,
   "id": "5d3e5d30",
   "metadata": {
    "execution": {
     "iopub.execute_input": "2023-02-15T18:23:56.931379Z",
     "iopub.status.busy": "2023-02-15T18:23:56.931098Z",
     "iopub.status.idle": "2023-02-15T18:23:56.940502Z",
     "shell.execute_reply": "2023-02-15T18:23:56.939371Z",
     "shell.execute_reply.started": "2023-02-15T18:23:56.931352Z"
    }
   },
   "outputs": [
    {
     "name": "stdout",
     "output_type": "stream",
     "text": [
      "(20000, 54) (10000, 54)\n",
      "(20000, 54) (10000, 54)\n"
     ]
    }
   ],
   "source": [
    "print(X.shape, X_test.shape)\n",
    "print(y.shape, y_test.shape)"
   ]
  },
  {
   "cell_type": "markdown",
   "id": "45158035",
   "metadata": {},
   "source": [
    "## модель в которой будут использованы предобученные эмбединги слов и несколько BILSTM слоев."
   ]
  },
  {
   "cell_type": "code",
   "execution_count": 85,
   "id": "dc389a5f",
   "metadata": {
    "execution": {
     "iopub.execute_input": "2023-02-15T18:23:56.944237Z",
     "iopub.status.busy": "2023-02-15T18:23:56.943083Z",
     "iopub.status.idle": "2023-02-15T18:23:58.321901Z",
     "shell.execute_reply": "2023-02-15T18:23:58.320913Z",
     "shell.execute_reply.started": "2023-02-15T18:23:56.944198Z"
    }
   },
   "outputs": [],
   "source": [
    "inputs = tf.keras.layers.Input(shape=(MAX_LEN,))\n",
    "embeddings = tf.keras.layers.Embedding(input_dim=len(word2id), output_dim=350, \n",
    "                                       trainable=True,\n",
    "                                       weights=[weights])(inputs, )\n",
    "\n",
    "lstm_1 = tf.keras.layers.Bidirectional(tf.keras.layers.LSTM(128, return_sequences=True))(embeddings)\n",
    "lstm_2 = tf.keras.layers.Bidirectional(tf.keras.layers.LSTM(256, return_sequences=True))(lstm_1)\n",
    "lstm_3 = tf.keras.layers.Bidirectional(tf.keras.layers.LSTM(128, return_sequences=True))(lstm_2)\n",
    "\n",
    "outputs = tf.keras.layers.Dense(len(label2id), activation='softmax')(lstm_3)\n",
    "\n",
    "model = tf.keras.Model(inputs=inputs, outputs=outputs)\n",
    "optimizer = tf.keras.optimizers.Adam()\n",
    "callback = tf.keras.callbacks.EarlyStopping(monitor='val_loss', patience=3)\n",
    "model.compile(optimizer='adam',\n",
    "              loss='sparse_categorical_crossentropy', \n",
    "             metrics=['accuracy'])"
   ]
  },
  {
   "cell_type": "code",
   "execution_count": 86,
   "id": "549f1c66",
   "metadata": {
    "execution": {
     "iopub.execute_input": "2023-02-15T18:23:58.324430Z",
     "iopub.status.busy": "2023-02-15T18:23:58.323357Z",
     "iopub.status.idle": "2023-02-15T18:25:05.895516Z",
     "shell.execute_reply": "2023-02-15T18:25:05.894334Z",
     "shell.execute_reply.started": "2023-02-15T18:23:58.324389Z"
    }
   },
   "outputs": [
    {
     "name": "stdout",
     "output_type": "stream",
     "text": [
      "Epoch 1/7\n",
      "157/157 [==============================] - 18s 73ms/step - loss: 0.2488 - accuracy: 0.9316 - val_loss: 0.1378 - val_accuracy: 0.9546\n",
      "Epoch 2/7\n",
      "157/157 [==============================] - 10s 63ms/step - loss: 0.1053 - accuracy: 0.9658 - val_loss: 0.0795 - val_accuracy: 0.9758\n",
      "Epoch 3/7\n",
      "157/157 [==============================] - 10s 63ms/step - loss: 0.0434 - accuracy: 0.9862 - val_loss: 0.0516 - val_accuracy: 0.9838\n",
      "Epoch 4/7\n",
      "157/157 [==============================] - 10s 63ms/step - loss: 0.0149 - accuracy: 0.9956 - val_loss: 0.0518 - val_accuracy: 0.9851\n",
      "Epoch 5/7\n",
      "157/157 [==============================] - 10s 62ms/step - loss: 0.0072 - accuracy: 0.9980 - val_loss: 0.0583 - val_accuracy: 0.9841\n",
      "Epoch 6/7\n",
      "157/157 [==============================] - 10s 63ms/step - loss: 0.0042 - accuracy: 0.9988 - val_loss: 0.0645 - val_accuracy: 0.9837\n"
     ]
    },
    {
     "data": {
      "text/plain": [
       "<keras.callbacks.History at 0x7f1d65418e50>"
      ]
     },
     "execution_count": 86,
     "metadata": {},
     "output_type": "execute_result"
    }
   ],
   "source": [
    "model.fit(X, y, \n",
    "          validation_data=(X_test, y_test),\n",
    "          batch_size=128,\n",
    "          callbacks=[callback],\n",
    "          epochs=7)"
   ]
  },
  {
   "cell_type": "code",
   "execution_count": 87,
   "id": "2943cd3e",
   "metadata": {
    "execution": {
     "iopub.execute_input": "2023-02-15T18:25:05.897713Z",
     "iopub.status.busy": "2023-02-15T18:25:05.897345Z",
     "iopub.status.idle": "2023-02-15T18:25:26.680063Z",
     "shell.execute_reply": "2023-02-15T18:25:26.678985Z",
     "shell.execute_reply.started": "2023-02-15T18:25:05.897677Z"
    }
   },
   "outputs": [
    {
     "data": {
      "image/png": "[encoded data removed]",
      "text/plain": [
       "<Figure size 432x288 with 1 Axes>"
      ]
     },
     "metadata": {
      "needs_background": "light"
     },
     "output_type": "display_data"
    }
   ],
   "source": [
    "plt.plot(model.history.history['accuracy'])\n",
    "plt.plot(model.history.history['val_accuracy'])\n",
    "plt.title('model acc')\n",
    "plt.ylabel('accuracy')\n",
    "plt.xlabel('epoch')\n",
    "plt.legend(['train', 'val'], loc='upper left')\n",
    "plt.show()"
   ]
  },
  {
   "cell_type": "code",
   "execution_count": 88,
   "id": "a6dec8b0",
   "metadata": {
    "execution": {
     "iopub.execute_input": "2023-02-15T18:25:26.682095Z",
     "iopub.status.busy": "2023-02-15T18:25:26.681671Z",
     "iopub.status.idle": "2023-02-15T18:25:26.687661Z",
     "shell.execute_reply": "2023-02-15T18:25:26.686358Z",
     "shell.execute_reply.started": "2023-02-15T18:25:26.682052Z"
    }
   },
   "outputs": [],
   "source": [
    "from sklearn.metrics import classification_report"
   ]
  },
  {
   "cell_type": "code",
   "execution_count": 89,
   "id": "a9d8be1c",
   "metadata": {
    "execution": {
     "iopub.execute_input": "2023-02-15T18:25:26.690353Z",
     "iopub.status.busy": "2023-02-15T18:25:26.689631Z",
     "iopub.status.idle": "2023-02-15T18:25:32.396013Z",
     "shell.execute_reply": "2023-02-15T18:25:32.394963Z",
     "shell.execute_reply.started": "2023-02-15T18:25:26.690308Z"
    }
   },
   "outputs": [],
   "source": [
    "pred = model.predict(X_test).argmax(2)"
   ]
  },
  {
   "cell_type": "code",
   "execution_count": 90,
   "id": "5745324b",
   "metadata": {
    "execution": {
     "iopub.execute_input": "2023-02-15T18:25:32.398898Z",
     "iopub.status.busy": "2023-02-15T18:25:32.398163Z",
     "iopub.status.idle": "2023-02-15T18:25:32.852936Z",
     "shell.execute_reply": "2023-02-15T18:25:32.851815Z",
     "shell.execute_reply.started": "2023-02-15T18:25:32.398857Z"
    }
   },
   "outputs": [
    {
     "name": "stdout",
     "output_type": "stream",
     "text": [
      "              precision    recall  f1-score   support\n",
      "\n",
      "           O       0.93      0.94      0.93     40480\n",
      "       B-PER       0.91      0.84      0.87      3542\n",
      "       I-PER       0.95      0.81      0.87      7544\n",
      "       B-ORG       0.62      0.78      0.69      4074\n",
      "       I-ORG       0.77      0.83      0.80      8008\n",
      "       B-LOC       0.76      0.77      0.76      4560\n",
      "       I-LOC       0.93      0.67      0.78      3060\n",
      "         PAD       1.00      1.00      1.00    468732\n",
      "\n",
      "    accuracy                           0.98    540000\n",
      "   macro avg       0.86      0.83      0.84    540000\n",
      "weighted avg       0.98      0.98      0.98    540000\n",
      "\n"
     ]
    }
   ],
   "source": [
    "print(classification_report(y_test.reshape(-1), pred.reshape(-1), labels=list(id2labels.keys()),\n",
    "                                                                     target_names=list(id2labels.values()),\n",
    "                                                                     zero_division=0))"
   ]
  },
  {
   "cell_type": "markdown",
   "id": "421b9731",
   "metadata": {},
   "source": [
    "### Предсказание/Inference"
   ]
  },
  {
   "cell_type": "code",
   "execution_count": 93,
   "id": "399d2000",
   "metadata": {
    "execution": {
     "iopub.execute_input": "2023-02-15T18:27:27.330962Z",
     "iopub.status.busy": "2023-02-15T18:27:27.330541Z",
     "iopub.status.idle": "2023-02-15T18:27:27.336742Z",
     "shell.execute_reply": "2023-02-15T18:27:27.335774Z",
     "shell.execute_reply.started": "2023-02-15T18:27:27.330928Z"
    }
   },
   "outputs": [],
   "source": [
    "import re"
   ]
  },
  {
   "cell_type": "code",
   "execution_count": 94,
   "id": "9f107449",
   "metadata": {
    "execution": {
     "iopub.execute_input": "2023-02-15T18:27:27.341168Z",
     "iopub.status.busy": "2023-02-15T18:27:27.340805Z",
     "iopub.status.idle": "2023-02-15T18:27:27.353751Z",
     "shell.execute_reply": "2023-02-15T18:27:27.352624Z",
     "shell.execute_reply.started": "2023-02-15T18:27:27.341139Z"
    }
   },
   "outputs": [],
   "source": [
    "def tokenize(text, word2id):\n",
    "    # токенизирует и переводит в индексы\n",
    "    tokens = re.findall('\\w+|[^\\w\\s]+', text)\n",
    "    ids = [word2id.get(token.lower(), 1) for token in tokens]\n",
    "    return tokens, ids\n",
    "\n",
    "def pred2tags(pred, id2label, length):\n",
    "    # декодирует индексы в части речи\n",
    "    # length нужно чтобы откидывать паддинги или некорректные предсказания\n",
    "    pred = pred.argmax(2)[0, :length]\n",
    "    labels = [id2label[l] for l in pred]\n",
    "    return labels\n",
    "\n",
    "def label_seq(text, word2id, id2label, max_len, model):\n",
    "    tokens, ids = tokenize(text, word2id)\n",
    "    pred = model.predict(tf.keras.preprocessing.sequence.pad_sequences([ids], \n",
    "                                                                       maxlen=max_len, \n",
    "                                                                       padding='post'))\n",
    "    labels = pred2tags(pred, id2label, len(ids))\n",
    "    \n",
    "    return list(zip(tokens, labels))"
   ]
  },
  {
   "cell_type": "code",
   "execution_count": 95,
   "id": "4415194b",
   "metadata": {
    "execution": {
     "iopub.execute_input": "2023-02-15T18:27:27.356583Z",
     "iopub.status.busy": "2023-02-15T18:27:27.355785Z",
     "iopub.status.idle": "2023-02-15T18:27:27.460597Z",
     "shell.execute_reply": "2023-02-15T18:27:27.459486Z",
     "shell.execute_reply.started": "2023-02-15T18:27:27.356469Z"
    }
   },
   "outputs": [
    {
     "data": {
      "text/plain": [
       "[('Алексей', 'B-PER'),\n",
       " ('сказал', 'I-PER'),\n",
       " ('Светлане', 'I-PER'),\n",
       " (',', 'O'),\n",
       " ('чтобы', 'O'),\n",
       " ('она', 'O'),\n",
       " ('собиралась', 'O'),\n",
       " ('на', 'O'),\n",
       " ('поезд', 'O'),\n",
       " ('в', 'O'),\n",
       " ('Москву', 'B-LOC'),\n",
       " ('.', 'O')]"
      ]
     },
     "execution_count": 95,
     "metadata": {},
     "output_type": "execute_result"
    }
   ],
   "source": [
    "label_seq('Алексей сказал Светлане, чтобы она собиралась на поезд в Москву.', word2id, id2labels, MAX_LEN, model)"
   ]
  },
  {
   "cell_type": "code",
   "execution_count": 96,
   "id": "69ced59b",
   "metadata": {
    "execution": {
     "iopub.execute_input": "2023-02-15T18:27:27.463903Z",
     "iopub.status.busy": "2023-02-15T18:27:27.463146Z",
     "iopub.status.idle": "2023-02-15T18:27:27.537300Z",
     "shell.execute_reply": "2023-02-15T18:27:27.536121Z",
     "shell.execute_reply.started": "2023-02-15T18:27:27.463855Z"
    }
   },
   "outputs": [
    {
     "data": {
      "text/plain": [
       "[('Я', 'O'),\n",
       " ('поступил', 'O'),\n",
       " ('в', 'O'),\n",
       " ('ВШЭ', 'B-LOC'),\n",
       " ('в', 'O'),\n",
       " ('Москве', 'B-LOC')]"
      ]
     },
     "execution_count": 96,
     "metadata": {},
     "output_type": "execute_result"
    }
   ],
   "source": [
    "label_seq('Я поступил в ВШЭ в Москве', word2id, id2labels, MAX_LEN, model)"
   ]
  },
  {
   "cell_type": "code",
   "execution_count": 97,
   "id": "1ffdbfb6",
   "metadata": {
    "execution": {
     "iopub.execute_input": "2023-02-15T18:27:27.539786Z",
     "iopub.status.busy": "2023-02-15T18:27:27.538746Z",
     "iopub.status.idle": "2023-02-15T18:27:27.607424Z",
     "shell.execute_reply": "2023-02-15T18:27:27.606248Z",
     "shell.execute_reply.started": "2023-02-15T18:27:27.539737Z"
    }
   },
   "outputs": [
    {
     "data": {
      "text/plain": [
       "[('«', 'O'),\n",
       " ('Спартак', 'B-ORG'),\n",
       " ('»', 'I-ORG'),\n",
       " ('на', 'O'),\n",
       " ('выезде', 'O'),\n",
       " ('сыграл', 'O'),\n",
       " ('с', 'O'),\n",
       " ('польской', 'B-ORG'),\n",
       " ('«', 'O'),\n",
       " ('Легией', 'B-ORG'),\n",
       " ('»', 'I-ORG'),\n",
       " ('в', 'O'),\n",
       " ('матче', 'B-ORG'),\n",
       " ('заключительного', 'I-ORG'),\n",
       " ('тура', 'I-ORG'),\n",
       " ('группового', 'I-ORG'),\n",
       " ('этапа', 'O'),\n",
       " ('Лиги', 'I-ORG'),\n",
       " ('Европы', 'I-ORG'),\n",
       " ('.', 'O')]"
      ]
     },
     "execution_count": 97,
     "metadata": {},
     "output_type": "execute_result"
    }
   ],
   "source": [
    "label_seq('«Спартак» на выезде сыграл с польской «Легией» в матче заключительного тура группового этапа Лиги Европы.', word2id, id2labels, MAX_LEN, model)"
   ]
  },
  {
   "cell_type": "code",
   "execution_count": 98,
   "id": "80925504",
   "metadata": {
    "execution": {
     "iopub.execute_input": "2023-02-15T18:27:27.610360Z",
     "iopub.status.busy": "2023-02-15T18:27:27.610014Z",
     "iopub.status.idle": "2023-02-15T18:27:27.677168Z",
     "shell.execute_reply": "2023-02-15T18:27:27.676207Z",
     "shell.execute_reply.started": "2023-02-15T18:27:27.610327Z"
    }
   },
   "outputs": [
    {
     "data": {
      "text/plain": [
       "[('Эта', 'O'),\n",
       " ('победа', 'O'),\n",
       " ('гарантировала', 'O'),\n",
       " ('«', 'O'),\n",
       " ('Спартаку', 'B-ORG'),\n",
       " ('»', 'O'),\n",
       " ('попадание', 'O'),\n",
       " ('в', 'O'),\n",
       " ('плей', 'B-ORG'),\n",
       " ('-', 'O'),\n",
       " ('офф', 'B-ORG'),\n",
       " ('Лиги', 'I-ORG'),\n",
       " ('Европы', 'I-ORG'),\n",
       " ('.', 'O')]"
      ]
     },
     "execution_count": 98,
     "metadata": {},
     "output_type": "execute_result"
    }
   ],
   "source": [
    "label_seq('Эта победа гарантировала «Спартаку» попадание в плей-офф Лиги Европы.', word2id, id2labels, MAX_LEN, model)"
   ]
  },
  {
   "cell_type": "markdown",
   "id": "ff51b06b",
   "metadata": {},
   "source": [
    "## модель в которой будут использованы предобученные эмбединги слов и несколько BIGRU слоев"
   ]
  },
  {
   "cell_type": "code",
   "execution_count": 99,
   "id": "92bf87d3",
   "metadata": {
    "execution": {
     "iopub.execute_input": "2023-02-15T18:27:27.679232Z",
     "iopub.status.busy": "2023-02-15T18:27:27.678820Z",
     "iopub.status.idle": "2023-02-15T18:27:29.547218Z",
     "shell.execute_reply": "2023-02-15T18:27:29.546237Z",
     "shell.execute_reply.started": "2023-02-15T18:27:27.679184Z"
    }
   },
   "outputs": [],
   "source": [
    "inputs = tf.keras.layers.Input(shape=(MAX_LEN,))\n",
    "embeddings = tf.keras.layers.Embedding(input_dim=len(word2id), output_dim=350, \n",
    "                                       trainable=True,\n",
    "                                       weights=[weights])(inputs, )\n",
    "\n",
    "\n",
    "l_1 = tf.keras.layers.Bidirectional(tf.keras.layers.GRU(128, return_sequences=True))(embeddings)\n",
    "l_2 = tf.keras.layers.Bidirectional(tf.keras.layers.GRU(256, return_sequences=True))(l_1)\n",
    "l_3 = tf.keras.layers.Bidirectional(tf.keras.layers.GRU(128, return_sequences=True))(l_2)\n",
    "\n",
    "outputs = tf.keras.layers.Dense(len(label2id), activation='softmax')(l_1)\n",
    "\n",
    "model = tf.keras.Model(inputs=inputs, outputs=outputs)\n",
    "optimizer = tf.keras.optimizers.Adam()\n",
    "callback = tf.keras.callbacks.EarlyStopping(monitor='val_loss', patience=3)\n",
    "model.compile(optimizer='adam',\n",
    "              loss='sparse_categorical_crossentropy', \n",
    "             metrics=['accuracy'])"
   ]
  },
  {
   "cell_type": "code",
   "execution_count": 100,
   "id": "e6276e8f",
   "metadata": {
    "execution": {
     "iopub.execute_input": "2023-02-15T18:27:29.549081Z",
     "iopub.status.busy": "2023-02-15T18:27:29.548611Z",
     "iopub.status.idle": "2023-02-15T18:27:54.085740Z",
     "shell.execute_reply": "2023-02-15T18:27:54.084788Z",
     "shell.execute_reply.started": "2023-02-15T18:27:29.549042Z"
    }
   },
   "outputs": [
    {
     "name": "stdout",
     "output_type": "stream",
     "text": [
      "Epoch 1/7\n",
      "157/157 [==============================] - 7s 30ms/step - loss: 0.2740 - accuracy: 0.9330 - val_loss: 0.1037 - val_accuracy: 0.9662\n",
      "Epoch 2/7\n",
      "157/157 [==============================] - 3s 22ms/step - loss: 0.0625 - accuracy: 0.9808 - val_loss: 0.0567 - val_accuracy: 0.9821\n",
      "Epoch 3/7\n",
      "157/157 [==============================] - 3s 22ms/step - loss: 0.0218 - accuracy: 0.9941 - val_loss: 0.0511 - val_accuracy: 0.9843\n",
      "Epoch 4/7\n",
      "157/157 [==============================] - 4s 23ms/step - loss: 0.0092 - accuracy: 0.9977 - val_loss: 0.0515 - val_accuracy: 0.9849\n",
      "Epoch 5/7\n",
      "157/157 [==============================] - 3s 22ms/step - loss: 0.0051 - accuracy: 0.9987 - val_loss: 0.0528 - val_accuracy: 0.9848\n",
      "Epoch 6/7\n",
      "157/157 [==============================] - 3s 22ms/step - loss: 0.0032 - accuracy: 0.9993 - val_loss: 0.0554 - val_accuracy: 0.9851\n"
     ]
    },
    {
     "data": {
      "text/plain": [
       "<keras.callbacks.History at 0x7f21d904e690>"
      ]
     },
     "execution_count": 100,
     "metadata": {},
     "output_type": "execute_result"
    }
   ],
   "source": [
    "model.fit(X, y, \n",
    "          validation_data=(X_test, y_test),\n",
    "          batch_size=128,\n",
    "          callbacks=[callback],\n",
    "          epochs=7)"
   ]
  },
  {
   "cell_type": "code",
   "execution_count": 101,
   "id": "e0ce684b",
   "metadata": {
    "execution": {
     "iopub.execute_input": "2023-02-15T18:27:54.088959Z",
     "iopub.status.busy": "2023-02-15T18:27:54.088319Z",
     "iopub.status.idle": "2023-02-15T18:27:54.303525Z",
     "shell.execute_reply": "2023-02-15T18:27:54.302650Z",
     "shell.execute_reply.started": "2023-02-15T18:27:54.088919Z"
    }
   },
   "outputs": [
    {
     "data": {
      "image/png": "[encoded data removed]",
      "text/plain": [
       "<Figure size 432x288 with 1 Axes>"
      ]
     },
     "metadata": {
      "needs_background": "light"
     },
     "output_type": "display_data"
    }
   ],
   "source": [
    "plt.plot(model.history.history['accuracy'])\n",
    "plt.plot(model.history.history['val_accuracy'])\n",
    "plt.title('model acc')\n",
    "plt.ylabel('accuracy')\n",
    "plt.xlabel('epoch')\n",
    "plt.legend(['train', 'val'], loc='upper left')\n",
    "plt.show()"
   ]
  },
  {
   "cell_type": "code",
   "execution_count": 102,
   "id": "92fa9bc8",
   "metadata": {
    "execution": {
     "iopub.execute_input": "2023-02-15T18:27:54.305405Z",
     "iopub.status.busy": "2023-02-15T18:27:54.304996Z",
     "iopub.status.idle": "2023-02-15T18:27:57.337474Z",
     "shell.execute_reply": "2023-02-15T18:27:57.336319Z",
     "shell.execute_reply.started": "2023-02-15T18:27:54.305367Z"
    }
   },
   "outputs": [],
   "source": [
    "pred = model.predict(X_test).argmax(2)"
   ]
  },
  {
   "cell_type": "code",
   "execution_count": 103,
   "id": "07970133",
   "metadata": {
    "execution": {
     "iopub.execute_input": "2023-02-15T18:27:57.343005Z",
     "iopub.status.busy": "2023-02-15T18:27:57.342270Z",
     "iopub.status.idle": "2023-02-15T18:27:57.841792Z",
     "shell.execute_reply": "2023-02-15T18:27:57.840724Z",
     "shell.execute_reply.started": "2023-02-15T18:27:57.342960Z"
    }
   },
   "outputs": [
    {
     "name": "stdout",
     "output_type": "stream",
     "text": [
      "              precision    recall  f1-score   support\n",
      "\n",
      "           O       0.93      0.96      0.94     40480\n",
      "       B-PER       0.86      0.87      0.87      3542\n",
      "       I-PER       0.92      0.89      0.91      7544\n",
      "       B-ORG       0.73      0.71      0.72      4074\n",
      "       I-ORG       0.86      0.75      0.80      8008\n",
      "       B-LOC       0.71      0.77      0.74      4560\n",
      "       I-LOC       0.83      0.75      0.79      3060\n",
      "         PAD       1.00      1.00      1.00    468732\n",
      "\n",
      "    accuracy                           0.99    540000\n",
      "   macro avg       0.86      0.84      0.85    540000\n",
      "weighted avg       0.98      0.99      0.98    540000\n",
      "\n"
     ]
    }
   ],
   "source": [
    "print(classification_report(y_test.reshape(-1), pred.reshape(-1), labels=list(id2labels.keys()),\n",
    "                                                                     target_names=list(id2labels.values()),\n",
    "                                                                     zero_division=0))"
   ]
  },
  {
   "cell_type": "markdown",
   "id": "b1f7f93e",
   "metadata": {},
   "source": [
    "### Предсказание/Inference"
   ]
  },
  {
   "cell_type": "code",
   "execution_count": 104,
   "id": "7c2f16c8",
   "metadata": {
    "execution": {
     "iopub.execute_input": "2023-02-15T18:27:57.845816Z",
     "iopub.status.busy": "2023-02-15T18:27:57.845465Z",
     "iopub.status.idle": "2023-02-15T18:27:57.901010Z",
     "shell.execute_reply": "2023-02-15T18:27:57.900000Z",
     "shell.execute_reply.started": "2023-02-15T18:27:57.845784Z"
    }
   },
   "outputs": [
    {
     "data": {
      "text/plain": [
       "[('Алексей', 'B-PER'),\n",
       " ('сказал', 'B-PER'),\n",
       " ('Светлане', 'I-PER'),\n",
       " (',', 'O'),\n",
       " ('чтобы', 'O'),\n",
       " ('она', 'O'),\n",
       " ('собиралась', 'O'),\n",
       " ('на', 'O'),\n",
       " ('поезд', 'B-LOC'),\n",
       " ('в', 'O'),\n",
       " ('Москву', 'B-LOC'),\n",
       " ('.', 'O')]"
      ]
     },
     "execution_count": 104,
     "metadata": {},
     "output_type": "execute_result"
    }
   ],
   "source": [
    "label_seq('Алексей сказал Светлане, чтобы она собиралась на поезд в Москву.', word2id, id2labels, MAX_LEN, model)"
   ]
  },
  {
   "cell_type": "code",
   "execution_count": 105,
   "id": "9082362e",
   "metadata": {
    "execution": {
     "iopub.execute_input": "2023-02-15T18:27:57.902874Z",
     "iopub.status.busy": "2023-02-15T18:27:57.902458Z",
     "iopub.status.idle": "2023-02-15T18:27:57.955337Z",
     "shell.execute_reply": "2023-02-15T18:27:57.954405Z",
     "shell.execute_reply.started": "2023-02-15T18:27:57.902832Z"
    }
   },
   "outputs": [
    {
     "data": {
      "text/plain": [
       "[('Я', 'O'),\n",
       " ('поступил', 'O'),\n",
       " ('в', 'O'),\n",
       " ('ВШЭ', 'B-ORG'),\n",
       " ('в', 'O'),\n",
       " ('Москве', 'B-LOC')]"
      ]
     },
     "execution_count": 105,
     "metadata": {},
     "output_type": "execute_result"
    }
   ],
   "source": [
    "label_seq('Я поступил в ВШЭ в Москве', word2id, id2labels, MAX_LEN, model)"
   ]
  },
  {
   "cell_type": "code",
   "execution_count": 106,
   "id": "7c6c1fe3",
   "metadata": {
    "execution": {
     "iopub.execute_input": "2023-02-15T18:27:57.957220Z",
     "iopub.status.busy": "2023-02-15T18:27:57.956820Z",
     "iopub.status.idle": "2023-02-15T18:27:58.010007Z",
     "shell.execute_reply": "2023-02-15T18:27:58.008946Z",
     "shell.execute_reply.started": "2023-02-15T18:27:57.957168Z"
    }
   },
   "outputs": [
    {
     "data": {
      "text/plain": [
       "[('«', 'O'),\n",
       " ('Спартак', 'B-ORG'),\n",
       " ('»', 'I-ORG'),\n",
       " ('на', 'O'),\n",
       " ('выезде', 'O'),\n",
       " ('сыграл', 'O'),\n",
       " ('с', 'O'),\n",
       " ('польской', 'B-ORG'),\n",
       " ('«', 'O'),\n",
       " ('Легией', 'I-ORG'),\n",
       " ('»', 'O'),\n",
       " ('в', 'O'),\n",
       " ('матче', 'O'),\n",
       " ('заключительного', 'I-ORG'),\n",
       " ('тура', 'I-ORG'),\n",
       " ('группового', 'I-ORG'),\n",
       " ('этапа', 'I-ORG'),\n",
       " ('Лиги', 'I-ORG'),\n",
       " ('Европы', 'I-ORG'),\n",
       " ('.', 'O')]"
      ]
     },
     "execution_count": 106,
     "metadata": {},
     "output_type": "execute_result"
    }
   ],
   "source": [
    "label_seq('«Спартак» на выезде сыграл с польской «Легией» в матче заключительного тура группового этапа Лиги Европы.', word2id, id2labels, MAX_LEN, model)"
   ]
  },
  {
   "cell_type": "code",
   "execution_count": 107,
   "id": "c1945992",
   "metadata": {
    "execution": {
     "iopub.execute_input": "2023-02-15T18:27:58.012341Z",
     "iopub.status.busy": "2023-02-15T18:27:58.011461Z",
     "iopub.status.idle": "2023-02-15T18:27:58.063009Z",
     "shell.execute_reply": "2023-02-15T18:27:58.062006Z",
     "shell.execute_reply.started": "2023-02-15T18:27:58.012301Z"
    }
   },
   "outputs": [
    {
     "data": {
      "text/plain": [
       "[('Эта', 'O'),\n",
       " ('победа', 'O'),\n",
       " ('гарантировала', 'O'),\n",
       " ('«', 'O'),\n",
       " ('Спартаку', 'O'),\n",
       " ('»', 'O'),\n",
       " ('попадание', 'O'),\n",
       " ('в', 'O'),\n",
       " ('плей', 'O'),\n",
       " ('-', 'O'),\n",
       " ('офф', 'B-ORG'),\n",
       " ('Лиги', 'I-ORG'),\n",
       " ('Европы', 'I-ORG'),\n",
       " ('.', 'O')]"
      ]
     },
     "execution_count": 107,
     "metadata": {},
     "output_type": "execute_result"
    }
   ],
   "source": [
    "label_seq('Эта победа гарантировала «Спартаку» попадание в плей-офф Лиги Европы.', word2id, id2labels, MAX_LEN, model)"
   ]
  },
  {
   "cell_type": "markdown",
   "id": "292dde3c",
   "metadata": {},
   "source": [
    "## Вывод"
   ]
  },
  {
   "cell_type": "markdown",
   "id": "7652c283",
   "metadata": {},
   "source": [
    "У BIGRU и метрики лучше, и лучше распознает сущности. Но качество обоих моделей сравнимо с семинарским +-."
   ]
  }
 ],
 "metadata": {
  "kernelspec": {
   "display_name": "Python 3 (ipykernel)",
   "language": "python",
   "name": "python3"
  },
  "language_info": {
   "codemirror_mode": {
    "name": "ipython",
    "version": 3
   },
   "file_extension": ".py",
   "mimetype": "text/x-python",
   "name": "python",
   "nbconvert_exporter": "python",
   "pygments_lexer": "ipython3",
   "version": "3.9.16"
  }
 },
 "nbformat": 4,
 "nbformat_minor": 5
}
