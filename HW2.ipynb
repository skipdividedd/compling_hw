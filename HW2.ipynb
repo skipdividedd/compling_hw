{
 "cells": [
  {
   "cell_type": "markdown",
   "id": "b20f786e",
   "metadata": {},
   "source": [
    "# Домашнее задание № 2. Мешок слов"
   ]
  },
  {
   "cell_type": "markdown",
   "id": "0cf72d19",
   "metadata": {},
   "source": [
    "## Задание 1 (3 балла)"
   ]
  },
  {
   "cell_type": "markdown",
   "id": "4a045e99",
   "metadata": {},
   "source": [
    "У векторайзеров в sklearn есть встроенная токенизация на регулярных выражениях. Найдите способ заменить её на кастомную токенизацию"
   ]
  },
  {
   "cell_type": "markdown",
   "id": "90b4d453",
   "metadata": {},
   "source": [
    "Обучите векторайзер с дефолтной токенизацией и с токенизацией razdel.tokenize. Обучите классификатор (любой) с каждым из векторизаторов. Сравните метрики и выберете победителя. \n",
    "\n",
    "(в вашей тетрадке должен быть код обучения и все метрики; если вы сдаете в .py файлах то сохраните полученные метрики в отдельном файле или в комментариях)"
   ]
  },
  {
   "cell_type": "code",
   "execution_count": 1,
   "id": "129c4d2e",
   "metadata": {},
   "outputs": [
    {
     "name": "stderr",
     "output_type": "stream",
     "text": [
      "[nltk_data] Downloading package stopwords to /home/senya/nltk_data...\n",
      "[nltk_data]   Package stopwords is already up-to-date!\n"
     ]
    }
   ],
   "source": [
    "import pandas as pd\n",
    "import numpy as np\n",
    "import requests\n",
    "import re\n",
    "from collections import OrderedDict, Counter\n",
    "\n",
    "from sklearn.model_selection import train_test_split\n",
    "from sklearn.feature_extraction.text import CountVectorizer, TfidfVectorizer, TfidfTransformer\n",
    "\n",
    "from sklearn.pipeline import Pipeline\n",
    "from sklearn.linear_model import LogisticRegression\n",
    "from sklearn.neighbors import KNeighborsClassifier\n",
    "from sklearn.ensemble import RandomForestClassifier\n",
    "from sklearn.naive_bayes import MultinomialNB\n",
    "from sklearn.model_selection import GridSearchCV, RandomizedSearchCV\n",
    "from sklearn.metrics import classification_report\n",
    "\n",
    "\n",
    "import nltk\n",
    "nltk.download('stopwords')\n",
    "from nltk import word_tokenize\n",
    "from nltk.corpus import stopwords\n",
    "from razdel import tokenize\n",
    "from pymystem3 import Mystem\n",
    "\n",
    "import seaborn as sns\n",
    "from IPython.display import Image"
   ]
  },
  {
   "cell_type": "code",
   "execution_count": 2,
   "id": "5eb7d110",
   "metadata": {},
   "outputs": [],
   "source": [
    "np.random.seed(31415)"
   ]
  },
  {
   "cell_type": "code",
   "execution_count": 3,
   "id": "b4314de5",
   "metadata": {},
   "outputs": [],
   "source": [
    "data = pd.read_csv('labeled.csv')"
   ]
  },
  {
   "cell_type": "code",
   "execution_count": 4,
   "id": "a1a775f5",
   "metadata": {},
   "outputs": [
    {
     "data": {
      "text/plain": [
       "0.0    9586\n",
       "1.0    4826\n",
       "Name: toxic, dtype: int64"
      ]
     },
     "execution_count": 4,
     "metadata": {},
     "output_type": "execute_result"
    }
   ],
   "source": [
    "data.toxic.value_counts()"
   ]
  },
  {
   "cell_type": "code",
   "execution_count": 5,
   "id": "cbffbbc7",
   "metadata": {},
   "outputs": [
    {
     "data": {
      "text/html": [
       "<div>\n",
       "<style scoped>\n",
       "    .dataframe tbody tr th:only-of-type {\n",
       "        vertical-align: middle;\n",
       "    }\n",
       "\n",
       "    .dataframe tbody tr th {\n",
       "        vertical-align: top;\n",
       "    }\n",
       "\n",
       "    .dataframe thead th {\n",
       "        text-align: right;\n",
       "    }\n",
       "</style>\n",
       "<table border=\"1\" class=\"dataframe\">\n",
       "  <thead>\n",
       "    <tr style=\"text-align: right;\">\n",
       "      <th></th>\n",
       "      <th>comment</th>\n",
       "      <th>toxic</th>\n",
       "    </tr>\n",
       "  </thead>\n",
       "  <tbody>\n",
       "    <tr>\n",
       "      <th>0</th>\n",
       "      <td>Верблюдов-то за что? Дебилы, бл...\\n</td>\n",
       "      <td>1.0</td>\n",
       "    </tr>\n",
       "    <tr>\n",
       "      <th>1</th>\n",
       "      <td>Хохлы, это отдушина затюканого россиянина, мол...</td>\n",
       "      <td>1.0</td>\n",
       "    </tr>\n",
       "    <tr>\n",
       "      <th>2</th>\n",
       "      <td>Собаке - собачья смерть\\n</td>\n",
       "      <td>1.0</td>\n",
       "    </tr>\n",
       "    <tr>\n",
       "      <th>3</th>\n",
       "      <td>Страницу обнови, дебил. Это тоже не оскорблени...</td>\n",
       "      <td>1.0</td>\n",
       "    </tr>\n",
       "    <tr>\n",
       "      <th>4</th>\n",
       "      <td>тебя не убедил 6-страничный пдф в том, что Скр...</td>\n",
       "      <td>1.0</td>\n",
       "    </tr>\n",
       "  </tbody>\n",
       "</table>\n",
       "</div>"
      ],
      "text/plain": [
       "                                             comment  toxic\n",
       "0               Верблюдов-то за что? Дебилы, бл...\\n    1.0\n",
       "1  Хохлы, это отдушина затюканого россиянина, мол...    1.0\n",
       "2                          Собаке - собачья смерть\\n    1.0\n",
       "3  Страницу обнови, дебил. Это тоже не оскорблени...    1.0\n",
       "4  тебя не убедил 6-страничный пдф в том, что Скр...    1.0"
      ]
     },
     "execution_count": 5,
     "metadata": {},
     "output_type": "execute_result"
    }
   ],
   "source": [
    "data.head() #данные"
   ]
  },
  {
   "cell_type": "code",
   "execution_count": 6,
   "id": "1d2477b9",
   "metadata": {},
   "outputs": [],
   "source": [
    "train, test = train_test_split(data, test_size=0.2, shuffle=True) #разбиение"
   ]
  },
  {
   "cell_type": "code",
   "execution_count": 7,
   "id": "a07af34c",
   "metadata": {},
   "outputs": [],
   "source": [
    "train.reset_index(inplace=True)\n",
    "test.reset_index(inplace=True)"
   ]
  },
  {
   "cell_type": "code",
   "execution_count": 8,
   "id": "1c673a5b",
   "metadata": {},
   "outputs": [],
   "source": [
    "y = train.toxic.values #классы\n",
    "y_test = test.toxic.values"
   ]
  },
  {
   "cell_type": "code",
   "execution_count": 9,
   "id": "e0dcc345",
   "metadata": {},
   "outputs": [],
   "source": [
    "def tokenizer(text): #razdel for custom tokenization\n",
    "    tokens = list(tokenize(text))\n",
    "    return [_.text for _ in tokens]"
   ]
  },
  {
   "cell_type": "markdown",
   "id": "a9f14749",
   "metadata": {},
   "source": [
    "### CountVectorizer"
   ]
  },
  {
   "cell_type": "markdown",
   "id": "42fba6fc",
   "metadata": {},
   "source": [
    "Встроенная токенизация"
   ]
  },
  {
   "cell_type": "code",
   "execution_count": 10,
   "id": "4212875f",
   "metadata": {},
   "outputs": [],
   "source": [
    "count_vect = CountVectorizer()\n",
    "X = count_vect.fit_transform(train.comment)\n",
    "X_test = count_vect.transform(test.comment) "
   ]
  },
  {
   "cell_type": "code",
   "execution_count": 11,
   "id": "f2209e0e",
   "metadata": {},
   "outputs": [],
   "source": [
    "clf = LogisticRegression(C=0.1, class_weight='balanced')\n",
    "# fit обучает модель\n",
    "clf.fit(X, y)\n",
    "# предикт предсказывает классы\n",
    "preds1 = clf.predict(X_test)"
   ]
  },
  {
   "cell_type": "code",
   "execution_count": 12,
   "id": "3301f1a8",
   "metadata": {},
   "outputs": [
    {
     "name": "stdout",
     "output_type": "stream",
     "text": [
      "              precision    recall  f1-score   support\n",
      "\n",
      "         0.0       0.91      0.84      0.88      1924\n",
      "         1.0       0.73      0.83      0.78       959\n",
      "\n",
      "    accuracy                           0.84      2883\n",
      "   macro avg       0.82      0.84      0.83      2883\n",
      "weighted avg       0.85      0.84      0.84      2883\n",
      "\n"
     ]
    }
   ],
   "source": [
    "print(classification_report(y_test, preds1, zero_division=0))"
   ]
  },
  {
   "cell_type": "markdown",
   "id": "8dbba0c7",
   "metadata": {},
   "source": [
    "Custom tokenization"
   ]
  },
  {
   "cell_type": "code",
   "execution_count": 13,
   "id": "fd1ad6c0",
   "metadata": {},
   "outputs": [],
   "source": [
    "count_vect_custom = CountVectorizer(tokenizer=tokenizer) #razdel\n",
    "X = count_vect_custom.fit_transform(train.comment)\n",
    "X_test = count_vect_custom.transform(test.comment) "
   ]
  },
  {
   "cell_type": "code",
   "execution_count": 14,
   "id": "f5c746db",
   "metadata": {},
   "outputs": [],
   "source": [
    "clf = LogisticRegression(C=0.1, class_weight='balanced', max_iter=150)\n",
    "clf.fit(X, y)\n",
    "preds2 = clf.predict(X_test)"
   ]
  },
  {
   "cell_type": "code",
   "execution_count": 15,
   "id": "90f84e66",
   "metadata": {},
   "outputs": [
    {
     "name": "stdout",
     "output_type": "stream",
     "text": [
      "              precision    recall  f1-score   support\n",
      "\n",
      "         0.0       0.91      0.84      0.87      1924\n",
      "         1.0       0.72      0.83      0.77       959\n",
      "\n",
      "    accuracy                           0.84      2883\n",
      "   macro avg       0.81      0.83      0.82      2883\n",
      "weighted avg       0.84      0.84      0.84      2883\n",
      "\n"
     ]
    }
   ],
   "source": [
    "print(classification_report(y_test, preds2, zero_division=0))"
   ]
  },
  {
   "cell_type": "markdown",
   "id": "b7ea12b2",
   "metadata": {},
   "source": [
    "### TfidfVectorizer"
   ]
  },
  {
   "cell_type": "markdown",
   "id": "b762063d",
   "metadata": {},
   "source": [
    "Встроенная токенизация"
   ]
  },
  {
   "cell_type": "code",
   "execution_count": 16,
   "id": "1150157a",
   "metadata": {},
   "outputs": [],
   "source": [
    "tfidf_vect = TfidfVectorizer(min_df=5, max_df=0.4)\n",
    "X = tfidf_vect.fit_transform(train.comment)\n",
    "X_test = tfidf_vect.transform(test.comment) "
   ]
  },
  {
   "cell_type": "code",
   "execution_count": 17,
   "id": "8eaa91ce",
   "metadata": {},
   "outputs": [],
   "source": [
    "clf = LogisticRegression(C=0.1, class_weight='balanced')\n",
    "clf.fit(X, y)\n",
    "preds3 = clf.predict(X_test)"
   ]
  },
  {
   "cell_type": "code",
   "execution_count": 18,
   "id": "e2a54aa9",
   "metadata": {},
   "outputs": [
    {
     "name": "stdout",
     "output_type": "stream",
     "text": [
      "              precision    recall  f1-score   support\n",
      "\n",
      "         0.0       0.87      0.85      0.86      1924\n",
      "         1.0       0.72      0.75      0.73       959\n",
      "\n",
      "    accuracy                           0.82      2883\n",
      "   macro avg       0.79      0.80      0.80      2883\n",
      "weighted avg       0.82      0.82      0.82      2883\n",
      "\n"
     ]
    }
   ],
   "source": [
    "print(classification_report(y_test, preds3, zero_division=0))"
   ]
  },
  {
   "cell_type": "markdown",
   "id": "38c33345",
   "metadata": {},
   "source": [
    "Custom tokenization"
   ]
  },
  {
   "cell_type": "code",
   "execution_count": 19,
   "id": "d1aa32d0",
   "metadata": {},
   "outputs": [],
   "source": [
    "tfidf_vect_custom = TfidfVectorizer(tokenizer=tokenizer, min_df=5, max_df=0.4) #razdel\n",
    "X = tfidf_vect_custom.fit_transform(train.comment)\n",
    "X_test = tfidf_vect_custom.transform(test.comment) "
   ]
  },
  {
   "cell_type": "code",
   "execution_count": 20,
   "id": "f59b5bde",
   "metadata": {},
   "outputs": [],
   "source": [
    "clf = LogisticRegression(C=0.1, class_weight='balanced')\n",
    "clf.fit(X, y)\n",
    "preds4 = clf.predict(X_test)"
   ]
  },
  {
   "cell_type": "code",
   "execution_count": 21,
   "id": "bab6447c",
   "metadata": {},
   "outputs": [
    {
     "name": "stdout",
     "output_type": "stream",
     "text": [
      "              precision    recall  f1-score   support\n",
      "\n",
      "         0.0       0.88      0.84      0.86      1924\n",
      "         1.0       0.70      0.77      0.73       959\n",
      "\n",
      "    accuracy                           0.81      2883\n",
      "   macro avg       0.79      0.80      0.80      2883\n",
      "weighted avg       0.82      0.81      0.82      2883\n",
      "\n"
     ]
    }
   ],
   "source": [
    "print(classification_report(y_test, preds4, zero_division=0))"
   ]
  },
  {
   "cell_type": "markdown",
   "id": "1af4bacb",
   "metadata": {},
   "source": [
    "### Winner -- CountVectorizer + встроенная токенизация"
   ]
  },
  {
   "cell_type": "markdown",
   "id": "2875c553",
   "metadata": {},
   "source": [
    "Красивый график:"
   ]
  },
  {
   "cell_type": "code",
   "execution_count": 22,
   "id": "92f9df43",
   "metadata": {},
   "outputs": [
    {
     "data": {
      "text/plain": [
       "<AxesSubplot:>"
      ]
     },
     "execution_count": 22,
     "metadata": {},
     "output_type": "execute_result"
    },
    {
     "data": {
      "image/png": "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\n",
      "text/plain": [
       "<Figure size 640x480 with 2 Axes>"
      ]
     },
     "metadata": {},
     "output_type": "display_data"
    }
   ],
   "source": [
    "clf_report = classification_report(y_test, preds1,\n",
    "                                   output_dict=True)\n",
    "\n",
    "sns.heatmap(pd.DataFrame(clf_report).iloc[:-1, :].T, annot=True)"
   ]
  },
  {
   "cell_type": "markdown",
   "id": "8e3c896c",
   "metadata": {},
   "source": [
    "## Задание 2 (3 балла)"
   ]
  },
  {
   "cell_type": "markdown",
   "id": "bfcd27a3",
   "metadata": {},
   "source": [
    "Преобразуйте таблицу с абсолютными частотностями в семинарской тетрадке в таблицу с tfidf значениями. (Таблица - https://i.ibb.co/r5Nc2HC/abs-bow.jpg) Формула tfidf есть в семинаре на картнике с пояснениями на английском. \n",
    "Считать нужно в питоне. Формат итоговой таблицы может быть любым, главное, чтобы был код и можно было воспроизвести вычисления. "
   ]
  },
  {
   "cell_type": "code",
   "execution_count": 23,
   "id": "c5b50abc",
   "metadata": {},
   "outputs": [],
   "source": [
    "texts = ['я и ты', 'ты и я', 'я я и только я', 'только не я', 'он']"
   ]
  },
  {
   "cell_type": "code",
   "execution_count": 24,
   "id": "e05806a9",
   "metadata": {},
   "outputs": [
    {
     "data": {
      "text/plain": [
       "[Counter({'я': 1, 'и': 1, 'ты': 1}),\n",
       " Counter({'ты': 1, 'и': 1, 'я': 1}),\n",
       " Counter({'я': 3, 'и': 1, 'только': 1}),\n",
       " Counter({'только': 1, 'не': 1, 'я': 1}),\n",
       " Counter({'он': 1})]"
      ]
     },
     "execution_count": 24,
     "metadata": {},
     "output_type": "execute_result"
    }
   ],
   "source": [
    "bagsofwords = [Counter(re.findall(r'\\w+', txt)) for txt in texts]\n",
    "bagsofwords"
   ]
  },
  {
   "cell_type": "code",
   "execution_count": 25,
   "id": "5c26ac27",
   "metadata": {},
   "outputs": [
    {
     "data": {
      "text/html": [
       "<div>\n",
       "<style scoped>\n",
       "    .dataframe tbody tr th:only-of-type {\n",
       "        vertical-align: middle;\n",
       "    }\n",
       "\n",
       "    .dataframe tbody tr th {\n",
       "        vertical-align: top;\n",
       "    }\n",
       "\n",
       "    .dataframe thead th {\n",
       "        text-align: right;\n",
       "    }\n",
       "</style>\n",
       "<table border=\"1\" class=\"dataframe\">\n",
       "  <thead>\n",
       "    <tr style=\"text-align: right;\">\n",
       "      <th></th>\n",
       "      <th>docs</th>\n",
       "      <th>tokens</th>\n",
       "    </tr>\n",
       "  </thead>\n",
       "  <tbody>\n",
       "    <tr>\n",
       "      <th>0</th>\n",
       "      <td>я и ты</td>\n",
       "      <td>[я, и, ты]</td>\n",
       "    </tr>\n",
       "    <tr>\n",
       "      <th>1</th>\n",
       "      <td>ты и я</td>\n",
       "      <td>[ты, и, я]</td>\n",
       "    </tr>\n",
       "    <tr>\n",
       "      <th>2</th>\n",
       "      <td>я я и только я</td>\n",
       "      <td>[я, я, и, только, я]</td>\n",
       "    </tr>\n",
       "    <tr>\n",
       "      <th>3</th>\n",
       "      <td>только не я</td>\n",
       "      <td>[только, не, я]</td>\n",
       "    </tr>\n",
       "    <tr>\n",
       "      <th>4</th>\n",
       "      <td>он</td>\n",
       "      <td>[он]</td>\n",
       "    </tr>\n",
       "  </tbody>\n",
       "</table>\n",
       "</div>"
      ],
      "text/plain": [
       "             docs                tokens\n",
       "0          я и ты            [я, и, ты]\n",
       "1          ты и я            [ты, и, я]\n",
       "2  я я и только я  [я, я, и, только, я]\n",
       "3     только не я       [только, не, я]\n",
       "4              он                  [он]"
      ]
     },
     "execution_count": 25,
     "metadata": {},
     "output_type": "execute_result"
    }
   ],
   "source": [
    "df = pd.DataFrame({'docs': texts})\n",
    "df['tokens'] = [x.split() for x in df.docs.values] \n",
    "df"
   ]
  },
  {
   "cell_type": "markdown",
   "id": "aad50d04",
   "metadata": {},
   "source": [
    "Формула:"
   ]
  },
  {
   "cell_type": "code",
   "execution_count": 26,
   "id": "437308e3",
   "metadata": {},
   "outputs": [
    {
     "data": {
      "text/html": [
       "<img src=\"https://miro.medium.com/max/1400/1*V9ac4hLVyms79jl65Ym_Bw.jpeg\" width=\"600\" height=\"600\"/>"
      ],
      "text/plain": [
       "<IPython.core.display.Image object>"
      ]
     },
     "execution_count": 26,
     "metadata": {},
     "output_type": "execute_result"
    }
   ],
   "source": [
    "Image(url=\"https://miro.medium.com/max/1400/1*V9ac4hLVyms79jl65Ym_Bw.jpeg\",\n",
    "     width=600, height=600)"
   ]
  },
  {
   "cell_type": "markdown",
   "id": "37b2fb44",
   "metadata": {},
   "source": [
    "\"Большой вес в TF-IDF получат слова с высокой частотой в пределах конкретного документа и с низкой частотой употреблений в других документах.\" (вики)"
   ]
  },
  {
   "cell_type": "markdown",
   "id": "a43bd01d",
   "metadata": {},
   "source": [
    "Term Frequency"
   ]
  },
  {
   "cell_type": "code",
   "execution_count": 27,
   "id": "d70b0a3d",
   "metadata": {},
   "outputs": [
    {
     "data": {
      "text/html": [
       "<div>\n",
       "<style scoped>\n",
       "    .dataframe tbody tr th:only-of-type {\n",
       "        vertical-align: middle;\n",
       "    }\n",
       "\n",
       "    .dataframe tbody tr th {\n",
       "        vertical-align: top;\n",
       "    }\n",
       "\n",
       "    .dataframe thead th {\n",
       "        text-align: right;\n",
       "    }\n",
       "</style>\n",
       "<table border=\"1\" class=\"dataframe\">\n",
       "  <thead>\n",
       "    <tr style=\"text-align: right;\">\n",
       "      <th></th>\n",
       "      <th>я</th>\n",
       "      <th>и</th>\n",
       "      <th>ты</th>\n",
       "      <th>только</th>\n",
       "      <th>не</th>\n",
       "      <th>он</th>\n",
       "    </tr>\n",
       "  </thead>\n",
       "  <tbody>\n",
       "    <tr>\n",
       "      <th>я и ты</th>\n",
       "      <td>1.0</td>\n",
       "      <td>1.0</td>\n",
       "      <td>1.0</td>\n",
       "      <td>0.0</td>\n",
       "      <td>0.0</td>\n",
       "      <td>0.0</td>\n",
       "    </tr>\n",
       "    <tr>\n",
       "      <th>ты и я</th>\n",
       "      <td>1.0</td>\n",
       "      <td>1.0</td>\n",
       "      <td>1.0</td>\n",
       "      <td>0.0</td>\n",
       "      <td>0.0</td>\n",
       "      <td>0.0</td>\n",
       "    </tr>\n",
       "    <tr>\n",
       "      <th>я я и только я</th>\n",
       "      <td>3.0</td>\n",
       "      <td>1.0</td>\n",
       "      <td>0.0</td>\n",
       "      <td>1.0</td>\n",
       "      <td>0.0</td>\n",
       "      <td>0.0</td>\n",
       "    </tr>\n",
       "    <tr>\n",
       "      <th>только не я</th>\n",
       "      <td>1.0</td>\n",
       "      <td>0.0</td>\n",
       "      <td>0.0</td>\n",
       "      <td>1.0</td>\n",
       "      <td>1.0</td>\n",
       "      <td>0.0</td>\n",
       "    </tr>\n",
       "    <tr>\n",
       "      <th>он</th>\n",
       "      <td>0.0</td>\n",
       "      <td>0.0</td>\n",
       "      <td>0.0</td>\n",
       "      <td>0.0</td>\n",
       "      <td>0.0</td>\n",
       "      <td>1.0</td>\n",
       "    </tr>\n",
       "  </tbody>\n",
       "</table>\n",
       "</div>"
      ],
      "text/plain": [
       "                  я    и   ты  только   не   он\n",
       "я и ты          1.0  1.0  1.0     0.0  0.0  0.0\n",
       "ты и я          1.0  1.0  1.0     0.0  0.0  0.0\n",
       "я я и только я  3.0  1.0  0.0     1.0  0.0  0.0\n",
       "только не я     1.0  0.0  0.0     1.0  1.0  0.0\n",
       "он              0.0  0.0  0.0     0.0  0.0  1.0"
      ]
     },
     "execution_count": 27,
     "metadata": {},
     "output_type": "execute_result"
    }
   ],
   "source": [
    "bag = pd.DataFrame.from_dict(bagsofwords)\n",
    "bag.replace(np.nan, 0, inplace=True)\n",
    "bag.rename(index=dict(zip(range(0,5), texts)), inplace=True) \n",
    "bag "
   ]
  },
  {
   "cell_type": "code",
   "execution_count": 28,
   "id": "83207d16",
   "metadata": {},
   "outputs": [],
   "source": [
    "#Inverse Document Frequency\n",
    "idf = pd.Series([np.log(float(df.shape[0])/(len([x for x in df.tokens.values if token in x]))) \\\n",
    "                 for token in bag.columns])\n",
    "idf.index = bag.columns"
   ]
  },
  {
   "cell_type": "code",
   "execution_count": 29,
   "id": "37dd15d2",
   "metadata": {},
   "outputs": [
    {
     "data": {
      "text/html": [
       "<div>\n",
       "<style scoped>\n",
       "    .dataframe tbody tr th:only-of-type {\n",
       "        vertical-align: middle;\n",
       "    }\n",
       "\n",
       "    .dataframe tbody tr th {\n",
       "        vertical-align: top;\n",
       "    }\n",
       "\n",
       "    .dataframe thead th {\n",
       "        text-align: right;\n",
       "    }\n",
       "</style>\n",
       "<table border=\"1\" class=\"dataframe\">\n",
       "  <thead>\n",
       "    <tr style=\"text-align: right;\">\n",
       "      <th></th>\n",
       "      <th>я</th>\n",
       "      <th>и</th>\n",
       "      <th>ты</th>\n",
       "      <th>только</th>\n",
       "      <th>не</th>\n",
       "      <th>он</th>\n",
       "    </tr>\n",
       "  </thead>\n",
       "  <tbody>\n",
       "    <tr>\n",
       "      <th>я и ты</th>\n",
       "      <td>0.223144</td>\n",
       "      <td>0.510826</td>\n",
       "      <td>0.916291</td>\n",
       "      <td>0.000000</td>\n",
       "      <td>0.000000</td>\n",
       "      <td>0.000000</td>\n",
       "    </tr>\n",
       "    <tr>\n",
       "      <th>ты и я</th>\n",
       "      <td>0.223144</td>\n",
       "      <td>0.510826</td>\n",
       "      <td>0.916291</td>\n",
       "      <td>0.000000</td>\n",
       "      <td>0.000000</td>\n",
       "      <td>0.000000</td>\n",
       "    </tr>\n",
       "    <tr>\n",
       "      <th>я я и только я</th>\n",
       "      <td>0.669431</td>\n",
       "      <td>0.510826</td>\n",
       "      <td>0.000000</td>\n",
       "      <td>0.916291</td>\n",
       "      <td>0.000000</td>\n",
       "      <td>0.000000</td>\n",
       "    </tr>\n",
       "    <tr>\n",
       "      <th>только не я</th>\n",
       "      <td>0.223144</td>\n",
       "      <td>0.000000</td>\n",
       "      <td>0.000000</td>\n",
       "      <td>0.916291</td>\n",
       "      <td>1.609438</td>\n",
       "      <td>0.000000</td>\n",
       "    </tr>\n",
       "    <tr>\n",
       "      <th>он</th>\n",
       "      <td>0.000000</td>\n",
       "      <td>0.000000</td>\n",
       "      <td>0.000000</td>\n",
       "      <td>0.000000</td>\n",
       "      <td>0.000000</td>\n",
       "      <td>1.609438</td>\n",
       "    </tr>\n",
       "  </tbody>\n",
       "</table>\n",
       "</div>"
      ],
      "text/plain": [
       "                       я         и        ты    только        не        он\n",
       "я и ты          0.223144  0.510826  0.916291  0.000000  0.000000  0.000000\n",
       "ты и я          0.223144  0.510826  0.916291  0.000000  0.000000  0.000000\n",
       "я я и только я  0.669431  0.510826  0.000000  0.916291  0.000000  0.000000\n",
       "только не я     0.223144  0.000000  0.000000  0.916291  1.609438  0.000000\n",
       "он              0.000000  0.000000  0.000000  0.000000  0.000000  1.609438"
      ]
     },
     "execution_count": 29,
     "metadata": {},
     "output_type": "execute_result"
    }
   ],
   "source": [
    "tfidf = bag.copy()\n",
    "for col in tfidf.columns:\n",
    "    tfidf[col] = tfidf[col]*idf[col]\n",
    "tfidf"
   ]
  },
  {
   "cell_type": "markdown",
   "id": "b608f085",
   "metadata": {},
   "source": [
    "### Проверка"
   ]
  },
  {
   "cell_type": "code",
   "execution_count": 30,
   "id": "e99568a0",
   "metadata": {},
   "outputs": [
    {
     "data": {
      "text/plain": [
       "array([2.79175947, 2.79175947, 1.69314718, 1.69314718, 2.09861229,\n",
       "       2.09861229])"
      ]
     },
     "execution_count": 30,
     "metadata": {},
     "output_type": "execute_result"
    }
   ],
   "source": [
    "# https://scikit-learn.org/stable/modules/generated/sklearn.feature_extraction.text.TfidfTransformer.html\n",
    "vocabulary = ['я', 'и', 'ты', 'только', 'не', 'он']\n",
    "pipe = Pipeline([('count', CountVectorizer(vocabulary=vocabulary)),\n",
    "                  ('tfid', TfidfTransformer())]).fit(texts)\n",
    "pipe['count'].transform(texts).toarray()\n",
    "pipe['tfid'].idf_"
   ]
  },
  {
   "cell_type": "markdown",
   "id": "0bcf286d",
   "metadata": {},
   "source": [
    "Вижу, что получилось не очень похоже.\n",
    "\n",
    "Попробую формулу с просторов интернета:"
   ]
  },
  {
   "cell_type": "code",
   "execution_count": 31,
   "id": "a7e8c88b",
   "metadata": {},
   "outputs": [
    {
     "data": {
      "text/html": [
       "<img src=\"https://encrypted-tbn0.gstatic.com/images?q=tbn:ANd9GcQvJ2BRngKdMIQrXZpcPZl95xC3MHQFZeUsOA&usqp=CAU\" width=\"600\" height=\"600\"/>"
      ],
      "text/plain": [
       "<IPython.core.display.Image object>"
      ]
     },
     "execution_count": 31,
     "metadata": {},
     "output_type": "execute_result"
    }
   ],
   "source": [
    "Image(url=\"https://encrypted-tbn0.gstatic.com/images?q=tbn:ANd9GcQvJ2BRngKdMIQrXZpcPZl95xC3MHQFZeUsOA&usqp=CAU\",\n",
    "     width=600, height=600)"
   ]
  },
  {
   "cell_type": "code",
   "execution_count": 32,
   "id": "1079f284",
   "metadata": {},
   "outputs": [
    {
     "data": {
      "text/plain": [
       "я         1.182322\n",
       "и         1.405465\n",
       "ты        1.693147\n",
       "только    1.693147\n",
       "не        2.098612\n",
       "он        2.098612\n",
       "dtype: float64"
      ]
     },
     "execution_count": 32,
     "metadata": {},
     "output_type": "execute_result"
    }
   ],
   "source": [
    "#Inverse Document Frequency\n",
    "idf = pd.Series([np.log((float(df.shape[0]+1))/(len([x for x in df.tokens.values if token in x])+1))+1 \\\n",
    "                 for token in bag.columns])\n",
    "idf.index = bag.columns\n",
    "idf"
   ]
  },
  {
   "cell_type": "code",
   "execution_count": 33,
   "id": "82d20bdb",
   "metadata": {},
   "outputs": [
    {
     "data": {
      "text/html": [
       "<div>\n",
       "<style scoped>\n",
       "    .dataframe tbody tr th:only-of-type {\n",
       "        vertical-align: middle;\n",
       "    }\n",
       "\n",
       "    .dataframe tbody tr th {\n",
       "        vertical-align: top;\n",
       "    }\n",
       "\n",
       "    .dataframe thead th {\n",
       "        text-align: right;\n",
       "    }\n",
       "</style>\n",
       "<table border=\"1\" class=\"dataframe\">\n",
       "  <thead>\n",
       "    <tr style=\"text-align: right;\">\n",
       "      <th></th>\n",
       "      <th>я</th>\n",
       "      <th>и</th>\n",
       "      <th>ты</th>\n",
       "      <th>только</th>\n",
       "      <th>не</th>\n",
       "      <th>он</th>\n",
       "    </tr>\n",
       "  </thead>\n",
       "  <tbody>\n",
       "    <tr>\n",
       "      <th>я и ты</th>\n",
       "      <td>1.182322</td>\n",
       "      <td>1.405465</td>\n",
       "      <td>1.693147</td>\n",
       "      <td>0.000000</td>\n",
       "      <td>0.000000</td>\n",
       "      <td>0.000000</td>\n",
       "    </tr>\n",
       "    <tr>\n",
       "      <th>ты и я</th>\n",
       "      <td>1.182322</td>\n",
       "      <td>1.405465</td>\n",
       "      <td>1.693147</td>\n",
       "      <td>0.000000</td>\n",
       "      <td>0.000000</td>\n",
       "      <td>0.000000</td>\n",
       "    </tr>\n",
       "    <tr>\n",
       "      <th>я я и только я</th>\n",
       "      <td>3.546965</td>\n",
       "      <td>1.405465</td>\n",
       "      <td>0.000000</td>\n",
       "      <td>1.693147</td>\n",
       "      <td>0.000000</td>\n",
       "      <td>0.000000</td>\n",
       "    </tr>\n",
       "    <tr>\n",
       "      <th>только не я</th>\n",
       "      <td>1.182322</td>\n",
       "      <td>0.000000</td>\n",
       "      <td>0.000000</td>\n",
       "      <td>1.693147</td>\n",
       "      <td>2.098612</td>\n",
       "      <td>0.000000</td>\n",
       "    </tr>\n",
       "    <tr>\n",
       "      <th>он</th>\n",
       "      <td>0.000000</td>\n",
       "      <td>0.000000</td>\n",
       "      <td>0.000000</td>\n",
       "      <td>0.000000</td>\n",
       "      <td>0.000000</td>\n",
       "      <td>2.098612</td>\n",
       "    </tr>\n",
       "  </tbody>\n",
       "</table>\n",
       "</div>"
      ],
      "text/plain": [
       "                       я         и        ты    только        не        он\n",
       "я и ты          1.182322  1.405465  1.693147  0.000000  0.000000  0.000000\n",
       "ты и я          1.182322  1.405465  1.693147  0.000000  0.000000  0.000000\n",
       "я я и только я  3.546965  1.405465  0.000000  1.693147  0.000000  0.000000\n",
       "только не я     1.182322  0.000000  0.000000  1.693147  2.098612  0.000000\n",
       "он              0.000000  0.000000  0.000000  0.000000  0.000000  2.098612"
      ]
     },
     "execution_count": 33,
     "metadata": {},
     "output_type": "execute_result"
    }
   ],
   "source": [
    "tfidf = bag.copy()\n",
    "for col in tfidf.columns:\n",
    "    tfidf[col] = tfidf[col]*idf[col]\n",
    "tfidf"
   ]
  },
  {
   "cell_type": "markdown",
   "id": "c3b7bbe3",
   "metadata": {},
   "source": [
    "Для 4/6 слов получился результат, консистентный sklearn (другой результат для \"я\", \"и\" -- не знаю, в каком месте проблема)."
   ]
  },
  {
   "cell_type": "markdown",
   "id": "91b9076e",
   "metadata": {},
   "source": [
    "## Задание 3 (2 балла)"
   ]
  },
  {
   "cell_type": "markdown",
   "id": "14e25357",
   "metadata": {},
   "source": [
    "Обучите 2 любых разных классификатора из семинара. Предскажите токсичность для текстов из тестовой выборки (используйте одну и ту же выборку для обоих классификаторов) и найдите 10 самых токсичных для каждого из классификаторов. Сравните получаемые тексты - какие тексты совпадают, какие отличаются, правда ли тексты токсичные?"
   ]
  },
  {
   "cell_type": "markdown",
   "id": "7de962ad",
   "metadata": {},
   "source": [
    "Требования к моделям:   \n",
    "а) один классификатор должен использовать CountVectorizer, другой TfidfVectorizer  \n",
    "б) у векторазера должны быть вручную заданы как минимум 5 параметров (можно ставить разные параметры tfidfvectorizer и countvectorizer)  \n",
    "в) у классификатора должно быть задано вручную как минимум 2 параметра (по возможности)  \n",
    "г)  f1 мера каждого из классификаторов должна быть минимум 0.75  \n",
    "\n",
    "*random_seed не считается за параметр"
   ]
  },
  {
   "cell_type": "markdown",
   "id": "b2750753",
   "metadata": {},
   "source": [
    "### MultinomialNB + CountVectorizer"
   ]
  },
  {
   "cell_type": "code",
   "execution_count": 34,
   "id": "ac0a5471",
   "metadata": {},
   "outputs": [],
   "source": [
    "count_vect = CountVectorizer(tokenizer=word_tokenize, stop_words=stopwords.words(\"russian\"), \\\n",
    "                             max_df=0.85, min_df=2, ngram_range=(1,2)) \n",
    "\n",
    "X = count_vect.fit_transform(train.comment)\n",
    "X_test = count_vect.transform(test.comment) "
   ]
  },
  {
   "cell_type": "code",
   "execution_count": 35,
   "id": "90f55547",
   "metadata": {},
   "outputs": [
    {
     "name": "stdout",
     "output_type": "stream",
     "text": [
      "              precision    recall  f1-score   support\n",
      "\n",
      "         0.0       0.89      0.90      0.89      1924\n",
      "         1.0       0.80      0.77      0.78       959\n",
      "\n",
      "    accuracy                           0.86      2883\n",
      "   macro avg       0.84      0.84      0.84      2883\n",
      "weighted avg       0.86      0.86      0.86      2883\n",
      "\n"
     ]
    }
   ],
   "source": [
    "clf = MultinomialNB()\n",
    "\n",
    "#parameters \n",
    "params = {'alpha': [0.0001, 0.001, 0.1, 0.35, 0.65, 0.85, 1], 'fit_prior': [True, False]}\n",
    "\n",
    "#search best parameters\n",
    "search = GridSearchCV(clf, params, scoring='f1')  \n",
    "search.fit(X, y)\n",
    "\n",
    "#choose clf with best parameters\n",
    "best_model = search.best_estimator_\n",
    "\n",
    "preds = best_model.predict(X_test)\n",
    "\n",
    "print(classification_report(y_test, preds, zero_division=0))"
   ]
  },
  {
   "cell_type": "code",
   "execution_count": 36,
   "id": "b30248a6",
   "metadata": {},
   "outputs": [],
   "source": [
    "def top_toxic(model, X_test):\n",
    "    probas = model.predict_proba(X_test)\n",
    "    values = probas[:,1]\n",
    "    keys = zip(test.comment, y_test)\n",
    "    dictionary = dict(zip(keys, values))\n",
    "    sorted_dictionary = OrderedDict(sorted(dictionary.items(), key=lambda item: item[1], reverse=True))\n",
    "    return {k: sorted_dictionary[k] for k in list(sorted_dictionary)[:10]}"
   ]
  },
  {
   "cell_type": "markdown",
   "id": "11734689",
   "metadata": {},
   "source": [
    "#### MultinomialNB токсик-комментарии топ-10"
   ]
  },
  {
   "cell_type": "markdown",
   "id": "81dd2a9b",
   "metadata": {},
   "source": [
    "Глупое устройство словаря -- (комментарий, y_true) : y_pred, т.к. ключи должны быть уникальными."
   ]
  },
  {
   "cell_type": "code",
   "execution_count": 37,
   "id": "286a73b9",
   "metadata": {},
   "outputs": [
    {
     "data": {
      "text/plain": [
       "{('Зальете шебм? Вот этот кун. Говорит, будто заявление забрали. Алсо как-то и не скажешь, что он станет совать хуй в очъко тян, а потом обмазывать ей губы, лол. Фу нахуй. Алсо, мне думается, что пиздит\\n',\n",
       "  1.0): 1.0,\n",
       " ('дерейлы тредов за счёт постоянных провокаций, неуместных форсов, чатиков и оскорблений других анонов в нём также приведут к бану. 7 постов гомофорса на 100, вот уж проблема и засирание треда Гомофорс - это, прежде всего, форс. Он прикрывается традицией и местными обычаями, а его апологеты утверждают, что форс смешной и без него уже нельзя. Никто не называет его смешным, никто не говорит, что без него нельзя. Всех в конец заебало обсуждение одних тем и анон так развлекается. Последние свитки вышли в 11м, тесо и легенды никто не играл, а некоторые особо одарённые и вовсе считают никаноном. А гомофорс это просто общение в треде обо всём без чёткой тематики. Однако если это форсится без меры 3 года подряд и просачивается в другие треды, раздражая анонов, то это должно пресекаться. просачивается в другие треды Вот и бань тех кто просачивается без меры Где ты был полтора года назад, когда на доске висело 35 вопросов тредов? Вот это было без меры, но теперь даже гринтекстовых срачей почти нет. Теперь приходится вставлять гомофорс в обычные посты, но даже их трут: А это и вовсе ответ на вопрос о гомофорсере, который был ни с хуя потёрт 1257469 Он тут не пролазит, это его доска. Гомофорс - неотъемлемая часть тесача, существующая уже два с половиной года. А вот как сюда пролазят гомохейтерки вроде тебя - это вопрос. Системность следования правилам раздела, отсутствие избирательного отношения или фаворитизма по отношению к тому или иному форсу, - Ага, поэтому меня забанили за гомофорс вчера, а не за данмерских шлюх неделю назад. залог стабильного постинга на честной доске. Будто бы гомофорс мешает общению. Опять же, 35 тредов полных гринтекста и простыней шизиков. И никто никому не мешал. Причина по которой на него раньше закрывали глаза это были местные юморески. Один из предыдущих мочеров назвал это традицией. Не помню ни одного случая, когда банили за посты, приведённые выше, всегда за гринтекст. Но гринтекст прекратился - начались баны за любое упоминание гомофорса. Поэтому аноны, упорствующие в гомофорсе, могут и будут забанены на средние сроки - неделю или две. Особо упорствующие могут попасть под пермач. Вот и всё. Вот только с хуя ли моча мешает общению анонов. Ни один из недавних постов с гомофорсом не получил продолжения в виде однострочного срача, с хуя ли их потёрли? Чем плох этот пост? Нет 100 правдивой версии замерзания Атморы, а хедканон у каждого свой, как завещал мишаня. Мой хедканон делает моче ниприятно? Когда норды сидели под сапогом альдмеров великой Альтморы всё было нормально. В Сиродиле джунгли, на Альтморе тёплый климат, а весь Скайрим был покрыт лесами. Всё дело в том, что альдмеры проводя ритуалы, славящие их богов, создавали много тепла своими жаркими телами, мужчины альдмеры трудились не покладая удов, чтобы поддерживать благоприятный климат, но норды были холодны и безнравственны. Мужчинам они предпочитали женщин, а такая порочная, грязная любовь не сравнится с жаром пылких альдмерских мужчин, сплетаясь образующих столько тепла, что хватает на весь континент. Когда пришла власть нордов и Обманщика, все альдмеры были убиты, а великие традиции мужской любви попали под запрет, и некогда вечнозелёная Альтмора начала превращаться в ледяную пустошь Атмору. В итоге норды сами были вынуждены бежать в Скайрим, где они вырезали фалмеров, из-за чего половина Скайрима сейчас непригодна для жизни из-за холода. Та же участь постигла и айлейдов, и вместо влажных джунглей в Сиродиле теперь простые леса. Раньше гринтекстовый срач был развёрнутый, с подробным описанием того, кто кому куда и в каком количестве суёт. И это не банилось. Может моче просто нравились эти гомоэротические рассказы, и он на нас сердится, из-за того что они перестали быть оригинальными, а потом от них и вовсе отказались. Ты скажи нам, думаю это можно исправить.',\n",
       "  1.0): 1.0,\n",
       " ('Правильно, у рузке особый путь с духовностью и спидом как у негров, к черту этих белых идиотов, предлагаю всем русским обмазать себя углем чтобы не ассоциироваться с белыми. И правда, мы граничим, торгуем и путешествуем по белым странам, без которых бы эта страна превратилась в нищую помойку с технологиями уровня 19 века. Какие же ебаные дегенераты иногда открывают свой рот, уверен что ни у немцев, ни у поляков с французами даже и в мыслях нет зачем нам эти белые, мы не белые, особый путь кукареку , брысь отсюда дугинистское червеобразное.\\n',\n",
       "  1.0): 1.0,\n",
       " ('Как известно, у Укр ины (т.е. окр ины), слепленной по пьяни на коленке во 2-м десятилетии XX в., нет истории до XX столетия. Все земли, которые сейчас занимает Укр ина, это русские, румынские, польские и венгерские земли. Напоминаем, что укр инство это сугубо левацкая, антиконсервативная местечково-хуторская идеология, направленная, как и прочие левацкие идеи, на разделение больших наций и поддержание диктата интернацистов. Сторонники бандеровцев (леваков, выступавших за бесклассовое общество и борьбу с капитализмом) и карлика-душителя котов Степана Бандеры, который, как известно, боролся с расизмом, поддерживал Идель-Урал и называл побратимами исламских борцов за свободу из Азербайджана, не пользуются симпатиями у правых европейцев. И это правильно. Попытки заявить о некой отдельной нации неких украинцев это манипуляции, созданные с целью оторвать от русских часть их этнических земель и ослабить в будущем Россию. Только так, чудовищной ложью и тотальной пропагандой, фейковая нация укр инцев , слепленная советскими кукловодами из русских Юга и Киевщины, галичан, поляков, советских румын, славянизированных гуцулов, закарпатских венгров, евреев, татар и многонациональных советских новиопов (а ля Бабченко), может обрести жизнь на русских этнических землях. Разумеется, нет никакого народа укр инцев , как бы одно соседнее failed state ни пыталось их вывести из русских путём обмана, коверканья истории и откровенной фальсификации. Нынешний эксперимент по созданию некой украинской нации можно сравнить разве что с советским экспериментом по созданию нации советской на основании таких же мифов, фейков и откровенного бреда. И маниакальное желание снести все памятники выродку Ленину (Бланку) вас не должно обнадёживать. На смену ему устанавливают памятники такого же левацкого дегенерата-кошкодава Бандеры, чьи руки по локоть в славянской (прежде всего, польской) крови. Заместо совковой лжи про Великую революцию Октября пришла точно такая же наглая ложь про Великую революц ю Г дност абстрагируйтесь от фигуры блогера и посмотрите видео Чем в итоге завершился советский эксперимент, мы все знаем. Ждём закономерного итога эксперимента эльфийского (простите, укр инского ). Разумеется, зомбированные люди будут цепляться до последнего за свои мифы про отельный народ и чужих московитов , но всё это наваждение рано или поздно сгинет, как сгинул Совок со своей мощной идеологией, мифами и фейками.\\n',\n",
       "  1.0): 1.0,\n",
       " ('самый сброд червей-пидоров Не, ну если это черви-пидоры, то перечисленные тобой далее люди - это черви-пидоры в гуголплексе стаса какай просто Автор абсолютно неинтересного технического блога на Ютабе, пускай честного в отличие от Виласкома, но от того ничуть не менее унылого, любитель шутечек про куканы и поопускать маргиналов на тему не присаживал на них тёлку . соболева Говорящая голова народных масс, своего мнения не имеет, никогда в жизни не сделает ролик по какому-либо малооглашённому поводу, по хайповому не выскажет какую-либо точку зрения кроме той, которая будет угодно большинству. В жизни, по описанию очевидцев, быдловат. Продавал жопу Собянину, чем, ЧСХ, не может похвастаться никто из ОП-треда, кроме Хованского. амирана из дневника хача Никогда не понимал, кому он вообще нахуй нужен. Кому на полном серьёзе может доставлять наблюдать за жизнью мажора-рабовладельца, не сообщающего вам ничего полезного, или хотя бы как жить так же? Летсплеи на сто порядков более высокоинтеллектуальный и нужный контент, блеадь. Тоже продавал жопу Собянину. петушария Педофил-кремлебот, просто но комментс. гоблина Охуенный переводчик, но как человек говно. Указанные в ОП-треде личности определённо могут в интеллектуальные дискуссии, определённо не являются сцанными быдланами, и если и продают жопу, то только по праздникам. Несмотря на то что это неебаться борцуны с активной политической позицией, их борцунство почему-то только с совком, сралиным и члениным (которых нет) У Айтипедика немалая часть контента посвящена борьбе именно с текущей властью. и, на которых всем похуй кроме пары десятков тыщ сектантов Лол, ты рили не понимаешь, в чём тут соль? Тебе напомнить, что единственный человек, у которого рейтинг выше, чем у Пыни - это Сталин? 50 населения России в рот ебали Пыню и едро, но тащемта, хотели бы вернуться в Совок, потому их борцунство (благеров) преимущественно и с Совком.\\n',\n",
       "  1.0): 1.0,\n",
       " ('Путин - не Пыня. Повторяю. Путин - не пыня Даю установку, задержите дыхание, смотрите на экран П У Т И Н Н Е П Ы Н Я Все ясно, либерахи? Не пыня Путин, Пыня это Сисян.\\n',\n",
       "  1.0): 1.0,\n",
       " ('черт опущенный Гомикадзе Би опущенный гей на ебало ссали хуй сосать черт и пиздабол чисто мразь в мазке. Одна ложь и грязь. пиздаболище ПиськаМазе х15р 150р Угомонись, разоришь пригожина\\n',\n",
       "  1.0): 1.0,\n",
       " ('Возьмём как пример Россию, западноевропейские страны и США. Идёт метисация, сознательная политика замещения белого населения на пришлое черно-коричневое. Идёт создание новой расы метисов, исламизация и почернение. В крупных городах половина населения - выходцы из ебеней Мексики, Африки, Ближнего Востока, а в случае с Россией - Кавказа и Средней Азии. Этнические ниггеро-арабские гетто верят на хую законы как хотят, чудовищная по масштабам этническая преступность. Говорить о миграции и тем более затрагивать тему замещения коренного населения властями нельзя, иначе бутылка. Свобода слова тут не для вас, молодой человек. При этом говорить о том, что белые должны вымереть, и это нормально - можно. Белые официально вымирают ведётся пропаганда так или иначе направленная на снижение рождаемости белого населения. Феминизм, ЛГБТ, чайлдфри. Каждая женщина в Швеции - леволиберальная феминистка, это страна победившего феминизма. Что сегодня там происходит - страшно делается. Пропагандируются смешанные браки, межрасовые браки, пропагандируется превосходство детей-метисов. Идёт демонизация белых и пропаганда превосходства чёрных и смуглых мужчин, форс отношений белая женщина смуглый чёрный мужчина-мигрант. Как результат - всё больше чернильниц, всё больше смешанных браков, всё больше небелых метисов. Белые женщины просто не хотят контактировать с мужчинами своей нации и расы, наделяя их самыми плохими качествами и обожествляя черных. При этом большинство белых не считает завоз чурок чем-то плохим, наоборот, относятся к ним толерантно. Проводится политика насаждения толерантности, мультикультурализма, политкорректности и космополитизма. Набирающее популярность даже в России SJW - это вообще отдельная тема для обсуждения. Всё вышеперечисленное относится к сильнейшим когда-то странам, бывшим империям, нагибающим слабых. Сегодня происходит так, что бывшие империи в прямом смысле деградируют, вырождаются и вымирают, а место сильнейших когда-то, господствующих народов, занимают те, кого когда-то колонизировали. Во Франции к 2080 уже будут доминировать негры и арабы, в России - кавказцы и выходцы из средней Азии, в Великобритании - индийцы, негры, арабы, пакистанцы, etc. А в маленьких, нейтральных странах, вроде Словении или Беларуси, Литвы или Чехии, Румынии или Эстонии - всё пучком. Им вымирание не грозит, они остаются и будут оставаться белыми. Более того, у них ведётся политика, направленная на сохранение традиционных ценностей и культуры коренного населения. Они сказали беженцам нет . В Польшу, например, русскому или украинцу гораздо легче переехать и остаться, чем арабу или африканцу. В Германии ситуация противоположная, белых там не ждут. Польша, Чехия, Словакия, Венгрия, Словения, Хорватия, Сербия, БиГ, Черногория, Македония, Греция, Болгария, Румыния, Молдова, Украина, Беларусь, Литва, Латвия, Эстония - вот Европа будущего. Скандинавия, Южная, Западная Европа, а также Россия - лишатся коренного населения и своей культуры.\\n',\n",
       "  0.0): 1.0,\n",
       " ('Злобный дегенерат и педераст, здохший от передоза в говне и блевотине, от которого даже отец отрекся, вновь возвращается, чтобы доводить детей до анальных колик. Суть такова, что на телефон поступает видеодозвон, где кровожадный педофил, видать только слезший с кукана Сатаны, угрожает придти к вам в спальню в три часа ночи и сделать с вами ЭТО под незабвенные истерические взгвизгивания йи-хи ! Вся Северная Америка в панике! Оперативные сводки доносят, что форс начался в Мексике и распространился на весь континент! Общественность трясется от ужаса и негодует! Невзирая на заверения полиции, что это всего лишь безобидный форс и никто не собирается насиловать вашу спидозную жопу, граждане не верят и вооружаются на случай всякого, намереваясь встретить инфернального педофила хэдшотом в ебало. Так же распространяются сертифицированные памятки об анальной угрозе со стороны сдохшего баребаки. Так что будьте бдительны, может быть в это самое время Майкл Джексон угрожает изнасиловать и вашего сына тоже! А может, он готовиться изнасиловать вас!\\n',\n",
       "  1.0): 1.0,\n",
       " ('В России два пола. Гомосеком быть стыдно и опасно. Негры - это негры, а не афроктототам. Женщины имеют больше прав, чем мужчины. Вот поэтому и ебутся со всеми делами, раз такие умные. Аборты - а тебе не похуй? Или денег захотел дать? Ну, давай. Остоебенело читать подзалупную иностранщину. Для кого это говно переводят на наш язык? Нам до этой благородной подагры ещё коклюшами со скарлатинами два века с гаком болеть. Горчичники надо учиться крутить, а не за мусьё тарелки подлизывать.',\n",
       "  1.0): 1.0}"
      ]
     },
     "execution_count": 37,
     "metadata": {},
     "output_type": "execute_result"
    }
   ],
   "source": [
    "top_toxic(best_model, X_test)"
   ]
  },
  {
   "cell_type": "code",
   "execution_count": 38,
   "id": "75c41e4c",
   "metadata": {},
   "outputs": [
    {
     "data": {
      "text/plain": [
       "17"
      ]
     },
     "execution_count": 38,
     "metadata": {},
     "output_type": "execute_result"
    }
   ],
   "source": [
    "probas = best_model.predict_proba(X_test)\n",
    "values = probas[:,1]\n",
    "values.tolist().count(1.0)"
   ]
  },
  {
   "cell_type": "markdown",
   "id": "0c3a4c48",
   "metadata": {},
   "source": [
    "Почти все комментарии токсичны (кроме "Возьмём как пример Россию, западноевропейские страны и США..."), MultinomialNB хорошо справился. Здесь (и далее в KNeighborsClassifier) -- в топе комментарии с вероятностью 1 (если посмотреть на предсказания моделей, то видим, что такая вероятность случается). Другая ситуация с RandomForestClassifier (ниже)."
   ]
  },
  {
   "cell_type": "markdown",
   "id": "55eaae5d",
   "metadata": {},
   "source": [
    "### RandomForestClassifier + TfidfVectorizer"
   ]
  },
  {
   "cell_type": "code",
   "execution_count": 39,
   "id": "021bd3e6",
   "metadata": {},
   "outputs": [],
   "source": [
    "def get_text(url, encoding='utf-8', to_lower=True):\n",
    "    url = str(url)\n",
    "    r = requests.get(url)\n",
    "    return r.text.lower() if to_lower else r.text"
   ]
  },
  {
   "cell_type": "markdown",
   "id": "e6b14115",
   "metadata": {},
   "source": [
    "Используем расширенный список стоп-слов"
   ]
  },
  {
   "cell_type": "code",
   "execution_count": 40,
   "id": "002bf940",
   "metadata": {},
   "outputs": [],
   "source": [
    "url_stopwords_ru = \"https://raw.githubusercontent.com/stopwords-iso/stopwords-ru/master/stopwords-ru.txt\"\n",
    "stopwords_ru = get_text(url_stopwords_ru).splitlines()"
   ]
  },
  {
   "cell_type": "markdown",
   "id": "218a1791",
   "metadata": {},
   "source": [
    "Лемматизируем наши данные"
   ]
  },
  {
   "cell_type": "code",
   "execution_count": 41,
   "id": "cbed7832",
   "metadata": {},
   "outputs": [],
   "source": [
    "mystem = Mystem()\n",
    "def mstem_lemmatize(text):  \n",
    "    lemmas = mystem.lemmatize(text)\n",
    "    return ''.join(lemmas)"
   ]
  },
  {
   "cell_type": "code",
   "execution_count": 42,
   "id": "b89d754c",
   "metadata": {},
   "outputs": [
    {
     "name": "stderr",
     "output_type": "stream",
     "text": [
      "/home/senya/anaconda3/envs/newenv/lib/python3.9/site-packages/sklearn/feature_extraction/text.py:404: UserWarning: Your stop_words may be inconsistent with your preprocessing. Tokenizing the stop words generated tokens ['але', 'бывать', 'выходить', 'занимать', 'занятый', 'миллион', 'молоть', 'находить', 'начинать', 'немой', 'непрерывный', 'оказываться', 'оставаться', 'отвечать', 'подходить', 'поздно', 'получать', 'процент', 'решать', 'сей', 'спрашивать', 'становиться', 'тысяча', 'являться'] not in stop_words.\n",
      "  warnings.warn(\n"
     ]
    }
   ],
   "source": [
    "tfidf_vect = TfidfVectorizer(tokenizer=word_tokenize, stop_words=stopwords_ru, \\\n",
    "                             min_df=2, max_df=0.6, ngram_range=(1, 2), preprocessor=mstem_lemmatize)\n",
    "\n",
    "X = tfidf_vect.fit_transform(train.comment)\n",
    "X_test = tfidf_vect.transform(test.comment)"
   ]
  },
  {
   "cell_type": "code",
   "execution_count": 43,
   "id": "745bd58f",
   "metadata": {},
   "outputs": [
    {
     "name": "stdout",
     "output_type": "stream",
     "text": [
      "              precision    recall  f1-score   support\n",
      "\n",
      "         0.0       0.91      0.77      0.83      1924\n",
      "         1.0       0.65      0.84      0.73       959\n",
      "\n",
      "    accuracy                           0.79      2883\n",
      "   macro avg       0.78      0.80      0.78      2883\n",
      "weighted avg       0.82      0.79      0.80      2883\n",
      "\n"
     ]
    }
   ],
   "source": [
    "rfclf = RandomForestClassifier()\n",
    "\n",
    "params = {\n",
    "    'n_estimators': range (10, 450, 50),\n",
    "    'max_depth' : range(1,100),\n",
    "    'criterion' : ['gini', 'entropy', 'log_loss'],\n",
    "    'class_weight' : ['balanced', 'balanced_subsample'],\n",
    "    'max_features' : ['sqrt', 'log2']\n",
    "}\n",
    "\n",
    "#search best parameters\n",
    "search = RandomizedSearchCV(rfclf, params, scoring='f1', random_state=31415)  \n",
    "search.fit(X, y)\n",
    "\n",
    "#choose clf with best parameters\n",
    "rfbest = search.best_estimator_\n",
    "\n",
    "preds = rfbest.predict(X_test)\n",
    "\n",
    "print(classification_report(y_test, preds, zero_division=0))"
   ]
  },
  {
   "cell_type": "code",
   "execution_count": 44,
   "id": "da24c3df",
   "metadata": {},
   "outputs": [
    {
     "data": {
      "text/plain": [
       "{'n_estimators': 110,\n",
       " 'max_features': 'log2',\n",
       " 'max_depth': 75,\n",
       " 'criterion': 'log_loss',\n",
       " 'class_weight': 'balanced_subsample'}"
      ]
     },
     "execution_count": 44,
     "metadata": {},
     "output_type": "execute_result"
    }
   ],
   "source": [
    "search.best_params_"
   ]
  },
  {
   "cell_type": "markdown",
   "id": "ef168a9d",
   "metadata": {},
   "source": [
    "Не понравилось учить RandomForestClassifier, потому что было сложно получить хорошую метрику. В max_depth получился (как мне кажется) неразумно большой \"потолок\". И деревьев много.\n",
    "\n",
    "Возможное объяснение: \"методы, основанные на деревьях, помимо задач с изображениями, не так хорошо справляются с разреженными признаками, особенно когда их очень много. Это тексты и прочие задачи, где мы используем подход Bag of smth\" (комментарий Yury Kashnitsky к статье \"Случайный лес\" из блога Александра Дьяконова)"
   ]
  },
  {
   "cell_type": "markdown",
   "id": "a9bf9ddf",
   "metadata": {},
   "source": [
    "#### RandomForestClassifier токсик-комментарии топ-10"
   ]
  },
  {
   "cell_type": "code",
   "execution_count": 45,
   "id": "f4699f6c",
   "metadata": {},
   "outputs": [
    {
     "data": {
      "text/plain": [
       "{('Рак ебучий, как же ты заебал, сука. СДОХНИ БЛЯДЬ И ПЕРЕСТАНЬ ТАСКАТЬ НА ФИГУРЧ ЗАЛЕТУХ!!1\\n',\n",
       "  1.0): 0.6643050667074806,\n",
       " ('черт опущенный Гомикадзе Би опущенный гей на ебало ссали хуй сосать черт и пиздабол чисто мразь в мазке. Одна ложь и грязь. пиздаболище ПиськаМазе х15р 150р Угомонись, разоришь пригожина\\n',\n",
       "  1.0): 0.6509058968268312,\n",
       " ('А разрешить отстрел дебилов они случаем не хотят? То есть виноват, блядь, веселящий газ, а не уебан со стволом, пьяный, вхуяренный наркотой и вгашенный еще каким дерьмом. Пиздец!\\n',\n",
       "  1.0): 0.6312364139148114,\n",
       " ('Лол бля, либерашки и свинявых запилили скрипт который скрывает неприятные и оскарбляющие их слова, представляю если бы на политаче старом, до того как он стал порашей подобное бы кто то придумал, алсо пидерашки рашка русня это норм по их мнению, это другое и не шитпостинг, ага Двоемыслие, кроме того в скрипт попал так же президент Украины, что намекает откуда пятаки торчат. Либераны и свинуту, косвенно признали свое поражение и решили анально отгородить манямир.\\n',\n",
       "  1.0): 0.6275637225891257,\n",
       " ('Ебать тут весь тред о Новороссия. Боты, вы ебанутые? Какие Загитовы, деревенские долбоебы, котеночки, блядь. Как Новороссия до этого скатилась?\\n',\n",
       "  1.0): 0.6245151159468347,\n",
       " ('Блять, вот хохлы везде Россию приплетают, а вот кремлеботы везде хохлов пытаются приплести.\\n',\n",
       "  1.0): 0.6102475431613341,\n",
       " ('Как известно, у Укр ины (т.е. окр ины), слепленной по пьяни на коленке во 2-м десятилетии XX в., нет истории до XX столетия. Все земли, которые сейчас занимает Укр ина, это русские, румынские, польские и венгерские земли. Напоминаем, что укр инство это сугубо левацкая, антиконсервативная местечково-хуторская идеология, направленная, как и прочие левацкие идеи, на разделение больших наций и поддержание диктата интернацистов. Сторонники бандеровцев (леваков, выступавших за бесклассовое общество и борьбу с капитализмом) и карлика-душителя котов Степана Бандеры, который, как известно, боролся с расизмом, поддерживал Идель-Урал и называл побратимами исламских борцов за свободу из Азербайджана, не пользуются симпатиями у правых европейцев. И это правильно. Попытки заявить о некой отдельной нации неких украинцев это манипуляции, созданные с целью оторвать от русских часть их этнических земель и ослабить в будущем Россию. Только так, чудовищной ложью и тотальной пропагандой, фейковая нация укр инцев , слепленная советскими кукловодами из русских Юга и Киевщины, галичан, поляков, советских румын, славянизированных гуцулов, закарпатских венгров, евреев, татар и многонациональных советских новиопов (а ля Бабченко), может обрести жизнь на русских этнических землях. Разумеется, нет никакого народа укр инцев , как бы одно соседнее failed state ни пыталось их вывести из русских путём обмана, коверканья истории и откровенной фальсификации. Нынешний эксперимент по созданию некой украинской нации можно сравнить разве что с советским экспериментом по созданию нации советской на основании таких же мифов, фейков и откровенного бреда. И маниакальное желание снести все памятники выродку Ленину (Бланку) вас не должно обнадёживать. На смену ему устанавливают памятники такого же левацкого дегенерата-кошкодава Бандеры, чьи руки по локоть в славянской (прежде всего, польской) крови. Заместо совковой лжи про Великую революцию Октября пришла точно такая же наглая ложь про Великую революц ю Г дност абстрагируйтесь от фигуры блогера и посмотрите видео Чем в итоге завершился советский эксперимент, мы все знаем. Ждём закономерного итога эксперимента эльфийского (простите, укр инского ). Разумеется, зомбированные люди будут цепляться до последнего за свои мифы про отельный народ и чужих московитов , но всё это наваждение рано или поздно сгинет, как сгинул Совок со своей мощной идеологией, мифами и фейками.\\n',\n",
       "  1.0): 0.6078757288969382,\n",
       " ('Я атеист и армянин. Просто рот твой ебал Лучше пусть чурки будут жидов резать, чем жиды вешать лапшу на уши\\n',\n",
       "  1.0): 0.6073546943844494,\n",
       " ('Нахуй иди чмо ебаное, рот твой ебал. Говна поешь, быдло\\n',\n",
       "  1.0): 0.6057134795591574,\n",
       " ('Ну давай разберём всё тобой написанное. Бляядь, вы действительно думаете вы лучше пидорашек? Ну в целом, всё что живёт в рашке - затронуто говномидасом, но никто тут это не признает. сейчас воспитывают массу хороших кодеров В соседнем треде обоссали уже. Иди обтекай. Вы унижаете русских детей в школе Я учился в рашке и у нас был класс, который состоял онли из русачков. Думаешь, что то изменилось? Чурки тебе говна в жопу залили и заставили русачков в классе кошмарить омежных русачков? Я не люблю выражаться фразами нациков, но вы воистину столетия просто сидели в горах и ебали баранов, вас даже народ-пидор смог захватить. Плоховато ты знаешь историю. Когда русня пришла на Кавказ, тут всё уже было поделено османами и персами. А потом РИ наебала персов и постоянно нападала на османов высасывая причины из пальца, в принципе, русачки, что от них ещё было ожидать. В прошлом вы (чеченцы, даги и прочие сорта) были просто дикарями...А если говорить о среднеазиатах, которые бугуртят с оккупации, то вы были обычными нищими кочевниками Очередной акт незнания истории. Например у кавказцев по факту у народов отвественных за этногенез дагов и азеров уже был Дербент, а русачков даже в планах не было. Почитай историю Кавказа и Средней Азии, там были и локальные империи и нагибы округи и прочее и прочее. Называют русских пидорашками, славщитом. Говоришь это так, будто бы в этом что то плохое. У меня знакомые po рашеры irl, которые являются русскими и которые ссут на русню с ещё большей колокольни чем я Сейчас вас все боятся потому, что если пидорашка сделает в вас пару дырок, защищая себя, то его посадят на бутылку, а если вы убьёте пидорашку, то вам нихуя не будет. Может потому что в рашке мочить с волыны ножа человека, который идёт на тебя с кулаками - превышение пределов самообороны? Кто виноват в том, что русня настолько вырожденческая, что один чеченский доходяга ставит на колени группу русачков? Ты думаешь, будь руснявая гопота менее вырожденческая, то так же людей не кошмарила? Кто виноват, что вы морозитесь или даёте по съебатору, когда видите, как вашего славянского друга избивают унижают? Да чего уж там, тот митинг вспомните, где жирик, какого то парня на колени поставил и все вокруг стоят и снимают, словно стадо руснявых баранов. Зуб даю, в той толпе стояли его друзья и знакомые. Лично для меня это пиздец, особенно проигрываю, когда там не какой нибудь братуха-борцуха, а смарчёк чеченский. Никогда бы не бросил и не бросал друга в таком пиздеце и не важно, какой нации был друг, а какой нападавший. Вся ваша проблема не том, что вы слабками, не в том, что большинство русачков еблом похож на свинью, не в том, что за тысячу лет существования не смогли построить нормальную цивилизацию и другим не давали. Проблема в обыкновенной ошибке выжившего, вы видите кавказское быдло гопника, потому что оно в среднем сильнее, напористее, агрессивнее и образ кавказца, как лица которое представляет опасность выжигается у вас в мозгах, при этом не хотите замечать, что у вас, целые города набитые руснявыми АУЕшниками, потому что один среднестатистический руснявый гопник ауешник быдлойд сосёт у одного среднестатистического чуркобесского гопника быдлойда. В конечном итоге русачков в станице кущевской ебал кто? Другие русачки. В школу приезжали и выберали лолей на поёбку кто? Другие русачки. Сжигал русачков кто? Другие русачки. Всё вскрылось совершенно случайно. Сколько таких станиц, деревень и городов по всей рашке? аз-кун\\n',\n",
       "  1.0): 0.6028344245102439}"
      ]
     },
     "execution_count": 45,
     "metadata": {},
     "output_type": "execute_result"
    }
   ],
   "source": [
    "top_toxic(rfbest, X_test)"
   ]
  },
  {
   "cell_type": "markdown",
   "id": "19d524dc",
   "metadata": {},
   "source": [
    "Видим, что модель менее уверенна в своих предсказаниях."
   ]
  },
  {
   "cell_type": "markdown",
   "id": "aacb4864",
   "metadata": {},
   "source": [
    "Если сравнить топ MultinomialNB и RandomForestClassifier, то видим, что совпали 2 комментария -- один длинный (начинается со слов 'Как известно, у Укр ины (т.е. окр ины)...\") и \"черт опущенный Гомикадзе Би опущенный гей...\". Но, скорее всего, это отчасти случайность -- в MultinomialNB >10 предсказаний со значением 1.0."
   ]
  },
  {
   "cell_type": "markdown",
   "id": "bfa5ab3a",
   "metadata": {},
   "source": [
    "### KNeighborsClassifier\n",
    "(попробовать)"
   ]
  },
  {
   "cell_type": "code",
   "execution_count": 46,
   "id": "90311fac",
   "metadata": {},
   "outputs": [
    {
     "name": "stdout",
     "output_type": "stream",
     "text": [
      "              precision    recall  f1-score   support\n",
      "\n",
      "         0.0       0.86      0.88      0.87      1924\n",
      "         1.0       0.75      0.71      0.73       959\n",
      "\n",
      "    accuracy                           0.82      2883\n",
      "   macro avg       0.80      0.79      0.80      2883\n",
      "weighted avg       0.82      0.82      0.82      2883\n",
      "\n"
     ]
    }
   ],
   "source": [
    "clf = KNeighborsClassifier()\n",
    "\n",
    "#parameters \n",
    "params = {'n_neighbors': range(3,15), 'weights' : ['uniform', 'distance'], \\\n",
    "           'metric' : ['cosine', 'minkowski']}\n",
    "\n",
    "#search best parameters\n",
    "search = RandomizedSearchCV(clf, params, scoring='f1', random_state=31415)  \n",
    "search.fit(X, y)\n",
    "\n",
    "#choose clf with best parameters\n",
    "best_clf = search.best_estimator_\n",
    "\n",
    "preds = best_clf.predict(X_test)\n",
    "\n",
    "print(classification_report(y_test, preds, zero_division=0))"
   ]
  },
  {
   "cell_type": "code",
   "execution_count": 47,
   "id": "7ab2950c",
   "metadata": {},
   "outputs": [
    {
     "data": {
      "text/plain": [
       "{'weights': 'distance', 'n_neighbors': 10, 'metric': 'cosine'}"
      ]
     },
     "execution_count": 47,
     "metadata": {},
     "output_type": "execute_result"
    }
   ],
   "source": [
    "search.best_params_"
   ]
  },
  {
   "cell_type": "markdown",
   "id": "840dda1a",
   "metadata": {},
   "source": [
    "#### KNeighborsClassifier токсик-комментарии топ-10 "
   ]
  },
  {
   "cell_type": "code",
   "execution_count": 48,
   "id": "3546d9f3",
   "metadata": {},
   "outputs": [
    {
     "data": {
      "text/plain": [
       "{('блядь, заткнись ты . я уже взлетаю нахуй.\\n', 1.0): 1.0,\n",
       " ('Работает - это когда рецидивов больше нет\\n', 0.0): 1.0,\n",
       " ('А вот и подсосы прядкокарлика десантировались , убёбвайте в свое болото в параше\\n',\n",
       "  1.0): 1.0,\n",
       " ('Ты забыл его хохлом обозвать, подсос.\\n', 1.0): 1.0,\n",
       " ('Ебать тут весь тред о Новороссия. Боты, вы ебанутые? Какие Загитовы, деревенские долбоебы, котеночки, блядь. Как Новороссия до этого скатилась?\\n',\n",
       "  1.0): 1.0,\n",
       " ('Анон, моя Родина - Татарстан - смертельно больна. Ее поразили метастазы русизма, охватившие буквально все в моей Республике. Опухоль настолько разрослась, что проникла даже в наше некогда сплоченное и приверженное национальным ценностям правительство - теперь и там вы увидите кучу русколобых на руководящих должностях.',\n",
       "  1.0): 1.0,\n",
       " ('Ты просто шизик. Скройся.\\n', 1.0): 1.0,\n",
       " ('Щас бы всяких червей-клоунов на мемах деанонить, кому он нахуй нужен?\\n',\n",
       "  1.0): 1.0,\n",
       " ('Сука, как же я обосрался с этого шерлока, до слёз блять\\n', 1.0): 1.0,\n",
       " ('Что. ты. несёшь. дегенерат?', 1.0): 1.0}"
      ]
     },
     "execution_count": 48,
     "metadata": {},
     "output_type": "execute_result"
    }
   ],
   "source": [
    "top_toxic(best_clf, X_test)"
   ]
  },
  {
   "cell_type": "code",
   "execution_count": 49,
   "id": "fed137bc",
   "metadata": {},
   "outputs": [
    {
     "data": {
      "text/plain": [
       "117"
      ]
     },
     "execution_count": 49,
     "metadata": {},
     "output_type": "execute_result"
    }
   ],
   "source": [
    "probas = best_clf.predict_proba(X_test)\n",
    "values = probas[:,1]\n",
    "values.tolist().count(1.0)"
   ]
  },
  {
   "cell_type": "markdown",
   "id": "65aaae46",
   "metadata": {},
   "source": [
    "Эта модель часто уверена в своих предсказаниях, топ перекликается с Random Forest в одном случае -- \"Ебать тут весь тред о Новороссия...\". Случайно в топ попал нетоксичный комментарий -- \"Работает - это когда рецидивов больше нет\"."
   ]
  },
  {
   "cell_type": "markdown",
   "id": "6f228c3e",
   "metadata": {},
   "source": [
    "## *Задание 4 (2 балла)"
   ]
  },
  {
   "cell_type": "markdown",
   "id": "566929b7",
   "metadata": {},
   "source": [
    "Для классификаторов LogisticRegression и Random Forest найдите способ извлечь важность признаков для предсказания токсичного класса. Сопоставьте полученные числа со словами (или нграммами) в словаре и найдите топ - 5 \"токсичных\" слов для каждого из классификаторов. \n",
    "\n",
    "Важное требование: в топе не должно быть стоп-слов. Для этого вам нужно будет правильным образом настроить векторизацию."
   ]
  },
  {
   "cell_type": "code",
   "execution_count": 50,
   "id": "79fa8a5d",
   "metadata": {},
   "outputs": [],
   "source": [
    "def feature_importance(vect, md_name, model):\n",
    "    features = tfidf_vect.get_feature_names_out() #feature names\n",
    "    if md_name == 'RF':\n",
    "        fi = model.feature_importances_ #feature importances \n",
    "    elif md_name == 'LR':\n",
    "        fi = abs(model.coef_[0])\n",
    "        fi = 100.0 * (fi / fi.max())\n",
    "    dictionary = dict(zip(fi, features))\n",
    "    sorted_dictionary = OrderedDict(sorted(dictionary.items(), key=lambda v: v, reverse=True))\n",
    "    return {k: sorted_dictionary[k] for k in list(sorted_dictionary)[:15]}"
   ]
  },
  {
   "cell_type": "markdown",
   "id": "461d7888",
   "metadata": {},
   "source": [
    "### Random Forest (уже обучили на предыдущем шаге)"
   ]
  },
  {
   "cell_type": "code",
   "execution_count": 51,
   "id": "81f86878",
   "metadata": {},
   "outputs": [
    {
     "data": {
      "text/plain": [
       "{0.0073998727079564435: '!',\n",
       " 0.006062993161625801: 'хохол',\n",
       " 0.005974076498015644: '(',\n",
       " 0.005512198119338052: 'дебил',\n",
       " 0.004536547676611979: '?',\n",
       " 0.004466740960273821: ')',\n",
       " 0.0036328662766970192: 'разный',\n",
       " 0.003249185071849896: 'шлюха',\n",
       " 0.003110092631585385: 'тупой',\n",
       " 0.0030825373296605864: 'хохлов',\n",
       " 0.0030382955679554412: 'блядь',\n",
       " 0.003001078064246249: 'хуй',\n",
       " 0.002926662846469652: 'заебывать',\n",
       " 0.0027647290888617015: 'система',\n",
       " 0.0027062146456188064: 'брать'}"
      ]
     },
     "execution_count": 51,
     "metadata": {},
     "output_type": "execute_result"
    }
   ],
   "source": [
    "feature_importance(tfidf_vect, 'RF', rfbest)"
   ]
  },
  {
   "cell_type": "markdown",
   "id": "3dee22d4",
   "metadata": {},
   "source": [
    "### LogisticRegression (обучим)"
   ]
  },
  {
   "cell_type": "code",
   "execution_count": 52,
   "id": "0170c197",
   "metadata": {},
   "outputs": [
    {
     "name": "stdout",
     "output_type": "stream",
     "text": [
      "              precision    recall  f1-score   support\n",
      "\n",
      "         0.0       0.88      0.88      0.88      1924\n",
      "         1.0       0.76      0.75      0.75       959\n",
      "\n",
      "    accuracy                           0.84      2883\n",
      "   macro avg       0.82      0.82      0.82      2883\n",
      "weighted avg       0.84      0.84      0.84      2883\n",
      "\n"
     ]
    }
   ],
   "source": [
    "clf = LogisticRegression(C=0.1, class_weight='balanced')\n",
    "clf.fit(X, y)\n",
    "preds = clf.predict(X_test)\n",
    "print(classification_report(y_test, preds, zero_division=0))"
   ]
  },
  {
   "cell_type": "code",
   "execution_count": 53,
   "id": "5343893a",
   "metadata": {},
   "outputs": [
    {
     "data": {
      "text/plain": [
       "{100.0: 'хохол',\n",
       " 99.75631457927656: ')',\n",
       " 96.48583413245572: '!',\n",
       " 67.24780021109417: 'тупой',\n",
       " 61.94355069630903: '(',\n",
       " 59.49047573794866: 'хохлов',\n",
       " 54.847206611198196: 'ебать',\n",
       " 54.61957534932802: '?',\n",
       " 52.143527889218596: 'дебил',\n",
       " 48.99850896348265: 'нахуй',\n",
       " 46.35665047244447: 'тред',\n",
       " 45.96007665065324: 'пидор',\n",
       " 44.9800975582951: 'быдло',\n",
       " 43.147257376368: 'хуй',\n",
       " 42.994236332144716: 'пиздец'}"
      ]
     },
     "execution_count": 53,
     "metadata": {},
     "output_type": "execute_result"
    }
   ],
   "source": [
    "feature_importance(tfidf_vect, 'LR', clf)"
   ]
  },
  {
   "cell_type": "markdown",
   "id": "992b909c",
   "metadata": {},
   "source": [
    "### Анализ"
   ]
  },
  {
   "cell_type": "markdown",
   "id": "c8ade3a7",
   "metadata": {},
   "source": [
    "Стоп-слов практически нет (кроме, возможно, слова \"разный\", но его не было в списке стоп-слов), слово \"хохлов\" не лемматизировалось правильным образом и есть символы. Но, видимо, символы все-таки играют важную роль, т.к. метрики нормальные.\n",
    "\n",
    "\n",
    "Таким образом, топ-5 слов для RF:\n",
    "1. хохол\n",
    "2. дебил\n",
    "3. разный\n",
    "4. шлюха\n",
    "5. тупой\n",
    "\n",
    "топ-5 слов для LR:\n",
    "1. хохол\n",
    "2. тупой\n",
    "3. ебать\n",
    "4. дебил\n",
    "5. нахуй\n",
    "\n",
    "То есть, ругательства (пересекаются 3)."
   ]
  }
 ],
 "metadata": {
  "kernelspec": {
   "display_name": "Python 3 (ipykernel)",
   "language": "python",
   "name": "python3"
  },
  "language_info": {
   "codemirror_mode": {
    "name": "ipython",
    "version": 3
   },
   "file_extension": ".py",
   "mimetype": "text/x-python",
   "name": "python",
   "nbconvert_exporter": "python",
   "pygments_lexer": "ipython3",
   "version": "3.9.13"
  }
 },
 "nbformat": 4,
 "nbformat_minor": 5
}
